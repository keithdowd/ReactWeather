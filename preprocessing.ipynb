{
 "cells": [
  {
   "cell_type": "code",
   "execution_count": 1,
   "metadata": {},
   "outputs": [],
   "source": [
    "from IPython.core.display import display, HTML\n",
    "from nltk.corpus import stopwords, words\n",
    "from nltk.stem import PorterStemmer\n",
    "import numpy as np\n",
    "import os\n",
    "import pandas as pd\n",
    "from string import punctuation\n",
    "from textblob import Word"
   ]
  },
  {
   "cell_type": "code",
   "execution_count": 2,
   "metadata": {},
   "outputs": [],
   "source": [
    "transcripts = pd.read_csv(os.path.join(\"data\", \"aamc_research_transcripts.csv\"), index_col=\"interview_id\", encoding=\"utf8\")"
   ]
  },
  {
   "cell_type": "code",
   "execution_count": 3,
   "metadata": {},
   "outputs": [],
   "source": [
    "q = transcripts.copy().iloc[0, :].to_frame()"
   ]
  },
  {
   "cell_type": "code",
   "execution_count": 4,
   "metadata": {},
   "outputs": [],
   "source": [
    "contractions = { \n",
    "    \"ain't\": \"am not / are not / is not / has not / have not\",\n",
    "    \"aren't\": \"are not / am not\",\n",
    "    \"can't\": \"cannot\",\n",
    "    \"can't've\": \"cannot have\",\n",
    "    \"'cause\": \"because\",\n",
    "    \"could've\": \"could have\",\n",
    "    \"couldn't\": \"could not\",\n",
    "    \"couldn't've\": \"could not have\",\n",
    "    \"didn't\": \"did not\",\n",
    "    \"doesn't\": \"does not\",\n",
    "    \"don't\": \"do not\",\n",
    "    \"hadn't\": \"had not\",\n",
    "    \"hadn't've\": \"had not have\",\n",
    "    \"hasn't\": \"has not\",\n",
    "    \"haven't\": \"have not\",\n",
    "    \"he'd\": \"he had / he would\",\n",
    "    \"he'd've\": \"he would have\",\n",
    "    \"he'll\": \"he shall / he will\",\n",
    "    \"he'll've\": \"he shall have / he will have\",\n",
    "    \"he's\": \"he has / he is\",\n",
    "    \"how'd\": \"how did\",\n",
    "    \"how'd'y\": \"how do you\",\n",
    "    \"how'll\": \"how will\",\n",
    "    \"how's\": \"how has / how is / how does\",\n",
    "    \"i'd\": \"I had / I would\",\n",
    "    \"i'd've\": \"I would have\",\n",
    "    \"i'll\": \"I shall / I will\",\n",
    "    \"i'll've\": \"I shall have / I will have\",\n",
    "    \"i'm\": \"I am\",\n",
    "    \"i've\": \"I have\",\n",
    "    \"isn't\": \"is not\",\n",
    "    \"it'd\": \"it had / it would\",\n",
    "    \"it'd've\": \"it would have\",\n",
    "    \"it'll\": \"it shall / it will\",\n",
    "    \"it'll've\": \"it shall have / it will have\",\n",
    "    \"it's\": \"it has / it is\",\n",
    "    \"let's\": \"let us\",\n",
    "    \"ma'am\": \"madam\",\n",
    "    \"mayn't\": \"may not\",\n",
    "    \"might've\": \"might have\",\n",
    "    \"mightn't\": \"might not\",\n",
    "    \"mightn't've\": \"might not have\",\n",
    "    \"must've\": \"must have\",\n",
    "    \"mustn't\": \"must not\",\n",
    "    \"mustn't've\": \"must not have\",\n",
    "    \"needn't\": \"need not\",\n",
    "    \"needn't've\": \"need not have\",\n",
    "    \"o'clock\": \"of the clock\",\n",
    "    \"oughtn't\": \"ought not\",\n",
    "    \"oughtn't've\": \"ought not have\",\n",
    "    \"shan't\": \"shall not\",\n",
    "    \"sha'n't\": \"shall not\",\n",
    "    \"shan't've\": \"shall not have\",\n",
    "    \"she'd\": \"she had / she would\",\n",
    "    \"she'd've\": \"she would have\",\n",
    "    \"she'll\": \"she shall / she will\",\n",
    "    \"she'll've\": \"she shall have / she will have\",\n",
    "    \"she's\": \"she has / she is\",\n",
    "    \"should've\": \"should have\",\n",
    "    \"shouldn't\": \"should not\",\n",
    "    \"shouldn't've\": \"should not have\",\n",
    "    \"so've\": \"so have\",\n",
    "    \"so's\": \"so as / so is\",\n",
    "    \"that'd\": \"that would / that had\",\n",
    "    \"that'd've\": \"that would have\",\n",
    "    \"that's\": \"that has / that is\",\n",
    "    \"there'd\": \"there had / there would\",\n",
    "    \"there'd've\": \"there would have\",\n",
    "    \"there's\": \"there has / there is\",\n",
    "    \"they'd\": \"they had / they would\",\n",
    "    \"they'd've\": \"they would have\",\n",
    "    \"they'll\": \"they shall / they will\",\n",
    "    \"they'll've\": \"they shall have / they will have\",\n",
    "    \"they're\": \"they are\",\n",
    "    \"they've\": \"they have\",\n",
    "    \"to've\": \"to have\",\n",
    "    \"wasn't\": \"was not\",\n",
    "    \"we'd\": \"we had / we would\",\n",
    "    \"we'd've\": \"we would have\",\n",
    "    \"we'll\": \"we will\",\n",
    "    \"we'll've\": \"we will have\",\n",
    "    \"we're\": \"we are\",\n",
    "    \"we've\": \"we have\",\n",
    "    \"weren't\": \"were not\",\n",
    "    \"what'll\": \"what shall / what will\",\n",
    "    \"what'll've\": \"what shall have / what will have\",\n",
    "    \"what're\": \"what are\",\n",
    "    \"what's\": \"what has / what is\",\n",
    "    \"what've\": \"what have\",\n",
    "    \"when's\": \"when has / when is\",\n",
    "    \"when've\": \"when have\",\n",
    "    \"where'd\": \"where did\",\n",
    "    \"where's\": \"where has / where is\",\n",
    "    \"where've\": \"where have\",\n",
    "    \"who'll\": \"who shall / who will\",\n",
    "    \"who'll've\": \"who shall have / who will have\",\n",
    "    \"who's\": \"who has / who is\",\n",
    "    \"who've\": \"who have\",\n",
    "    \"why's\": \"why has / why is\",\n",
    "    \"why've\": \"why have\",\n",
    "    \"will've\": \"will have\",\n",
    "    \"won't\": \"will not\",\n",
    "    \"won't've\": \"will not have\",\n",
    "    \"would've\": \"would have\",\n",
    "    \"wouldn't\": \"would not\",\n",
    "    \"wouldn't've\": \"would not have\",\n",
    "    \"y'all\": \"you all\",\n",
    "    \"y'all'd\": \"you all would\",\n",
    "    \"y'all'd've\": \"you all would have\",\n",
    "    \"y'all're\": \"you all are\",\n",
    "    \"y'all've\": \"you all have\",\n",
    "    \"you'd\": \"you had / you would\",\n",
    "    \"you'd've\": \"you would have\",\n",
    "    \"you'll\": \"you shall / you will\",\n",
    "    \"you'll've\": \"you shall have / you will have\",\n",
    "    \"you're\": \"you are\",\n",
    "    \"you've\": \"you have\"\n",
    "}"
   ]
  },
  {
   "cell_type": "code",
   "execution_count": 5,
   "metadata": {},
   "outputs": [],
   "source": [
    "def highlight(text, transformer=None, font_size=24, show_highlights=True):\n",
    "    assert type(text) == str\n",
    "    assert type(font_size) == int\n",
    "    assert type(show_highlights) == bool\n",
    "    \n",
    "    if transformer == None:\n",
    "        if show_highlights == True:\n",
    "            display(HTML(text))\n",
    "            return text\n",
    "    \n",
    "    highlights = text.split()\n",
    "    \n",
    "    for index, word in enumerate(highlights):\n",
    "        if type(transformer) == list or type(transformer) == str:\n",
    "            if word in transformer:\n",
    "                highlights[index] = highlights[index].replace(word, f\"\"\"\n",
    "                    <span style='color:red;font-size:{font_size}px;font-weight:bold;line-height:1px;'>{word}</span>\"\"\")\n",
    "        elif type(transformer) == dict:\n",
    "            if word in transformer:\n",
    "                highlights[index] = highlights[index].replace(word, f\"\"\"\n",
    "                    <span style='color:red;font-size:{font_size}px;font-weight:bold;line-height:1px;text-decoration:line-through;'>{word}</span>\n",
    "                    <span style='color:blue;font-size:{font_size}px;font-weight:bold;line-height:1px;'>{transformer[word]}</span>\"\"\")\n",
    "        else:\n",
    "            if word != transformer(word):\n",
    "                highlights[index] = highlights[index].replace(word, f\"\"\"\n",
    "                    <span style='color:red;font-size:{font_size}px;font-weight:bold;line-height:1px;text-decoration:line-through;'>{word}</span>\n",
    "                    <span style='color:blue;font-size:{font_size}px;font-weight:bold;line-height:1px;'>{transformer(word)}</span>\"\"\")\n",
    "    \n",
    "    highlights = \" \".join(highlights)\n",
    "    \n",
    "    if show_highlights == True:\n",
    "        display(HTML(highlights))\n",
    "    \n",
    "    return highlights"
   ]
  },
  {
   "cell_type": "markdown",
   "metadata": {},
   "source": [
    "## Preprocessed question text\n",
    "This question text is the original (preprocessed) question text from HireVue's interview transcripts."
   ]
  },
  {
   "cell_type": "code",
   "execution_count": 6,
   "metadata": {},
   "outputs": [
    {
     "data": {
      "text/html": [
       "<strong>Question 1</strong"
      ],
      "text/plain": [
       "<IPython.core.display.HTML object>"
      ]
     },
     "metadata": {},
     "output_type": "display_data"
    },
    {
     "data": {
      "text/html": [
       "Prior to applying to medical school I was working as a physical therapy because of their percentage of care you know I had just recently got engaged with my wife and . My journey to applying to medical school was when this all first started and I wanted to apply to medical school I discussed with my wife . About this situation because she was a bit more hesitant about having to pause our life understand they so . But we had discussed this I discussed my family I discussed my friends who are physicians and ultimately we discussed the pros and cons of continuing my my occupations of physical therapists are compared to . Attending their go school residency and mention of becoming a tending would stress the pros and cons and I think . Also me . My wife came around . To my point of view . I think ultimately I approach any situation where there's a disagreement . I try to be very systematic I try to have pros and cons I try to welcome opinions and try to ask other people their opinions . And Else mean this situation . I think it worked out . I think Medical School has had its bonds being having and we having no Adar but . Ultimately I believe . This is Journey and taken . Will be for the betterment of my family and myself down the line down the line and I think that's . That's the main point I try to convey to my eye wife . Long term this would be the best option for us in an . Our family and she agreed so . Now I'm mentoring my fourth year medical school and . Attempting to enter residency in the Merced mess . So ultimately I think it . Worked out . On . Thank you ."
      ],
      "text/plain": [
       "<IPython.core.display.HTML object>"
      ]
     },
     "metadata": {},
     "output_type": "display_data"
    },
    {
     "name": "stdout",
     "output_type": "stream",
     "text": [
      " \n"
     ]
    },
    {
     "data": {
      "text/html": [
       "<strong>Question 2</strong"
      ],
      "text/plain": [
       "<IPython.core.display.HTML object>"
      ]
     },
     "metadata": {},
     "output_type": "display_data"
    },
    {
     "data": {
      "text/html": [
       "Prior to attending medical school I was a physical therapist in . More sort of her cancer center and my job was to mobilize patients right after their Q . surgeries when many were in very . Large amounts of pain multiple times I had patients disagree . Not wait to get out of bed might stay in bed and . Wanting to rest after surgeries but . All these patients they are they ultimately came around I think when you have a patient This agrees with you . There are what they disagree with you I think the best approach is . To try to educate them try to be patient ultimately you try to understand where they're coming from and when you approach it that way I think journal you will have good outcomes in all my situations where patients were in pain it in one get up . I tried to work around their schedules I try to . Time it with their pain medication time it went and it was around we can encourage them and he try to work around their schedule try to work around what's best for them educate them you try to . Give them the broad picture meaning . It's the first step to them gain home eventually going back to their normal daily routine so I think if you give them perspective I think if you when you educate patients I'd say ninety nine to one hundred percent time they eventually do come around to you I think that's the best way to approach any . Patient disagreement . Or any agreement disagreement in general . In the situation that it's . Spoke about these patients also only . After they were discharged they were all very thankful . I didn't let them . Take it easy I been let them off the hook and I was patient with them and also only I think . I played a role in helping them get back to the things they need to do you get in this church safely . And get them rate get this charged ."
      ],
      "text/plain": [
       "<IPython.core.display.HTML object>"
      ]
     },
     "metadata": {},
     "output_type": "display_data"
    },
    {
     "name": "stdout",
     "output_type": "stream",
     "text": [
      " \n"
     ]
    },
    {
     "data": {
      "text/html": [
       "<strong>Question 3</strong"
      ],
      "text/plain": [
       "<IPython.core.display.HTML object>"
      ]
     },
     "metadata": {},
     "output_type": "display_data"
    },
    {
     "data": {
      "text/html": [
       "When I tried to medical school I worked as a physical therapist an intensive care unit and . We were asked multiple times to do certain projects certain presentations for physicians other members of the medical . Team . And on the on these projects . Most of times I think it's very rare to have a project where . You everyone agrees on everything I think Artemy have diverse opinions to have different . Different point of views is what makes a project better so more times were where I've had to make presentations . For positions other nurses are straight there appears we would be working with another physical therapist or another member and create nice power points or presentations we would have disagreements I think I don't think anything . Very think but we would have disagreements about how we want approaching is how we want to introduce things and I think . I think . When when these things happen I think it's best to also need first of all first and foremost be respectful of each other . To take what people say in . An . Understanding and not try just to blow them up blow people's opinions off . I think . I think what I could have done to improve this relationship and it is what I think I tend to do I think I was at least somewhat successful in all of the situations I tried to or . Give them I keep trying to give them my point of view on how things should be done and they are see give their point of view and I think I think it's a bit of a give and take I think you have to acquiesce a little bit you have to but certain things you when you do . Usually about certain parts of a position of certain parts of any project I think I think . You should stand up for where you believe in but ultimately I think . You have to realistic that you can't get your way every single time and then you really . Outside of work or with work so . I think I think I did a good job in attempt to prove this relationship in these relations where we have this is green and . I think I maybe have done a better job . I think patience and respect is what is the main important part to improve relationships ."
      ],
      "text/plain": [
       "<IPython.core.display.HTML object>"
      ]
     },
     "metadata": {},
     "output_type": "display_data"
    },
    {
     "name": "stdout",
     "output_type": "stream",
     "text": [
      " \n"
     ]
    },
    {
     "data": {
      "text/html": [
       "<strong>Question 4</strong"
      ],
      "text/plain": [
       "<IPython.core.display.HTML object>"
      ]
     },
     "metadata": {},
     "output_type": "display_data"
    },
    {
     "data": {
      "text/html": [
       "Following my purse year of medical school I . Participate in this summer medical research fellowship with my mentor in the intensive care unit where I work prior to medical school I was a physical therapist in the intensive care unit morsel cancer center so after my first year medical school I . Participate in a research project with him where we examined none of the Light and Sound that patients are perceiving nice you and how using the researcher we are in knowing how X . recovery and how their backs there are overall overall plan of care . We tried men . And trying to stand and grain how much sound and light in all these different variables they were experiencing so this we create this project from scratch . Mean my mentor in a couple our positions buyouts when he was doing the . City's six data gathering analyzing data and . My mentor was very . We work together very closely we have multiple reviews we talked about how we should proteins how we could possibly change different things . And I think . In any project where I requires a lot of detail and to succeed and he have to . There's going to be most were visions there's me a lot of thought outside thought pinions going and sharing opinions . And that's what we did we revised our approach to this project multiple times Rupert we changed multiple times our paper our post presentation our . And we are . Different ways how we're gathering data so I think ultimately when you have . Freedom of thought and where everyone's comfortable in every one office opinion on how things could possibly be done differently or how things could be approached I think . You set yourself up for success . So this is a project that . We I done my own my first year of medical school and I think we were successful we . Were except into a journal and just consumed you going through a couple more visions but . I think it was a great experience and under a lot . And I think just putting in the hard work and time . And their big step in in the ensuring that it was successful project keep ."
      ],
      "text/plain": [
       "<IPython.core.display.HTML object>"
      ]
     },
     "metadata": {},
     "output_type": "display_data"
    },
    {
     "name": "stdout",
     "output_type": "stream",
     "text": [
      " \n"
     ]
    },
    {
     "data": {
      "text/html": [
       "<strong>Question 5</strong"
      ],
      "text/plain": [
       "<IPython.core.display.HTML object>"
      ]
     },
     "metadata": {},
     "output_type": "display_data"
    },
    {
     "data": {
      "text/html": [
       "Prior to medical school I was a physical therapist in the sense of carrying their Memorial Sloan Carey Cancer Center which is one of the top ranked oncology hospitals . And . Being in intensive been working in the intensive care unit patients very sick . Critically ill truly ill and then Slayers with poor prognosis is . Often times and so . Having to deal with compassion toward . These patients . I think was in this S E P's also me they're going through things that are ten times worse than anything most of us can imagine . The only chemotherapy surgeries radiation in . The multiple cancers Millings used to comb would be things that are occurring because the treatments because of the cancer so on the five years out were . They had a bad days some days . Or . Were things were happening outside of work . But . I think . As a physician or any medical profession you're held to a higher standard you are expected to kind of . Compartmentalize your outside work and your work so that you can't don't mix them up because it can go the other way where you take something from work and take it home and kind of . I think that oftentimes can lead to a lot of burnout . So when I was working in Sloan multiple times I had . Situations where I was having that day you know make sure to . Separate what was happening outside of what was required for me to take care of patients . Because ultimately . I think we all be compositions are we become part of America feel to help people so if you if you . If you're allowing yourself to be affected by Earth things I think you're you're . Preventing one the main things that most of us come into medical internet go Theel for which is help people . The best of your capabilities . And that's to be how I manage situation I try compartments eyes everything that's happening so that I don't take things from work I don't take . Having a bad day out I don't bring it to work as well . And I tried to rationally try to be empathetic I tried patient limitations . Thank you ."
      ],
      "text/plain": [
       "<IPython.core.display.HTML object>"
      ]
     },
     "metadata": {},
     "output_type": "display_data"
    },
    {
     "name": "stdout",
     "output_type": "stream",
     "text": [
      " \n"
     ]
    },
    {
     "data": {
      "text/html": [
       "<strong>Question 6</strong"
      ],
      "text/plain": [
       "<IPython.core.display.HTML object>"
      ]
     },
     "metadata": {},
     "output_type": "display_data"
    },
    {
     "data": {
      "text/html": [
       "Prior to medical school I was a physical therapist carry a morsel carry a cancer center and I remember my first . Few weeks and months I worked there I had certain colleagues that were very loud and boisterous I remember one particular occupational therapist who was very loud and boisterous and . I think I had developed . A bias where these . I consciously possibly where he's loud and pushes people . I don't like I don't get along with then it tends to be intense or focus on their work because they're trying to be the life of the party . I think ironically that person came when my closest friends and they're still one my close friends to this day they still do keep in touch with . I think . When this first happened when I first met them I think I may have been a little more standoffish . More reserved always respectful but a little more reserved . A little more . Shy I mean possibly . But I think . She was also his occupation of their business you so we had to work together a lot and . I think when we started working together . I think I always try whenever I've been working somewhere I try to be respectful I try to be patient I try to be understanding and also only when I when we start work together and I got to know that person . I knew . She is she's had a great personality and that's what she was that's just was her personality she was one the smartest people I know one of most hardworking people I know . I learned a lot from her she learned a lot of me . So . I think I think I did learn a lot from that interaction . I think our I always try to make sure I don't . Allow my bicycle my judgment to . Change our . Tree people . But I think this example was a very good example where I kind of let it slip away I didn't know I was very mindful and I may have been the more coal or . Shy and . I normally am but I think these moments oftentimes are remind us . That people are . Hard . Don't lot of verse here first time enough to chip cloud your judgment ."
      ],
      "text/plain": [
       "<IPython.core.display.HTML object>"
      ]
     },
     "metadata": {},
     "output_type": "display_data"
    },
    {
     "name": "stdout",
     "output_type": "stream",
     "text": [
      " \n"
     ]
    },
    {
     "data": {
      "text/plain": [
       "''"
      ]
     },
     "execution_count": 6,
     "metadata": {},
     "output_type": "execute_result"
    }
   ],
   "source": [
    "for index, value in enumerate(q.index.tolist()):\n",
    "    display(HTML(f\"<strong>{value.capitalize()}</strong\"))\n",
    "    highlight(q.iloc[index, 0])\n",
    "    print(\" \")\n",
    ";"
   ]
  },
  {
   "cell_type": "markdown",
   "metadata": {},
   "source": [
    "## Process question text"
   ]
  },
  {
   "cell_type": "markdown",
   "metadata": {},
   "source": [
    "### 1. Lowercase\n",
    "Lowercase all the words in the question text."
   ]
  },
  {
   "cell_type": "code",
   "execution_count": 7,
   "metadata": {},
   "outputs": [
    {
     "data": {
      "text/html": [
       "<strong>Question 1</strong"
      ],
      "text/plain": [
       "<IPython.core.display.HTML object>"
      ]
     },
     "metadata": {},
     "output_type": "display_data"
    },
    {
     "data": {
      "text/html": [
       "\n",
       "                    <span style='color:red;font-size:24px;font-weight:bold;line-height:1px;text-decoration:line-through;'>Prior</span>\n",
       "                    <span style='color:blue;font-size:24px;font-weight:bold;line-height:1px;'>prior</span> to applying to medical school \n",
       "                    <span style='color:red;font-size:24px;font-weight:bold;line-height:1px;text-decoration:line-through;'>I</span>\n",
       "                    <span style='color:blue;font-size:24px;font-weight:bold;line-height:1px;'>i</span> was working as a physical therapy because of their percentage of care you know \n",
       "                    <span style='color:red;font-size:24px;font-weight:bold;line-height:1px;text-decoration:line-through;'>I</span>\n",
       "                    <span style='color:blue;font-size:24px;font-weight:bold;line-height:1px;'>i</span> had just recently got engaged with my wife and . \n",
       "                    <span style='color:red;font-size:24px;font-weight:bold;line-height:1px;text-decoration:line-through;'>My</span>\n",
       "                    <span style='color:blue;font-size:24px;font-weight:bold;line-height:1px;'>my</span> journey to applying to medical school was when this all first started and \n",
       "                    <span style='color:red;font-size:24px;font-weight:bold;line-height:1px;text-decoration:line-through;'>I</span>\n",
       "                    <span style='color:blue;font-size:24px;font-weight:bold;line-height:1px;'>i</span> wanted to apply to medical school \n",
       "                    <span style='color:red;font-size:24px;font-weight:bold;line-height:1px;text-decoration:line-through;'>I</span>\n",
       "                    <span style='color:blue;font-size:24px;font-weight:bold;line-height:1px;'>i</span> discussed with my wife . \n",
       "                    <span style='color:red;font-size:24px;font-weight:bold;line-height:1px;text-decoration:line-through;'>About</span>\n",
       "                    <span style='color:blue;font-size:24px;font-weight:bold;line-height:1px;'>about</span> this situation because she was a bit more hesitant about having to pause our life understand they so . \n",
       "                    <span style='color:red;font-size:24px;font-weight:bold;line-height:1px;text-decoration:line-through;'>But</span>\n",
       "                    <span style='color:blue;font-size:24px;font-weight:bold;line-height:1px;'>but</span> we had discussed this \n",
       "                    <span style='color:red;font-size:24px;font-weight:bold;line-height:1px;text-decoration:line-through;'>I</span>\n",
       "                    <span style='color:blue;font-size:24px;font-weight:bold;line-height:1px;'>i</span> discussed my family \n",
       "                    <span style='color:red;font-size:24px;font-weight:bold;line-height:1px;text-decoration:line-through;'>I</span>\n",
       "                    <span style='color:blue;font-size:24px;font-weight:bold;line-height:1px;'>i</span> discussed my friends who are physicians and ultimately we discussed the pros and cons of continuing my my occupations of physical therapists are compared to . \n",
       "                    <span style='color:red;font-size:24px;font-weight:bold;line-height:1px;text-decoration:line-through;'>Attending</span>\n",
       "                    <span style='color:blue;font-size:24px;font-weight:bold;line-height:1px;'>attending</span> their go school residency and mention of becoming a tending would stress the pros and cons and \n",
       "                    <span style='color:red;font-size:24px;font-weight:bold;line-height:1px;text-decoration:line-through;'>I</span>\n",
       "                    <span style='color:blue;font-size:24px;font-weight:bold;line-height:1px;'>i</span> think . \n",
       "                    <span style='color:red;font-size:24px;font-weight:bold;line-height:1px;text-decoration:line-through;'>Also</span>\n",
       "                    <span style='color:blue;font-size:24px;font-weight:bold;line-height:1px;'>also</span> me . \n",
       "                    <span style='color:red;font-size:24px;font-weight:bold;line-height:1px;text-decoration:line-through;'>My</span>\n",
       "                    <span style='color:blue;font-size:24px;font-weight:bold;line-height:1px;'>my</span> wife came around . \n",
       "                    <span style='color:red;font-size:24px;font-weight:bold;line-height:1px;text-decoration:line-through;'>To</span>\n",
       "                    <span style='color:blue;font-size:24px;font-weight:bold;line-height:1px;'>to</span> my point of view . \n",
       "                    <span style='color:red;font-size:24px;font-weight:bold;line-height:1px;text-decoration:line-through;'>I</span>\n",
       "                    <span style='color:blue;font-size:24px;font-weight:bold;line-height:1px;'>i</span> think ultimately \n",
       "                    <span style='color:red;font-size:24px;font-weight:bold;line-height:1px;text-decoration:line-through;'>I</span>\n",
       "                    <span style='color:blue;font-size:24px;font-weight:bold;line-height:1px;'>i</span> approach any situation where there's a disagreement . \n",
       "                    <span style='color:red;font-size:24px;font-weight:bold;line-height:1px;text-decoration:line-through;'>I</span>\n",
       "                    <span style='color:blue;font-size:24px;font-weight:bold;line-height:1px;'>i</span> try to be very systematic \n",
       "                    <span style='color:red;font-size:24px;font-weight:bold;line-height:1px;text-decoration:line-through;'>I</span>\n",
       "                    <span style='color:blue;font-size:24px;font-weight:bold;line-height:1px;'>i</span> try to have pros and cons \n",
       "                    <span style='color:red;font-size:24px;font-weight:bold;line-height:1px;text-decoration:line-through;'>I</span>\n",
       "                    <span style='color:blue;font-size:24px;font-weight:bold;line-height:1px;'>i</span> try to welcome opinions and try to ask other people their opinions . \n",
       "                    <span style='color:red;font-size:24px;font-weight:bold;line-height:1px;text-decoration:line-through;'>And</span>\n",
       "                    <span style='color:blue;font-size:24px;font-weight:bold;line-height:1px;'>and</span> \n",
       "                    <span style='color:red;font-size:24px;font-weight:bold;line-height:1px;text-decoration:line-through;'>Else</span>\n",
       "                    <span style='color:blue;font-size:24px;font-weight:bold;line-height:1px;'>else</span> mean this situation . \n",
       "                    <span style='color:red;font-size:24px;font-weight:bold;line-height:1px;text-decoration:line-through;'>I</span>\n",
       "                    <span style='color:blue;font-size:24px;font-weight:bold;line-height:1px;'>i</span> think it worked out . \n",
       "                    <span style='color:red;font-size:24px;font-weight:bold;line-height:1px;text-decoration:line-through;'>I</span>\n",
       "                    <span style='color:blue;font-size:24px;font-weight:bold;line-height:1px;'>i</span> think \n",
       "                    <span style='color:red;font-size:24px;font-weight:bold;line-height:1px;text-decoration:line-through;'>Medical</span>\n",
       "                    <span style='color:blue;font-size:24px;font-weight:bold;line-height:1px;'>medical</span> \n",
       "                    <span style='color:red;font-size:24px;font-weight:bold;line-height:1px;text-decoration:line-through;'>School</span>\n",
       "                    <span style='color:blue;font-size:24px;font-weight:bold;line-height:1px;'>school</span> has had its bonds being having and we having no \n",
       "                    <span style='color:red;font-size:24px;font-weight:bold;line-height:1px;text-decoration:line-through;'>Adar</span>\n",
       "                    <span style='color:blue;font-size:24px;font-weight:bold;line-height:1px;'>adar</span> but . \n",
       "                    <span style='color:red;font-size:24px;font-weight:bold;line-height:1px;text-decoration:line-through;'>Ultimately</span>\n",
       "                    <span style='color:blue;font-size:24px;font-weight:bold;line-height:1px;'>ultimately</span> \n",
       "                    <span style='color:red;font-size:24px;font-weight:bold;line-height:1px;text-decoration:line-through;'>I</span>\n",
       "                    <span style='color:blue;font-size:24px;font-weight:bold;line-height:1px;'>i</span> believe . \n",
       "                    <span style='color:red;font-size:24px;font-weight:bold;line-height:1px;text-decoration:line-through;'>This</span>\n",
       "                    <span style='color:blue;font-size:24px;font-weight:bold;line-height:1px;'>this</span> is \n",
       "                    <span style='color:red;font-size:24px;font-weight:bold;line-height:1px;text-decoration:line-through;'>Journey</span>\n",
       "                    <span style='color:blue;font-size:24px;font-weight:bold;line-height:1px;'>journey</span> and taken . \n",
       "                    <span style='color:red;font-size:24px;font-weight:bold;line-height:1px;text-decoration:line-through;'>Will</span>\n",
       "                    <span style='color:blue;font-size:24px;font-weight:bold;line-height:1px;'>will</span> be for the betterment of my family and myself down the line down the line and \n",
       "                    <span style='color:red;font-size:24px;font-weight:bold;line-height:1px;text-decoration:line-through;'>I</span>\n",
       "                    <span style='color:blue;font-size:24px;font-weight:bold;line-height:1px;'>i</span> think that's . \n",
       "                    <span style='color:red;font-size:24px;font-weight:bold;line-height:1px;text-decoration:line-through;'>That's</span>\n",
       "                    <span style='color:blue;font-size:24px;font-weight:bold;line-height:1px;'>that's</span> the main point \n",
       "                    <span style='color:red;font-size:24px;font-weight:bold;line-height:1px;text-decoration:line-through;'>I</span>\n",
       "                    <span style='color:blue;font-size:24px;font-weight:bold;line-height:1px;'>i</span> try to convey to my eye wife . \n",
       "                    <span style='color:red;font-size:24px;font-weight:bold;line-height:1px;text-decoration:line-through;'>Long</span>\n",
       "                    <span style='color:blue;font-size:24px;font-weight:bold;line-height:1px;'>long</span> term this would be the best option for us in an . \n",
       "                    <span style='color:red;font-size:24px;font-weight:bold;line-height:1px;text-decoration:line-through;'>Our</span>\n",
       "                    <span style='color:blue;font-size:24px;font-weight:bold;line-height:1px;'>our</span> family and she agreed so . \n",
       "                    <span style='color:red;font-size:24px;font-weight:bold;line-height:1px;text-decoration:line-through;'>Now</span>\n",
       "                    <span style='color:blue;font-size:24px;font-weight:bold;line-height:1px;'>now</span> \n",
       "                    <span style='color:red;font-size:24px;font-weight:bold;line-height:1px;text-decoration:line-through;'>I'm</span>\n",
       "                    <span style='color:blue;font-size:24px;font-weight:bold;line-height:1px;'>i'm</span> mentoring my fourth year medical school and . \n",
       "                    <span style='color:red;font-size:24px;font-weight:bold;line-height:1px;text-decoration:line-through;'>Attempting</span>\n",
       "                    <span style='color:blue;font-size:24px;font-weight:bold;line-height:1px;'>attempting</span> to enter residency in the \n",
       "                    <span style='color:red;font-size:24px;font-weight:bold;line-height:1px;text-decoration:line-through;'>Merced</span>\n",
       "                    <span style='color:blue;font-size:24px;font-weight:bold;line-height:1px;'>merced</span> mess . \n",
       "                    <span style='color:red;font-size:24px;font-weight:bold;line-height:1px;text-decoration:line-through;'>So</span>\n",
       "                    <span style='color:blue;font-size:24px;font-weight:bold;line-height:1px;'>so</span> ultimately \n",
       "                    <span style='color:red;font-size:24px;font-weight:bold;line-height:1px;text-decoration:line-through;'>I</span>\n",
       "                    <span style='color:blue;font-size:24px;font-weight:bold;line-height:1px;'>i</span> think it . \n",
       "                    <span style='color:red;font-size:24px;font-weight:bold;line-height:1px;text-decoration:line-through;'>Worked</span>\n",
       "                    <span style='color:blue;font-size:24px;font-weight:bold;line-height:1px;'>worked</span> out . \n",
       "                    <span style='color:red;font-size:24px;font-weight:bold;line-height:1px;text-decoration:line-through;'>On</span>\n",
       "                    <span style='color:blue;font-size:24px;font-weight:bold;line-height:1px;'>on</span> . \n",
       "                    <span style='color:red;font-size:24px;font-weight:bold;line-height:1px;text-decoration:line-through;'>Thank</span>\n",
       "                    <span style='color:blue;font-size:24px;font-weight:bold;line-height:1px;'>thank</span> you ."
      ],
      "text/plain": [
       "<IPython.core.display.HTML object>"
      ]
     },
     "metadata": {},
     "output_type": "display_data"
    },
    {
     "name": "stdout",
     "output_type": "stream",
     "text": [
      " \n"
     ]
    },
    {
     "data": {
      "text/html": [
       "<strong>Question 2</strong"
      ],
      "text/plain": [
       "<IPython.core.display.HTML object>"
      ]
     },
     "metadata": {},
     "output_type": "display_data"
    },
    {
     "data": {
      "text/html": [
       "\n",
       "                    <span style='color:red;font-size:24px;font-weight:bold;line-height:1px;text-decoration:line-through;'>Prior</span>\n",
       "                    <span style='color:blue;font-size:24px;font-weight:bold;line-height:1px;'>prior</span> to attending medical school \n",
       "                    <span style='color:red;font-size:24px;font-weight:bold;line-height:1px;text-decoration:line-through;'>I</span>\n",
       "                    <span style='color:blue;font-size:24px;font-weight:bold;line-height:1px;'>i</span> was a physical therapist in . \n",
       "                    <span style='color:red;font-size:24px;font-weight:bold;line-height:1px;text-decoration:line-through;'>More</span>\n",
       "                    <span style='color:blue;font-size:24px;font-weight:bold;line-height:1px;'>more</span> sort of her cancer center and my job was to mobilize patients right after their \n",
       "                    <span style='color:red;font-size:24px;font-weight:bold;line-height:1px;text-decoration:line-through;'>Q</span>\n",
       "                    <span style='color:blue;font-size:24px;font-weight:bold;line-height:1px;'>q</span> . surgeries when many were in very . \n",
       "                    <span style='color:red;font-size:24px;font-weight:bold;line-height:1px;text-decoration:line-through;'>Large</span>\n",
       "                    <span style='color:blue;font-size:24px;font-weight:bold;line-height:1px;'>large</span> amounts of pain multiple times \n",
       "                    <span style='color:red;font-size:24px;font-weight:bold;line-height:1px;text-decoration:line-through;'>I</span>\n",
       "                    <span style='color:blue;font-size:24px;font-weight:bold;line-height:1px;'>i</span> had patients disagree . \n",
       "                    <span style='color:red;font-size:24px;font-weight:bold;line-height:1px;text-decoration:line-through;'>Not</span>\n",
       "                    <span style='color:blue;font-size:24px;font-weight:bold;line-height:1px;'>not</span> wait to get out of bed might stay in bed and . \n",
       "                    <span style='color:red;font-size:24px;font-weight:bold;line-height:1px;text-decoration:line-through;'>Wanting</span>\n",
       "                    <span style='color:blue;font-size:24px;font-weight:bold;line-height:1px;'>wanting</span> to rest after surgeries but . \n",
       "                    <span style='color:red;font-size:24px;font-weight:bold;line-height:1px;text-decoration:line-through;'>All</span>\n",
       "                    <span style='color:blue;font-size:24px;font-weight:bold;line-height:1px;'>all</span> these patients they are they ultimately came around \n",
       "                    <span style='color:red;font-size:24px;font-weight:bold;line-height:1px;text-decoration:line-through;'>I</span>\n",
       "                    <span style='color:blue;font-size:24px;font-weight:bold;line-height:1px;'>i</span> think when you have a patient \n",
       "                    <span style='color:red;font-size:24px;font-weight:bold;line-height:1px;text-decoration:line-through;'>This</span>\n",
       "                    <span style='color:blue;font-size:24px;font-weight:bold;line-height:1px;'>this</span> agrees with you . \n",
       "                    <span style='color:red;font-size:24px;font-weight:bold;line-height:1px;text-decoration:line-through;'>There</span>\n",
       "                    <span style='color:blue;font-size:24px;font-weight:bold;line-height:1px;'>there</span> are what they disagree with you \n",
       "                    <span style='color:red;font-size:24px;font-weight:bold;line-height:1px;text-decoration:line-through;'>I</span>\n",
       "                    <span style='color:blue;font-size:24px;font-weight:bold;line-height:1px;'>i</span> think the best approach is . \n",
       "                    <span style='color:red;font-size:24px;font-weight:bold;line-height:1px;text-decoration:line-through;'>To</span>\n",
       "                    <span style='color:blue;font-size:24px;font-weight:bold;line-height:1px;'>to</span> try to educate them try to be patient ultimately you try to understand where they're coming from and when you approach it that way \n",
       "                    <span style='color:red;font-size:24px;font-weight:bold;line-height:1px;text-decoration:line-through;'>I</span>\n",
       "                    <span style='color:blue;font-size:24px;font-weight:bold;line-height:1px;'>i</span> think journal you will have good outcomes in all my situations where patients were in pain it in one get up . \n",
       "                    <span style='color:red;font-size:24px;font-weight:bold;line-height:1px;text-decoration:line-through;'>I</span>\n",
       "                    <span style='color:blue;font-size:24px;font-weight:bold;line-height:1px;'>i</span> tried to work around their schedules \n",
       "                    <span style='color:red;font-size:24px;font-weight:bold;line-height:1px;text-decoration:line-through;'>I</span>\n",
       "                    <span style='color:blue;font-size:24px;font-weight:bold;line-height:1px;'>i</span> try to . \n",
       "                    <span style='color:red;font-size:24px;font-weight:bold;line-height:1px;text-decoration:line-through;'>Time</span>\n",
       "                    <span style='color:blue;font-size:24px;font-weight:bold;line-height:1px;'>time</span> it with their pain medication time it went and it was around we can encourage them and he try to work around their schedule try to work around what's best for them educate them you try to . \n",
       "                    <span style='color:red;font-size:24px;font-weight:bold;line-height:1px;text-decoration:line-through;'>Give</span>\n",
       "                    <span style='color:blue;font-size:24px;font-weight:bold;line-height:1px;'>give</span> them the broad picture meaning . \n",
       "                    <span style='color:red;font-size:24px;font-weight:bold;line-height:1px;text-decoration:line-through;'>It's</span>\n",
       "                    <span style='color:blue;font-size:24px;font-weight:bold;line-height:1px;'>it's</span> the first step to them gain home eventually going back to their normal daily routine so \n",
       "                    <span style='color:red;font-size:24px;font-weight:bold;line-height:1px;text-decoration:line-through;'>I</span>\n",
       "                    <span style='color:blue;font-size:24px;font-weight:bold;line-height:1px;'>i</span> think if you give them perspective \n",
       "                    <span style='color:red;font-size:24px;font-weight:bold;line-height:1px;text-decoration:line-through;'>I</span>\n",
       "                    <span style='color:blue;font-size:24px;font-weight:bold;line-height:1px;'>i</span> think if you when you educate patients \n",
       "                    <span style='color:red;font-size:24px;font-weight:bold;line-height:1px;text-decoration:line-through;'>I'd</span>\n",
       "                    <span style='color:blue;font-size:24px;font-weight:bold;line-height:1px;'>i'd</span> say ninety nine to one hundred percent time they eventually do come around to you \n",
       "                    <span style='color:red;font-size:24px;font-weight:bold;line-height:1px;text-decoration:line-through;'>I</span>\n",
       "                    <span style='color:blue;font-size:24px;font-weight:bold;line-height:1px;'>i</span> think that's the best way to approach any . \n",
       "                    <span style='color:red;font-size:24px;font-weight:bold;line-height:1px;text-decoration:line-through;'>Patient</span>\n",
       "                    <span style='color:blue;font-size:24px;font-weight:bold;line-height:1px;'>patient</span> disagreement . \n",
       "                    <span style='color:red;font-size:24px;font-weight:bold;line-height:1px;text-decoration:line-through;'>Or</span>\n",
       "                    <span style='color:blue;font-size:24px;font-weight:bold;line-height:1px;'>or</span> any agreement disagreement in general . \n",
       "                    <span style='color:red;font-size:24px;font-weight:bold;line-height:1px;text-decoration:line-through;'>In</span>\n",
       "                    <span style='color:blue;font-size:24px;font-weight:bold;line-height:1px;'>in</span> the situation that it's . \n",
       "                    <span style='color:red;font-size:24px;font-weight:bold;line-height:1px;text-decoration:line-through;'>Spoke</span>\n",
       "                    <span style='color:blue;font-size:24px;font-weight:bold;line-height:1px;'>spoke</span> about these patients also only . \n",
       "                    <span style='color:red;font-size:24px;font-weight:bold;line-height:1px;text-decoration:line-through;'>After</span>\n",
       "                    <span style='color:blue;font-size:24px;font-weight:bold;line-height:1px;'>after</span> they were discharged they were all very thankful . \n",
       "                    <span style='color:red;font-size:24px;font-weight:bold;line-height:1px;text-decoration:line-through;'>I</span>\n",
       "                    <span style='color:blue;font-size:24px;font-weight:bold;line-height:1px;'>i</span> didn't let them . \n",
       "                    <span style='color:red;font-size:24px;font-weight:bold;line-height:1px;text-decoration:line-through;'>Take</span>\n",
       "                    <span style='color:blue;font-size:24px;font-weight:bold;line-height:1px;'>take</span> it easy \n",
       "                    <span style='color:red;font-size:24px;font-weight:bold;line-height:1px;text-decoration:line-through;'>I</span>\n",
       "                    <span style='color:blue;font-size:24px;font-weight:bold;line-height:1px;'>i</span> been let them off the hook and \n",
       "                    <span style='color:red;font-size:24px;font-weight:bold;line-height:1px;text-decoration:line-through;'>I</span>\n",
       "                    <span style='color:blue;font-size:24px;font-weight:bold;line-height:1px;'>i</span> was patient with them and also only \n",
       "                    <span style='color:red;font-size:24px;font-weight:bold;line-height:1px;text-decoration:line-through;'>I</span>\n",
       "                    <span style='color:blue;font-size:24px;font-weight:bold;line-height:1px;'>i</span> think . \n",
       "                    <span style='color:red;font-size:24px;font-weight:bold;line-height:1px;text-decoration:line-through;'>I</span>\n",
       "                    <span style='color:blue;font-size:24px;font-weight:bold;line-height:1px;'>i</span> played a role in helping them get back to the things they need to do you get in this church safely . \n",
       "                    <span style='color:red;font-size:24px;font-weight:bold;line-height:1px;text-decoration:line-through;'>And</span>\n",
       "                    <span style='color:blue;font-size:24px;font-weight:bold;line-height:1px;'>and</span> get them rate get this charged ."
      ],
      "text/plain": [
       "<IPython.core.display.HTML object>"
      ]
     },
     "metadata": {},
     "output_type": "display_data"
    },
    {
     "name": "stdout",
     "output_type": "stream",
     "text": [
      " \n"
     ]
    },
    {
     "data": {
      "text/html": [
       "<strong>Question 3</strong"
      ],
      "text/plain": [
       "<IPython.core.display.HTML object>"
      ]
     },
     "metadata": {},
     "output_type": "display_data"
    },
    {
     "data": {
      "text/html": [
       "\n",
       "                    <span style='color:red;font-size:24px;font-weight:bold;line-height:1px;text-decoration:line-through;'>When</span>\n",
       "                    <span style='color:blue;font-size:24px;font-weight:bold;line-height:1px;'>when</span> \n",
       "                    <span style='color:red;font-size:24px;font-weight:bold;line-height:1px;text-decoration:line-through;'>I</span>\n",
       "                    <span style='color:blue;font-size:24px;font-weight:bold;line-height:1px;'>i</span> tried to medical school \n",
       "                    <span style='color:red;font-size:24px;font-weight:bold;line-height:1px;text-decoration:line-through;'>I</span>\n",
       "                    <span style='color:blue;font-size:24px;font-weight:bold;line-height:1px;'>i</span> worked as a physical therapist an intensive care unit and . \n",
       "                    <span style='color:red;font-size:24px;font-weight:bold;line-height:1px;text-decoration:line-through;'>We</span>\n",
       "                    <span style='color:blue;font-size:24px;font-weight:bold;line-height:1px;'>we</span> were asked multiple times to do certain projects certain presentations for physicians other members of the medical . \n",
       "                    <span style='color:red;font-size:24px;font-weight:bold;line-height:1px;text-decoration:line-through;'>Team</span>\n",
       "                    <span style='color:blue;font-size:24px;font-weight:bold;line-height:1px;'>team</span> . \n",
       "                    <span style='color:red;font-size:24px;font-weight:bold;line-height:1px;text-decoration:line-through;'>And</span>\n",
       "                    <span style='color:blue;font-size:24px;font-weight:bold;line-height:1px;'>and</span> on the on these projects . \n",
       "                    <span style='color:red;font-size:24px;font-weight:bold;line-height:1px;text-decoration:line-through;'>Most</span>\n",
       "                    <span style='color:blue;font-size:24px;font-weight:bold;line-height:1px;'>most</span> of times \n",
       "                    <span style='color:red;font-size:24px;font-weight:bold;line-height:1px;text-decoration:line-through;'>I</span>\n",
       "                    <span style='color:blue;font-size:24px;font-weight:bold;line-height:1px;'>i</span> think it's very rare to have a project where . \n",
       "                    <span style='color:red;font-size:24px;font-weight:bold;line-height:1px;text-decoration:line-through;'>You</span>\n",
       "                    <span style='color:blue;font-size:24px;font-weight:bold;line-height:1px;'>you</span> everyone agrees on everything \n",
       "                    <span style='color:red;font-size:24px;font-weight:bold;line-height:1px;text-decoration:line-through;'>I</span>\n",
       "                    <span style='color:blue;font-size:24px;font-weight:bold;line-height:1px;'>i</span> think \n",
       "                    <span style='color:red;font-size:24px;font-weight:bold;line-height:1px;text-decoration:line-through;'>Artemy</span>\n",
       "                    <span style='color:blue;font-size:24px;font-weight:bold;line-height:1px;'>artemy</span> have diverse opinions to have different . \n",
       "                    <span style='color:red;font-size:24px;font-weight:bold;line-height:1px;text-decoration:line-through;'>Different</span>\n",
       "                    <span style='color:blue;font-size:24px;font-weight:bold;line-height:1px;'>different</span> point of views is what makes a project better so more times were where \n",
       "                    <span style='color:red;font-size:24px;font-weight:bold;line-height:1px;text-decoration:line-through;'>I've</span>\n",
       "                    <span style='color:blue;font-size:24px;font-weight:bold;line-height:1px;'>i've</span> had to make presentations . \n",
       "                    <span style='color:red;font-size:24px;font-weight:bold;line-height:1px;text-decoration:line-through;'>For</span>\n",
       "                    <span style='color:blue;font-size:24px;font-weight:bold;line-height:1px;'>for</span> positions other nurses are straight there appears we would be working with another physical therapist or another member and create nice power points or presentations we would have disagreements \n",
       "                    <span style='color:red;font-size:24px;font-weight:bold;line-height:1px;text-decoration:line-through;'>I</span>\n",
       "                    <span style='color:blue;font-size:24px;font-weight:bold;line-height:1px;'>i</span> think \n",
       "                    <span style='color:red;font-size:24px;font-weight:bold;line-height:1px;text-decoration:line-through;'>I</span>\n",
       "                    <span style='color:blue;font-size:24px;font-weight:bold;line-height:1px;'>i</span> don't think anything . \n",
       "                    <span style='color:red;font-size:24px;font-weight:bold;line-height:1px;text-decoration:line-through;'>Very</span>\n",
       "                    <span style='color:blue;font-size:24px;font-weight:bold;line-height:1px;'>very</span> think but we would have disagreements about how we want approaching is how we want to introduce things and \n",
       "                    <span style='color:red;font-size:24px;font-weight:bold;line-height:1px;text-decoration:line-through;'>I</span>\n",
       "                    <span style='color:blue;font-size:24px;font-weight:bold;line-height:1px;'>i</span> think . \n",
       "                    <span style='color:red;font-size:24px;font-weight:bold;line-height:1px;text-decoration:line-through;'>I</span>\n",
       "                    <span style='color:blue;font-size:24px;font-weight:bold;line-height:1px;'>i</span> think . \n",
       "                    <span style='color:red;font-size:24px;font-weight:bold;line-height:1px;text-decoration:line-through;'>When</span>\n",
       "                    <span style='color:blue;font-size:24px;font-weight:bold;line-height:1px;'>when</span> when these things happen \n",
       "                    <span style='color:red;font-size:24px;font-weight:bold;line-height:1px;text-decoration:line-through;'>I</span>\n",
       "                    <span style='color:blue;font-size:24px;font-weight:bold;line-height:1px;'>i</span> think it's best to also need first of all first and foremost be respectful of each other . \n",
       "                    <span style='color:red;font-size:24px;font-weight:bold;line-height:1px;text-decoration:line-through;'>To</span>\n",
       "                    <span style='color:blue;font-size:24px;font-weight:bold;line-height:1px;'>to</span> take what people say in . \n",
       "                    <span style='color:red;font-size:24px;font-weight:bold;line-height:1px;text-decoration:line-through;'>An</span>\n",
       "                    <span style='color:blue;font-size:24px;font-weight:bold;line-height:1px;'>an</span> . \n",
       "                    <span style='color:red;font-size:24px;font-weight:bold;line-height:1px;text-decoration:line-through;'>Understanding</span>\n",
       "                    <span style='color:blue;font-size:24px;font-weight:bold;line-height:1px;'>understanding</span> and not try just to blow them up blow people's opinions off . \n",
       "                    <span style='color:red;font-size:24px;font-weight:bold;line-height:1px;text-decoration:line-through;'>I</span>\n",
       "                    <span style='color:blue;font-size:24px;font-weight:bold;line-height:1px;'>i</span> think . \n",
       "                    <span style='color:red;font-size:24px;font-weight:bold;line-height:1px;text-decoration:line-through;'>I</span>\n",
       "                    <span style='color:blue;font-size:24px;font-weight:bold;line-height:1px;'>i</span> think what \n",
       "                    <span style='color:red;font-size:24px;font-weight:bold;line-height:1px;text-decoration:line-through;'>I</span>\n",
       "                    <span style='color:blue;font-size:24px;font-weight:bold;line-height:1px;'>i</span> could have done to improve this relationship and it is what \n",
       "                    <span style='color:red;font-size:24px;font-weight:bold;line-height:1px;text-decoration:line-through;'>I</span>\n",
       "                    <span style='color:blue;font-size:24px;font-weight:bold;line-height:1px;'>i</span> think \n",
       "                    <span style='color:red;font-size:24px;font-weight:bold;line-height:1px;text-decoration:line-through;'>I</span>\n",
       "                    <span style='color:blue;font-size:24px;font-weight:bold;line-height:1px;'>i</span> tend to do \n",
       "                    <span style='color:red;font-size:24px;font-weight:bold;line-height:1px;text-decoration:line-through;'>I</span>\n",
       "                    <span style='color:blue;font-size:24px;font-weight:bold;line-height:1px;'>i</span> think \n",
       "                    <span style='color:red;font-size:24px;font-weight:bold;line-height:1px;text-decoration:line-through;'>I</span>\n",
       "                    <span style='color:blue;font-size:24px;font-weight:bold;line-height:1px;'>i</span> was at least somewhat successful in all of the situations \n",
       "                    <span style='color:red;font-size:24px;font-weight:bold;line-height:1px;text-decoration:line-through;'>I</span>\n",
       "                    <span style='color:blue;font-size:24px;font-weight:bold;line-height:1px;'>i</span> tried to or . \n",
       "                    <span style='color:red;font-size:24px;font-weight:bold;line-height:1px;text-decoration:line-through;'>Give</span>\n",
       "                    <span style='color:blue;font-size:24px;font-weight:bold;line-height:1px;'>give</span> them \n",
       "                    <span style='color:red;font-size:24px;font-weight:bold;line-height:1px;text-decoration:line-through;'>I</span>\n",
       "                    <span style='color:blue;font-size:24px;font-weight:bold;line-height:1px;'>i</span> keep trying to give them my point of view on how things should be done and they are see give their point of view and \n",
       "                    <span style='color:red;font-size:24px;font-weight:bold;line-height:1px;text-decoration:line-through;'>I</span>\n",
       "                    <span style='color:blue;font-size:24px;font-weight:bold;line-height:1px;'>i</span> think \n",
       "                    <span style='color:red;font-size:24px;font-weight:bold;line-height:1px;text-decoration:line-through;'>I</span>\n",
       "                    <span style='color:blue;font-size:24px;font-weight:bold;line-height:1px;'>i</span> think it's a bit of a give and take \n",
       "                    <span style='color:red;font-size:24px;font-weight:bold;line-height:1px;text-decoration:line-through;'>I</span>\n",
       "                    <span style='color:blue;font-size:24px;font-weight:bold;line-height:1px;'>i</span> think you have to acquiesce a little bit you have to but certain things you when you do . \n",
       "                    <span style='color:red;font-size:24px;font-weight:bold;line-height:1px;text-decoration:line-through;'>Usually</span>\n",
       "                    <span style='color:blue;font-size:24px;font-weight:bold;line-height:1px;'>usually</span> about certain parts of a position of certain parts of any project \n",
       "                    <span style='color:red;font-size:24px;font-weight:bold;line-height:1px;text-decoration:line-through;'>I</span>\n",
       "                    <span style='color:blue;font-size:24px;font-weight:bold;line-height:1px;'>i</span> think \n",
       "                    <span style='color:red;font-size:24px;font-weight:bold;line-height:1px;text-decoration:line-through;'>I</span>\n",
       "                    <span style='color:blue;font-size:24px;font-weight:bold;line-height:1px;'>i</span> think . \n",
       "                    <span style='color:red;font-size:24px;font-weight:bold;line-height:1px;text-decoration:line-through;'>You</span>\n",
       "                    <span style='color:blue;font-size:24px;font-weight:bold;line-height:1px;'>you</span> should stand up for where you believe in but ultimately \n",
       "                    <span style='color:red;font-size:24px;font-weight:bold;line-height:1px;text-decoration:line-through;'>I</span>\n",
       "                    <span style='color:blue;font-size:24px;font-weight:bold;line-height:1px;'>i</span> think . \n",
       "                    <span style='color:red;font-size:24px;font-weight:bold;line-height:1px;text-decoration:line-through;'>You</span>\n",
       "                    <span style='color:blue;font-size:24px;font-weight:bold;line-height:1px;'>you</span> have to realistic that you can't get your way every single time and then you really . \n",
       "                    <span style='color:red;font-size:24px;font-weight:bold;line-height:1px;text-decoration:line-through;'>Outside</span>\n",
       "                    <span style='color:blue;font-size:24px;font-weight:bold;line-height:1px;'>outside</span> of work or with work so . \n",
       "                    <span style='color:red;font-size:24px;font-weight:bold;line-height:1px;text-decoration:line-through;'>I</span>\n",
       "                    <span style='color:blue;font-size:24px;font-weight:bold;line-height:1px;'>i</span> think \n",
       "                    <span style='color:red;font-size:24px;font-weight:bold;line-height:1px;text-decoration:line-through;'>I</span>\n",
       "                    <span style='color:blue;font-size:24px;font-weight:bold;line-height:1px;'>i</span> think \n",
       "                    <span style='color:red;font-size:24px;font-weight:bold;line-height:1px;text-decoration:line-through;'>I</span>\n",
       "                    <span style='color:blue;font-size:24px;font-weight:bold;line-height:1px;'>i</span> did a good job in attempt to prove this relationship in these relations where we have this is green and . \n",
       "                    <span style='color:red;font-size:24px;font-weight:bold;line-height:1px;text-decoration:line-through;'>I</span>\n",
       "                    <span style='color:blue;font-size:24px;font-weight:bold;line-height:1px;'>i</span> think \n",
       "                    <span style='color:red;font-size:24px;font-weight:bold;line-height:1px;text-decoration:line-through;'>I</span>\n",
       "                    <span style='color:blue;font-size:24px;font-weight:bold;line-height:1px;'>i</span> maybe have done a better job . \n",
       "                    <span style='color:red;font-size:24px;font-weight:bold;line-height:1px;text-decoration:line-through;'>I</span>\n",
       "                    <span style='color:blue;font-size:24px;font-weight:bold;line-height:1px;'>i</span> think patience and respect is what is the main important part to improve relationships ."
      ],
      "text/plain": [
       "<IPython.core.display.HTML object>"
      ]
     },
     "metadata": {},
     "output_type": "display_data"
    },
    {
     "name": "stdout",
     "output_type": "stream",
     "text": [
      " \n"
     ]
    },
    {
     "data": {
      "text/html": [
       "<strong>Question 4</strong"
      ],
      "text/plain": [
       "<IPython.core.display.HTML object>"
      ]
     },
     "metadata": {},
     "output_type": "display_data"
    },
    {
     "data": {
      "text/html": [
       "\n",
       "                    <span style='color:red;font-size:24px;font-weight:bold;line-height:1px;text-decoration:line-through;'>Following</span>\n",
       "                    <span style='color:blue;font-size:24px;font-weight:bold;line-height:1px;'>following</span> my purse year of medical school \n",
       "                    <span style='color:red;font-size:24px;font-weight:bold;line-height:1px;text-decoration:line-through;'>I</span>\n",
       "                    <span style='color:blue;font-size:24px;font-weight:bold;line-height:1px;'>i</span> . \n",
       "                    <span style='color:red;font-size:24px;font-weight:bold;line-height:1px;text-decoration:line-through;'>Participate</span>\n",
       "                    <span style='color:blue;font-size:24px;font-weight:bold;line-height:1px;'>participate</span> in this summer medical research fellowship with my mentor in the intensive care unit where \n",
       "                    <span style='color:red;font-size:24px;font-weight:bold;line-height:1px;text-decoration:line-through;'>I</span>\n",
       "                    <span style='color:blue;font-size:24px;font-weight:bold;line-height:1px;'>i</span> work prior to medical school \n",
       "                    <span style='color:red;font-size:24px;font-weight:bold;line-height:1px;text-decoration:line-through;'>I</span>\n",
       "                    <span style='color:blue;font-size:24px;font-weight:bold;line-height:1px;'>i</span> was a physical therapist in the intensive care unit morsel cancer center so after my first year medical school \n",
       "                    <span style='color:red;font-size:24px;font-weight:bold;line-height:1px;text-decoration:line-through;'>I</span>\n",
       "                    <span style='color:blue;font-size:24px;font-weight:bold;line-height:1px;'>i</span> . \n",
       "                    <span style='color:red;font-size:24px;font-weight:bold;line-height:1px;text-decoration:line-through;'>Participate</span>\n",
       "                    <span style='color:blue;font-size:24px;font-weight:bold;line-height:1px;'>participate</span> in a research project with him where we examined none of the \n",
       "                    <span style='color:red;font-size:24px;font-weight:bold;line-height:1px;text-decoration:line-through;'>Light</span>\n",
       "                    <span style='color:blue;font-size:24px;font-weight:bold;line-height:1px;'>light</span> and \n",
       "                    <span style='color:red;font-size:24px;font-weight:bold;line-height:1px;text-decoration:line-through;'>Sound</span>\n",
       "                    <span style='color:blue;font-size:24px;font-weight:bold;line-height:1px;'>sound</span> that patients are perceiving nice you and how using the researcher we are in knowing how \n",
       "                    <span style='color:red;font-size:24px;font-weight:bold;line-height:1px;text-decoration:line-through;'>X</span>\n",
       "                    <span style='color:blue;font-size:24px;font-weight:bold;line-height:1px;'>x</span> . recovery and how their backs there are overall overall plan of care . \n",
       "                    <span style='color:red;font-size:24px;font-weight:bold;line-height:1px;text-decoration:line-through;'>We</span>\n",
       "                    <span style='color:blue;font-size:24px;font-weight:bold;line-height:1px;'>we</span> tried men . \n",
       "                    <span style='color:red;font-size:24px;font-weight:bold;line-height:1px;text-decoration:line-through;'>And</span>\n",
       "                    <span style='color:blue;font-size:24px;font-weight:bold;line-height:1px;'>and</span> trying to stand and grain how much sound and light in all these different variables they were experiencing so this we create this project from scratch . \n",
       "                    <span style='color:red;font-size:24px;font-weight:bold;line-height:1px;text-decoration:line-through;'>Mean</span>\n",
       "                    <span style='color:blue;font-size:24px;font-weight:bold;line-height:1px;'>mean</span> my mentor in a couple our positions buyouts when he was doing the . \n",
       "                    <span style='color:red;font-size:24px;font-weight:bold;line-height:1px;text-decoration:line-through;'>City's</span>\n",
       "                    <span style='color:blue;font-size:24px;font-weight:bold;line-height:1px;'>city's</span> six data gathering analyzing data and . \n",
       "                    <span style='color:red;font-size:24px;font-weight:bold;line-height:1px;text-decoration:line-through;'>My</span>\n",
       "                    <span style='color:blue;font-size:24px;font-weight:bold;line-height:1px;'>my</span> mentor was very . \n",
       "                    <span style='color:red;font-size:24px;font-weight:bold;line-height:1px;text-decoration:line-through;'>We</span>\n",
       "                    <span style='color:blue;font-size:24px;font-weight:bold;line-height:1px;'>we</span> work together very closely we have multiple reviews we talked about how we should proteins how we could possibly change different things . \n",
       "                    <span style='color:red;font-size:24px;font-weight:bold;line-height:1px;text-decoration:line-through;'>And</span>\n",
       "                    <span style='color:blue;font-size:24px;font-weight:bold;line-height:1px;'>and</span> \n",
       "                    <span style='color:red;font-size:24px;font-weight:bold;line-height:1px;text-decoration:line-through;'>I</span>\n",
       "                    <span style='color:blue;font-size:24px;font-weight:bold;line-height:1px;'>i</span> think . \n",
       "                    <span style='color:red;font-size:24px;font-weight:bold;line-height:1px;text-decoration:line-through;'>In</span>\n",
       "                    <span style='color:blue;font-size:24px;font-weight:bold;line-height:1px;'>in</span> any project where \n",
       "                    <span style='color:red;font-size:24px;font-weight:bold;line-height:1px;text-decoration:line-through;'>I</span>\n",
       "                    <span style='color:blue;font-size:24px;font-weight:bold;line-height:1px;'>i</span> requires a lot of detail and to succeed and he have to . \n",
       "                    <span style='color:red;font-size:24px;font-weight:bold;line-height:1px;text-decoration:line-through;'>There's</span>\n",
       "                    <span style='color:blue;font-size:24px;font-weight:bold;line-height:1px;'>there's</span> going to be most were visions there's me a lot of thought outside thought pinions going and sharing opinions . \n",
       "                    <span style='color:red;font-size:24px;font-weight:bold;line-height:1px;text-decoration:line-through;'>And</span>\n",
       "                    <span style='color:blue;font-size:24px;font-weight:bold;line-height:1px;'>and</span> that's what we did we revised our approach to this project multiple times \n",
       "                    <span style='color:red;font-size:24px;font-weight:bold;line-height:1px;text-decoration:line-through;'>Rupert</span>\n",
       "                    <span style='color:blue;font-size:24px;font-weight:bold;line-height:1px;'>rupert</span> we changed multiple times our paper our post presentation our . \n",
       "                    <span style='color:red;font-size:24px;font-weight:bold;line-height:1px;text-decoration:line-through;'>And</span>\n",
       "                    <span style='color:blue;font-size:24px;font-weight:bold;line-height:1px;'>and</span> we are . \n",
       "                    <span style='color:red;font-size:24px;font-weight:bold;line-height:1px;text-decoration:line-through;'>Different</span>\n",
       "                    <span style='color:blue;font-size:24px;font-weight:bold;line-height:1px;'>different</span> ways how we're gathering data so \n",
       "                    <span style='color:red;font-size:24px;font-weight:bold;line-height:1px;text-decoration:line-through;'>I</span>\n",
       "                    <span style='color:blue;font-size:24px;font-weight:bold;line-height:1px;'>i</span> think ultimately when you have . \n",
       "                    <span style='color:red;font-size:24px;font-weight:bold;line-height:1px;text-decoration:line-through;'>Freedom</span>\n",
       "                    <span style='color:blue;font-size:24px;font-weight:bold;line-height:1px;'>freedom</span> of thought and where everyone's comfortable in every one office opinion on how things could possibly be done differently or how things could be approached \n",
       "                    <span style='color:red;font-size:24px;font-weight:bold;line-height:1px;text-decoration:line-through;'>I</span>\n",
       "                    <span style='color:blue;font-size:24px;font-weight:bold;line-height:1px;'>i</span> think . \n",
       "                    <span style='color:red;font-size:24px;font-weight:bold;line-height:1px;text-decoration:line-through;'>You</span>\n",
       "                    <span style='color:blue;font-size:24px;font-weight:bold;line-height:1px;'>you</span> set yourself up for success . \n",
       "                    <span style='color:red;font-size:24px;font-weight:bold;line-height:1px;text-decoration:line-through;'>So</span>\n",
       "                    <span style='color:blue;font-size:24px;font-weight:bold;line-height:1px;'>so</span> this is a project that . \n",
       "                    <span style='color:red;font-size:24px;font-weight:bold;line-height:1px;text-decoration:line-through;'>We</span>\n",
       "                    <span style='color:blue;font-size:24px;font-weight:bold;line-height:1px;'>we</span> \n",
       "                    <span style='color:red;font-size:24px;font-weight:bold;line-height:1px;text-decoration:line-through;'>I</span>\n",
       "                    <span style='color:blue;font-size:24px;font-weight:bold;line-height:1px;'>i</span> done my own my first year of medical school and \n",
       "                    <span style='color:red;font-size:24px;font-weight:bold;line-height:1px;text-decoration:line-through;'>I</span>\n",
       "                    <span style='color:blue;font-size:24px;font-weight:bold;line-height:1px;'>i</span> think we were successful we . \n",
       "                    <span style='color:red;font-size:24px;font-weight:bold;line-height:1px;text-decoration:line-through;'>Were</span>\n",
       "                    <span style='color:blue;font-size:24px;font-weight:bold;line-height:1px;'>were</span> except into a journal and just consumed you going through a couple more visions but . \n",
       "                    <span style='color:red;font-size:24px;font-weight:bold;line-height:1px;text-decoration:line-through;'>I</span>\n",
       "                    <span style='color:blue;font-size:24px;font-weight:bold;line-height:1px;'>i</span> think it was a great experience and under a lot . \n",
       "                    <span style='color:red;font-size:24px;font-weight:bold;line-height:1px;text-decoration:line-through;'>And</span>\n",
       "                    <span style='color:blue;font-size:24px;font-weight:bold;line-height:1px;'>and</span> \n",
       "                    <span style='color:red;font-size:24px;font-weight:bold;line-height:1px;text-decoration:line-through;'>I</span>\n",
       "                    <span style='color:blue;font-size:24px;font-weight:bold;line-height:1px;'>i</span> think just putting in the hard work and time . \n",
       "                    <span style='color:red;font-size:24px;font-weight:bold;line-height:1px;text-decoration:line-through;'>And</span>\n",
       "                    <span style='color:blue;font-size:24px;font-weight:bold;line-height:1px;'>and</span> their big step in in the ensuring that it was successful project keep ."
      ],
      "text/plain": [
       "<IPython.core.display.HTML object>"
      ]
     },
     "metadata": {},
     "output_type": "display_data"
    },
    {
     "name": "stdout",
     "output_type": "stream",
     "text": [
      " \n"
     ]
    },
    {
     "data": {
      "text/html": [
       "<strong>Question 5</strong"
      ],
      "text/plain": [
       "<IPython.core.display.HTML object>"
      ]
     },
     "metadata": {},
     "output_type": "display_data"
    },
    {
     "data": {
      "text/html": [
       "\n",
       "                    <span style='color:red;font-size:24px;font-weight:bold;line-height:1px;text-decoration:line-through;'>Prior</span>\n",
       "                    <span style='color:blue;font-size:24px;font-weight:bold;line-height:1px;'>prior</span> to medical school \n",
       "                    <span style='color:red;font-size:24px;font-weight:bold;line-height:1px;text-decoration:line-through;'>I</span>\n",
       "                    <span style='color:blue;font-size:24px;font-weight:bold;line-height:1px;'>i</span> was a physical therapist in the sense of carrying their \n",
       "                    <span style='color:red;font-size:24px;font-weight:bold;line-height:1px;text-decoration:line-through;'>Memorial</span>\n",
       "                    <span style='color:blue;font-size:24px;font-weight:bold;line-height:1px;'>memorial</span> \n",
       "                    <span style='color:red;font-size:24px;font-weight:bold;line-height:1px;text-decoration:line-through;'>Sloan</span>\n",
       "                    <span style='color:blue;font-size:24px;font-weight:bold;line-height:1px;'>sloan</span> \n",
       "                    <span style='color:red;font-size:24px;font-weight:bold;line-height:1px;text-decoration:line-through;'>Carey</span>\n",
       "                    <span style='color:blue;font-size:24px;font-weight:bold;line-height:1px;'>carey</span> \n",
       "                    <span style='color:red;font-size:24px;font-weight:bold;line-height:1px;text-decoration:line-through;'>Cancer</span>\n",
       "                    <span style='color:blue;font-size:24px;font-weight:bold;line-height:1px;'>cancer</span> \n",
       "                    <span style='color:red;font-size:24px;font-weight:bold;line-height:1px;text-decoration:line-through;'>Center</span>\n",
       "                    <span style='color:blue;font-size:24px;font-weight:bold;line-height:1px;'>center</span> which is one of the top ranked oncology hospitals . \n",
       "                    <span style='color:red;font-size:24px;font-weight:bold;line-height:1px;text-decoration:line-through;'>And</span>\n",
       "                    <span style='color:blue;font-size:24px;font-weight:bold;line-height:1px;'>and</span> . \n",
       "                    <span style='color:red;font-size:24px;font-weight:bold;line-height:1px;text-decoration:line-through;'>Being</span>\n",
       "                    <span style='color:blue;font-size:24px;font-weight:bold;line-height:1px;'>being</span> in intensive been working in the intensive care unit patients very sick . \n",
       "                    <span style='color:red;font-size:24px;font-weight:bold;line-height:1px;text-decoration:line-through;'>Critically</span>\n",
       "                    <span style='color:blue;font-size:24px;font-weight:bold;line-height:1px;'>critically</span> ill truly ill and then \n",
       "                    <span style='color:red;font-size:24px;font-weight:bold;line-height:1px;text-decoration:line-through;'>Slayers</span>\n",
       "                    <span style='color:blue;font-size:24px;font-weight:bold;line-height:1px;'>slayers</span> with poor prognosis is . \n",
       "                    <span style='color:red;font-size:24px;font-weight:bold;line-height:1px;text-decoration:line-through;'>Often</span>\n",
       "                    <span style='color:blue;font-size:24px;font-weight:bold;line-height:1px;'>often</span> times and so . \n",
       "                    <span style='color:red;font-size:24px;font-weight:bold;line-height:1px;text-decoration:line-through;'>Having</span>\n",
       "                    <span style='color:blue;font-size:24px;font-weight:bold;line-height:1px;'>having</span> to deal with compassion toward . \n",
       "                    <span style='color:red;font-size:24px;font-weight:bold;line-height:1px;text-decoration:line-through;'>These</span>\n",
       "                    <span style='color:blue;font-size:24px;font-weight:bold;line-height:1px;'>these</span> patients . \n",
       "                    <span style='color:red;font-size:24px;font-weight:bold;line-height:1px;text-decoration:line-through;'>I</span>\n",
       "                    <span style='color:blue;font-size:24px;font-weight:bold;line-height:1px;'>i</span> think was in this \n",
       "                    <span style='color:red;font-size:24px;font-weight:bold;line-height:1px;text-decoration:line-through;'>S</span>\n",
       "                    <span style='color:blue;font-size:24px;font-weight:bold;line-height:1px;'>s</span> \n",
       "                    <span style='color:red;font-size:24px;font-weight:bold;line-height:1px;text-decoration:line-through;'>E</span>\n",
       "                    <span style='color:blue;font-size:24px;font-weight:bold;line-height:1px;'>e</span> \n",
       "                    <span style='color:red;font-size:24px;font-weight:bold;line-height:1px;text-decoration:line-through;'>P's</span>\n",
       "                    <span style='color:blue;font-size:24px;font-weight:bold;line-height:1px;'>p's</span> also me they're going through things that are ten times worse than anything most of us can imagine . \n",
       "                    <span style='color:red;font-size:24px;font-weight:bold;line-height:1px;text-decoration:line-through;'>The</span>\n",
       "                    <span style='color:blue;font-size:24px;font-weight:bold;line-height:1px;'>the</span> only chemotherapy surgeries radiation in . \n",
       "                    <span style='color:red;font-size:24px;font-weight:bold;line-height:1px;text-decoration:line-through;'>The</span>\n",
       "                    <span style='color:blue;font-size:24px;font-weight:bold;line-height:1px;'>the</span> multiple cancers \n",
       "                    <span style='color:red;font-size:24px;font-weight:bold;line-height:1px;text-decoration:line-through;'>Millings</span>\n",
       "                    <span style='color:blue;font-size:24px;font-weight:bold;line-height:1px;'>millings</span> used to comb would be things that are occurring because the treatments because of the cancer so on the five years out were . \n",
       "                    <span style='color:red;font-size:24px;font-weight:bold;line-height:1px;text-decoration:line-through;'>They</span>\n",
       "                    <span style='color:blue;font-size:24px;font-weight:bold;line-height:1px;'>they</span> had a bad days some days . \n",
       "                    <span style='color:red;font-size:24px;font-weight:bold;line-height:1px;text-decoration:line-through;'>Or</span>\n",
       "                    <span style='color:blue;font-size:24px;font-weight:bold;line-height:1px;'>or</span> . \n",
       "                    <span style='color:red;font-size:24px;font-weight:bold;line-height:1px;text-decoration:line-through;'>Were</span>\n",
       "                    <span style='color:blue;font-size:24px;font-weight:bold;line-height:1px;'>were</span> things were happening outside of work . \n",
       "                    <span style='color:red;font-size:24px;font-weight:bold;line-height:1px;text-decoration:line-through;'>But</span>\n",
       "                    <span style='color:blue;font-size:24px;font-weight:bold;line-height:1px;'>but</span> . \n",
       "                    <span style='color:red;font-size:24px;font-weight:bold;line-height:1px;text-decoration:line-through;'>I</span>\n",
       "                    <span style='color:blue;font-size:24px;font-weight:bold;line-height:1px;'>i</span> think . \n",
       "                    <span style='color:red;font-size:24px;font-weight:bold;line-height:1px;text-decoration:line-through;'>As</span>\n",
       "                    <span style='color:blue;font-size:24px;font-weight:bold;line-height:1px;'>as</span> a physician or any medical profession you're held to a higher standard you are expected to kind of . \n",
       "                    <span style='color:red;font-size:24px;font-weight:bold;line-height:1px;text-decoration:line-through;'>Compartmentalize</span>\n",
       "                    <span style='color:blue;font-size:24px;font-weight:bold;line-height:1px;'>compartmentalize</span> your outside work and your work so that you can't don't mix them up because it can go the other way where you take something from work and take it home and kind of . \n",
       "                    <span style='color:red;font-size:24px;font-weight:bold;line-height:1px;text-decoration:line-through;'>I</span>\n",
       "                    <span style='color:blue;font-size:24px;font-weight:bold;line-height:1px;'>i</span> think that oftentimes can lead to a lot of burnout . \n",
       "                    <span style='color:red;font-size:24px;font-weight:bold;line-height:1px;text-decoration:line-through;'>So</span>\n",
       "                    <span style='color:blue;font-size:24px;font-weight:bold;line-height:1px;'>so</span> when \n",
       "                    <span style='color:red;font-size:24px;font-weight:bold;line-height:1px;text-decoration:line-through;'>I</span>\n",
       "                    <span style='color:blue;font-size:24px;font-weight:bold;line-height:1px;'>i</span> was working in \n",
       "                    <span style='color:red;font-size:24px;font-weight:bold;line-height:1px;text-decoration:line-through;'>Sloan</span>\n",
       "                    <span style='color:blue;font-size:24px;font-weight:bold;line-height:1px;'>sloan</span> multiple times \n",
       "                    <span style='color:red;font-size:24px;font-weight:bold;line-height:1px;text-decoration:line-through;'>I</span>\n",
       "                    <span style='color:blue;font-size:24px;font-weight:bold;line-height:1px;'>i</span> had . \n",
       "                    <span style='color:red;font-size:24px;font-weight:bold;line-height:1px;text-decoration:line-through;'>Situations</span>\n",
       "                    <span style='color:blue;font-size:24px;font-weight:bold;line-height:1px;'>situations</span> where \n",
       "                    <span style='color:red;font-size:24px;font-weight:bold;line-height:1px;text-decoration:line-through;'>I</span>\n",
       "                    <span style='color:blue;font-size:24px;font-weight:bold;line-height:1px;'>i</span> was having that day you know make sure to . \n",
       "                    <span style='color:red;font-size:24px;font-weight:bold;line-height:1px;text-decoration:line-through;'>Separate</span>\n",
       "                    <span style='color:blue;font-size:24px;font-weight:bold;line-height:1px;'>separate</span> what was happening outside of what was required for me to take care of patients . \n",
       "                    <span style='color:red;font-size:24px;font-weight:bold;line-height:1px;text-decoration:line-through;'>Because</span>\n",
       "                    <span style='color:blue;font-size:24px;font-weight:bold;line-height:1px;'>because</span> ultimately . \n",
       "                    <span style='color:red;font-size:24px;font-weight:bold;line-height:1px;text-decoration:line-through;'>I</span>\n",
       "                    <span style='color:blue;font-size:24px;font-weight:bold;line-height:1px;'>i</span> think we all be compositions are we become part of \n",
       "                    <span style='color:red;font-size:24px;font-weight:bold;line-height:1px;text-decoration:line-through;'>America</span>\n",
       "                    <span style='color:blue;font-size:24px;font-weight:bold;line-height:1px;'>america</span> feel to help people so if you if you . \n",
       "                    <span style='color:red;font-size:24px;font-weight:bold;line-height:1px;text-decoration:line-through;'>If</span>\n",
       "                    <span style='color:blue;font-size:24px;font-weight:bold;line-height:1px;'>if</span> you're allowing yourself to be affected by \n",
       "                    <span style='color:red;font-size:24px;font-weight:bold;line-height:1px;text-decoration:line-through;'>Earth</span>\n",
       "                    <span style='color:blue;font-size:24px;font-weight:bold;line-height:1px;'>earth</span> things \n",
       "                    <span style='color:red;font-size:24px;font-weight:bold;line-height:1px;text-decoration:line-through;'>I</span>\n",
       "                    <span style='color:blue;font-size:24px;font-weight:bold;line-height:1px;'>i</span> think you're you're . \n",
       "                    <span style='color:red;font-size:24px;font-weight:bold;line-height:1px;text-decoration:line-through;'>Preventing</span>\n",
       "                    <span style='color:blue;font-size:24px;font-weight:bold;line-height:1px;'>preventing</span> one the main things that most of us come into medical internet go \n",
       "                    <span style='color:red;font-size:24px;font-weight:bold;line-height:1px;text-decoration:line-through;'>Theel</span>\n",
       "                    <span style='color:blue;font-size:24px;font-weight:bold;line-height:1px;'>theel</span> for which is help people . \n",
       "                    <span style='color:red;font-size:24px;font-weight:bold;line-height:1px;text-decoration:line-through;'>The</span>\n",
       "                    <span style='color:blue;font-size:24px;font-weight:bold;line-height:1px;'>the</span> best of your capabilities . \n",
       "                    <span style='color:red;font-size:24px;font-weight:bold;line-height:1px;text-decoration:line-through;'>And</span>\n",
       "                    <span style='color:blue;font-size:24px;font-weight:bold;line-height:1px;'>and</span> that's to be how \n",
       "                    <span style='color:red;font-size:24px;font-weight:bold;line-height:1px;text-decoration:line-through;'>I</span>\n",
       "                    <span style='color:blue;font-size:24px;font-weight:bold;line-height:1px;'>i</span> manage situation \n",
       "                    <span style='color:red;font-size:24px;font-weight:bold;line-height:1px;text-decoration:line-through;'>I</span>\n",
       "                    <span style='color:blue;font-size:24px;font-weight:bold;line-height:1px;'>i</span> try compartments eyes everything that's happening so that \n",
       "                    <span style='color:red;font-size:24px;font-weight:bold;line-height:1px;text-decoration:line-through;'>I</span>\n",
       "                    <span style='color:blue;font-size:24px;font-weight:bold;line-height:1px;'>i</span> don't take things from work \n",
       "                    <span style='color:red;font-size:24px;font-weight:bold;line-height:1px;text-decoration:line-through;'>I</span>\n",
       "                    <span style='color:blue;font-size:24px;font-weight:bold;line-height:1px;'>i</span> don't take . \n",
       "                    <span style='color:red;font-size:24px;font-weight:bold;line-height:1px;text-decoration:line-through;'>Having</span>\n",
       "                    <span style='color:blue;font-size:24px;font-weight:bold;line-height:1px;'>having</span> a bad day out \n",
       "                    <span style='color:red;font-size:24px;font-weight:bold;line-height:1px;text-decoration:line-through;'>I</span>\n",
       "                    <span style='color:blue;font-size:24px;font-weight:bold;line-height:1px;'>i</span> don't bring it to work as well . \n",
       "                    <span style='color:red;font-size:24px;font-weight:bold;line-height:1px;text-decoration:line-through;'>And</span>\n",
       "                    <span style='color:blue;font-size:24px;font-weight:bold;line-height:1px;'>and</span> \n",
       "                    <span style='color:red;font-size:24px;font-weight:bold;line-height:1px;text-decoration:line-through;'>I</span>\n",
       "                    <span style='color:blue;font-size:24px;font-weight:bold;line-height:1px;'>i</span> tried to rationally try to be empathetic \n",
       "                    <span style='color:red;font-size:24px;font-weight:bold;line-height:1px;text-decoration:line-through;'>I</span>\n",
       "                    <span style='color:blue;font-size:24px;font-weight:bold;line-height:1px;'>i</span> tried patient limitations . \n",
       "                    <span style='color:red;font-size:24px;font-weight:bold;line-height:1px;text-decoration:line-through;'>Thank</span>\n",
       "                    <span style='color:blue;font-size:24px;font-weight:bold;line-height:1px;'>thank</span> you ."
      ],
      "text/plain": [
       "<IPython.core.display.HTML object>"
      ]
     },
     "metadata": {},
     "output_type": "display_data"
    },
    {
     "name": "stdout",
     "output_type": "stream",
     "text": [
      " \n"
     ]
    },
    {
     "data": {
      "text/html": [
       "<strong>Question 6</strong"
      ],
      "text/plain": [
       "<IPython.core.display.HTML object>"
      ]
     },
     "metadata": {},
     "output_type": "display_data"
    },
    {
     "data": {
      "text/html": [
       "\n",
       "                    <span style='color:red;font-size:24px;font-weight:bold;line-height:1px;text-decoration:line-through;'>Prior</span>\n",
       "                    <span style='color:blue;font-size:24px;font-weight:bold;line-height:1px;'>prior</span> to medical school \n",
       "                    <span style='color:red;font-size:24px;font-weight:bold;line-height:1px;text-decoration:line-through;'>I</span>\n",
       "                    <span style='color:blue;font-size:24px;font-weight:bold;line-height:1px;'>i</span> was a physical therapist carry a morsel carry a cancer center and \n",
       "                    <span style='color:red;font-size:24px;font-weight:bold;line-height:1px;text-decoration:line-through;'>I</span>\n",
       "                    <span style='color:blue;font-size:24px;font-weight:bold;line-height:1px;'>i</span> remember my first . \n",
       "                    <span style='color:red;font-size:24px;font-weight:bold;line-height:1px;text-decoration:line-through;'>Few</span>\n",
       "                    <span style='color:blue;font-size:24px;font-weight:bold;line-height:1px;'>few</span> weeks and months \n",
       "                    <span style='color:red;font-size:24px;font-weight:bold;line-height:1px;text-decoration:line-through;'>I</span>\n",
       "                    <span style='color:blue;font-size:24px;font-weight:bold;line-height:1px;'>i</span> worked there \n",
       "                    <span style='color:red;font-size:24px;font-weight:bold;line-height:1px;text-decoration:line-through;'>I</span>\n",
       "                    <span style='color:blue;font-size:24px;font-weight:bold;line-height:1px;'>i</span> had certain colleagues that were very loud and boisterous \n",
       "                    <span style='color:red;font-size:24px;font-weight:bold;line-height:1px;text-decoration:line-through;'>I</span>\n",
       "                    <span style='color:blue;font-size:24px;font-weight:bold;line-height:1px;'>i</span> remember one particular occupational therapist who was very loud and boisterous and . \n",
       "                    <span style='color:red;font-size:24px;font-weight:bold;line-height:1px;text-decoration:line-through;'>I</span>\n",
       "                    <span style='color:blue;font-size:24px;font-weight:bold;line-height:1px;'>i</span> think \n",
       "                    <span style='color:red;font-size:24px;font-weight:bold;line-height:1px;text-decoration:line-through;'>I</span>\n",
       "                    <span style='color:blue;font-size:24px;font-weight:bold;line-height:1px;'>i</span> had developed . \n",
       "                    <span style='color:red;font-size:24px;font-weight:bold;line-height:1px;text-decoration:line-through;'>A</span>\n",
       "                    <span style='color:blue;font-size:24px;font-weight:bold;line-height:1px;'>a</span> bias where these . \n",
       "                    <span style='color:red;font-size:24px;font-weight:bold;line-height:1px;text-decoration:line-through;'>I</span>\n",
       "                    <span style='color:blue;font-size:24px;font-weight:bold;line-height:1px;'>i</span> consciously possibly where he's loud and pushes people . \n",
       "                    <span style='color:red;font-size:24px;font-weight:bold;line-height:1px;text-decoration:line-through;'>I</span>\n",
       "                    <span style='color:blue;font-size:24px;font-weight:bold;line-height:1px;'>i</span> don't like \n",
       "                    <span style='color:red;font-size:24px;font-weight:bold;line-height:1px;text-decoration:line-through;'>I</span>\n",
       "                    <span style='color:blue;font-size:24px;font-weight:bold;line-height:1px;'>i</span> don't get along with then it tends to be intense or focus on their work because they're trying to be the life of the party . \n",
       "                    <span style='color:red;font-size:24px;font-weight:bold;line-height:1px;text-decoration:line-through;'>I</span>\n",
       "                    <span style='color:blue;font-size:24px;font-weight:bold;line-height:1px;'>i</span> think ironically that person came when my closest friends and they're still one my close friends to this day they still do keep in touch with . \n",
       "                    <span style='color:red;font-size:24px;font-weight:bold;line-height:1px;text-decoration:line-through;'>I</span>\n",
       "                    <span style='color:blue;font-size:24px;font-weight:bold;line-height:1px;'>i</span> think . \n",
       "                    <span style='color:red;font-size:24px;font-weight:bold;line-height:1px;text-decoration:line-through;'>When</span>\n",
       "                    <span style='color:blue;font-size:24px;font-weight:bold;line-height:1px;'>when</span> this first happened when \n",
       "                    <span style='color:red;font-size:24px;font-weight:bold;line-height:1px;text-decoration:line-through;'>I</span>\n",
       "                    <span style='color:blue;font-size:24px;font-weight:bold;line-height:1px;'>i</span> first met them \n",
       "                    <span style='color:red;font-size:24px;font-weight:bold;line-height:1px;text-decoration:line-through;'>I</span>\n",
       "                    <span style='color:blue;font-size:24px;font-weight:bold;line-height:1px;'>i</span> think \n",
       "                    <span style='color:red;font-size:24px;font-weight:bold;line-height:1px;text-decoration:line-through;'>I</span>\n",
       "                    <span style='color:blue;font-size:24px;font-weight:bold;line-height:1px;'>i</span> may have been a little more standoffish . \n",
       "                    <span style='color:red;font-size:24px;font-weight:bold;line-height:1px;text-decoration:line-through;'>More</span>\n",
       "                    <span style='color:blue;font-size:24px;font-weight:bold;line-height:1px;'>more</span> reserved always respectful but a little more reserved . \n",
       "                    <span style='color:red;font-size:24px;font-weight:bold;line-height:1px;text-decoration:line-through;'>A</span>\n",
       "                    <span style='color:blue;font-size:24px;font-weight:bold;line-height:1px;'>a</span> little more . \n",
       "                    <span style='color:red;font-size:24px;font-weight:bold;line-height:1px;text-decoration:line-through;'>Shy</span>\n",
       "                    <span style='color:blue;font-size:24px;font-weight:bold;line-height:1px;'>shy</span> \n",
       "                    <span style='color:red;font-size:24px;font-weight:bold;line-height:1px;text-decoration:line-through;'>I</span>\n",
       "                    <span style='color:blue;font-size:24px;font-weight:bold;line-height:1px;'>i</span> mean possibly . \n",
       "                    <span style='color:red;font-size:24px;font-weight:bold;line-height:1px;text-decoration:line-through;'>But</span>\n",
       "                    <span style='color:blue;font-size:24px;font-weight:bold;line-height:1px;'>but</span> \n",
       "                    <span style='color:red;font-size:24px;font-weight:bold;line-height:1px;text-decoration:line-through;'>I</span>\n",
       "                    <span style='color:blue;font-size:24px;font-weight:bold;line-height:1px;'>i</span> think . \n",
       "                    <span style='color:red;font-size:24px;font-weight:bold;line-height:1px;text-decoration:line-through;'>She</span>\n",
       "                    <span style='color:blue;font-size:24px;font-weight:bold;line-height:1px;'>she</span> was also his occupation of their business you so we had to work together a lot and . \n",
       "                    <span style='color:red;font-size:24px;font-weight:bold;line-height:1px;text-decoration:line-through;'>I</span>\n",
       "                    <span style='color:blue;font-size:24px;font-weight:bold;line-height:1px;'>i</span> think when we started working together . \n",
       "                    <span style='color:red;font-size:24px;font-weight:bold;line-height:1px;text-decoration:line-through;'>I</span>\n",
       "                    <span style='color:blue;font-size:24px;font-weight:bold;line-height:1px;'>i</span> think \n",
       "                    <span style='color:red;font-size:24px;font-weight:bold;line-height:1px;text-decoration:line-through;'>I</span>\n",
       "                    <span style='color:blue;font-size:24px;font-weight:bold;line-height:1px;'>i</span> always try whenever \n",
       "                    <span style='color:red;font-size:24px;font-weight:bold;line-height:1px;text-decoration:line-through;'>I've</span>\n",
       "                    <span style='color:blue;font-size:24px;font-weight:bold;line-height:1px;'>i've</span> been working somewhere \n",
       "                    <span style='color:red;font-size:24px;font-weight:bold;line-height:1px;text-decoration:line-through;'>I</span>\n",
       "                    <span style='color:blue;font-size:24px;font-weight:bold;line-height:1px;'>i</span> try to be respectful \n",
       "                    <span style='color:red;font-size:24px;font-weight:bold;line-height:1px;text-decoration:line-through;'>I</span>\n",
       "                    <span style='color:blue;font-size:24px;font-weight:bold;line-height:1px;'>i</span> try to be patient \n",
       "                    <span style='color:red;font-size:24px;font-weight:bold;line-height:1px;text-decoration:line-through;'>I</span>\n",
       "                    <span style='color:blue;font-size:24px;font-weight:bold;line-height:1px;'>i</span> try to be understanding and also only when \n",
       "                    <span style='color:red;font-size:24px;font-weight:bold;line-height:1px;text-decoration:line-through;'>I</span>\n",
       "                    <span style='color:blue;font-size:24px;font-weight:bold;line-height:1px;'>i</span> when we start work together and \n",
       "                    <span style='color:red;font-size:24px;font-weight:bold;line-height:1px;text-decoration:line-through;'>I</span>\n",
       "                    <span style='color:blue;font-size:24px;font-weight:bold;line-height:1px;'>i</span> got to know that person . \n",
       "                    <span style='color:red;font-size:24px;font-weight:bold;line-height:1px;text-decoration:line-through;'>I</span>\n",
       "                    <span style='color:blue;font-size:24px;font-weight:bold;line-height:1px;'>i</span> knew . \n",
       "                    <span style='color:red;font-size:24px;font-weight:bold;line-height:1px;text-decoration:line-through;'>She</span>\n",
       "                    <span style='color:blue;font-size:24px;font-weight:bold;line-height:1px;'>she</span> is she's had a great personality and that's what she was that's just was her personality she was one the smartest people \n",
       "                    <span style='color:red;font-size:24px;font-weight:bold;line-height:1px;text-decoration:line-through;'>I</span>\n",
       "                    <span style='color:blue;font-size:24px;font-weight:bold;line-height:1px;'>i</span> know one of most hardworking people \n",
       "                    <span style='color:red;font-size:24px;font-weight:bold;line-height:1px;text-decoration:line-through;'>I</span>\n",
       "                    <span style='color:blue;font-size:24px;font-weight:bold;line-height:1px;'>i</span> know . \n",
       "                    <span style='color:red;font-size:24px;font-weight:bold;line-height:1px;text-decoration:line-through;'>I</span>\n",
       "                    <span style='color:blue;font-size:24px;font-weight:bold;line-height:1px;'>i</span> learned a lot from her she learned a lot of me . \n",
       "                    <span style='color:red;font-size:24px;font-weight:bold;line-height:1px;text-decoration:line-through;'>So</span>\n",
       "                    <span style='color:blue;font-size:24px;font-weight:bold;line-height:1px;'>so</span> . \n",
       "                    <span style='color:red;font-size:24px;font-weight:bold;line-height:1px;text-decoration:line-through;'>I</span>\n",
       "                    <span style='color:blue;font-size:24px;font-weight:bold;line-height:1px;'>i</span> think \n",
       "                    <span style='color:red;font-size:24px;font-weight:bold;line-height:1px;text-decoration:line-through;'>I</span>\n",
       "                    <span style='color:blue;font-size:24px;font-weight:bold;line-height:1px;'>i</span> think \n",
       "                    <span style='color:red;font-size:24px;font-weight:bold;line-height:1px;text-decoration:line-through;'>I</span>\n",
       "                    <span style='color:blue;font-size:24px;font-weight:bold;line-height:1px;'>i</span> did learn a lot from that interaction . \n",
       "                    <span style='color:red;font-size:24px;font-weight:bold;line-height:1px;text-decoration:line-through;'>I</span>\n",
       "                    <span style='color:blue;font-size:24px;font-weight:bold;line-height:1px;'>i</span> think our \n",
       "                    <span style='color:red;font-size:24px;font-weight:bold;line-height:1px;text-decoration:line-through;'>I</span>\n",
       "                    <span style='color:blue;font-size:24px;font-weight:bold;line-height:1px;'>i</span> always try to make sure \n",
       "                    <span style='color:red;font-size:24px;font-weight:bold;line-height:1px;text-decoration:line-through;'>I</span>\n",
       "                    <span style='color:blue;font-size:24px;font-weight:bold;line-height:1px;'>i</span> don't . \n",
       "                    <span style='color:red;font-size:24px;font-weight:bold;line-height:1px;text-decoration:line-through;'>Allow</span>\n",
       "                    <span style='color:blue;font-size:24px;font-weight:bold;line-height:1px;'>allow</span> my bicycle my judgment to . \n",
       "                    <span style='color:red;font-size:24px;font-weight:bold;line-height:1px;text-decoration:line-through;'>Change</span>\n",
       "                    <span style='color:blue;font-size:24px;font-weight:bold;line-height:1px;'>change</span> our . \n",
       "                    <span style='color:red;font-size:24px;font-weight:bold;line-height:1px;text-decoration:line-through;'>Tree</span>\n",
       "                    <span style='color:blue;font-size:24px;font-weight:bold;line-height:1px;'>tree</span> people . \n",
       "                    <span style='color:red;font-size:24px;font-weight:bold;line-height:1px;text-decoration:line-through;'>But</span>\n",
       "                    <span style='color:blue;font-size:24px;font-weight:bold;line-height:1px;'>but</span> \n",
       "                    <span style='color:red;font-size:24px;font-weight:bold;line-height:1px;text-decoration:line-through;'>I</span>\n",
       "                    <span style='color:blue;font-size:24px;font-weight:bold;line-height:1px;'>i</span> think this example was a very good example where \n",
       "                    <span style='color:red;font-size:24px;font-weight:bold;line-height:1px;text-decoration:line-through;'>I</span>\n",
       "                    <span style='color:blue;font-size:24px;font-weight:bold;line-height:1px;'>i</span> kind of let it slip away \n",
       "                    <span style='color:red;font-size:24px;font-weight:bold;line-height:1px;text-decoration:line-through;'>I</span>\n",
       "                    <span style='color:blue;font-size:24px;font-weight:bold;line-height:1px;'>i</span> didn't know \n",
       "                    <span style='color:red;font-size:24px;font-weight:bold;line-height:1px;text-decoration:line-through;'>I</span>\n",
       "                    <span style='color:blue;font-size:24px;font-weight:bold;line-height:1px;'>i</span> was very mindful and \n",
       "                    <span style='color:red;font-size:24px;font-weight:bold;line-height:1px;text-decoration:line-through;'>I</span>\n",
       "                    <span style='color:blue;font-size:24px;font-weight:bold;line-height:1px;'>i</span> may have been the more coal or . \n",
       "                    <span style='color:red;font-size:24px;font-weight:bold;line-height:1px;text-decoration:line-through;'>Shy</span>\n",
       "                    <span style='color:blue;font-size:24px;font-weight:bold;line-height:1px;'>shy</span> and . \n",
       "                    <span style='color:red;font-size:24px;font-weight:bold;line-height:1px;text-decoration:line-through;'>I</span>\n",
       "                    <span style='color:blue;font-size:24px;font-weight:bold;line-height:1px;'>i</span> normally am but \n",
       "                    <span style='color:red;font-size:24px;font-weight:bold;line-height:1px;text-decoration:line-through;'>I</span>\n",
       "                    <span style='color:blue;font-size:24px;font-weight:bold;line-height:1px;'>i</span> think these moments oftentimes are remind us . \n",
       "                    <span style='color:red;font-size:24px;font-weight:bold;line-height:1px;text-decoration:line-through;'>That</span>\n",
       "                    <span style='color:blue;font-size:24px;font-weight:bold;line-height:1px;'>that</span> people are . \n",
       "                    <span style='color:red;font-size:24px;font-weight:bold;line-height:1px;text-decoration:line-through;'>Hard</span>\n",
       "                    <span style='color:blue;font-size:24px;font-weight:bold;line-height:1px;'>hard</span> . \n",
       "                    <span style='color:red;font-size:24px;font-weight:bold;line-height:1px;text-decoration:line-through;'>Don't</span>\n",
       "                    <span style='color:blue;font-size:24px;font-weight:bold;line-height:1px;'>don't</span> lot of verse here first time enough to chip cloud your judgment ."
      ],
      "text/plain": [
       "<IPython.core.display.HTML object>"
      ]
     },
     "metadata": {},
     "output_type": "display_data"
    },
    {
     "name": "stdout",
     "output_type": "stream",
     "text": [
      " \n"
     ]
    },
    {
     "data": {
      "text/plain": [
       "''"
      ]
     },
     "execution_count": 7,
     "metadata": {},
     "output_type": "execute_result"
    }
   ],
   "source": [
    "for index, value in enumerate(q.index.tolist()):\n",
    "    display(HTML(f\"<strong>{value.capitalize()}</strong\"))\n",
    "    highlight(q.iloc[index, 0], lambda x: x.lower())\n",
    "    print(\" \")\n",
    ";"
   ]
  },
  {
   "cell_type": "code",
   "execution_count": 8,
   "metadata": {},
   "outputs": [],
   "source": [
    "q = q.apply(lambda x: x.str.lower())"
   ]
  },
  {
   "cell_type": "markdown",
   "metadata": {},
   "source": [
    "### 2. Expand contractions\n",
    "Expand all contractions in the question text (e.g., don't --> do not, I'm --> I am, etc.)"
   ]
  },
  {
   "cell_type": "code",
   "execution_count": 9,
   "metadata": {},
   "outputs": [
    {
     "data": {
      "text/html": [
       "<strong>Question 1</strong"
      ],
      "text/plain": [
       "<IPython.core.display.HTML object>"
      ]
     },
     "metadata": {},
     "output_type": "display_data"
    },
    {
     "data": {
      "text/html": [
       "prior to applying to medical school i was working as a physical therapy because of their percentage of care you know i had just recently got engaged with my wife and . my journey to applying to medical school was when this all first started and i wanted to apply to medical school i discussed with my wife . about this situation because she was a bit more hesitant about having to pause our life understand they so . but we had discussed this i discussed my family i discussed my friends who are physicians and ultimately we discussed the pros and cons of continuing my my occupations of physical therapists are compared to . attending their go school residency and mention of becoming a tending would stress the pros and cons and i think . also me . my wife came around . to my point of view . i think ultimately i approach any situation where \n",
       "                    <span style='color:red;font-size:24px;font-weight:bold;line-height:1px;text-decoration:line-through;'>there's</span>\n",
       "                    <span style='color:blue;font-size:24px;font-weight:bold;line-height:1px;'>there has / there is</span> a disagreement . i try to be very systematic i try to have pros and cons i try to welcome opinions and try to ask other people their opinions . and else mean this situation . i think it worked out . i think medical school has had its bonds being having and we having no adar but . ultimately i believe . this is journey and taken . will be for the betterment of my family and myself down the line down the line and i think \n",
       "                    <span style='color:red;font-size:24px;font-weight:bold;line-height:1px;text-decoration:line-through;'>that's</span>\n",
       "                    <span style='color:blue;font-size:24px;font-weight:bold;line-height:1px;'>that has / that is</span> . \n",
       "                    <span style='color:red;font-size:24px;font-weight:bold;line-height:1px;text-decoration:line-through;'>that's</span>\n",
       "                    <span style='color:blue;font-size:24px;font-weight:bold;line-height:1px;'>that has / that is</span> the main point i try to convey to my eye wife . long term this would be the best option for us in an . our family and she agreed so . now \n",
       "                    <span style='color:red;font-size:24px;font-weight:bold;line-height:1px;text-decoration:line-through;'>i'm</span>\n",
       "                    <span style='color:blue;font-size:24px;font-weight:bold;line-height:1px;'>I am</span> mentoring my fourth year medical school and . attempting to enter residency in the merced mess . so ultimately i think it . worked out . on . thank you ."
      ],
      "text/plain": [
       "<IPython.core.display.HTML object>"
      ]
     },
     "metadata": {},
     "output_type": "display_data"
    },
    {
     "name": "stdout",
     "output_type": "stream",
     "text": [
      " \n"
     ]
    },
    {
     "data": {
      "text/html": [
       "<strong>Question 2</strong"
      ],
      "text/plain": [
       "<IPython.core.display.HTML object>"
      ]
     },
     "metadata": {},
     "output_type": "display_data"
    },
    {
     "data": {
      "text/html": [
       "prior to attending medical school i was a physical therapist in . more sort of her cancer center and my job was to mobilize patients right after their q . surgeries when many were in very . large amounts of pain multiple times i had patients disagree . not wait to get out of bed might stay in bed and . wanting to rest after surgeries but . all these patients they are they ultimately came around i think when you have a patient this agrees with you . there are what they disagree with you i think the best approach is . to try to educate them try to be patient ultimately you try to understand where \n",
       "                    <span style='color:red;font-size:24px;font-weight:bold;line-height:1px;text-decoration:line-through;'>they're</span>\n",
       "                    <span style='color:blue;font-size:24px;font-weight:bold;line-height:1px;'>they are</span> coming from and when you approach it that way i think journal you will have good outcomes in all my situations where patients were in pain it in one get up . i tried to work around their schedules i try to . time it with their pain medication time it went and it was around we can encourage them and he try to work around their schedule try to work around \n",
       "                    <span style='color:red;font-size:24px;font-weight:bold;line-height:1px;text-decoration:line-through;'>what's</span>\n",
       "                    <span style='color:blue;font-size:24px;font-weight:bold;line-height:1px;'>what has / what is</span> best for them educate them you try to . give them the broad picture meaning . \n",
       "                    <span style='color:red;font-size:24px;font-weight:bold;line-height:1px;text-decoration:line-through;'>it's</span>\n",
       "                    <span style='color:blue;font-size:24px;font-weight:bold;line-height:1px;'>it has / it is</span> the first step to them gain home eventually going back to their normal daily routine so i think if you give them perspective i think if you when you educate patients \n",
       "                    <span style='color:red;font-size:24px;font-weight:bold;line-height:1px;text-decoration:line-through;'>i'd</span>\n",
       "                    <span style='color:blue;font-size:24px;font-weight:bold;line-height:1px;'>I had / I would</span> say ninety nine to one hundred percent time they eventually do come around to you i think \n",
       "                    <span style='color:red;font-size:24px;font-weight:bold;line-height:1px;text-decoration:line-through;'>that's</span>\n",
       "                    <span style='color:blue;font-size:24px;font-weight:bold;line-height:1px;'>that has / that is</span> the best way to approach any . patient disagreement . or any agreement disagreement in general . in the situation that \n",
       "                    <span style='color:red;font-size:24px;font-weight:bold;line-height:1px;text-decoration:line-through;'>it's</span>\n",
       "                    <span style='color:blue;font-size:24px;font-weight:bold;line-height:1px;'>it has / it is</span> . spoke about these patients also only . after they were discharged they were all very thankful . i \n",
       "                    <span style='color:red;font-size:24px;font-weight:bold;line-height:1px;text-decoration:line-through;'>didn't</span>\n",
       "                    <span style='color:blue;font-size:24px;font-weight:bold;line-height:1px;'>did not</span> let them . take it easy i been let them off the hook and i was patient with them and also only i think . i played a role in helping them get back to the things they need to do you get in this church safely . and get them rate get this charged ."
      ],
      "text/plain": [
       "<IPython.core.display.HTML object>"
      ]
     },
     "metadata": {},
     "output_type": "display_data"
    },
    {
     "name": "stdout",
     "output_type": "stream",
     "text": [
      " \n"
     ]
    },
    {
     "data": {
      "text/html": [
       "<strong>Question 3</strong"
      ],
      "text/plain": [
       "<IPython.core.display.HTML object>"
      ]
     },
     "metadata": {},
     "output_type": "display_data"
    },
    {
     "data": {
      "text/html": [
       "when i tried to medical school i worked as a physical therapist an intensive care unit and . we were asked multiple times to do certain projects certain presentations for physicians other members of the medical . team . and on the on these projects . most of times i think \n",
       "                    <span style='color:red;font-size:24px;font-weight:bold;line-height:1px;text-decoration:line-through;'>it's</span>\n",
       "                    <span style='color:blue;font-size:24px;font-weight:bold;line-height:1px;'>it has / it is</span> very rare to have a project where . you everyone agrees on everything i think artemy have diverse opinions to have different . different point of views is what makes a project better so more times were where \n",
       "                    <span style='color:red;font-size:24px;font-weight:bold;line-height:1px;text-decoration:line-through;'>i've</span>\n",
       "                    <span style='color:blue;font-size:24px;font-weight:bold;line-height:1px;'>I have</span> had to make presentations . for positions other nurses are straight there appears we would be working with another physical therapist or another member and create nice power points or presentations we would have disagreements i think i \n",
       "                    <span style='color:red;font-size:24px;font-weight:bold;line-height:1px;text-decoration:line-through;'>don't</span>\n",
       "                    <span style='color:blue;font-size:24px;font-weight:bold;line-height:1px;'>do not</span> think anything . very think but we would have disagreements about how we want approaching is how we want to introduce things and i think . i think . when when these things happen i think \n",
       "                    <span style='color:red;font-size:24px;font-weight:bold;line-height:1px;text-decoration:line-through;'>it's</span>\n",
       "                    <span style='color:blue;font-size:24px;font-weight:bold;line-height:1px;'>it has / it is</span> best to also need first of all first and foremost be respectful of each other . to take what people say in . an . understanding and not try just to blow them up blow people's opinions off . i think . i think what i could have done to improve this relationship and it is what i think i tend to do i think i was at least somewhat successful in all of the situations i tried to or . give them i keep trying to give them my point of view on how things should be done and they are see give their point of view and i think i think \n",
       "                    <span style='color:red;font-size:24px;font-weight:bold;line-height:1px;text-decoration:line-through;'>it's</span>\n",
       "                    <span style='color:blue;font-size:24px;font-weight:bold;line-height:1px;'>it has / it is</span> a bit of a give and take i think you have to acquiesce a little bit you have to but certain things you when you do . usually about certain parts of a position of certain parts of any project i think i think . you should stand up for where you believe in but ultimately i think . you have to realistic that you \n",
       "                    <span style='color:red;font-size:24px;font-weight:bold;line-height:1px;text-decoration:line-through;'>can't</span>\n",
       "                    <span style='color:blue;font-size:24px;font-weight:bold;line-height:1px;'>cannot</span> get your way every single time and then you really . outside of work or with work so . i think i think i did a good job in attempt to prove this relationship in these relations where we have this is green and . i think i maybe have done a better job . i think patience and respect is what is the main important part to improve relationships ."
      ],
      "text/plain": [
       "<IPython.core.display.HTML object>"
      ]
     },
     "metadata": {},
     "output_type": "display_data"
    },
    {
     "name": "stdout",
     "output_type": "stream",
     "text": [
      " \n"
     ]
    },
    {
     "data": {
      "text/html": [
       "<strong>Question 4</strong"
      ],
      "text/plain": [
       "<IPython.core.display.HTML object>"
      ]
     },
     "metadata": {},
     "output_type": "display_data"
    },
    {
     "data": {
      "text/html": [
       "following my purse year of medical school i . participate in this summer medical research fellowship with my mentor in the intensive care unit where i work prior to medical school i was a physical therapist in the intensive care unit morsel cancer center so after my first year medical school i . participate in a research project with him where we examined none of the light and sound that patients are perceiving nice you and how using the researcher we are in knowing how x . recovery and how their backs there are overall overall plan of care . we tried men . and trying to stand and grain how much sound and light in all these different variables they were experiencing so this we create this project from scratch . mean my mentor in a couple our positions buyouts when he was doing the . city's six data gathering analyzing data and . my mentor was very . we work together very closely we have multiple reviews we talked about how we should proteins how we could possibly change different things . and i think . in any project where i requires a lot of detail and to succeed and he have to . \n",
       "                    <span style='color:red;font-size:24px;font-weight:bold;line-height:1px;text-decoration:line-through;'>there's</span>\n",
       "                    <span style='color:blue;font-size:24px;font-weight:bold;line-height:1px;'>there has / there is</span> going to be most were visions \n",
       "                    <span style='color:red;font-size:24px;font-weight:bold;line-height:1px;text-decoration:line-through;'>there's</span>\n",
       "                    <span style='color:blue;font-size:24px;font-weight:bold;line-height:1px;'>there has / there is</span> me a lot of thought outside thought pinions going and sharing opinions . and \n",
       "                    <span style='color:red;font-size:24px;font-weight:bold;line-height:1px;text-decoration:line-through;'>that's</span>\n",
       "                    <span style='color:blue;font-size:24px;font-weight:bold;line-height:1px;'>that has / that is</span> what we did we revised our approach to this project multiple times rupert we changed multiple times our paper our post presentation our . and we are . different ways how \n",
       "                    <span style='color:red;font-size:24px;font-weight:bold;line-height:1px;text-decoration:line-through;'>we're</span>\n",
       "                    <span style='color:blue;font-size:24px;font-weight:bold;line-height:1px;'>we are</span> gathering data so i think ultimately when you have . freedom of thought and where everyone's comfortable in every one office opinion on how things could possibly be done differently or how things could be approached i think . you set yourself up for success . so this is a project that . we i done my own my first year of medical school and i think we were successful we . were except into a journal and just consumed you going through a couple more visions but . i think it was a great experience and under a lot . and i think just putting in the hard work and time . and their big step in in the ensuring that it was successful project keep ."
      ],
      "text/plain": [
       "<IPython.core.display.HTML object>"
      ]
     },
     "metadata": {},
     "output_type": "display_data"
    },
    {
     "name": "stdout",
     "output_type": "stream",
     "text": [
      " \n"
     ]
    },
    {
     "data": {
      "text/html": [
       "<strong>Question 5</strong"
      ],
      "text/plain": [
       "<IPython.core.display.HTML object>"
      ]
     },
     "metadata": {},
     "output_type": "display_data"
    },
    {
     "data": {
      "text/html": [
       "prior to medical school i was a physical therapist in the sense of carrying their memorial sloan carey cancer center which is one of the top ranked oncology hospitals . and . being in intensive been working in the intensive care unit patients very sick . critically ill truly ill and then slayers with poor prognosis is . often times and so . having to deal with compassion toward . these patients . i think was in this s e p's also me \n",
       "                    <span style='color:red;font-size:24px;font-weight:bold;line-height:1px;text-decoration:line-through;'>they're</span>\n",
       "                    <span style='color:blue;font-size:24px;font-weight:bold;line-height:1px;'>they are</span> going through things that are ten times worse than anything most of us can imagine . the only chemotherapy surgeries radiation in . the multiple cancers millings used to comb would be things that are occurring because the treatments because of the cancer so on the five years out were . they had a bad days some days . or . were things were happening outside of work . but . i think . as a physician or any medical profession \n",
       "                    <span style='color:red;font-size:24px;font-weight:bold;line-height:1px;text-decoration:line-through;'>you're</span>\n",
       "                    <span style='color:blue;font-size:24px;font-weight:bold;line-height:1px;'>you are</span> held to a higher standard you are expected to kind of . compartmentalize your outside work and your work so that you \n",
       "                    <span style='color:red;font-size:24px;font-weight:bold;line-height:1px;text-decoration:line-through;'>can't</span>\n",
       "                    <span style='color:blue;font-size:24px;font-weight:bold;line-height:1px;'>cannot</span> \n",
       "                    <span style='color:red;font-size:24px;font-weight:bold;line-height:1px;text-decoration:line-through;'>don't</span>\n",
       "                    <span style='color:blue;font-size:24px;font-weight:bold;line-height:1px;'>do not</span> mix them up because it can go the other way where you take something from work and take it home and kind of . i think that oftentimes can lead to a lot of burnout . so when i was working in sloan multiple times i had . situations where i was having that day you know make sure to . separate what was happening outside of what was required for me to take care of patients . because ultimately . i think we all be compositions are we become part of america feel to help people so if you if you . if \n",
       "                    <span style='color:red;font-size:24px;font-weight:bold;line-height:1px;text-decoration:line-through;'>you're</span>\n",
       "                    <span style='color:blue;font-size:24px;font-weight:bold;line-height:1px;'>you are</span> allowing yourself to be affected by earth things i think \n",
       "                    <span style='color:red;font-size:24px;font-weight:bold;line-height:1px;text-decoration:line-through;'>you're</span>\n",
       "                    <span style='color:blue;font-size:24px;font-weight:bold;line-height:1px;'>you are</span> \n",
       "                    <span style='color:red;font-size:24px;font-weight:bold;line-height:1px;text-decoration:line-through;'>you're</span>\n",
       "                    <span style='color:blue;font-size:24px;font-weight:bold;line-height:1px;'>you are</span> . preventing one the main things that most of us come into medical internet go theel for which is help people . the best of your capabilities . and \n",
       "                    <span style='color:red;font-size:24px;font-weight:bold;line-height:1px;text-decoration:line-through;'>that's</span>\n",
       "                    <span style='color:blue;font-size:24px;font-weight:bold;line-height:1px;'>that has / that is</span> to be how i manage situation i try compartments eyes everything \n",
       "                    <span style='color:red;font-size:24px;font-weight:bold;line-height:1px;text-decoration:line-through;'>that's</span>\n",
       "                    <span style='color:blue;font-size:24px;font-weight:bold;line-height:1px;'>that has / that is</span> happening so that i \n",
       "                    <span style='color:red;font-size:24px;font-weight:bold;line-height:1px;text-decoration:line-through;'>don't</span>\n",
       "                    <span style='color:blue;font-size:24px;font-weight:bold;line-height:1px;'>do not</span> take things from work i \n",
       "                    <span style='color:red;font-size:24px;font-weight:bold;line-height:1px;text-decoration:line-through;'>don't</span>\n",
       "                    <span style='color:blue;font-size:24px;font-weight:bold;line-height:1px;'>do not</span> take . having a bad day out i \n",
       "                    <span style='color:red;font-size:24px;font-weight:bold;line-height:1px;text-decoration:line-through;'>don't</span>\n",
       "                    <span style='color:blue;font-size:24px;font-weight:bold;line-height:1px;'>do not</span> bring it to work as well . and i tried to rationally try to be empathetic i tried patient limitations . thank you ."
      ],
      "text/plain": [
       "<IPython.core.display.HTML object>"
      ]
     },
     "metadata": {},
     "output_type": "display_data"
    },
    {
     "name": "stdout",
     "output_type": "stream",
     "text": [
      " \n"
     ]
    },
    {
     "data": {
      "text/html": [
       "<strong>Question 6</strong"
      ],
      "text/plain": [
       "<IPython.core.display.HTML object>"
      ]
     },
     "metadata": {},
     "output_type": "display_data"
    },
    {
     "data": {
      "text/html": [
       "prior to medical school i was a physical therapist carry a morsel carry a cancer center and i remember my first . few weeks and months i worked there i had certain colleagues that were very loud and boisterous i remember one particular occupational therapist who was very loud and boisterous and . i think i had developed . a bias where these . i consciously possibly where \n",
       "                    <span style='color:red;font-size:24px;font-weight:bold;line-height:1px;text-decoration:line-through;'>he's</span>\n",
       "                    <span style='color:blue;font-size:24px;font-weight:bold;line-height:1px;'>he has / he is</span> loud and pushes people . i \n",
       "                    <span style='color:red;font-size:24px;font-weight:bold;line-height:1px;text-decoration:line-through;'>don't</span>\n",
       "                    <span style='color:blue;font-size:24px;font-weight:bold;line-height:1px;'>do not</span> like i \n",
       "                    <span style='color:red;font-size:24px;font-weight:bold;line-height:1px;text-decoration:line-through;'>don't</span>\n",
       "                    <span style='color:blue;font-size:24px;font-weight:bold;line-height:1px;'>do not</span> get along with then it tends to be intense or focus on their work because \n",
       "                    <span style='color:red;font-size:24px;font-weight:bold;line-height:1px;text-decoration:line-through;'>they're</span>\n",
       "                    <span style='color:blue;font-size:24px;font-weight:bold;line-height:1px;'>they are</span> trying to be the life of the party . i think ironically that person came when my closest friends and \n",
       "                    <span style='color:red;font-size:24px;font-weight:bold;line-height:1px;text-decoration:line-through;'>they're</span>\n",
       "                    <span style='color:blue;font-size:24px;font-weight:bold;line-height:1px;'>they are</span> still one my close friends to this day they still do keep in touch with . i think . when this first happened when i first met them i think i may have been a little more standoffish . more reserved always respectful but a little more reserved . a little more . shy i mean possibly . but i think . she was also his occupation of their business you so we had to work together a lot and . i think when we started working together . i think i always try whenever \n",
       "                    <span style='color:red;font-size:24px;font-weight:bold;line-height:1px;text-decoration:line-through;'>i've</span>\n",
       "                    <span style='color:blue;font-size:24px;font-weight:bold;line-height:1px;'>I have</span> been working somewhere i try to be respectful i try to be patient i try to be understanding and also only when i when we start work together and i got to know that person . i knew . she is \n",
       "                    <span style='color:red;font-size:24px;font-weight:bold;line-height:1px;text-decoration:line-through;'>she's</span>\n",
       "                    <span style='color:blue;font-size:24px;font-weight:bold;line-height:1px;'>she has / she is</span> had a great personality and \n",
       "                    <span style='color:red;font-size:24px;font-weight:bold;line-height:1px;text-decoration:line-through;'>that's</span>\n",
       "                    <span style='color:blue;font-size:24px;font-weight:bold;line-height:1px;'>that has / that is</span> what she was \n",
       "                    <span style='color:red;font-size:24px;font-weight:bold;line-height:1px;text-decoration:line-through;'>that's</span>\n",
       "                    <span style='color:blue;font-size:24px;font-weight:bold;line-height:1px;'>that has / that is</span> just was her personality she was one the smartest people i know one of most hardworking people i know . i learned a lot from her she learned a lot of me . so . i think i think i did learn a lot from that interaction . i think our i always try to make sure i \n",
       "                    <span style='color:red;font-size:24px;font-weight:bold;line-height:1px;text-decoration:line-through;'>don't</span>\n",
       "                    <span style='color:blue;font-size:24px;font-weight:bold;line-height:1px;'>do not</span> . allow my bicycle my judgment to . change our . tree people . but i think this example was a very good example where i kind of let it slip away i \n",
       "                    <span style='color:red;font-size:24px;font-weight:bold;line-height:1px;text-decoration:line-through;'>didn't</span>\n",
       "                    <span style='color:blue;font-size:24px;font-weight:bold;line-height:1px;'>did not</span> know i was very mindful and i may have been the more coal or . shy and . i normally am but i think these moments oftentimes are remind us . that people are . hard . \n",
       "                    <span style='color:red;font-size:24px;font-weight:bold;line-height:1px;text-decoration:line-through;'>don't</span>\n",
       "                    <span style='color:blue;font-size:24px;font-weight:bold;line-height:1px;'>do not</span> lot of verse here first time enough to chip cloud your judgment ."
      ],
      "text/plain": [
       "<IPython.core.display.HTML object>"
      ]
     },
     "metadata": {},
     "output_type": "display_data"
    },
    {
     "name": "stdout",
     "output_type": "stream",
     "text": [
      " \n"
     ]
    },
    {
     "data": {
      "text/plain": [
       "''"
      ]
     },
     "execution_count": 9,
     "metadata": {},
     "output_type": "execute_result"
    }
   ],
   "source": [
    "for index, value in enumerate(q.index.tolist()):\n",
    "    display(HTML(f\"<strong>{value.capitalize()}</strong\"))\n",
    "    highlight(q.iloc[index, 0], contractions)\n",
    "    print(\" \")\n",
    ";"
   ]
  },
  {
   "cell_type": "markdown",
   "metadata": {},
   "source": [
    "### 3. Remove punctuation\n",
    "Remove all punctuation in the question text (e.g., commas, periods, etc.)"
   ]
  },
  {
   "cell_type": "code",
   "execution_count": 10,
   "metadata": {},
   "outputs": [
    {
     "name": "stdout",
     "output_type": "stream",
     "text": [
      "!\"#$%&'()*+,-./:;<=>?@[\\]^_`{|}~\n"
     ]
    }
   ],
   "source": [
    "print(punctuation)"
   ]
  },
  {
   "cell_type": "code",
   "execution_count": 11,
   "metadata": {},
   "outputs": [
    {
     "data": {
      "text/html": [
       "<strong>Question 1</strong"
      ],
      "text/plain": [
       "<IPython.core.display.HTML object>"
      ]
     },
     "metadata": {},
     "output_type": "display_data"
    },
    {
     "data": {
      "text/html": [
       "prior to applying to medical school i was working as a physical therapy because of their percentage of care you know i had just recently got engaged with my wife and \n",
       "                    <span style='color:red;font-size:24px;font-weight:bold;line-height:1px;'>.</span> my journey to applying to medical school was when this all first started and i wanted to apply to medical school i discussed with my wife \n",
       "                    <span style='color:red;font-size:24px;font-weight:bold;line-height:1px;'>.</span> about this situation because she was a bit more hesitant about having to pause our life understand they so \n",
       "                    <span style='color:red;font-size:24px;font-weight:bold;line-height:1px;'>.</span> but we had discussed this i discussed my family i discussed my friends who are physicians and ultimately we discussed the pros and cons of continuing my my occupations of physical therapists are compared to \n",
       "                    <span style='color:red;font-size:24px;font-weight:bold;line-height:1px;'>.</span> attending their go school residency and mention of becoming a tending would stress the pros and cons and i think \n",
       "                    <span style='color:red;font-size:24px;font-weight:bold;line-height:1px;'>.</span> also me \n",
       "                    <span style='color:red;font-size:24px;font-weight:bold;line-height:1px;'>.</span> my wife came around \n",
       "                    <span style='color:red;font-size:24px;font-weight:bold;line-height:1px;'>.</span> to my point of view \n",
       "                    <span style='color:red;font-size:24px;font-weight:bold;line-height:1px;'>.</span> i think ultimately i approach any situation where there's a disagreement \n",
       "                    <span style='color:red;font-size:24px;font-weight:bold;line-height:1px;'>.</span> i try to be very systematic i try to have pros and cons i try to welcome opinions and try to ask other people their opinions \n",
       "                    <span style='color:red;font-size:24px;font-weight:bold;line-height:1px;'>.</span> and else mean this situation \n",
       "                    <span style='color:red;font-size:24px;font-weight:bold;line-height:1px;'>.</span> i think it worked out \n",
       "                    <span style='color:red;font-size:24px;font-weight:bold;line-height:1px;'>.</span> i think medical school has had its bonds being having and we having no adar but \n",
       "                    <span style='color:red;font-size:24px;font-weight:bold;line-height:1px;'>.</span> ultimately i believe \n",
       "                    <span style='color:red;font-size:24px;font-weight:bold;line-height:1px;'>.</span> this is journey and taken \n",
       "                    <span style='color:red;font-size:24px;font-weight:bold;line-height:1px;'>.</span> will be for the betterment of my family and myself down the line down the line and i think that's \n",
       "                    <span style='color:red;font-size:24px;font-weight:bold;line-height:1px;'>.</span> that's the main point i try to convey to my eye wife \n",
       "                    <span style='color:red;font-size:24px;font-weight:bold;line-height:1px;'>.</span> long term this would be the best option for us in an \n",
       "                    <span style='color:red;font-size:24px;font-weight:bold;line-height:1px;'>.</span> our family and she agreed so \n",
       "                    <span style='color:red;font-size:24px;font-weight:bold;line-height:1px;'>.</span> now i'm mentoring my fourth year medical school and \n",
       "                    <span style='color:red;font-size:24px;font-weight:bold;line-height:1px;'>.</span> attempting to enter residency in the merced mess \n",
       "                    <span style='color:red;font-size:24px;font-weight:bold;line-height:1px;'>.</span> so ultimately i think it \n",
       "                    <span style='color:red;font-size:24px;font-weight:bold;line-height:1px;'>.</span> worked out \n",
       "                    <span style='color:red;font-size:24px;font-weight:bold;line-height:1px;'>.</span> on \n",
       "                    <span style='color:red;font-size:24px;font-weight:bold;line-height:1px;'>.</span> thank you \n",
       "                    <span style='color:red;font-size:24px;font-weight:bold;line-height:1px;'>.</span>"
      ],
      "text/plain": [
       "<IPython.core.display.HTML object>"
      ]
     },
     "metadata": {},
     "output_type": "display_data"
    },
    {
     "name": "stdout",
     "output_type": "stream",
     "text": [
      " \n"
     ]
    },
    {
     "data": {
      "text/html": [
       "<strong>Question 2</strong"
      ],
      "text/plain": [
       "<IPython.core.display.HTML object>"
      ]
     },
     "metadata": {},
     "output_type": "display_data"
    },
    {
     "data": {
      "text/html": [
       "prior to attending medical school i was a physical therapist in \n",
       "                    <span style='color:red;font-size:24px;font-weight:bold;line-height:1px;'>.</span> more sort of her cancer center and my job was to mobilize patients right after their q \n",
       "                    <span style='color:red;font-size:24px;font-weight:bold;line-height:1px;'>.</span> surgeries when many were in very \n",
       "                    <span style='color:red;font-size:24px;font-weight:bold;line-height:1px;'>.</span> large amounts of pain multiple times i had patients disagree \n",
       "                    <span style='color:red;font-size:24px;font-weight:bold;line-height:1px;'>.</span> not wait to get out of bed might stay in bed and \n",
       "                    <span style='color:red;font-size:24px;font-weight:bold;line-height:1px;'>.</span> wanting to rest after surgeries but \n",
       "                    <span style='color:red;font-size:24px;font-weight:bold;line-height:1px;'>.</span> all these patients they are they ultimately came around i think when you have a patient this agrees with you \n",
       "                    <span style='color:red;font-size:24px;font-weight:bold;line-height:1px;'>.</span> there are what they disagree with you i think the best approach is \n",
       "                    <span style='color:red;font-size:24px;font-weight:bold;line-height:1px;'>.</span> to try to educate them try to be patient ultimately you try to understand where they're coming from and when you approach it that way i think journal you will have good outcomes in all my situations where patients were in pain it in one get up \n",
       "                    <span style='color:red;font-size:24px;font-weight:bold;line-height:1px;'>.</span> i tried to work around their schedules i try to \n",
       "                    <span style='color:red;font-size:24px;font-weight:bold;line-height:1px;'>.</span> time it with their pain medication time it went and it was around we can encourage them and he try to work around their schedule try to work around what's best for them educate them you try to \n",
       "                    <span style='color:red;font-size:24px;font-weight:bold;line-height:1px;'>.</span> give them the broad picture meaning \n",
       "                    <span style='color:red;font-size:24px;font-weight:bold;line-height:1px;'>.</span> it's the first step to them gain home eventually going back to their normal daily routine so i think if you give them perspective i think if you when you educate patients i'd say ninety nine to one hundred percent time they eventually do come around to you i think that's the best way to approach any \n",
       "                    <span style='color:red;font-size:24px;font-weight:bold;line-height:1px;'>.</span> patient disagreement \n",
       "                    <span style='color:red;font-size:24px;font-weight:bold;line-height:1px;'>.</span> or any agreement disagreement in general \n",
       "                    <span style='color:red;font-size:24px;font-weight:bold;line-height:1px;'>.</span> in the situation that it's \n",
       "                    <span style='color:red;font-size:24px;font-weight:bold;line-height:1px;'>.</span> spoke about these patients also only \n",
       "                    <span style='color:red;font-size:24px;font-weight:bold;line-height:1px;'>.</span> after they were discharged they were all very thankful \n",
       "                    <span style='color:red;font-size:24px;font-weight:bold;line-height:1px;'>.</span> i didn't let them \n",
       "                    <span style='color:red;font-size:24px;font-weight:bold;line-height:1px;'>.</span> take it easy i been let them off the hook and i was patient with them and also only i think \n",
       "                    <span style='color:red;font-size:24px;font-weight:bold;line-height:1px;'>.</span> i played a role in helping them get back to the things they need to do you get in this church safely \n",
       "                    <span style='color:red;font-size:24px;font-weight:bold;line-height:1px;'>.</span> and get them rate get this charged \n",
       "                    <span style='color:red;font-size:24px;font-weight:bold;line-height:1px;'>.</span>"
      ],
      "text/plain": [
       "<IPython.core.display.HTML object>"
      ]
     },
     "metadata": {},
     "output_type": "display_data"
    },
    {
     "name": "stdout",
     "output_type": "stream",
     "text": [
      " \n"
     ]
    },
    {
     "data": {
      "text/html": [
       "<strong>Question 3</strong"
      ],
      "text/plain": [
       "<IPython.core.display.HTML object>"
      ]
     },
     "metadata": {},
     "output_type": "display_data"
    },
    {
     "data": {
      "text/html": [
       "when i tried to medical school i worked as a physical therapist an intensive care unit and \n",
       "                    <span style='color:red;font-size:24px;font-weight:bold;line-height:1px;'>.</span> we were asked multiple times to do certain projects certain presentations for physicians other members of the medical \n",
       "                    <span style='color:red;font-size:24px;font-weight:bold;line-height:1px;'>.</span> team \n",
       "                    <span style='color:red;font-size:24px;font-weight:bold;line-height:1px;'>.</span> and on the on these projects \n",
       "                    <span style='color:red;font-size:24px;font-weight:bold;line-height:1px;'>.</span> most of times i think it's very rare to have a project where \n",
       "                    <span style='color:red;font-size:24px;font-weight:bold;line-height:1px;'>.</span> you everyone agrees on everything i think artemy have diverse opinions to have different \n",
       "                    <span style='color:red;font-size:24px;font-weight:bold;line-height:1px;'>.</span> different point of views is what makes a project better so more times were where i've had to make presentations \n",
       "                    <span style='color:red;font-size:24px;font-weight:bold;line-height:1px;'>.</span> for positions other nurses are straight there appears we would be working with another physical therapist or another member and create nice power points or presentations we would have disagreements i think i don't think anything \n",
       "                    <span style='color:red;font-size:24px;font-weight:bold;line-height:1px;'>.</span> very think but we would have disagreements about how we want approaching is how we want to introduce things and i think \n",
       "                    <span style='color:red;font-size:24px;font-weight:bold;line-height:1px;'>.</span> i think \n",
       "                    <span style='color:red;font-size:24px;font-weight:bold;line-height:1px;'>.</span> when when these things happen i think it's best to also need first of all first and foremost be respectful of each other \n",
       "                    <span style='color:red;font-size:24px;font-weight:bold;line-height:1px;'>.</span> to take what people say in \n",
       "                    <span style='color:red;font-size:24px;font-weight:bold;line-height:1px;'>.</span> an \n",
       "                    <span style='color:red;font-size:24px;font-weight:bold;line-height:1px;'>.</span> understanding and not try just to blow them up blow people's opinions off \n",
       "                    <span style='color:red;font-size:24px;font-weight:bold;line-height:1px;'>.</span> i think \n",
       "                    <span style='color:red;font-size:24px;font-weight:bold;line-height:1px;'>.</span> i think what i could have done to improve this relationship and it is what i think i tend to do i think i was at least somewhat successful in all of the situations i tried to or \n",
       "                    <span style='color:red;font-size:24px;font-weight:bold;line-height:1px;'>.</span> give them i keep trying to give them my point of view on how things should be done and they are see give their point of view and i think i think it's a bit of a give and take i think you have to acquiesce a little bit you have to but certain things you when you do \n",
       "                    <span style='color:red;font-size:24px;font-weight:bold;line-height:1px;'>.</span> usually about certain parts of a position of certain parts of any project i think i think \n",
       "                    <span style='color:red;font-size:24px;font-weight:bold;line-height:1px;'>.</span> you should stand up for where you believe in but ultimately i think \n",
       "                    <span style='color:red;font-size:24px;font-weight:bold;line-height:1px;'>.</span> you have to realistic that you can't get your way every single time and then you really \n",
       "                    <span style='color:red;font-size:24px;font-weight:bold;line-height:1px;'>.</span> outside of work or with work so \n",
       "                    <span style='color:red;font-size:24px;font-weight:bold;line-height:1px;'>.</span> i think i think i did a good job in attempt to prove this relationship in these relations where we have this is green and \n",
       "                    <span style='color:red;font-size:24px;font-weight:bold;line-height:1px;'>.</span> i think i maybe have done a better job \n",
       "                    <span style='color:red;font-size:24px;font-weight:bold;line-height:1px;'>.</span> i think patience and respect is what is the main important part to improve relationships \n",
       "                    <span style='color:red;font-size:24px;font-weight:bold;line-height:1px;'>.</span>"
      ],
      "text/plain": [
       "<IPython.core.display.HTML object>"
      ]
     },
     "metadata": {},
     "output_type": "display_data"
    },
    {
     "name": "stdout",
     "output_type": "stream",
     "text": [
      " \n"
     ]
    },
    {
     "data": {
      "text/html": [
       "<strong>Question 4</strong"
      ],
      "text/plain": [
       "<IPython.core.display.HTML object>"
      ]
     },
     "metadata": {},
     "output_type": "display_data"
    },
    {
     "data": {
      "text/html": [
       "following my purse year of medical school i \n",
       "                    <span style='color:red;font-size:24px;font-weight:bold;line-height:1px;'>.</span> participate in this summer medical research fellowship with my mentor in the intensive care unit where i work prior to medical school i was a physical therapist in the intensive care unit morsel cancer center so after my first year medical school i \n",
       "                    <span style='color:red;font-size:24px;font-weight:bold;line-height:1px;'>.</span> participate in a research project with him where we examined none of the light and sound that patients are perceiving nice you and how using the researcher we are in knowing how x \n",
       "                    <span style='color:red;font-size:24px;font-weight:bold;line-height:1px;'>.</span> recovery and how their backs there are overall overall plan of care \n",
       "                    <span style='color:red;font-size:24px;font-weight:bold;line-height:1px;'>.</span> we tried men \n",
       "                    <span style='color:red;font-size:24px;font-weight:bold;line-height:1px;'>.</span> and trying to stand and grain how much sound and light in all these different variables they were experiencing so this we create this project from scratch \n",
       "                    <span style='color:red;font-size:24px;font-weight:bold;line-height:1px;'>.</span> mean my mentor in a couple our positions buyouts when he was doing the \n",
       "                    <span style='color:red;font-size:24px;font-weight:bold;line-height:1px;'>.</span> city's six data gathering analyzing data and \n",
       "                    <span style='color:red;font-size:24px;font-weight:bold;line-height:1px;'>.</span> my mentor was very \n",
       "                    <span style='color:red;font-size:24px;font-weight:bold;line-height:1px;'>.</span> we work together very closely we have multiple reviews we talked about how we should proteins how we could possibly change different things \n",
       "                    <span style='color:red;font-size:24px;font-weight:bold;line-height:1px;'>.</span> and i think \n",
       "                    <span style='color:red;font-size:24px;font-weight:bold;line-height:1px;'>.</span> in any project where i requires a lot of detail and to succeed and he have to \n",
       "                    <span style='color:red;font-size:24px;font-weight:bold;line-height:1px;'>.</span> there's going to be most were visions there's me a lot of thought outside thought pinions going and sharing opinions \n",
       "                    <span style='color:red;font-size:24px;font-weight:bold;line-height:1px;'>.</span> and that's what we did we revised our approach to this project multiple times rupert we changed multiple times our paper our post presentation our \n",
       "                    <span style='color:red;font-size:24px;font-weight:bold;line-height:1px;'>.</span> and we are \n",
       "                    <span style='color:red;font-size:24px;font-weight:bold;line-height:1px;'>.</span> different ways how we're gathering data so i think ultimately when you have \n",
       "                    <span style='color:red;font-size:24px;font-weight:bold;line-height:1px;'>.</span> freedom of thought and where everyone's comfortable in every one office opinion on how things could possibly be done differently or how things could be approached i think \n",
       "                    <span style='color:red;font-size:24px;font-weight:bold;line-height:1px;'>.</span> you set yourself up for success \n",
       "                    <span style='color:red;font-size:24px;font-weight:bold;line-height:1px;'>.</span> so this is a project that \n",
       "                    <span style='color:red;font-size:24px;font-weight:bold;line-height:1px;'>.</span> we i done my own my first year of medical school and i think we were successful we \n",
       "                    <span style='color:red;font-size:24px;font-weight:bold;line-height:1px;'>.</span> were except into a journal and just consumed you going through a couple more visions but \n",
       "                    <span style='color:red;font-size:24px;font-weight:bold;line-height:1px;'>.</span> i think it was a great experience and under a lot \n",
       "                    <span style='color:red;font-size:24px;font-weight:bold;line-height:1px;'>.</span> and i think just putting in the hard work and time \n",
       "                    <span style='color:red;font-size:24px;font-weight:bold;line-height:1px;'>.</span> and their big step in in the ensuring that it was successful project keep \n",
       "                    <span style='color:red;font-size:24px;font-weight:bold;line-height:1px;'>.</span>"
      ],
      "text/plain": [
       "<IPython.core.display.HTML object>"
      ]
     },
     "metadata": {},
     "output_type": "display_data"
    },
    {
     "name": "stdout",
     "output_type": "stream",
     "text": [
      " \n"
     ]
    },
    {
     "data": {
      "text/html": [
       "<strong>Question 5</strong"
      ],
      "text/plain": [
       "<IPython.core.display.HTML object>"
      ]
     },
     "metadata": {},
     "output_type": "display_data"
    },
    {
     "data": {
      "text/html": [
       "prior to medical school i was a physical therapist in the sense of carrying their memorial sloan carey cancer center which is one of the top ranked oncology hospitals \n",
       "                    <span style='color:red;font-size:24px;font-weight:bold;line-height:1px;'>.</span> and \n",
       "                    <span style='color:red;font-size:24px;font-weight:bold;line-height:1px;'>.</span> being in intensive been working in the intensive care unit patients very sick \n",
       "                    <span style='color:red;font-size:24px;font-weight:bold;line-height:1px;'>.</span> critically ill truly ill and then slayers with poor prognosis is \n",
       "                    <span style='color:red;font-size:24px;font-weight:bold;line-height:1px;'>.</span> often times and so \n",
       "                    <span style='color:red;font-size:24px;font-weight:bold;line-height:1px;'>.</span> having to deal with compassion toward \n",
       "                    <span style='color:red;font-size:24px;font-weight:bold;line-height:1px;'>.</span> these patients \n",
       "                    <span style='color:red;font-size:24px;font-weight:bold;line-height:1px;'>.</span> i think was in this s e p's also me they're going through things that are ten times worse than anything most of us can imagine \n",
       "                    <span style='color:red;font-size:24px;font-weight:bold;line-height:1px;'>.</span> the only chemotherapy surgeries radiation in \n",
       "                    <span style='color:red;font-size:24px;font-weight:bold;line-height:1px;'>.</span> the multiple cancers millings used to comb would be things that are occurring because the treatments because of the cancer so on the five years out were \n",
       "                    <span style='color:red;font-size:24px;font-weight:bold;line-height:1px;'>.</span> they had a bad days some days \n",
       "                    <span style='color:red;font-size:24px;font-weight:bold;line-height:1px;'>.</span> or \n",
       "                    <span style='color:red;font-size:24px;font-weight:bold;line-height:1px;'>.</span> were things were happening outside of work \n",
       "                    <span style='color:red;font-size:24px;font-weight:bold;line-height:1px;'>.</span> but \n",
       "                    <span style='color:red;font-size:24px;font-weight:bold;line-height:1px;'>.</span> i think \n",
       "                    <span style='color:red;font-size:24px;font-weight:bold;line-height:1px;'>.</span> as a physician or any medical profession you're held to a higher standard you are expected to kind of \n",
       "                    <span style='color:red;font-size:24px;font-weight:bold;line-height:1px;'>.</span> compartmentalize your outside work and your work so that you can't don't mix them up because it can go the other way where you take something from work and take it home and kind of \n",
       "                    <span style='color:red;font-size:24px;font-weight:bold;line-height:1px;'>.</span> i think that oftentimes can lead to a lot of burnout \n",
       "                    <span style='color:red;font-size:24px;font-weight:bold;line-height:1px;'>.</span> so when i was working in sloan multiple times i had \n",
       "                    <span style='color:red;font-size:24px;font-weight:bold;line-height:1px;'>.</span> situations where i was having that day you know make sure to \n",
       "                    <span style='color:red;font-size:24px;font-weight:bold;line-height:1px;'>.</span> separate what was happening outside of what was required for me to take care of patients \n",
       "                    <span style='color:red;font-size:24px;font-weight:bold;line-height:1px;'>.</span> because ultimately \n",
       "                    <span style='color:red;font-size:24px;font-weight:bold;line-height:1px;'>.</span> i think we all be compositions are we become part of america feel to help people so if you if you \n",
       "                    <span style='color:red;font-size:24px;font-weight:bold;line-height:1px;'>.</span> if you're allowing yourself to be affected by earth things i think you're you're \n",
       "                    <span style='color:red;font-size:24px;font-weight:bold;line-height:1px;'>.</span> preventing one the main things that most of us come into medical internet go theel for which is help people \n",
       "                    <span style='color:red;font-size:24px;font-weight:bold;line-height:1px;'>.</span> the best of your capabilities \n",
       "                    <span style='color:red;font-size:24px;font-weight:bold;line-height:1px;'>.</span> and that's to be how i manage situation i try compartments eyes everything that's happening so that i don't take things from work i don't take \n",
       "                    <span style='color:red;font-size:24px;font-weight:bold;line-height:1px;'>.</span> having a bad day out i don't bring it to work as well \n",
       "                    <span style='color:red;font-size:24px;font-weight:bold;line-height:1px;'>.</span> and i tried to rationally try to be empathetic i tried patient limitations \n",
       "                    <span style='color:red;font-size:24px;font-weight:bold;line-height:1px;'>.</span> thank you \n",
       "                    <span style='color:red;font-size:24px;font-weight:bold;line-height:1px;'>.</span>"
      ],
      "text/plain": [
       "<IPython.core.display.HTML object>"
      ]
     },
     "metadata": {},
     "output_type": "display_data"
    },
    {
     "name": "stdout",
     "output_type": "stream",
     "text": [
      " \n"
     ]
    },
    {
     "data": {
      "text/html": [
       "<strong>Question 6</strong"
      ],
      "text/plain": [
       "<IPython.core.display.HTML object>"
      ]
     },
     "metadata": {},
     "output_type": "display_data"
    },
    {
     "data": {
      "text/html": [
       "prior to medical school i was a physical therapist carry a morsel carry a cancer center and i remember my first \n",
       "                    <span style='color:red;font-size:24px;font-weight:bold;line-height:1px;'>.</span> few weeks and months i worked there i had certain colleagues that were very loud and boisterous i remember one particular occupational therapist who was very loud and boisterous and \n",
       "                    <span style='color:red;font-size:24px;font-weight:bold;line-height:1px;'>.</span> i think i had developed \n",
       "                    <span style='color:red;font-size:24px;font-weight:bold;line-height:1px;'>.</span> a bias where these \n",
       "                    <span style='color:red;font-size:24px;font-weight:bold;line-height:1px;'>.</span> i consciously possibly where he's loud and pushes people \n",
       "                    <span style='color:red;font-size:24px;font-weight:bold;line-height:1px;'>.</span> i don't like i don't get along with then it tends to be intense or focus on their work because they're trying to be the life of the party \n",
       "                    <span style='color:red;font-size:24px;font-weight:bold;line-height:1px;'>.</span> i think ironically that person came when my closest friends and they're still one my close friends to this day they still do keep in touch with \n",
       "                    <span style='color:red;font-size:24px;font-weight:bold;line-height:1px;'>.</span> i think \n",
       "                    <span style='color:red;font-size:24px;font-weight:bold;line-height:1px;'>.</span> when this first happened when i first met them i think i may have been a little more standoffish \n",
       "                    <span style='color:red;font-size:24px;font-weight:bold;line-height:1px;'>.</span> more reserved always respectful but a little more reserved \n",
       "                    <span style='color:red;font-size:24px;font-weight:bold;line-height:1px;'>.</span> a little more \n",
       "                    <span style='color:red;font-size:24px;font-weight:bold;line-height:1px;'>.</span> shy i mean possibly \n",
       "                    <span style='color:red;font-size:24px;font-weight:bold;line-height:1px;'>.</span> but i think \n",
       "                    <span style='color:red;font-size:24px;font-weight:bold;line-height:1px;'>.</span> she was also his occupation of their business you so we had to work together a lot and \n",
       "                    <span style='color:red;font-size:24px;font-weight:bold;line-height:1px;'>.</span> i think when we started working together \n",
       "                    <span style='color:red;font-size:24px;font-weight:bold;line-height:1px;'>.</span> i think i always try whenever i've been working somewhere i try to be respectful i try to be patient i try to be understanding and also only when i when we start work together and i got to know that person \n",
       "                    <span style='color:red;font-size:24px;font-weight:bold;line-height:1px;'>.</span> i knew \n",
       "                    <span style='color:red;font-size:24px;font-weight:bold;line-height:1px;'>.</span> she is she's had a great personality and that's what she was that's just was her personality she was one the smartest people i know one of most hardworking people i know \n",
       "                    <span style='color:red;font-size:24px;font-weight:bold;line-height:1px;'>.</span> i learned a lot from her she learned a lot of me \n",
       "                    <span style='color:red;font-size:24px;font-weight:bold;line-height:1px;'>.</span> so \n",
       "                    <span style='color:red;font-size:24px;font-weight:bold;line-height:1px;'>.</span> i think i think i did learn a lot from that interaction \n",
       "                    <span style='color:red;font-size:24px;font-weight:bold;line-height:1px;'>.</span> i think our i always try to make sure i don't \n",
       "                    <span style='color:red;font-size:24px;font-weight:bold;line-height:1px;'>.</span> allow my bicycle my judgment to \n",
       "                    <span style='color:red;font-size:24px;font-weight:bold;line-height:1px;'>.</span> change our \n",
       "                    <span style='color:red;font-size:24px;font-weight:bold;line-height:1px;'>.</span> tree people \n",
       "                    <span style='color:red;font-size:24px;font-weight:bold;line-height:1px;'>.</span> but i think this example was a very good example where i kind of let it slip away i didn't know i was very mindful and i may have been the more coal or \n",
       "                    <span style='color:red;font-size:24px;font-weight:bold;line-height:1px;'>.</span> shy and \n",
       "                    <span style='color:red;font-size:24px;font-weight:bold;line-height:1px;'>.</span> i normally am but i think these moments oftentimes are remind us \n",
       "                    <span style='color:red;font-size:24px;font-weight:bold;line-height:1px;'>.</span> that people are \n",
       "                    <span style='color:red;font-size:24px;font-weight:bold;line-height:1px;'>.</span> hard \n",
       "                    <span style='color:red;font-size:24px;font-weight:bold;line-height:1px;'>.</span> don't lot of verse here first time enough to chip cloud your judgment \n",
       "                    <span style='color:red;font-size:24px;font-weight:bold;line-height:1px;'>.</span>"
      ],
      "text/plain": [
       "<IPython.core.display.HTML object>"
      ]
     },
     "metadata": {},
     "output_type": "display_data"
    },
    {
     "name": "stdout",
     "output_type": "stream",
     "text": [
      " \n"
     ]
    },
    {
     "data": {
      "text/plain": [
       "''"
      ]
     },
     "execution_count": 11,
     "metadata": {},
     "output_type": "execute_result"
    }
   ],
   "source": [
    "for index, value in enumerate(q.index.tolist()):\n",
    "    display(HTML(f\"<strong>{value.capitalize()}</strong\"))\n",
    "    highlight(q.iloc[index, 0], punctuation)\n",
    "    print(\" \")\n",
    ";"
   ]
  },
  {
   "cell_type": "code",
   "execution_count": 12,
   "metadata": {},
   "outputs": [],
   "source": [
    "q = q.apply(lambda x: x.str.replace(\"[{}]\".format(punctuation), \"\"))"
   ]
  },
  {
   "cell_type": "markdown",
   "metadata": {},
   "source": [
    "### 4. Remove stopwords\n",
    "Remove all common frequently occurring stopwords in the question text (e.g., a, my, will, etc.)"
   ]
  },
  {
   "cell_type": "code",
   "execution_count": 13,
   "metadata": {},
   "outputs": [],
   "source": [
    "sw = sorted(stopwords.words(\"english\"))"
   ]
  },
  {
   "cell_type": "code",
   "execution_count": 14,
   "metadata": {},
   "outputs": [
    {
     "name": "stdout",
     "output_type": "stream",
     "text": [
      "a, about, above, after, again, against, ain, all, am, an, and, any, are, aren, aren't, as, at, be, because, been, before, being, below, between, both, but, by, can, couldn, couldn't, d, did, didn, didn't, do, does, doesn, doesn't, doing, don, don't, down, during, each, few, for, from, further, had, hadn, hadn't, has, hasn, hasn't, have, haven, haven't, having, he, her, here, hers, herself, him, himself, his, how, i, if, in, into, is, isn, isn't, it, it's, its, itself, just, ll, m, ma, me, mightn, mightn't, more, most, mustn, mustn't, my, myself, needn, needn't, no, nor, not, now, o, of, off, on, once, only, or, other, our, ours, ourselves, out, over, own, re, s, same, shan, shan't, she, she's, should, should've, shouldn, shouldn't, so, some, such, t, than, that, that'll, the, their, theirs, them, themselves, then, there, these, they, this, those, through, to, too, under, until, up, ve, very, was, wasn, wasn't, we, were, weren, weren't, what, when, where, which, while, who, whom, why, will, with, won, won't, wouldn, wouldn't, y, you, you'd, you'll, you're, you've, your, yours, yourself, yourselves\n"
     ]
    }
   ],
   "source": [
    "print(\", \".join(sw))"
   ]
  },
  {
   "cell_type": "code",
   "execution_count": 15,
   "metadata": {},
   "outputs": [
    {
     "data": {
      "text/html": [
       "<strong>Question 1</strong"
      ],
      "text/plain": [
       "<IPython.core.display.HTML object>"
      ]
     },
     "metadata": {},
     "output_type": "display_data"
    },
    {
     "data": {
      "text/html": [
       "prior \n",
       "                    <span style='color:red;font-size:24px;font-weight:bold;line-height:1px;'>to</span> applying \n",
       "                    <span style='color:red;font-size:24px;font-weight:bold;line-height:1px;'>to</span> medical school \n",
       "                    <span style='color:red;font-size:24px;font-weight:bold;line-height:1px;'>i</span> \n",
       "                    <span style='color:red;font-size:24px;font-weight:bold;line-height:1px;'>was</span> working \n",
       "                    <span style='color:red;font-size:24px;font-weight:bold;line-height:1px;'>as</span> \n",
       "                    <span style='color:red;font-size:24px;font-weight:bold;line-height:1px;'>a</span> physical therapy \n",
       "                    <span style='color:red;font-size:24px;font-weight:bold;line-height:1px;'>because</span> \n",
       "                    <span style='color:red;font-size:24px;font-weight:bold;line-height:1px;'>of</span> \n",
       "                    <span style='color:red;font-size:24px;font-weight:bold;line-height:1px;'>their</span> percentage \n",
       "                    <span style='color:red;font-size:24px;font-weight:bold;line-height:1px;'>of</span> care \n",
       "                    <span style='color:red;font-size:24px;font-weight:bold;line-height:1px;'>you</span> know \n",
       "                    <span style='color:red;font-size:24px;font-weight:bold;line-height:1px;'>i</span> \n",
       "                    <span style='color:red;font-size:24px;font-weight:bold;line-height:1px;'>had</span> \n",
       "                    <span style='color:red;font-size:24px;font-weight:bold;line-height:1px;'>just</span> recently got engaged \n",
       "                    <span style='color:red;font-size:24px;font-weight:bold;line-height:1px;'>with</span> \n",
       "                    <span style='color:red;font-size:24px;font-weight:bold;line-height:1px;'>my</span> wife \n",
       "                    <span style='color:red;font-size:24px;font-weight:bold;line-height:1px;'>and</span> \n",
       "                    <span style='color:red;font-size:24px;font-weight:bold;line-height:1px;'>my</span> journey \n",
       "                    <span style='color:red;font-size:24px;font-weight:bold;line-height:1px;'>to</span> applying \n",
       "                    <span style='color:red;font-size:24px;font-weight:bold;line-height:1px;'>to</span> medical school \n",
       "                    <span style='color:red;font-size:24px;font-weight:bold;line-height:1px;'>was</span> \n",
       "                    <span style='color:red;font-size:24px;font-weight:bold;line-height:1px;'>when</span> \n",
       "                    <span style='color:red;font-size:24px;font-weight:bold;line-height:1px;'>this</span> \n",
       "                    <span style='color:red;font-size:24px;font-weight:bold;line-height:1px;'>all</span> first started \n",
       "                    <span style='color:red;font-size:24px;font-weight:bold;line-height:1px;'>and</span> \n",
       "                    <span style='color:red;font-size:24px;font-weight:bold;line-height:1px;'>i</span> wanted \n",
       "                    <span style='color:red;font-size:24px;font-weight:bold;line-height:1px;'>to</span> apply \n",
       "                    <span style='color:red;font-size:24px;font-weight:bold;line-height:1px;'>to</span> medical school \n",
       "                    <span style='color:red;font-size:24px;font-weight:bold;line-height:1px;'>i</span> discussed \n",
       "                    <span style='color:red;font-size:24px;font-weight:bold;line-height:1px;'>with</span> \n",
       "                    <span style='color:red;font-size:24px;font-weight:bold;line-height:1px;'>my</span> wife \n",
       "                    <span style='color:red;font-size:24px;font-weight:bold;line-height:1px;'>about</span> \n",
       "                    <span style='color:red;font-size:24px;font-weight:bold;line-height:1px;'>this</span> situation \n",
       "                    <span style='color:red;font-size:24px;font-weight:bold;line-height:1px;'>because</span> \n",
       "                    <span style='color:red;font-size:24px;font-weight:bold;line-height:1px;'>she</span> \n",
       "                    <span style='color:red;font-size:24px;font-weight:bold;line-height:1px;'>was</span> \n",
       "                    <span style='color:red;font-size:24px;font-weight:bold;line-height:1px;'>a</span> bit \n",
       "                    <span style='color:red;font-size:24px;font-weight:bold;line-height:1px;'>more</span> hesitant \n",
       "                    <span style='color:red;font-size:24px;font-weight:bold;line-height:1px;'>about</span> \n",
       "                    <span style='color:red;font-size:24px;font-weight:bold;line-height:1px;'>having</span> \n",
       "                    <span style='color:red;font-size:24px;font-weight:bold;line-height:1px;'>to</span> pause \n",
       "                    <span style='color:red;font-size:24px;font-weight:bold;line-height:1px;'>our</span> life understand \n",
       "                    <span style='color:red;font-size:24px;font-weight:bold;line-height:1px;'>they</span> \n",
       "                    <span style='color:red;font-size:24px;font-weight:bold;line-height:1px;'>so</span> \n",
       "                    <span style='color:red;font-size:24px;font-weight:bold;line-height:1px;'>but</span> \n",
       "                    <span style='color:red;font-size:24px;font-weight:bold;line-height:1px;'>we</span> \n",
       "                    <span style='color:red;font-size:24px;font-weight:bold;line-height:1px;'>had</span> discussed \n",
       "                    <span style='color:red;font-size:24px;font-weight:bold;line-height:1px;'>this</span> \n",
       "                    <span style='color:red;font-size:24px;font-weight:bold;line-height:1px;'>i</span> discussed \n",
       "                    <span style='color:red;font-size:24px;font-weight:bold;line-height:1px;'>my</span> family \n",
       "                    <span style='color:red;font-size:24px;font-weight:bold;line-height:1px;'>i</span> discussed \n",
       "                    <span style='color:red;font-size:24px;font-weight:bold;line-height:1px;'>my</span> friends \n",
       "                    <span style='color:red;font-size:24px;font-weight:bold;line-height:1px;'>who</span> \n",
       "                    <span style='color:red;font-size:24px;font-weight:bold;line-height:1px;'>are</span> physicians \n",
       "                    <span style='color:red;font-size:24px;font-weight:bold;line-height:1px;'>and</span> ultimately \n",
       "                    <span style='color:red;font-size:24px;font-weight:bold;line-height:1px;'>we</span> discussed \n",
       "                    <span style='color:red;font-size:24px;font-weight:bold;line-height:1px;'>the</span> pros \n",
       "                    <span style='color:red;font-size:24px;font-weight:bold;line-height:1px;'>and</span> cons \n",
       "                    <span style='color:red;font-size:24px;font-weight:bold;line-height:1px;'>of</span> continuing \n",
       "                    <span style='color:red;font-size:24px;font-weight:bold;line-height:1px;'>my</span> \n",
       "                    <span style='color:red;font-size:24px;font-weight:bold;line-height:1px;'>my</span> occupations \n",
       "                    <span style='color:red;font-size:24px;font-weight:bold;line-height:1px;'>of</span> physical therapists \n",
       "                    <span style='color:red;font-size:24px;font-weight:bold;line-height:1px;'>are</span> compared \n",
       "                    <span style='color:red;font-size:24px;font-weight:bold;line-height:1px;'>to</span> attending \n",
       "                    <span style='color:red;font-size:24px;font-weight:bold;line-height:1px;'>their</span> go school residency \n",
       "                    <span style='color:red;font-size:24px;font-weight:bold;line-height:1px;'>and</span> mention \n",
       "                    <span style='color:red;font-size:24px;font-weight:bold;line-height:1px;'>of</span> becoming \n",
       "                    <span style='color:red;font-size:24px;font-weight:bold;line-height:1px;'>a</span> tending would stress \n",
       "                    <span style='color:red;font-size:24px;font-weight:bold;line-height:1px;'>the</span> pros \n",
       "                    <span style='color:red;font-size:24px;font-weight:bold;line-height:1px;'>and</span> cons \n",
       "                    <span style='color:red;font-size:24px;font-weight:bold;line-height:1px;'>and</span> \n",
       "                    <span style='color:red;font-size:24px;font-weight:bold;line-height:1px;'>i</span> think also \n",
       "                    <span style='color:red;font-size:24px;font-weight:bold;line-height:1px;'>me</span> \n",
       "                    <span style='color:red;font-size:24px;font-weight:bold;line-height:1px;'>my</span> wife came around \n",
       "                    <span style='color:red;font-size:24px;font-weight:bold;line-height:1px;'>to</span> \n",
       "                    <span style='color:red;font-size:24px;font-weight:bold;line-height:1px;'>my</span> point \n",
       "                    <span style='color:red;font-size:24px;font-weight:bold;line-height:1px;'>of</span> view \n",
       "                    <span style='color:red;font-size:24px;font-weight:bold;line-height:1px;'>i</span> think ultimately \n",
       "                    <span style='color:red;font-size:24px;font-weight:bold;line-height:1px;'>i</span> approach \n",
       "                    <span style='color:red;font-size:24px;font-weight:bold;line-height:1px;'>any</span> situation \n",
       "                    <span style='color:red;font-size:24px;font-weight:bold;line-height:1px;'>where</span> theres \n",
       "                    <span style='color:red;font-size:24px;font-weight:bold;line-height:1px;'>a</span> disagreement \n",
       "                    <span style='color:red;font-size:24px;font-weight:bold;line-height:1px;'>i</span> try \n",
       "                    <span style='color:red;font-size:24px;font-weight:bold;line-height:1px;'>to</span> \n",
       "                    <span style='color:red;font-size:24px;font-weight:bold;line-height:1px;'>be</span> \n",
       "                    <span style='color:red;font-size:24px;font-weight:bold;line-height:1px;'>very</span> systematic \n",
       "                    <span style='color:red;font-size:24px;font-weight:bold;line-height:1px;'>i</span> try \n",
       "                    <span style='color:red;font-size:24px;font-weight:bold;line-height:1px;'>to</span> \n",
       "                    <span style='color:red;font-size:24px;font-weight:bold;line-height:1px;'>have</span> pros \n",
       "                    <span style='color:red;font-size:24px;font-weight:bold;line-height:1px;'>and</span> cons \n",
       "                    <span style='color:red;font-size:24px;font-weight:bold;line-height:1px;'>i</span> try \n",
       "                    <span style='color:red;font-size:24px;font-weight:bold;line-height:1px;'>to</span> welcome opinions \n",
       "                    <span style='color:red;font-size:24px;font-weight:bold;line-height:1px;'>and</span> try \n",
       "                    <span style='color:red;font-size:24px;font-weight:bold;line-height:1px;'>to</span> ask \n",
       "                    <span style='color:red;font-size:24px;font-weight:bold;line-height:1px;'>other</span> people \n",
       "                    <span style='color:red;font-size:24px;font-weight:bold;line-height:1px;'>their</span> opinions \n",
       "                    <span style='color:red;font-size:24px;font-weight:bold;line-height:1px;'>and</span> else mean \n",
       "                    <span style='color:red;font-size:24px;font-weight:bold;line-height:1px;'>this</span> situation \n",
       "                    <span style='color:red;font-size:24px;font-weight:bold;line-height:1px;'>i</span> think \n",
       "                    <span style='color:red;font-size:24px;font-weight:bold;line-height:1px;'>it</span> worked \n",
       "                    <span style='color:red;font-size:24px;font-weight:bold;line-height:1px;'>out</span> \n",
       "                    <span style='color:red;font-size:24px;font-weight:bold;line-height:1px;'>i</span> think medical school \n",
       "                    <span style='color:red;font-size:24px;font-weight:bold;line-height:1px;'>has</span> \n",
       "                    <span style='color:red;font-size:24px;font-weight:bold;line-height:1px;'>had</span> \n",
       "                    <span style='color:red;font-size:24px;font-weight:bold;line-height:1px;'>its</span> bonds \n",
       "                    <span style='color:red;font-size:24px;font-weight:bold;line-height:1px;'>being</span> \n",
       "                    <span style='color:red;font-size:24px;font-weight:bold;line-height:1px;'>having</span> \n",
       "                    <span style='color:red;font-size:24px;font-weight:bold;line-height:1px;'>and</span> \n",
       "                    <span style='color:red;font-size:24px;font-weight:bold;line-height:1px;'>we</span> \n",
       "                    <span style='color:red;font-size:24px;font-weight:bold;line-height:1px;'>having</span> \n",
       "                    <span style='color:red;font-size:24px;font-weight:bold;line-height:1px;'>no</span> adar \n",
       "                    <span style='color:red;font-size:24px;font-weight:bold;line-height:1px;'>but</span> ultimately \n",
       "                    <span style='color:red;font-size:24px;font-weight:bold;line-height:1px;'>i</span> believe \n",
       "                    <span style='color:red;font-size:24px;font-weight:bold;line-height:1px;'>this</span> \n",
       "                    <span style='color:red;font-size:24px;font-weight:bold;line-height:1px;'>is</span> journey \n",
       "                    <span style='color:red;font-size:24px;font-weight:bold;line-height:1px;'>and</span> taken \n",
       "                    <span style='color:red;font-size:24px;font-weight:bold;line-height:1px;'>will</span> \n",
       "                    <span style='color:red;font-size:24px;font-weight:bold;line-height:1px;'>be</span> \n",
       "                    <span style='color:red;font-size:24px;font-weight:bold;line-height:1px;'>for</span> \n",
       "                    <span style='color:red;font-size:24px;font-weight:bold;line-height:1px;'>the</span> betterment \n",
       "                    <span style='color:red;font-size:24px;font-weight:bold;line-height:1px;'>of</span> \n",
       "                    <span style='color:red;font-size:24px;font-weight:bold;line-height:1px;'>my</span> family \n",
       "                    <span style='color:red;font-size:24px;font-weight:bold;line-height:1px;'>and</span> \n",
       "                    <span style='color:red;font-size:24px;font-weight:bold;line-height:1px;'>myself</span> \n",
       "                    <span style='color:red;font-size:24px;font-weight:bold;line-height:1px;'>down</span> \n",
       "                    <span style='color:red;font-size:24px;font-weight:bold;line-height:1px;'>the</span> line \n",
       "                    <span style='color:red;font-size:24px;font-weight:bold;line-height:1px;'>down</span> \n",
       "                    <span style='color:red;font-size:24px;font-weight:bold;line-height:1px;'>the</span> line \n",
       "                    <span style='color:red;font-size:24px;font-weight:bold;line-height:1px;'>and</span> \n",
       "                    <span style='color:red;font-size:24px;font-weight:bold;line-height:1px;'>i</span> think thats thats \n",
       "                    <span style='color:red;font-size:24px;font-weight:bold;line-height:1px;'>the</span> main point \n",
       "                    <span style='color:red;font-size:24px;font-weight:bold;line-height:1px;'>i</span> try \n",
       "                    <span style='color:red;font-size:24px;font-weight:bold;line-height:1px;'>to</span> convey \n",
       "                    <span style='color:red;font-size:24px;font-weight:bold;line-height:1px;'>to</span> \n",
       "                    <span style='color:red;font-size:24px;font-weight:bold;line-height:1px;'>my</span> eye wife long term \n",
       "                    <span style='color:red;font-size:24px;font-weight:bold;line-height:1px;'>this</span> would \n",
       "                    <span style='color:red;font-size:24px;font-weight:bold;line-height:1px;'>be</span> \n",
       "                    <span style='color:red;font-size:24px;font-weight:bold;line-height:1px;'>the</span> best option \n",
       "                    <span style='color:red;font-size:24px;font-weight:bold;line-height:1px;'>for</span> us \n",
       "                    <span style='color:red;font-size:24px;font-weight:bold;line-height:1px;'>in</span> \n",
       "                    <span style='color:red;font-size:24px;font-weight:bold;line-height:1px;'>an</span> \n",
       "                    <span style='color:red;font-size:24px;font-weight:bold;line-height:1px;'>our</span> family \n",
       "                    <span style='color:red;font-size:24px;font-weight:bold;line-height:1px;'>and</span> \n",
       "                    <span style='color:red;font-size:24px;font-weight:bold;line-height:1px;'>she</span> agreed \n",
       "                    <span style='color:red;font-size:24px;font-weight:bold;line-height:1px;'>so</span> \n",
       "                    <span style='color:red;font-size:24px;font-weight:bold;line-height:1px;'>now</span> im mentoring \n",
       "                    <span style='color:red;font-size:24px;font-weight:bold;line-height:1px;'>my</span> fourth year medical school \n",
       "                    <span style='color:red;font-size:24px;font-weight:bold;line-height:1px;'>and</span> attempting \n",
       "                    <span style='color:red;font-size:24px;font-weight:bold;line-height:1px;'>to</span> enter residency \n",
       "                    <span style='color:red;font-size:24px;font-weight:bold;line-height:1px;'>in</span> \n",
       "                    <span style='color:red;font-size:24px;font-weight:bold;line-height:1px;'>the</span> merced mess \n",
       "                    <span style='color:red;font-size:24px;font-weight:bold;line-height:1px;'>so</span> ultimately \n",
       "                    <span style='color:red;font-size:24px;font-weight:bold;line-height:1px;'>i</span> think \n",
       "                    <span style='color:red;font-size:24px;font-weight:bold;line-height:1px;'>it</span> worked \n",
       "                    <span style='color:red;font-size:24px;font-weight:bold;line-height:1px;'>out</span> \n",
       "                    <span style='color:red;font-size:24px;font-weight:bold;line-height:1px;'>on</span> thank \n",
       "                    <span style='color:red;font-size:24px;font-weight:bold;line-height:1px;'>you</span>"
      ],
      "text/plain": [
       "<IPython.core.display.HTML object>"
      ]
     },
     "metadata": {},
     "output_type": "display_data"
    },
    {
     "name": "stdout",
     "output_type": "stream",
     "text": [
      " \n"
     ]
    },
    {
     "data": {
      "text/html": [
       "<strong>Question 2</strong"
      ],
      "text/plain": [
       "<IPython.core.display.HTML object>"
      ]
     },
     "metadata": {},
     "output_type": "display_data"
    },
    {
     "data": {
      "text/html": [
       "prior \n",
       "                    <span style='color:red;font-size:24px;font-weight:bold;line-height:1px;'>to</span> attending medical school \n",
       "                    <span style='color:red;font-size:24px;font-weight:bold;line-height:1px;'>i</span> \n",
       "                    <span style='color:red;font-size:24px;font-weight:bold;line-height:1px;'>was</span> \n",
       "                    <span style='color:red;font-size:24px;font-weight:bold;line-height:1px;'>a</span> physical therapist \n",
       "                    <span style='color:red;font-size:24px;font-weight:bold;line-height:1px;'>in</span> \n",
       "                    <span style='color:red;font-size:24px;font-weight:bold;line-height:1px;'>more</span> sort \n",
       "                    <span style='color:red;font-size:24px;font-weight:bold;line-height:1px;'>of</span> \n",
       "                    <span style='color:red;font-size:24px;font-weight:bold;line-height:1px;'>her</span> cancer center \n",
       "                    <span style='color:red;font-size:24px;font-weight:bold;line-height:1px;'>and</span> \n",
       "                    <span style='color:red;font-size:24px;font-weight:bold;line-height:1px;'>my</span> job \n",
       "                    <span style='color:red;font-size:24px;font-weight:bold;line-height:1px;'>was</span> \n",
       "                    <span style='color:red;font-size:24px;font-weight:bold;line-height:1px;'>to</span> mobilize patients right \n",
       "                    <span style='color:red;font-size:24px;font-weight:bold;line-height:1px;'>after</span> \n",
       "                    <span style='color:red;font-size:24px;font-weight:bold;line-height:1px;'>their</span> q surgeries \n",
       "                    <span style='color:red;font-size:24px;font-weight:bold;line-height:1px;'>when</span> many \n",
       "                    <span style='color:red;font-size:24px;font-weight:bold;line-height:1px;'>were</span> \n",
       "                    <span style='color:red;font-size:24px;font-weight:bold;line-height:1px;'>in</span> \n",
       "                    <span style='color:red;font-size:24px;font-weight:bold;line-height:1px;'>very</span> large amounts \n",
       "                    <span style='color:red;font-size:24px;font-weight:bold;line-height:1px;'>of</span> pain multiple times \n",
       "                    <span style='color:red;font-size:24px;font-weight:bold;line-height:1px;'>i</span> \n",
       "                    <span style='color:red;font-size:24px;font-weight:bold;line-height:1px;'>had</span> patients disagree \n",
       "                    <span style='color:red;font-size:24px;font-weight:bold;line-height:1px;'>not</span> wait \n",
       "                    <span style='color:red;font-size:24px;font-weight:bold;line-height:1px;'>to</span> get \n",
       "                    <span style='color:red;font-size:24px;font-weight:bold;line-height:1px;'>out</span> \n",
       "                    <span style='color:red;font-size:24px;font-weight:bold;line-height:1px;'>of</span> bed might stay \n",
       "                    <span style='color:red;font-size:24px;font-weight:bold;line-height:1px;'>in</span> bed \n",
       "                    <span style='color:red;font-size:24px;font-weight:bold;line-height:1px;'>and</span> wanting \n",
       "                    <span style='color:red;font-size:24px;font-weight:bold;line-height:1px;'>to</span> rest \n",
       "                    <span style='color:red;font-size:24px;font-weight:bold;line-height:1px;'>after</span> surgeries \n",
       "                    <span style='color:red;font-size:24px;font-weight:bold;line-height:1px;'>but</span> \n",
       "                    <span style='color:red;font-size:24px;font-weight:bold;line-height:1px;'>all</span> \n",
       "                    <span style='color:red;font-size:24px;font-weight:bold;line-height:1px;'>these</span> patients \n",
       "                    <span style='color:red;font-size:24px;font-weight:bold;line-height:1px;'>they</span> \n",
       "                    <span style='color:red;font-size:24px;font-weight:bold;line-height:1px;'>are</span> \n",
       "                    <span style='color:red;font-size:24px;font-weight:bold;line-height:1px;'>they</span> ultimately came around \n",
       "                    <span style='color:red;font-size:24px;font-weight:bold;line-height:1px;'>i</span> think \n",
       "                    <span style='color:red;font-size:24px;font-weight:bold;line-height:1px;'>when</span> \n",
       "                    <span style='color:red;font-size:24px;font-weight:bold;line-height:1px;'>you</span> \n",
       "                    <span style='color:red;font-size:24px;font-weight:bold;line-height:1px;'>have</span> \n",
       "                    <span style='color:red;font-size:24px;font-weight:bold;line-height:1px;'>a</span> patient \n",
       "                    <span style='color:red;font-size:24px;font-weight:bold;line-height:1px;'>this</span> agrees \n",
       "                    <span style='color:red;font-size:24px;font-weight:bold;line-height:1px;'>with</span> \n",
       "                    <span style='color:red;font-size:24px;font-weight:bold;line-height:1px;'>you</span> \n",
       "                    <span style='color:red;font-size:24px;font-weight:bold;line-height:1px;'>there</span> \n",
       "                    <span style='color:red;font-size:24px;font-weight:bold;line-height:1px;'>are</span> \n",
       "                    <span style='color:red;font-size:24px;font-weight:bold;line-height:1px;'>what</span> \n",
       "                    <span style='color:red;font-size:24px;font-weight:bold;line-height:1px;'>they</span> disagree \n",
       "                    <span style='color:red;font-size:24px;font-weight:bold;line-height:1px;'>with</span> \n",
       "                    <span style='color:red;font-size:24px;font-weight:bold;line-height:1px;'>you</span> \n",
       "                    <span style='color:red;font-size:24px;font-weight:bold;line-height:1px;'>i</span> think \n",
       "                    <span style='color:red;font-size:24px;font-weight:bold;line-height:1px;'>the</span> best approach \n",
       "                    <span style='color:red;font-size:24px;font-weight:bold;line-height:1px;'>is</span> \n",
       "                    <span style='color:red;font-size:24px;font-weight:bold;line-height:1px;'>to</span> try \n",
       "                    <span style='color:red;font-size:24px;font-weight:bold;line-height:1px;'>to</span> educate \n",
       "                    <span style='color:red;font-size:24px;font-weight:bold;line-height:1px;'>them</span> try \n",
       "                    <span style='color:red;font-size:24px;font-weight:bold;line-height:1px;'>to</span> \n",
       "                    <span style='color:red;font-size:24px;font-weight:bold;line-height:1px;'>be</span> patient ultimately \n",
       "                    <span style='color:red;font-size:24px;font-weight:bold;line-height:1px;'>you</span> try \n",
       "                    <span style='color:red;font-size:24px;font-weight:bold;line-height:1px;'>to</span> understand \n",
       "                    <span style='color:red;font-size:24px;font-weight:bold;line-height:1px;'>where</span> theyre coming \n",
       "                    <span style='color:red;font-size:24px;font-weight:bold;line-height:1px;'>from</span> \n",
       "                    <span style='color:red;font-size:24px;font-weight:bold;line-height:1px;'>and</span> \n",
       "                    <span style='color:red;font-size:24px;font-weight:bold;line-height:1px;'>when</span> \n",
       "                    <span style='color:red;font-size:24px;font-weight:bold;line-height:1px;'>you</span> approach \n",
       "                    <span style='color:red;font-size:24px;font-weight:bold;line-height:1px;'>it</span> \n",
       "                    <span style='color:red;font-size:24px;font-weight:bold;line-height:1px;'>that</span> way \n",
       "                    <span style='color:red;font-size:24px;font-weight:bold;line-height:1px;'>i</span> think journal \n",
       "                    <span style='color:red;font-size:24px;font-weight:bold;line-height:1px;'>you</span> \n",
       "                    <span style='color:red;font-size:24px;font-weight:bold;line-height:1px;'>will</span> \n",
       "                    <span style='color:red;font-size:24px;font-weight:bold;line-height:1px;'>have</span> good outcomes \n",
       "                    <span style='color:red;font-size:24px;font-weight:bold;line-height:1px;'>in</span> \n",
       "                    <span style='color:red;font-size:24px;font-weight:bold;line-height:1px;'>all</span> \n",
       "                    <span style='color:red;font-size:24px;font-weight:bold;line-height:1px;'>my</span> situations \n",
       "                    <span style='color:red;font-size:24px;font-weight:bold;line-height:1px;'>where</span> patients \n",
       "                    <span style='color:red;font-size:24px;font-weight:bold;line-height:1px;'>were</span> \n",
       "                    <span style='color:red;font-size:24px;font-weight:bold;line-height:1px;'>in</span> pain \n",
       "                    <span style='color:red;font-size:24px;font-weight:bold;line-height:1px;'>it</span> \n",
       "                    <span style='color:red;font-size:24px;font-weight:bold;line-height:1px;'>in</span> one get \n",
       "                    <span style='color:red;font-size:24px;font-weight:bold;line-height:1px;'>up</span> \n",
       "                    <span style='color:red;font-size:24px;font-weight:bold;line-height:1px;'>i</span> tried \n",
       "                    <span style='color:red;font-size:24px;font-weight:bold;line-height:1px;'>to</span> work around \n",
       "                    <span style='color:red;font-size:24px;font-weight:bold;line-height:1px;'>their</span> schedules \n",
       "                    <span style='color:red;font-size:24px;font-weight:bold;line-height:1px;'>i</span> try \n",
       "                    <span style='color:red;font-size:24px;font-weight:bold;line-height:1px;'>to</span> time \n",
       "                    <span style='color:red;font-size:24px;font-weight:bold;line-height:1px;'>it</span> \n",
       "                    <span style='color:red;font-size:24px;font-weight:bold;line-height:1px;'>with</span> \n",
       "                    <span style='color:red;font-size:24px;font-weight:bold;line-height:1px;'>their</span> pain medication time \n",
       "                    <span style='color:red;font-size:24px;font-weight:bold;line-height:1px;'>it</span> went \n",
       "                    <span style='color:red;font-size:24px;font-weight:bold;line-height:1px;'>and</span> \n",
       "                    <span style='color:red;font-size:24px;font-weight:bold;line-height:1px;'>it</span> \n",
       "                    <span style='color:red;font-size:24px;font-weight:bold;line-height:1px;'>was</span> around \n",
       "                    <span style='color:red;font-size:24px;font-weight:bold;line-height:1px;'>we</span> \n",
       "                    <span style='color:red;font-size:24px;font-weight:bold;line-height:1px;'>can</span> encourage \n",
       "                    <span style='color:red;font-size:24px;font-weight:bold;line-height:1px;'>them</span> \n",
       "                    <span style='color:red;font-size:24px;font-weight:bold;line-height:1px;'>and</span> \n",
       "                    <span style='color:red;font-size:24px;font-weight:bold;line-height:1px;'>he</span> try \n",
       "                    <span style='color:red;font-size:24px;font-weight:bold;line-height:1px;'>to</span> work around \n",
       "                    <span style='color:red;font-size:24px;font-weight:bold;line-height:1px;'>their</span> schedule try \n",
       "                    <span style='color:red;font-size:24px;font-weight:bold;line-height:1px;'>to</span> work around whats best \n",
       "                    <span style='color:red;font-size:24px;font-weight:bold;line-height:1px;'>for</span> \n",
       "                    <span style='color:red;font-size:24px;font-weight:bold;line-height:1px;'>them</span> educate \n",
       "                    <span style='color:red;font-size:24px;font-weight:bold;line-height:1px;'>them</span> \n",
       "                    <span style='color:red;font-size:24px;font-weight:bold;line-height:1px;'>you</span> try \n",
       "                    <span style='color:red;font-size:24px;font-weight:bold;line-height:1px;'>to</span> give \n",
       "                    <span style='color:red;font-size:24px;font-weight:bold;line-height:1px;'>them</span> \n",
       "                    <span style='color:red;font-size:24px;font-weight:bold;line-height:1px;'>the</span> broad picture meaning \n",
       "                    <span style='color:red;font-size:24px;font-weight:bold;line-height:1px;'>its</span> \n",
       "                    <span style='color:red;font-size:24px;font-weight:bold;line-height:1px;'>the</span> first step \n",
       "                    <span style='color:red;font-size:24px;font-weight:bold;line-height:1px;'>to</span> \n",
       "                    <span style='color:red;font-size:24px;font-weight:bold;line-height:1px;'>them</span> gain home eventually going back \n",
       "                    <span style='color:red;font-size:24px;font-weight:bold;line-height:1px;'>to</span> \n",
       "                    <span style='color:red;font-size:24px;font-weight:bold;line-height:1px;'>their</span> normal daily routine \n",
       "                    <span style='color:red;font-size:24px;font-weight:bold;line-height:1px;'>so</span> \n",
       "                    <span style='color:red;font-size:24px;font-weight:bold;line-height:1px;'>i</span> think \n",
       "                    <span style='color:red;font-size:24px;font-weight:bold;line-height:1px;'>if</span> \n",
       "                    <span style='color:red;font-size:24px;font-weight:bold;line-height:1px;'>you</span> give \n",
       "                    <span style='color:red;font-size:24px;font-weight:bold;line-height:1px;'>them</span> perspective \n",
       "                    <span style='color:red;font-size:24px;font-weight:bold;line-height:1px;'>i</span> think \n",
       "                    <span style='color:red;font-size:24px;font-weight:bold;line-height:1px;'>if</span> \n",
       "                    <span style='color:red;font-size:24px;font-weight:bold;line-height:1px;'>you</span> \n",
       "                    <span style='color:red;font-size:24px;font-weight:bold;line-height:1px;'>when</span> \n",
       "                    <span style='color:red;font-size:24px;font-weight:bold;line-height:1px;'>you</span> educate patients id say ninety nine \n",
       "                    <span style='color:red;font-size:24px;font-weight:bold;line-height:1px;'>to</span> one hundred percent time \n",
       "                    <span style='color:red;font-size:24px;font-weight:bold;line-height:1px;'>they</span> eventually \n",
       "                    <span style='color:red;font-size:24px;font-weight:bold;line-height:1px;'>do</span> come around \n",
       "                    <span style='color:red;font-size:24px;font-weight:bold;line-height:1px;'>to</span> \n",
       "                    <span style='color:red;font-size:24px;font-weight:bold;line-height:1px;'>you</span> \n",
       "                    <span style='color:red;font-size:24px;font-weight:bold;line-height:1px;'>i</span> think thats \n",
       "                    <span style='color:red;font-size:24px;font-weight:bold;line-height:1px;'>the</span> best way \n",
       "                    <span style='color:red;font-size:24px;font-weight:bold;line-height:1px;'>to</span> approach \n",
       "                    <span style='color:red;font-size:24px;font-weight:bold;line-height:1px;'>any</span> patient disagreement \n",
       "                    <span style='color:red;font-size:24px;font-weight:bold;line-height:1px;'>or</span> \n",
       "                    <span style='color:red;font-size:24px;font-weight:bold;line-height:1px;'>any</span> agreement disagreement \n",
       "                    <span style='color:red;font-size:24px;font-weight:bold;line-height:1px;'>in</span> general \n",
       "                    <span style='color:red;font-size:24px;font-weight:bold;line-height:1px;'>in</span> \n",
       "                    <span style='color:red;font-size:24px;font-weight:bold;line-height:1px;'>the</span> situation \n",
       "                    <span style='color:red;font-size:24px;font-weight:bold;line-height:1px;'>that</span> \n",
       "                    <span style='color:red;font-size:24px;font-weight:bold;line-height:1px;'>its</span> spoke \n",
       "                    <span style='color:red;font-size:24px;font-weight:bold;line-height:1px;'>about</span> \n",
       "                    <span style='color:red;font-size:24px;font-weight:bold;line-height:1px;'>these</span> patients also \n",
       "                    <span style='color:red;font-size:24px;font-weight:bold;line-height:1px;'>only</span> \n",
       "                    <span style='color:red;font-size:24px;font-weight:bold;line-height:1px;'>after</span> \n",
       "                    <span style='color:red;font-size:24px;font-weight:bold;line-height:1px;'>they</span> \n",
       "                    <span style='color:red;font-size:24px;font-weight:bold;line-height:1px;'>were</span> discharged \n",
       "                    <span style='color:red;font-size:24px;font-weight:bold;line-height:1px;'>they</span> \n",
       "                    <span style='color:red;font-size:24px;font-weight:bold;line-height:1px;'>were</span> \n",
       "                    <span style='color:red;font-size:24px;font-weight:bold;line-height:1px;'>all</span> \n",
       "                    <span style='color:red;font-size:24px;font-weight:bold;line-height:1px;'>very</span> thankful \n",
       "                    <span style='color:red;font-size:24px;font-weight:bold;line-height:1px;'>i</span> didnt let \n",
       "                    <span style='color:red;font-size:24px;font-weight:bold;line-height:1px;'>them</span> take \n",
       "                    <span style='color:red;font-size:24px;font-weight:bold;line-height:1px;'>it</span> easy \n",
       "                    <span style='color:red;font-size:24px;font-weight:bold;line-height:1px;'>i</span> \n",
       "                    <span style='color:red;font-size:24px;font-weight:bold;line-height:1px;'>been</span> let \n",
       "                    <span style='color:red;font-size:24px;font-weight:bold;line-height:1px;'>them</span> \n",
       "                    <span style='color:red;font-size:24px;font-weight:bold;line-height:1px;'>off</span> \n",
       "                    <span style='color:red;font-size:24px;font-weight:bold;line-height:1px;'>the</span> hook \n",
       "                    <span style='color:red;font-size:24px;font-weight:bold;line-height:1px;'>and</span> \n",
       "                    <span style='color:red;font-size:24px;font-weight:bold;line-height:1px;'>i</span> \n",
       "                    <span style='color:red;font-size:24px;font-weight:bold;line-height:1px;'>was</span> patient \n",
       "                    <span style='color:red;font-size:24px;font-weight:bold;line-height:1px;'>with</span> \n",
       "                    <span style='color:red;font-size:24px;font-weight:bold;line-height:1px;'>them</span> \n",
       "                    <span style='color:red;font-size:24px;font-weight:bold;line-height:1px;'>and</span> also \n",
       "                    <span style='color:red;font-size:24px;font-weight:bold;line-height:1px;'>only</span> \n",
       "                    <span style='color:red;font-size:24px;font-weight:bold;line-height:1px;'>i</span> think \n",
       "                    <span style='color:red;font-size:24px;font-weight:bold;line-height:1px;'>i</span> played \n",
       "                    <span style='color:red;font-size:24px;font-weight:bold;line-height:1px;'>a</span> role \n",
       "                    <span style='color:red;font-size:24px;font-weight:bold;line-height:1px;'>in</span> helping \n",
       "                    <span style='color:red;font-size:24px;font-weight:bold;line-height:1px;'>them</span> get back \n",
       "                    <span style='color:red;font-size:24px;font-weight:bold;line-height:1px;'>to</span> \n",
       "                    <span style='color:red;font-size:24px;font-weight:bold;line-height:1px;'>the</span> things \n",
       "                    <span style='color:red;font-size:24px;font-weight:bold;line-height:1px;'>they</span> need \n",
       "                    <span style='color:red;font-size:24px;font-weight:bold;line-height:1px;'>to</span> \n",
       "                    <span style='color:red;font-size:24px;font-weight:bold;line-height:1px;'>do</span> \n",
       "                    <span style='color:red;font-size:24px;font-weight:bold;line-height:1px;'>you</span> get \n",
       "                    <span style='color:red;font-size:24px;font-weight:bold;line-height:1px;'>in</span> \n",
       "                    <span style='color:red;font-size:24px;font-weight:bold;line-height:1px;'>this</span> church safely \n",
       "                    <span style='color:red;font-size:24px;font-weight:bold;line-height:1px;'>and</span> get \n",
       "                    <span style='color:red;font-size:24px;font-weight:bold;line-height:1px;'>them</span> rate get \n",
       "                    <span style='color:red;font-size:24px;font-weight:bold;line-height:1px;'>this</span> charged"
      ],
      "text/plain": [
       "<IPython.core.display.HTML object>"
      ]
     },
     "metadata": {},
     "output_type": "display_data"
    },
    {
     "name": "stdout",
     "output_type": "stream",
     "text": [
      " \n"
     ]
    },
    {
     "data": {
      "text/html": [
       "<strong>Question 3</strong"
      ],
      "text/plain": [
       "<IPython.core.display.HTML object>"
      ]
     },
     "metadata": {},
     "output_type": "display_data"
    },
    {
     "data": {
      "text/html": [
       "\n",
       "                    <span style='color:red;font-size:24px;font-weight:bold;line-height:1px;'>when</span> \n",
       "                    <span style='color:red;font-size:24px;font-weight:bold;line-height:1px;'>i</span> tried \n",
       "                    <span style='color:red;font-size:24px;font-weight:bold;line-height:1px;'>to</span> medical school \n",
       "                    <span style='color:red;font-size:24px;font-weight:bold;line-height:1px;'>i</span> worked \n",
       "                    <span style='color:red;font-size:24px;font-weight:bold;line-height:1px;'>as</span> \n",
       "                    <span style='color:red;font-size:24px;font-weight:bold;line-height:1px;'>a</span> physical therapist \n",
       "                    <span style='color:red;font-size:24px;font-weight:bold;line-height:1px;'>an</span> intensive care unit \n",
       "                    <span style='color:red;font-size:24px;font-weight:bold;line-height:1px;'>and</span> \n",
       "                    <span style='color:red;font-size:24px;font-weight:bold;line-height:1px;'>we</span> \n",
       "                    <span style='color:red;font-size:24px;font-weight:bold;line-height:1px;'>were</span> asked multiple times \n",
       "                    <span style='color:red;font-size:24px;font-weight:bold;line-height:1px;'>to</span> \n",
       "                    <span style='color:red;font-size:24px;font-weight:bold;line-height:1px;'>do</span> certain projects certain presentations \n",
       "                    <span style='color:red;font-size:24px;font-weight:bold;line-height:1px;'>for</span> physicians \n",
       "                    <span style='color:red;font-size:24px;font-weight:bold;line-height:1px;'>other</span> members \n",
       "                    <span style='color:red;font-size:24px;font-weight:bold;line-height:1px;'>of</span> \n",
       "                    <span style='color:red;font-size:24px;font-weight:bold;line-height:1px;'>the</span> medical team \n",
       "                    <span style='color:red;font-size:24px;font-weight:bold;line-height:1px;'>and</span> \n",
       "                    <span style='color:red;font-size:24px;font-weight:bold;line-height:1px;'>on</span> \n",
       "                    <span style='color:red;font-size:24px;font-weight:bold;line-height:1px;'>the</span> \n",
       "                    <span style='color:red;font-size:24px;font-weight:bold;line-height:1px;'>on</span> \n",
       "                    <span style='color:red;font-size:24px;font-weight:bold;line-height:1px;'>these</span> projects \n",
       "                    <span style='color:red;font-size:24px;font-weight:bold;line-height:1px;'>most</span> \n",
       "                    <span style='color:red;font-size:24px;font-weight:bold;line-height:1px;'>of</span> times \n",
       "                    <span style='color:red;font-size:24px;font-weight:bold;line-height:1px;'>i</span> think \n",
       "                    <span style='color:red;font-size:24px;font-weight:bold;line-height:1px;'>its</span> \n",
       "                    <span style='color:red;font-size:24px;font-weight:bold;line-height:1px;'>very</span> rare \n",
       "                    <span style='color:red;font-size:24px;font-weight:bold;line-height:1px;'>to</span> \n",
       "                    <span style='color:red;font-size:24px;font-weight:bold;line-height:1px;'>have</span> \n",
       "                    <span style='color:red;font-size:24px;font-weight:bold;line-height:1px;'>a</span> project \n",
       "                    <span style='color:red;font-size:24px;font-weight:bold;line-height:1px;'>where</span> \n",
       "                    <span style='color:red;font-size:24px;font-weight:bold;line-height:1px;'>you</span> everyone agrees \n",
       "                    <span style='color:red;font-size:24px;font-weight:bold;line-height:1px;'>on</span> everything \n",
       "                    <span style='color:red;font-size:24px;font-weight:bold;line-height:1px;'>i</span> think artemy \n",
       "                    <span style='color:red;font-size:24px;font-weight:bold;line-height:1px;'>have</span> diverse opinions \n",
       "                    <span style='color:red;font-size:24px;font-weight:bold;line-height:1px;'>to</span> \n",
       "                    <span style='color:red;font-size:24px;font-weight:bold;line-height:1px;'>have</span> different different point \n",
       "                    <span style='color:red;font-size:24px;font-weight:bold;line-height:1px;'>of</span> views \n",
       "                    <span style='color:red;font-size:24px;font-weight:bold;line-height:1px;'>is</span> \n",
       "                    <span style='color:red;font-size:24px;font-weight:bold;line-height:1px;'>what</span> makes \n",
       "                    <span style='color:red;font-size:24px;font-weight:bold;line-height:1px;'>a</span> project better \n",
       "                    <span style='color:red;font-size:24px;font-weight:bold;line-height:1px;'>so</span> \n",
       "                    <span style='color:red;font-size:24px;font-weight:bold;line-height:1px;'>more</span> times \n",
       "                    <span style='color:red;font-size:24px;font-weight:bold;line-height:1px;'>were</span> \n",
       "                    <span style='color:red;font-size:24px;font-weight:bold;line-height:1px;'>where</span> ive \n",
       "                    <span style='color:red;font-size:24px;font-weight:bold;line-height:1px;'>had</span> \n",
       "                    <span style='color:red;font-size:24px;font-weight:bold;line-height:1px;'>to</span> make presentations \n",
       "                    <span style='color:red;font-size:24px;font-weight:bold;line-height:1px;'>for</span> positions \n",
       "                    <span style='color:red;font-size:24px;font-weight:bold;line-height:1px;'>other</span> nurses \n",
       "                    <span style='color:red;font-size:24px;font-weight:bold;line-height:1px;'>are</span> straight \n",
       "                    <span style='color:red;font-size:24px;font-weight:bold;line-height:1px;'>there</span> appears \n",
       "                    <span style='color:red;font-size:24px;font-weight:bold;line-height:1px;'>we</span> would \n",
       "                    <span style='color:red;font-size:24px;font-weight:bold;line-height:1px;'>be</span> working \n",
       "                    <span style='color:red;font-size:24px;font-weight:bold;line-height:1px;'>with</span> another physical therapist \n",
       "                    <span style='color:red;font-size:24px;font-weight:bold;line-height:1px;'>or</span> another member \n",
       "                    <span style='color:red;font-size:24px;font-weight:bold;line-height:1px;'>and</span> create nice power points \n",
       "                    <span style='color:red;font-size:24px;font-weight:bold;line-height:1px;'>or</span> presentations \n",
       "                    <span style='color:red;font-size:24px;font-weight:bold;line-height:1px;'>we</span> would \n",
       "                    <span style='color:red;font-size:24px;font-weight:bold;line-height:1px;'>have</span> disagreements \n",
       "                    <span style='color:red;font-size:24px;font-weight:bold;line-height:1px;'>i</span> think \n",
       "                    <span style='color:red;font-size:24px;font-weight:bold;line-height:1px;'>i</span> dont think anything \n",
       "                    <span style='color:red;font-size:24px;font-weight:bold;line-height:1px;'>very</span> think \n",
       "                    <span style='color:red;font-size:24px;font-weight:bold;line-height:1px;'>but</span> \n",
       "                    <span style='color:red;font-size:24px;font-weight:bold;line-height:1px;'>we</span> would \n",
       "                    <span style='color:red;font-size:24px;font-weight:bold;line-height:1px;'>have</span> disagreements \n",
       "                    <span style='color:red;font-size:24px;font-weight:bold;line-height:1px;'>about</span> \n",
       "                    <span style='color:red;font-size:24px;font-weight:bold;line-height:1px;'>how</span> \n",
       "                    <span style='color:red;font-size:24px;font-weight:bold;line-height:1px;'>we</span> want approaching \n",
       "                    <span style='color:red;font-size:24px;font-weight:bold;line-height:1px;'>is</span> \n",
       "                    <span style='color:red;font-size:24px;font-weight:bold;line-height:1px;'>how</span> \n",
       "                    <span style='color:red;font-size:24px;font-weight:bold;line-height:1px;'>we</span> want \n",
       "                    <span style='color:red;font-size:24px;font-weight:bold;line-height:1px;'>to</span> introduce things \n",
       "                    <span style='color:red;font-size:24px;font-weight:bold;line-height:1px;'>and</span> \n",
       "                    <span style='color:red;font-size:24px;font-weight:bold;line-height:1px;'>i</span> think \n",
       "                    <span style='color:red;font-size:24px;font-weight:bold;line-height:1px;'>i</span> think \n",
       "                    <span style='color:red;font-size:24px;font-weight:bold;line-height:1px;'>when</span> \n",
       "                    <span style='color:red;font-size:24px;font-weight:bold;line-height:1px;'>when</span> \n",
       "                    <span style='color:red;font-size:24px;font-weight:bold;line-height:1px;'>these</span> things happen \n",
       "                    <span style='color:red;font-size:24px;font-weight:bold;line-height:1px;'>i</span> think \n",
       "                    <span style='color:red;font-size:24px;font-weight:bold;line-height:1px;'>its</span> best \n",
       "                    <span style='color:red;font-size:24px;font-weight:bold;line-height:1px;'>to</span> also need first \n",
       "                    <span style='color:red;font-size:24px;font-weight:bold;line-height:1px;'>of</span> \n",
       "                    <span style='color:red;font-size:24px;font-weight:bold;line-height:1px;'>all</span> first \n",
       "                    <span style='color:red;font-size:24px;font-weight:bold;line-height:1px;'>and</span> foremost \n",
       "                    <span style='color:red;font-size:24px;font-weight:bold;line-height:1px;'>be</span> respectful \n",
       "                    <span style='color:red;font-size:24px;font-weight:bold;line-height:1px;'>of</span> \n",
       "                    <span style='color:red;font-size:24px;font-weight:bold;line-height:1px;'>each</span> \n",
       "                    <span style='color:red;font-size:24px;font-weight:bold;line-height:1px;'>other</span> \n",
       "                    <span style='color:red;font-size:24px;font-weight:bold;line-height:1px;'>to</span> take \n",
       "                    <span style='color:red;font-size:24px;font-weight:bold;line-height:1px;'>what</span> people say \n",
       "                    <span style='color:red;font-size:24px;font-weight:bold;line-height:1px;'>in</span> \n",
       "                    <span style='color:red;font-size:24px;font-weight:bold;line-height:1px;'>an</span> understanding \n",
       "                    <span style='color:red;font-size:24px;font-weight:bold;line-height:1px;'>and</span> \n",
       "                    <span style='color:red;font-size:24px;font-weight:bold;line-height:1px;'>not</span> try \n",
       "                    <span style='color:red;font-size:24px;font-weight:bold;line-height:1px;'>just</span> \n",
       "                    <span style='color:red;font-size:24px;font-weight:bold;line-height:1px;'>to</span> blow \n",
       "                    <span style='color:red;font-size:24px;font-weight:bold;line-height:1px;'>them</span> \n",
       "                    <span style='color:red;font-size:24px;font-weight:bold;line-height:1px;'>up</span> blow peoples opinions \n",
       "                    <span style='color:red;font-size:24px;font-weight:bold;line-height:1px;'>off</span> \n",
       "                    <span style='color:red;font-size:24px;font-weight:bold;line-height:1px;'>i</span> think \n",
       "                    <span style='color:red;font-size:24px;font-weight:bold;line-height:1px;'>i</span> think \n",
       "                    <span style='color:red;font-size:24px;font-weight:bold;line-height:1px;'>what</span> \n",
       "                    <span style='color:red;font-size:24px;font-weight:bold;line-height:1px;'>i</span> could \n",
       "                    <span style='color:red;font-size:24px;font-weight:bold;line-height:1px;'>have</span> done \n",
       "                    <span style='color:red;font-size:24px;font-weight:bold;line-height:1px;'>to</span> improve \n",
       "                    <span style='color:red;font-size:24px;font-weight:bold;line-height:1px;'>this</span> relationship \n",
       "                    <span style='color:red;font-size:24px;font-weight:bold;line-height:1px;'>and</span> \n",
       "                    <span style='color:red;font-size:24px;font-weight:bold;line-height:1px;'>it</span> \n",
       "                    <span style='color:red;font-size:24px;font-weight:bold;line-height:1px;'>is</span> \n",
       "                    <span style='color:red;font-size:24px;font-weight:bold;line-height:1px;'>what</span> \n",
       "                    <span style='color:red;font-size:24px;font-weight:bold;line-height:1px;'>i</span> think \n",
       "                    <span style='color:red;font-size:24px;font-weight:bold;line-height:1px;'>i</span> tend \n",
       "                    <span style='color:red;font-size:24px;font-weight:bold;line-height:1px;'>to</span> \n",
       "                    <span style='color:red;font-size:24px;font-weight:bold;line-height:1px;'>do</span> \n",
       "                    <span style='color:red;font-size:24px;font-weight:bold;line-height:1px;'>i</span> think \n",
       "                    <span style='color:red;font-size:24px;font-weight:bold;line-height:1px;'>i</span> \n",
       "                    <span style='color:red;font-size:24px;font-weight:bold;line-height:1px;'>was</span> \n",
       "                    <span style='color:red;font-size:24px;font-weight:bold;line-height:1px;'>at</span> least somewhat successful \n",
       "                    <span style='color:red;font-size:24px;font-weight:bold;line-height:1px;'>in</span> \n",
       "                    <span style='color:red;font-size:24px;font-weight:bold;line-height:1px;'>all</span> \n",
       "                    <span style='color:red;font-size:24px;font-weight:bold;line-height:1px;'>of</span> \n",
       "                    <span style='color:red;font-size:24px;font-weight:bold;line-height:1px;'>the</span> situations \n",
       "                    <span style='color:red;font-size:24px;font-weight:bold;line-height:1px;'>i</span> tried \n",
       "                    <span style='color:red;font-size:24px;font-weight:bold;line-height:1px;'>to</span> \n",
       "                    <span style='color:red;font-size:24px;font-weight:bold;line-height:1px;'>or</span> give \n",
       "                    <span style='color:red;font-size:24px;font-weight:bold;line-height:1px;'>them</span> \n",
       "                    <span style='color:red;font-size:24px;font-weight:bold;line-height:1px;'>i</span> keep trying \n",
       "                    <span style='color:red;font-size:24px;font-weight:bold;line-height:1px;'>to</span> give \n",
       "                    <span style='color:red;font-size:24px;font-weight:bold;line-height:1px;'>them</span> \n",
       "                    <span style='color:red;font-size:24px;font-weight:bold;line-height:1px;'>my</span> point \n",
       "                    <span style='color:red;font-size:24px;font-weight:bold;line-height:1px;'>of</span> view \n",
       "                    <span style='color:red;font-size:24px;font-weight:bold;line-height:1px;'>on</span> \n",
       "                    <span style='color:red;font-size:24px;font-weight:bold;line-height:1px;'>how</span> things \n",
       "                    <span style='color:red;font-size:24px;font-weight:bold;line-height:1px;'>should</span> \n",
       "                    <span style='color:red;font-size:24px;font-weight:bold;line-height:1px;'>be</span> done \n",
       "                    <span style='color:red;font-size:24px;font-weight:bold;line-height:1px;'>and</span> \n",
       "                    <span style='color:red;font-size:24px;font-weight:bold;line-height:1px;'>they</span> \n",
       "                    <span style='color:red;font-size:24px;font-weight:bold;line-height:1px;'>are</span> see give \n",
       "                    <span style='color:red;font-size:24px;font-weight:bold;line-height:1px;'>their</span> point \n",
       "                    <span style='color:red;font-size:24px;font-weight:bold;line-height:1px;'>of</span> view \n",
       "                    <span style='color:red;font-size:24px;font-weight:bold;line-height:1px;'>and</span> \n",
       "                    <span style='color:red;font-size:24px;font-weight:bold;line-height:1px;'>i</span> think \n",
       "                    <span style='color:red;font-size:24px;font-weight:bold;line-height:1px;'>i</span> think \n",
       "                    <span style='color:red;font-size:24px;font-weight:bold;line-height:1px;'>its</span> \n",
       "                    <span style='color:red;font-size:24px;font-weight:bold;line-height:1px;'>a</span> bit \n",
       "                    <span style='color:red;font-size:24px;font-weight:bold;line-height:1px;'>of</span> \n",
       "                    <span style='color:red;font-size:24px;font-weight:bold;line-height:1px;'>a</span> give \n",
       "                    <span style='color:red;font-size:24px;font-weight:bold;line-height:1px;'>and</span> take \n",
       "                    <span style='color:red;font-size:24px;font-weight:bold;line-height:1px;'>i</span> think \n",
       "                    <span style='color:red;font-size:24px;font-weight:bold;line-height:1px;'>you</span> \n",
       "                    <span style='color:red;font-size:24px;font-weight:bold;line-height:1px;'>have</span> \n",
       "                    <span style='color:red;font-size:24px;font-weight:bold;line-height:1px;'>to</span> acquiesce \n",
       "                    <span style='color:red;font-size:24px;font-weight:bold;line-height:1px;'>a</span> little bit \n",
       "                    <span style='color:red;font-size:24px;font-weight:bold;line-height:1px;'>you</span> \n",
       "                    <span style='color:red;font-size:24px;font-weight:bold;line-height:1px;'>have</span> \n",
       "                    <span style='color:red;font-size:24px;font-weight:bold;line-height:1px;'>to</span> \n",
       "                    <span style='color:red;font-size:24px;font-weight:bold;line-height:1px;'>but</span> certain things \n",
       "                    <span style='color:red;font-size:24px;font-weight:bold;line-height:1px;'>you</span> \n",
       "                    <span style='color:red;font-size:24px;font-weight:bold;line-height:1px;'>when</span> \n",
       "                    <span style='color:red;font-size:24px;font-weight:bold;line-height:1px;'>you</span> \n",
       "                    <span style='color:red;font-size:24px;font-weight:bold;line-height:1px;'>do</span> usually \n",
       "                    <span style='color:red;font-size:24px;font-weight:bold;line-height:1px;'>about</span> certain parts \n",
       "                    <span style='color:red;font-size:24px;font-weight:bold;line-height:1px;'>of</span> \n",
       "                    <span style='color:red;font-size:24px;font-weight:bold;line-height:1px;'>a</span> position \n",
       "                    <span style='color:red;font-size:24px;font-weight:bold;line-height:1px;'>of</span> certain parts \n",
       "                    <span style='color:red;font-size:24px;font-weight:bold;line-height:1px;'>of</span> \n",
       "                    <span style='color:red;font-size:24px;font-weight:bold;line-height:1px;'>any</span> project \n",
       "                    <span style='color:red;font-size:24px;font-weight:bold;line-height:1px;'>i</span> think \n",
       "                    <span style='color:red;font-size:24px;font-weight:bold;line-height:1px;'>i</span> think \n",
       "                    <span style='color:red;font-size:24px;font-weight:bold;line-height:1px;'>you</span> \n",
       "                    <span style='color:red;font-size:24px;font-weight:bold;line-height:1px;'>should</span> stand \n",
       "                    <span style='color:red;font-size:24px;font-weight:bold;line-height:1px;'>up</span> \n",
       "                    <span style='color:red;font-size:24px;font-weight:bold;line-height:1px;'>for</span> \n",
       "                    <span style='color:red;font-size:24px;font-weight:bold;line-height:1px;'>where</span> \n",
       "                    <span style='color:red;font-size:24px;font-weight:bold;line-height:1px;'>you</span> believe \n",
       "                    <span style='color:red;font-size:24px;font-weight:bold;line-height:1px;'>in</span> \n",
       "                    <span style='color:red;font-size:24px;font-weight:bold;line-height:1px;'>but</span> ultimately \n",
       "                    <span style='color:red;font-size:24px;font-weight:bold;line-height:1px;'>i</span> think \n",
       "                    <span style='color:red;font-size:24px;font-weight:bold;line-height:1px;'>you</span> \n",
       "                    <span style='color:red;font-size:24px;font-weight:bold;line-height:1px;'>have</span> \n",
       "                    <span style='color:red;font-size:24px;font-weight:bold;line-height:1px;'>to</span> realistic \n",
       "                    <span style='color:red;font-size:24px;font-weight:bold;line-height:1px;'>that</span> \n",
       "                    <span style='color:red;font-size:24px;font-weight:bold;line-height:1px;'>you</span> cant get \n",
       "                    <span style='color:red;font-size:24px;font-weight:bold;line-height:1px;'>your</span> way every single time \n",
       "                    <span style='color:red;font-size:24px;font-weight:bold;line-height:1px;'>and</span> \n",
       "                    <span style='color:red;font-size:24px;font-weight:bold;line-height:1px;'>then</span> \n",
       "                    <span style='color:red;font-size:24px;font-weight:bold;line-height:1px;'>you</span> really outside \n",
       "                    <span style='color:red;font-size:24px;font-weight:bold;line-height:1px;'>of</span> work \n",
       "                    <span style='color:red;font-size:24px;font-weight:bold;line-height:1px;'>or</span> \n",
       "                    <span style='color:red;font-size:24px;font-weight:bold;line-height:1px;'>with</span> work \n",
       "                    <span style='color:red;font-size:24px;font-weight:bold;line-height:1px;'>so</span> \n",
       "                    <span style='color:red;font-size:24px;font-weight:bold;line-height:1px;'>i</span> think \n",
       "                    <span style='color:red;font-size:24px;font-weight:bold;line-height:1px;'>i</span> think \n",
       "                    <span style='color:red;font-size:24px;font-weight:bold;line-height:1px;'>i</span> \n",
       "                    <span style='color:red;font-size:24px;font-weight:bold;line-height:1px;'>did</span> \n",
       "                    <span style='color:red;font-size:24px;font-weight:bold;line-height:1px;'>a</span> good job \n",
       "                    <span style='color:red;font-size:24px;font-weight:bold;line-height:1px;'>in</span> attempt \n",
       "                    <span style='color:red;font-size:24px;font-weight:bold;line-height:1px;'>to</span> prove \n",
       "                    <span style='color:red;font-size:24px;font-weight:bold;line-height:1px;'>this</span> relationship \n",
       "                    <span style='color:red;font-size:24px;font-weight:bold;line-height:1px;'>in</span> \n",
       "                    <span style='color:red;font-size:24px;font-weight:bold;line-height:1px;'>these</span> relations \n",
       "                    <span style='color:red;font-size:24px;font-weight:bold;line-height:1px;'>where</span> \n",
       "                    <span style='color:red;font-size:24px;font-weight:bold;line-height:1px;'>we</span> \n",
       "                    <span style='color:red;font-size:24px;font-weight:bold;line-height:1px;'>have</span> \n",
       "                    <span style='color:red;font-size:24px;font-weight:bold;line-height:1px;'>this</span> \n",
       "                    <span style='color:red;font-size:24px;font-weight:bold;line-height:1px;'>is</span> green \n",
       "                    <span style='color:red;font-size:24px;font-weight:bold;line-height:1px;'>and</span> \n",
       "                    <span style='color:red;font-size:24px;font-weight:bold;line-height:1px;'>i</span> think \n",
       "                    <span style='color:red;font-size:24px;font-weight:bold;line-height:1px;'>i</span> maybe \n",
       "                    <span style='color:red;font-size:24px;font-weight:bold;line-height:1px;'>have</span> done \n",
       "                    <span style='color:red;font-size:24px;font-weight:bold;line-height:1px;'>a</span> better job \n",
       "                    <span style='color:red;font-size:24px;font-weight:bold;line-height:1px;'>i</span> think patience \n",
       "                    <span style='color:red;font-size:24px;font-weight:bold;line-height:1px;'>and</span> respect \n",
       "                    <span style='color:red;font-size:24px;font-weight:bold;line-height:1px;'>is</span> \n",
       "                    <span style='color:red;font-size:24px;font-weight:bold;line-height:1px;'>what</span> \n",
       "                    <span style='color:red;font-size:24px;font-weight:bold;line-height:1px;'>is</span> \n",
       "                    <span style='color:red;font-size:24px;font-weight:bold;line-height:1px;'>the</span> main important part \n",
       "                    <span style='color:red;font-size:24px;font-weight:bold;line-height:1px;'>to</span> improve relationships"
      ],
      "text/plain": [
       "<IPython.core.display.HTML object>"
      ]
     },
     "metadata": {},
     "output_type": "display_data"
    },
    {
     "name": "stdout",
     "output_type": "stream",
     "text": [
      " \n"
     ]
    },
    {
     "data": {
      "text/html": [
       "<strong>Question 4</strong"
      ],
      "text/plain": [
       "<IPython.core.display.HTML object>"
      ]
     },
     "metadata": {},
     "output_type": "display_data"
    },
    {
     "data": {
      "text/html": [
       "following \n",
       "                    <span style='color:red;font-size:24px;font-weight:bold;line-height:1px;'>my</span> purse year \n",
       "                    <span style='color:red;font-size:24px;font-weight:bold;line-height:1px;'>of</span> medical school \n",
       "                    <span style='color:red;font-size:24px;font-weight:bold;line-height:1px;'>i</span> participate \n",
       "                    <span style='color:red;font-size:24px;font-weight:bold;line-height:1px;'>in</span> \n",
       "                    <span style='color:red;font-size:24px;font-weight:bold;line-height:1px;'>this</span> summer medical research fellowship \n",
       "                    <span style='color:red;font-size:24px;font-weight:bold;line-height:1px;'>with</span> \n",
       "                    <span style='color:red;font-size:24px;font-weight:bold;line-height:1px;'>my</span> mentor \n",
       "                    <span style='color:red;font-size:24px;font-weight:bold;line-height:1px;'>in</span> \n",
       "                    <span style='color:red;font-size:24px;font-weight:bold;line-height:1px;'>the</span> intensive care unit \n",
       "                    <span style='color:red;font-size:24px;font-weight:bold;line-height:1px;'>where</span> \n",
       "                    <span style='color:red;font-size:24px;font-weight:bold;line-height:1px;'>i</span> work prior \n",
       "                    <span style='color:red;font-size:24px;font-weight:bold;line-height:1px;'>to</span> medical school \n",
       "                    <span style='color:red;font-size:24px;font-weight:bold;line-height:1px;'>i</span> \n",
       "                    <span style='color:red;font-size:24px;font-weight:bold;line-height:1px;'>was</span> \n",
       "                    <span style='color:red;font-size:24px;font-weight:bold;line-height:1px;'>a</span> physical therapist \n",
       "                    <span style='color:red;font-size:24px;font-weight:bold;line-height:1px;'>in</span> \n",
       "                    <span style='color:red;font-size:24px;font-weight:bold;line-height:1px;'>the</span> intensive care unit morsel cancer center \n",
       "                    <span style='color:red;font-size:24px;font-weight:bold;line-height:1px;'>so</span> \n",
       "                    <span style='color:red;font-size:24px;font-weight:bold;line-height:1px;'>after</span> \n",
       "                    <span style='color:red;font-size:24px;font-weight:bold;line-height:1px;'>my</span> first year medical school \n",
       "                    <span style='color:red;font-size:24px;font-weight:bold;line-height:1px;'>i</span> participate \n",
       "                    <span style='color:red;font-size:24px;font-weight:bold;line-height:1px;'>in</span> \n",
       "                    <span style='color:red;font-size:24px;font-weight:bold;line-height:1px;'>a</span> research project \n",
       "                    <span style='color:red;font-size:24px;font-weight:bold;line-height:1px;'>with</span> \n",
       "                    <span style='color:red;font-size:24px;font-weight:bold;line-height:1px;'>him</span> \n",
       "                    <span style='color:red;font-size:24px;font-weight:bold;line-height:1px;'>where</span> \n",
       "                    <span style='color:red;font-size:24px;font-weight:bold;line-height:1px;'>we</span> examined none \n",
       "                    <span style='color:red;font-size:24px;font-weight:bold;line-height:1px;'>of</span> \n",
       "                    <span style='color:red;font-size:24px;font-weight:bold;line-height:1px;'>the</span> light \n",
       "                    <span style='color:red;font-size:24px;font-weight:bold;line-height:1px;'>and</span> sound \n",
       "                    <span style='color:red;font-size:24px;font-weight:bold;line-height:1px;'>that</span> patients \n",
       "                    <span style='color:red;font-size:24px;font-weight:bold;line-height:1px;'>are</span> perceiving nice \n",
       "                    <span style='color:red;font-size:24px;font-weight:bold;line-height:1px;'>you</span> \n",
       "                    <span style='color:red;font-size:24px;font-weight:bold;line-height:1px;'>and</span> \n",
       "                    <span style='color:red;font-size:24px;font-weight:bold;line-height:1px;'>how</span> using \n",
       "                    <span style='color:red;font-size:24px;font-weight:bold;line-height:1px;'>the</span> researcher \n",
       "                    <span style='color:red;font-size:24px;font-weight:bold;line-height:1px;'>we</span> \n",
       "                    <span style='color:red;font-size:24px;font-weight:bold;line-height:1px;'>are</span> \n",
       "                    <span style='color:red;font-size:24px;font-weight:bold;line-height:1px;'>in</span> knowing \n",
       "                    <span style='color:red;font-size:24px;font-weight:bold;line-height:1px;'>how</span> x recovery \n",
       "                    <span style='color:red;font-size:24px;font-weight:bold;line-height:1px;'>and</span> \n",
       "                    <span style='color:red;font-size:24px;font-weight:bold;line-height:1px;'>how</span> \n",
       "                    <span style='color:red;font-size:24px;font-weight:bold;line-height:1px;'>their</span> backs \n",
       "                    <span style='color:red;font-size:24px;font-weight:bold;line-height:1px;'>there</span> \n",
       "                    <span style='color:red;font-size:24px;font-weight:bold;line-height:1px;'>are</span> overall overall plan \n",
       "                    <span style='color:red;font-size:24px;font-weight:bold;line-height:1px;'>of</span> care \n",
       "                    <span style='color:red;font-size:24px;font-weight:bold;line-height:1px;'>we</span> tried men \n",
       "                    <span style='color:red;font-size:24px;font-weight:bold;line-height:1px;'>and</span> trying \n",
       "                    <span style='color:red;font-size:24px;font-weight:bold;line-height:1px;'>to</span> stand \n",
       "                    <span style='color:red;font-size:24px;font-weight:bold;line-height:1px;'>and</span> grain \n",
       "                    <span style='color:red;font-size:24px;font-weight:bold;line-height:1px;'>how</span> much sound \n",
       "                    <span style='color:red;font-size:24px;font-weight:bold;line-height:1px;'>and</span> light \n",
       "                    <span style='color:red;font-size:24px;font-weight:bold;line-height:1px;'>in</span> \n",
       "                    <span style='color:red;font-size:24px;font-weight:bold;line-height:1px;'>all</span> \n",
       "                    <span style='color:red;font-size:24px;font-weight:bold;line-height:1px;'>these</span> different variables \n",
       "                    <span style='color:red;font-size:24px;font-weight:bold;line-height:1px;'>they</span> \n",
       "                    <span style='color:red;font-size:24px;font-weight:bold;line-height:1px;'>were</span> experiencing \n",
       "                    <span style='color:red;font-size:24px;font-weight:bold;line-height:1px;'>so</span> \n",
       "                    <span style='color:red;font-size:24px;font-weight:bold;line-height:1px;'>this</span> \n",
       "                    <span style='color:red;font-size:24px;font-weight:bold;line-height:1px;'>we</span> create \n",
       "                    <span style='color:red;font-size:24px;font-weight:bold;line-height:1px;'>this</span> project \n",
       "                    <span style='color:red;font-size:24px;font-weight:bold;line-height:1px;'>from</span> scratch mean \n",
       "                    <span style='color:red;font-size:24px;font-weight:bold;line-height:1px;'>my</span> mentor \n",
       "                    <span style='color:red;font-size:24px;font-weight:bold;line-height:1px;'>in</span> \n",
       "                    <span style='color:red;font-size:24px;font-weight:bold;line-height:1px;'>a</span> couple \n",
       "                    <span style='color:red;font-size:24px;font-weight:bold;line-height:1px;'>our</span> positions buyouts \n",
       "                    <span style='color:red;font-size:24px;font-weight:bold;line-height:1px;'>when</span> \n",
       "                    <span style='color:red;font-size:24px;font-weight:bold;line-height:1px;'>he</span> \n",
       "                    <span style='color:red;font-size:24px;font-weight:bold;line-height:1px;'>was</span> \n",
       "                    <span style='color:red;font-size:24px;font-weight:bold;line-height:1px;'>doing</span> \n",
       "                    <span style='color:red;font-size:24px;font-weight:bold;line-height:1px;'>the</span> citys six data gathering analyzing data \n",
       "                    <span style='color:red;font-size:24px;font-weight:bold;line-height:1px;'>and</span> \n",
       "                    <span style='color:red;font-size:24px;font-weight:bold;line-height:1px;'>my</span> mentor \n",
       "                    <span style='color:red;font-size:24px;font-weight:bold;line-height:1px;'>was</span> \n",
       "                    <span style='color:red;font-size:24px;font-weight:bold;line-height:1px;'>very</span> \n",
       "                    <span style='color:red;font-size:24px;font-weight:bold;line-height:1px;'>we</span> work together \n",
       "                    <span style='color:red;font-size:24px;font-weight:bold;line-height:1px;'>very</span> closely \n",
       "                    <span style='color:red;font-size:24px;font-weight:bold;line-height:1px;'>we</span> \n",
       "                    <span style='color:red;font-size:24px;font-weight:bold;line-height:1px;'>have</span> multiple reviews \n",
       "                    <span style='color:red;font-size:24px;font-weight:bold;line-height:1px;'>we</span> talked \n",
       "                    <span style='color:red;font-size:24px;font-weight:bold;line-height:1px;'>about</span> \n",
       "                    <span style='color:red;font-size:24px;font-weight:bold;line-height:1px;'>how</span> \n",
       "                    <span style='color:red;font-size:24px;font-weight:bold;line-height:1px;'>we</span> \n",
       "                    <span style='color:red;font-size:24px;font-weight:bold;line-height:1px;'>should</span> proteins \n",
       "                    <span style='color:red;font-size:24px;font-weight:bold;line-height:1px;'>how</span> \n",
       "                    <span style='color:red;font-size:24px;font-weight:bold;line-height:1px;'>we</span> could possibly change different things \n",
       "                    <span style='color:red;font-size:24px;font-weight:bold;line-height:1px;'>and</span> \n",
       "                    <span style='color:red;font-size:24px;font-weight:bold;line-height:1px;'>i</span> think \n",
       "                    <span style='color:red;font-size:24px;font-weight:bold;line-height:1px;'>in</span> \n",
       "                    <span style='color:red;font-size:24px;font-weight:bold;line-height:1px;'>any</span> project \n",
       "                    <span style='color:red;font-size:24px;font-weight:bold;line-height:1px;'>where</span> \n",
       "                    <span style='color:red;font-size:24px;font-weight:bold;line-height:1px;'>i</span> requires \n",
       "                    <span style='color:red;font-size:24px;font-weight:bold;line-height:1px;'>a</span> lot \n",
       "                    <span style='color:red;font-size:24px;font-weight:bold;line-height:1px;'>of</span> detail \n",
       "                    <span style='color:red;font-size:24px;font-weight:bold;line-height:1px;'>and</span> \n",
       "                    <span style='color:red;font-size:24px;font-weight:bold;line-height:1px;'>to</span> succeed \n",
       "                    <span style='color:red;font-size:24px;font-weight:bold;line-height:1px;'>and</span> \n",
       "                    <span style='color:red;font-size:24px;font-weight:bold;line-height:1px;'>he</span> \n",
       "                    <span style='color:red;font-size:24px;font-weight:bold;line-height:1px;'>have</span> \n",
       "                    <span style='color:red;font-size:24px;font-weight:bold;line-height:1px;'>to</span> theres going \n",
       "                    <span style='color:red;font-size:24px;font-weight:bold;line-height:1px;'>to</span> \n",
       "                    <span style='color:red;font-size:24px;font-weight:bold;line-height:1px;'>be</span> \n",
       "                    <span style='color:red;font-size:24px;font-weight:bold;line-height:1px;'>most</span> \n",
       "                    <span style='color:red;font-size:24px;font-weight:bold;line-height:1px;'>were</span> visions theres \n",
       "                    <span style='color:red;font-size:24px;font-weight:bold;line-height:1px;'>me</span> \n",
       "                    <span style='color:red;font-size:24px;font-weight:bold;line-height:1px;'>a</span> lot \n",
       "                    <span style='color:red;font-size:24px;font-weight:bold;line-height:1px;'>of</span> thought outside thought pinions going \n",
       "                    <span style='color:red;font-size:24px;font-weight:bold;line-height:1px;'>and</span> sharing opinions \n",
       "                    <span style='color:red;font-size:24px;font-weight:bold;line-height:1px;'>and</span> thats \n",
       "                    <span style='color:red;font-size:24px;font-weight:bold;line-height:1px;'>what</span> \n",
       "                    <span style='color:red;font-size:24px;font-weight:bold;line-height:1px;'>we</span> \n",
       "                    <span style='color:red;font-size:24px;font-weight:bold;line-height:1px;'>did</span> \n",
       "                    <span style='color:red;font-size:24px;font-weight:bold;line-height:1px;'>we</span> revised \n",
       "                    <span style='color:red;font-size:24px;font-weight:bold;line-height:1px;'>our</span> approach \n",
       "                    <span style='color:red;font-size:24px;font-weight:bold;line-height:1px;'>to</span> \n",
       "                    <span style='color:red;font-size:24px;font-weight:bold;line-height:1px;'>this</span> project multiple times rupert \n",
       "                    <span style='color:red;font-size:24px;font-weight:bold;line-height:1px;'>we</span> changed multiple times \n",
       "                    <span style='color:red;font-size:24px;font-weight:bold;line-height:1px;'>our</span> paper \n",
       "                    <span style='color:red;font-size:24px;font-weight:bold;line-height:1px;'>our</span> post presentation \n",
       "                    <span style='color:red;font-size:24px;font-weight:bold;line-height:1px;'>our</span> \n",
       "                    <span style='color:red;font-size:24px;font-weight:bold;line-height:1px;'>and</span> \n",
       "                    <span style='color:red;font-size:24px;font-weight:bold;line-height:1px;'>we</span> \n",
       "                    <span style='color:red;font-size:24px;font-weight:bold;line-height:1px;'>are</span> different ways \n",
       "                    <span style='color:red;font-size:24px;font-weight:bold;line-height:1px;'>how</span> \n",
       "                    <span style='color:red;font-size:24px;font-weight:bold;line-height:1px;'>were</span> gathering data \n",
       "                    <span style='color:red;font-size:24px;font-weight:bold;line-height:1px;'>so</span> \n",
       "                    <span style='color:red;font-size:24px;font-weight:bold;line-height:1px;'>i</span> think ultimately \n",
       "                    <span style='color:red;font-size:24px;font-weight:bold;line-height:1px;'>when</span> \n",
       "                    <span style='color:red;font-size:24px;font-weight:bold;line-height:1px;'>you</span> \n",
       "                    <span style='color:red;font-size:24px;font-weight:bold;line-height:1px;'>have</span> freedom \n",
       "                    <span style='color:red;font-size:24px;font-weight:bold;line-height:1px;'>of</span> thought \n",
       "                    <span style='color:red;font-size:24px;font-weight:bold;line-height:1px;'>and</span> \n",
       "                    <span style='color:red;font-size:24px;font-weight:bold;line-height:1px;'>where</span> everyones comfortable \n",
       "                    <span style='color:red;font-size:24px;font-weight:bold;line-height:1px;'>in</span> every one office opinion \n",
       "                    <span style='color:red;font-size:24px;font-weight:bold;line-height:1px;'>on</span> \n",
       "                    <span style='color:red;font-size:24px;font-weight:bold;line-height:1px;'>how</span> things could possibly \n",
       "                    <span style='color:red;font-size:24px;font-weight:bold;line-height:1px;'>be</span> done differently \n",
       "                    <span style='color:red;font-size:24px;font-weight:bold;line-height:1px;'>or</span> \n",
       "                    <span style='color:red;font-size:24px;font-weight:bold;line-height:1px;'>how</span> things could \n",
       "                    <span style='color:red;font-size:24px;font-weight:bold;line-height:1px;'>be</span> approached \n",
       "                    <span style='color:red;font-size:24px;font-weight:bold;line-height:1px;'>i</span> think \n",
       "                    <span style='color:red;font-size:24px;font-weight:bold;line-height:1px;'>you</span> set \n",
       "                    <span style='color:red;font-size:24px;font-weight:bold;line-height:1px;'>yourself</span> \n",
       "                    <span style='color:red;font-size:24px;font-weight:bold;line-height:1px;'>up</span> \n",
       "                    <span style='color:red;font-size:24px;font-weight:bold;line-height:1px;'>for</span> success \n",
       "                    <span style='color:red;font-size:24px;font-weight:bold;line-height:1px;'>so</span> \n",
       "                    <span style='color:red;font-size:24px;font-weight:bold;line-height:1px;'>this</span> \n",
       "                    <span style='color:red;font-size:24px;font-weight:bold;line-height:1px;'>is</span> \n",
       "                    <span style='color:red;font-size:24px;font-weight:bold;line-height:1px;'>a</span> project \n",
       "                    <span style='color:red;font-size:24px;font-weight:bold;line-height:1px;'>that</span> \n",
       "                    <span style='color:red;font-size:24px;font-weight:bold;line-height:1px;'>we</span> \n",
       "                    <span style='color:red;font-size:24px;font-weight:bold;line-height:1px;'>i</span> done \n",
       "                    <span style='color:red;font-size:24px;font-weight:bold;line-height:1px;'>my</span> \n",
       "                    <span style='color:red;font-size:24px;font-weight:bold;line-height:1px;'>own</span> \n",
       "                    <span style='color:red;font-size:24px;font-weight:bold;line-height:1px;'>my</span> first year \n",
       "                    <span style='color:red;font-size:24px;font-weight:bold;line-height:1px;'>of</span> medical school \n",
       "                    <span style='color:red;font-size:24px;font-weight:bold;line-height:1px;'>and</span> \n",
       "                    <span style='color:red;font-size:24px;font-weight:bold;line-height:1px;'>i</span> think \n",
       "                    <span style='color:red;font-size:24px;font-weight:bold;line-height:1px;'>we</span> \n",
       "                    <span style='color:red;font-size:24px;font-weight:bold;line-height:1px;'>were</span> successful \n",
       "                    <span style='color:red;font-size:24px;font-weight:bold;line-height:1px;'>we</span> \n",
       "                    <span style='color:red;font-size:24px;font-weight:bold;line-height:1px;'>were</span> except \n",
       "                    <span style='color:red;font-size:24px;font-weight:bold;line-height:1px;'>into</span> \n",
       "                    <span style='color:red;font-size:24px;font-weight:bold;line-height:1px;'>a</span> journal \n",
       "                    <span style='color:red;font-size:24px;font-weight:bold;line-height:1px;'>and</span> \n",
       "                    <span style='color:red;font-size:24px;font-weight:bold;line-height:1px;'>just</span> consumed \n",
       "                    <span style='color:red;font-size:24px;font-weight:bold;line-height:1px;'>you</span> going \n",
       "                    <span style='color:red;font-size:24px;font-weight:bold;line-height:1px;'>through</span> \n",
       "                    <span style='color:red;font-size:24px;font-weight:bold;line-height:1px;'>a</span> couple \n",
       "                    <span style='color:red;font-size:24px;font-weight:bold;line-height:1px;'>more</span> visions \n",
       "                    <span style='color:red;font-size:24px;font-weight:bold;line-height:1px;'>but</span> \n",
       "                    <span style='color:red;font-size:24px;font-weight:bold;line-height:1px;'>i</span> think \n",
       "                    <span style='color:red;font-size:24px;font-weight:bold;line-height:1px;'>it</span> \n",
       "                    <span style='color:red;font-size:24px;font-weight:bold;line-height:1px;'>was</span> \n",
       "                    <span style='color:red;font-size:24px;font-weight:bold;line-height:1px;'>a</span> great experience \n",
       "                    <span style='color:red;font-size:24px;font-weight:bold;line-height:1px;'>and</span> \n",
       "                    <span style='color:red;font-size:24px;font-weight:bold;line-height:1px;'>under</span> \n",
       "                    <span style='color:red;font-size:24px;font-weight:bold;line-height:1px;'>a</span> lot \n",
       "                    <span style='color:red;font-size:24px;font-weight:bold;line-height:1px;'>and</span> \n",
       "                    <span style='color:red;font-size:24px;font-weight:bold;line-height:1px;'>i</span> think \n",
       "                    <span style='color:red;font-size:24px;font-weight:bold;line-height:1px;'>just</span> putting \n",
       "                    <span style='color:red;font-size:24px;font-weight:bold;line-height:1px;'>in</span> \n",
       "                    <span style='color:red;font-size:24px;font-weight:bold;line-height:1px;'>the</span> hard work \n",
       "                    <span style='color:red;font-size:24px;font-weight:bold;line-height:1px;'>and</span> time \n",
       "                    <span style='color:red;font-size:24px;font-weight:bold;line-height:1px;'>and</span> \n",
       "                    <span style='color:red;font-size:24px;font-weight:bold;line-height:1px;'>their</span> big step \n",
       "                    <span style='color:red;font-size:24px;font-weight:bold;line-height:1px;'>in</span> \n",
       "                    <span style='color:red;font-size:24px;font-weight:bold;line-height:1px;'>in</span> \n",
       "                    <span style='color:red;font-size:24px;font-weight:bold;line-height:1px;'>the</span> ensuring \n",
       "                    <span style='color:red;font-size:24px;font-weight:bold;line-height:1px;'>that</span> \n",
       "                    <span style='color:red;font-size:24px;font-weight:bold;line-height:1px;'>it</span> \n",
       "                    <span style='color:red;font-size:24px;font-weight:bold;line-height:1px;'>was</span> successful project keep"
      ],
      "text/plain": [
       "<IPython.core.display.HTML object>"
      ]
     },
     "metadata": {},
     "output_type": "display_data"
    },
    {
     "name": "stdout",
     "output_type": "stream",
     "text": [
      " \n"
     ]
    },
    {
     "data": {
      "text/html": [
       "<strong>Question 5</strong"
      ],
      "text/plain": [
       "<IPython.core.display.HTML object>"
      ]
     },
     "metadata": {},
     "output_type": "display_data"
    },
    {
     "data": {
      "text/html": [
       "prior \n",
       "                    <span style='color:red;font-size:24px;font-weight:bold;line-height:1px;'>to</span> medical school \n",
       "                    <span style='color:red;font-size:24px;font-weight:bold;line-height:1px;'>i</span> \n",
       "                    <span style='color:red;font-size:24px;font-weight:bold;line-height:1px;'>was</span> \n",
       "                    <span style='color:red;font-size:24px;font-weight:bold;line-height:1px;'>a</span> physical therapist \n",
       "                    <span style='color:red;font-size:24px;font-weight:bold;line-height:1px;'>in</span> \n",
       "                    <span style='color:red;font-size:24px;font-weight:bold;line-height:1px;'>the</span> sense \n",
       "                    <span style='color:red;font-size:24px;font-weight:bold;line-height:1px;'>of</span> carrying \n",
       "                    <span style='color:red;font-size:24px;font-weight:bold;line-height:1px;'>their</span> memorial sloan carey cancer center \n",
       "                    <span style='color:red;font-size:24px;font-weight:bold;line-height:1px;'>which</span> \n",
       "                    <span style='color:red;font-size:24px;font-weight:bold;line-height:1px;'>is</span> one \n",
       "                    <span style='color:red;font-size:24px;font-weight:bold;line-height:1px;'>of</span> \n",
       "                    <span style='color:red;font-size:24px;font-weight:bold;line-height:1px;'>the</span> top ranked oncology hospitals \n",
       "                    <span style='color:red;font-size:24px;font-weight:bold;line-height:1px;'>and</span> \n",
       "                    <span style='color:red;font-size:24px;font-weight:bold;line-height:1px;'>being</span> \n",
       "                    <span style='color:red;font-size:24px;font-weight:bold;line-height:1px;'>in</span> intensive \n",
       "                    <span style='color:red;font-size:24px;font-weight:bold;line-height:1px;'>been</span> working \n",
       "                    <span style='color:red;font-size:24px;font-weight:bold;line-height:1px;'>in</span> \n",
       "                    <span style='color:red;font-size:24px;font-weight:bold;line-height:1px;'>the</span> intensive care unit patients \n",
       "                    <span style='color:red;font-size:24px;font-weight:bold;line-height:1px;'>very</span> sick critically ill truly ill \n",
       "                    <span style='color:red;font-size:24px;font-weight:bold;line-height:1px;'>and</span> \n",
       "                    <span style='color:red;font-size:24px;font-weight:bold;line-height:1px;'>then</span> slayers \n",
       "                    <span style='color:red;font-size:24px;font-weight:bold;line-height:1px;'>with</span> poor prognosis \n",
       "                    <span style='color:red;font-size:24px;font-weight:bold;line-height:1px;'>is</span> often times \n",
       "                    <span style='color:red;font-size:24px;font-weight:bold;line-height:1px;'>and</span> \n",
       "                    <span style='color:red;font-size:24px;font-weight:bold;line-height:1px;'>so</span> \n",
       "                    <span style='color:red;font-size:24px;font-weight:bold;line-height:1px;'>having</span> \n",
       "                    <span style='color:red;font-size:24px;font-weight:bold;line-height:1px;'>to</span> deal \n",
       "                    <span style='color:red;font-size:24px;font-weight:bold;line-height:1px;'>with</span> compassion toward \n",
       "                    <span style='color:red;font-size:24px;font-weight:bold;line-height:1px;'>these</span> patients \n",
       "                    <span style='color:red;font-size:24px;font-weight:bold;line-height:1px;'>i</span> think \n",
       "                    <span style='color:red;font-size:24px;font-weight:bold;line-height:1px;'>was</span> \n",
       "                    <span style='color:red;font-size:24px;font-weight:bold;line-height:1px;'>in</span> \n",
       "                    <span style='color:red;font-size:24px;font-weight:bold;line-height:1px;'>this</span> \n",
       "                    <span style='color:red;font-size:24px;font-weight:bold;line-height:1px;'>s</span> e ps also \n",
       "                    <span style='color:red;font-size:24px;font-weight:bold;line-height:1px;'>me</span> theyre going \n",
       "                    <span style='color:red;font-size:24px;font-weight:bold;line-height:1px;'>through</span> things \n",
       "                    <span style='color:red;font-size:24px;font-weight:bold;line-height:1px;'>that</span> \n",
       "                    <span style='color:red;font-size:24px;font-weight:bold;line-height:1px;'>are</span> ten times worse \n",
       "                    <span style='color:red;font-size:24px;font-weight:bold;line-height:1px;'>than</span> anything \n",
       "                    <span style='color:red;font-size:24px;font-weight:bold;line-height:1px;'>most</span> \n",
       "                    <span style='color:red;font-size:24px;font-weight:bold;line-height:1px;'>of</span> us \n",
       "                    <span style='color:red;font-size:24px;font-weight:bold;line-height:1px;'>can</span> imagine \n",
       "                    <span style='color:red;font-size:24px;font-weight:bold;line-height:1px;'>the</span> \n",
       "                    <span style='color:red;font-size:24px;font-weight:bold;line-height:1px;'>only</span> chemotherapy surgeries radiation \n",
       "                    <span style='color:red;font-size:24px;font-weight:bold;line-height:1px;'>in</span> \n",
       "                    <span style='color:red;font-size:24px;font-weight:bold;line-height:1px;'>the</span> multiple cancers millings used \n",
       "                    <span style='color:red;font-size:24px;font-weight:bold;line-height:1px;'>to</span> comb would \n",
       "                    <span style='color:red;font-size:24px;font-weight:bold;line-height:1px;'>be</span> things \n",
       "                    <span style='color:red;font-size:24px;font-weight:bold;line-height:1px;'>that</span> \n",
       "                    <span style='color:red;font-size:24px;font-weight:bold;line-height:1px;'>are</span> occurring \n",
       "                    <span style='color:red;font-size:24px;font-weight:bold;line-height:1px;'>because</span> \n",
       "                    <span style='color:red;font-size:24px;font-weight:bold;line-height:1px;'>the</span> treatments \n",
       "                    <span style='color:red;font-size:24px;font-weight:bold;line-height:1px;'>because</span> \n",
       "                    <span style='color:red;font-size:24px;font-weight:bold;line-height:1px;'>of</span> \n",
       "                    <span style='color:red;font-size:24px;font-weight:bold;line-height:1px;'>the</span> cancer \n",
       "                    <span style='color:red;font-size:24px;font-weight:bold;line-height:1px;'>so</span> \n",
       "                    <span style='color:red;font-size:24px;font-weight:bold;line-height:1px;'>on</span> \n",
       "                    <span style='color:red;font-size:24px;font-weight:bold;line-height:1px;'>the</span> five years \n",
       "                    <span style='color:red;font-size:24px;font-weight:bold;line-height:1px;'>out</span> \n",
       "                    <span style='color:red;font-size:24px;font-weight:bold;line-height:1px;'>were</span> \n",
       "                    <span style='color:red;font-size:24px;font-weight:bold;line-height:1px;'>they</span> \n",
       "                    <span style='color:red;font-size:24px;font-weight:bold;line-height:1px;'>had</span> \n",
       "                    <span style='color:red;font-size:24px;font-weight:bold;line-height:1px;'>a</span> bad days \n",
       "                    <span style='color:red;font-size:24px;font-weight:bold;line-height:1px;'>some</span> days \n",
       "                    <span style='color:red;font-size:24px;font-weight:bold;line-height:1px;'>or</span> \n",
       "                    <span style='color:red;font-size:24px;font-weight:bold;line-height:1px;'>were</span> things \n",
       "                    <span style='color:red;font-size:24px;font-weight:bold;line-height:1px;'>were</span> happening outside \n",
       "                    <span style='color:red;font-size:24px;font-weight:bold;line-height:1px;'>of</span> work \n",
       "                    <span style='color:red;font-size:24px;font-weight:bold;line-height:1px;'>but</span> \n",
       "                    <span style='color:red;font-size:24px;font-weight:bold;line-height:1px;'>i</span> think \n",
       "                    <span style='color:red;font-size:24px;font-weight:bold;line-height:1px;'>as</span> \n",
       "                    <span style='color:red;font-size:24px;font-weight:bold;line-height:1px;'>a</span> physician \n",
       "                    <span style='color:red;font-size:24px;font-weight:bold;line-height:1px;'>or</span> \n",
       "                    <span style='color:red;font-size:24px;font-weight:bold;line-height:1px;'>any</span> medical profession youre held \n",
       "                    <span style='color:red;font-size:24px;font-weight:bold;line-height:1px;'>to</span> \n",
       "                    <span style='color:red;font-size:24px;font-weight:bold;line-height:1px;'>a</span> higher standard \n",
       "                    <span style='color:red;font-size:24px;font-weight:bold;line-height:1px;'>you</span> \n",
       "                    <span style='color:red;font-size:24px;font-weight:bold;line-height:1px;'>are</span> expected \n",
       "                    <span style='color:red;font-size:24px;font-weight:bold;line-height:1px;'>to</span> kind \n",
       "                    <span style='color:red;font-size:24px;font-weight:bold;line-height:1px;'>of</span> compartmentalize \n",
       "                    <span style='color:red;font-size:24px;font-weight:bold;line-height:1px;'>your</span> outside work \n",
       "                    <span style='color:red;font-size:24px;font-weight:bold;line-height:1px;'>and</span> \n",
       "                    <span style='color:red;font-size:24px;font-weight:bold;line-height:1px;'>your</span> work \n",
       "                    <span style='color:red;font-size:24px;font-weight:bold;line-height:1px;'>so</span> \n",
       "                    <span style='color:red;font-size:24px;font-weight:bold;line-height:1px;'>that</span> \n",
       "                    <span style='color:red;font-size:24px;font-weight:bold;line-height:1px;'>you</span> cant dont mix \n",
       "                    <span style='color:red;font-size:24px;font-weight:bold;line-height:1px;'>them</span> \n",
       "                    <span style='color:red;font-size:24px;font-weight:bold;line-height:1px;'>up</span> \n",
       "                    <span style='color:red;font-size:24px;font-weight:bold;line-height:1px;'>because</span> \n",
       "                    <span style='color:red;font-size:24px;font-weight:bold;line-height:1px;'>it</span> \n",
       "                    <span style='color:red;font-size:24px;font-weight:bold;line-height:1px;'>can</span> go \n",
       "                    <span style='color:red;font-size:24px;font-weight:bold;line-height:1px;'>the</span> \n",
       "                    <span style='color:red;font-size:24px;font-weight:bold;line-height:1px;'>other</span> way \n",
       "                    <span style='color:red;font-size:24px;font-weight:bold;line-height:1px;'>where</span> \n",
       "                    <span style='color:red;font-size:24px;font-weight:bold;line-height:1px;'>you</span> take something \n",
       "                    <span style='color:red;font-size:24px;font-weight:bold;line-height:1px;'>from</span> work \n",
       "                    <span style='color:red;font-size:24px;font-weight:bold;line-height:1px;'>and</span> take \n",
       "                    <span style='color:red;font-size:24px;font-weight:bold;line-height:1px;'>it</span> home \n",
       "                    <span style='color:red;font-size:24px;font-weight:bold;line-height:1px;'>and</span> kind \n",
       "                    <span style='color:red;font-size:24px;font-weight:bold;line-height:1px;'>of</span> \n",
       "                    <span style='color:red;font-size:24px;font-weight:bold;line-height:1px;'>i</span> think \n",
       "                    <span style='color:red;font-size:24px;font-weight:bold;line-height:1px;'>that</span> oftentimes \n",
       "                    <span style='color:red;font-size:24px;font-weight:bold;line-height:1px;'>can</span> lead \n",
       "                    <span style='color:red;font-size:24px;font-weight:bold;line-height:1px;'>to</span> \n",
       "                    <span style='color:red;font-size:24px;font-weight:bold;line-height:1px;'>a</span> lot \n",
       "                    <span style='color:red;font-size:24px;font-weight:bold;line-height:1px;'>of</span> burnout \n",
       "                    <span style='color:red;font-size:24px;font-weight:bold;line-height:1px;'>so</span> \n",
       "                    <span style='color:red;font-size:24px;font-weight:bold;line-height:1px;'>when</span> \n",
       "                    <span style='color:red;font-size:24px;font-weight:bold;line-height:1px;'>i</span> \n",
       "                    <span style='color:red;font-size:24px;font-weight:bold;line-height:1px;'>was</span> working \n",
       "                    <span style='color:red;font-size:24px;font-weight:bold;line-height:1px;'>in</span> sloan multiple times \n",
       "                    <span style='color:red;font-size:24px;font-weight:bold;line-height:1px;'>i</span> \n",
       "                    <span style='color:red;font-size:24px;font-weight:bold;line-height:1px;'>had</span> situations \n",
       "                    <span style='color:red;font-size:24px;font-weight:bold;line-height:1px;'>where</span> \n",
       "                    <span style='color:red;font-size:24px;font-weight:bold;line-height:1px;'>i</span> \n",
       "                    <span style='color:red;font-size:24px;font-weight:bold;line-height:1px;'>was</span> \n",
       "                    <span style='color:red;font-size:24px;font-weight:bold;line-height:1px;'>having</span> \n",
       "                    <span style='color:red;font-size:24px;font-weight:bold;line-height:1px;'>that</span> day \n",
       "                    <span style='color:red;font-size:24px;font-weight:bold;line-height:1px;'>you</span> know make sure \n",
       "                    <span style='color:red;font-size:24px;font-weight:bold;line-height:1px;'>to</span> separate \n",
       "                    <span style='color:red;font-size:24px;font-weight:bold;line-height:1px;'>what</span> \n",
       "                    <span style='color:red;font-size:24px;font-weight:bold;line-height:1px;'>was</span> happening outside \n",
       "                    <span style='color:red;font-size:24px;font-weight:bold;line-height:1px;'>of</span> \n",
       "                    <span style='color:red;font-size:24px;font-weight:bold;line-height:1px;'>what</span> \n",
       "                    <span style='color:red;font-size:24px;font-weight:bold;line-height:1px;'>was</span> required \n",
       "                    <span style='color:red;font-size:24px;font-weight:bold;line-height:1px;'>for</span> \n",
       "                    <span style='color:red;font-size:24px;font-weight:bold;line-height:1px;'>me</span> \n",
       "                    <span style='color:red;font-size:24px;font-weight:bold;line-height:1px;'>to</span> take care \n",
       "                    <span style='color:red;font-size:24px;font-weight:bold;line-height:1px;'>of</span> patients \n",
       "                    <span style='color:red;font-size:24px;font-weight:bold;line-height:1px;'>because</span> ultimately \n",
       "                    <span style='color:red;font-size:24px;font-weight:bold;line-height:1px;'>i</span> think \n",
       "                    <span style='color:red;font-size:24px;font-weight:bold;line-height:1px;'>we</span> \n",
       "                    <span style='color:red;font-size:24px;font-weight:bold;line-height:1px;'>all</span> \n",
       "                    <span style='color:red;font-size:24px;font-weight:bold;line-height:1px;'>be</span> compositions \n",
       "                    <span style='color:red;font-size:24px;font-weight:bold;line-height:1px;'>are</span> \n",
       "                    <span style='color:red;font-size:24px;font-weight:bold;line-height:1px;'>we</span> become part \n",
       "                    <span style='color:red;font-size:24px;font-weight:bold;line-height:1px;'>of</span> america feel \n",
       "                    <span style='color:red;font-size:24px;font-weight:bold;line-height:1px;'>to</span> help people \n",
       "                    <span style='color:red;font-size:24px;font-weight:bold;line-height:1px;'>so</span> \n",
       "                    <span style='color:red;font-size:24px;font-weight:bold;line-height:1px;'>if</span> \n",
       "                    <span style='color:red;font-size:24px;font-weight:bold;line-height:1px;'>you</span> \n",
       "                    <span style='color:red;font-size:24px;font-weight:bold;line-height:1px;'>if</span> \n",
       "                    <span style='color:red;font-size:24px;font-weight:bold;line-height:1px;'>you</span> \n",
       "                    <span style='color:red;font-size:24px;font-weight:bold;line-height:1px;'>if</span> youre allowing \n",
       "                    <span style='color:red;font-size:24px;font-weight:bold;line-height:1px;'>yourself</span> \n",
       "                    <span style='color:red;font-size:24px;font-weight:bold;line-height:1px;'>to</span> \n",
       "                    <span style='color:red;font-size:24px;font-weight:bold;line-height:1px;'>be</span> affected \n",
       "                    <span style='color:red;font-size:24px;font-weight:bold;line-height:1px;'>by</span> earth things \n",
       "                    <span style='color:red;font-size:24px;font-weight:bold;line-height:1px;'>i</span> think youre youre preventing one \n",
       "                    <span style='color:red;font-size:24px;font-weight:bold;line-height:1px;'>the</span> main things \n",
       "                    <span style='color:red;font-size:24px;font-weight:bold;line-height:1px;'>that</span> \n",
       "                    <span style='color:red;font-size:24px;font-weight:bold;line-height:1px;'>most</span> \n",
       "                    <span style='color:red;font-size:24px;font-weight:bold;line-height:1px;'>of</span> us come \n",
       "                    <span style='color:red;font-size:24px;font-weight:bold;line-height:1px;'>into</span> medical internet go theel \n",
       "                    <span style='color:red;font-size:24px;font-weight:bold;line-height:1px;'>for</span> \n",
       "                    <span style='color:red;font-size:24px;font-weight:bold;line-height:1px;'>which</span> \n",
       "                    <span style='color:red;font-size:24px;font-weight:bold;line-height:1px;'>is</span> help people \n",
       "                    <span style='color:red;font-size:24px;font-weight:bold;line-height:1px;'>the</span> best \n",
       "                    <span style='color:red;font-size:24px;font-weight:bold;line-height:1px;'>of</span> \n",
       "                    <span style='color:red;font-size:24px;font-weight:bold;line-height:1px;'>your</span> capabilities \n",
       "                    <span style='color:red;font-size:24px;font-weight:bold;line-height:1px;'>and</span> thats \n",
       "                    <span style='color:red;font-size:24px;font-weight:bold;line-height:1px;'>to</span> \n",
       "                    <span style='color:red;font-size:24px;font-weight:bold;line-height:1px;'>be</span> \n",
       "                    <span style='color:red;font-size:24px;font-weight:bold;line-height:1px;'>how</span> \n",
       "                    <span style='color:red;font-size:24px;font-weight:bold;line-height:1px;'>i</span> manage situation \n",
       "                    <span style='color:red;font-size:24px;font-weight:bold;line-height:1px;'>i</span> try compartments eyes everything thats happening \n",
       "                    <span style='color:red;font-size:24px;font-weight:bold;line-height:1px;'>so</span> \n",
       "                    <span style='color:red;font-size:24px;font-weight:bold;line-height:1px;'>that</span> \n",
       "                    <span style='color:red;font-size:24px;font-weight:bold;line-height:1px;'>i</span> dont take things \n",
       "                    <span style='color:red;font-size:24px;font-weight:bold;line-height:1px;'>from</span> work \n",
       "                    <span style='color:red;font-size:24px;font-weight:bold;line-height:1px;'>i</span> dont take \n",
       "                    <span style='color:red;font-size:24px;font-weight:bold;line-height:1px;'>having</span> \n",
       "                    <span style='color:red;font-size:24px;font-weight:bold;line-height:1px;'>a</span> bad day \n",
       "                    <span style='color:red;font-size:24px;font-weight:bold;line-height:1px;'>out</span> \n",
       "                    <span style='color:red;font-size:24px;font-weight:bold;line-height:1px;'>i</span> dont bring \n",
       "                    <span style='color:red;font-size:24px;font-weight:bold;line-height:1px;'>it</span> \n",
       "                    <span style='color:red;font-size:24px;font-weight:bold;line-height:1px;'>to</span> work \n",
       "                    <span style='color:red;font-size:24px;font-weight:bold;line-height:1px;'>as</span> well \n",
       "                    <span style='color:red;font-size:24px;font-weight:bold;line-height:1px;'>and</span> \n",
       "                    <span style='color:red;font-size:24px;font-weight:bold;line-height:1px;'>i</span> tried \n",
       "                    <span style='color:red;font-size:24px;font-weight:bold;line-height:1px;'>to</span> rationally try \n",
       "                    <span style='color:red;font-size:24px;font-weight:bold;line-height:1px;'>to</span> \n",
       "                    <span style='color:red;font-size:24px;font-weight:bold;line-height:1px;'>be</span> empathetic \n",
       "                    <span style='color:red;font-size:24px;font-weight:bold;line-height:1px;'>i</span> tried patient limitations thank \n",
       "                    <span style='color:red;font-size:24px;font-weight:bold;line-height:1px;'>you</span>"
      ],
      "text/plain": [
       "<IPython.core.display.HTML object>"
      ]
     },
     "metadata": {},
     "output_type": "display_data"
    },
    {
     "name": "stdout",
     "output_type": "stream",
     "text": [
      " \n"
     ]
    },
    {
     "data": {
      "text/html": [
       "<strong>Question 6</strong"
      ],
      "text/plain": [
       "<IPython.core.display.HTML object>"
      ]
     },
     "metadata": {},
     "output_type": "display_data"
    },
    {
     "data": {
      "text/html": [
       "prior \n",
       "                    <span style='color:red;font-size:24px;font-weight:bold;line-height:1px;'>to</span> medical school \n",
       "                    <span style='color:red;font-size:24px;font-weight:bold;line-height:1px;'>i</span> \n",
       "                    <span style='color:red;font-size:24px;font-weight:bold;line-height:1px;'>was</span> \n",
       "                    <span style='color:red;font-size:24px;font-weight:bold;line-height:1px;'>a</span> physical therapist carry \n",
       "                    <span style='color:red;font-size:24px;font-weight:bold;line-height:1px;'>a</span> morsel carry \n",
       "                    <span style='color:red;font-size:24px;font-weight:bold;line-height:1px;'>a</span> cancer center \n",
       "                    <span style='color:red;font-size:24px;font-weight:bold;line-height:1px;'>and</span> \n",
       "                    <span style='color:red;font-size:24px;font-weight:bold;line-height:1px;'>i</span> remember \n",
       "                    <span style='color:red;font-size:24px;font-weight:bold;line-height:1px;'>my</span> first \n",
       "                    <span style='color:red;font-size:24px;font-weight:bold;line-height:1px;'>few</span> weeks \n",
       "                    <span style='color:red;font-size:24px;font-weight:bold;line-height:1px;'>and</span> months \n",
       "                    <span style='color:red;font-size:24px;font-weight:bold;line-height:1px;'>i</span> worked \n",
       "                    <span style='color:red;font-size:24px;font-weight:bold;line-height:1px;'>there</span> \n",
       "                    <span style='color:red;font-size:24px;font-weight:bold;line-height:1px;'>i</span> \n",
       "                    <span style='color:red;font-size:24px;font-weight:bold;line-height:1px;'>had</span> certain colleagues \n",
       "                    <span style='color:red;font-size:24px;font-weight:bold;line-height:1px;'>that</span> \n",
       "                    <span style='color:red;font-size:24px;font-weight:bold;line-height:1px;'>were</span> \n",
       "                    <span style='color:red;font-size:24px;font-weight:bold;line-height:1px;'>very</span> loud \n",
       "                    <span style='color:red;font-size:24px;font-weight:bold;line-height:1px;'>and</span> boisterous \n",
       "                    <span style='color:red;font-size:24px;font-weight:bold;line-height:1px;'>i</span> remember one particular occupational therapist \n",
       "                    <span style='color:red;font-size:24px;font-weight:bold;line-height:1px;'>who</span> \n",
       "                    <span style='color:red;font-size:24px;font-weight:bold;line-height:1px;'>was</span> \n",
       "                    <span style='color:red;font-size:24px;font-weight:bold;line-height:1px;'>very</span> loud \n",
       "                    <span style='color:red;font-size:24px;font-weight:bold;line-height:1px;'>and</span> boisterous \n",
       "                    <span style='color:red;font-size:24px;font-weight:bold;line-height:1px;'>and</span> \n",
       "                    <span style='color:red;font-size:24px;font-weight:bold;line-height:1px;'>i</span> think \n",
       "                    <span style='color:red;font-size:24px;font-weight:bold;line-height:1px;'>i</span> \n",
       "                    <span style='color:red;font-size:24px;font-weight:bold;line-height:1px;'>had</span> developed \n",
       "                    <span style='color:red;font-size:24px;font-weight:bold;line-height:1px;'>a</span> bias \n",
       "                    <span style='color:red;font-size:24px;font-weight:bold;line-height:1px;'>where</span> \n",
       "                    <span style='color:red;font-size:24px;font-weight:bold;line-height:1px;'>these</span> \n",
       "                    <span style='color:red;font-size:24px;font-weight:bold;line-height:1px;'>i</span> consciously possibly \n",
       "                    <span style='color:red;font-size:24px;font-weight:bold;line-height:1px;'>where</span> hes loud \n",
       "                    <span style='color:red;font-size:24px;font-weight:bold;line-height:1px;'>and</span> pushes people \n",
       "                    <span style='color:red;font-size:24px;font-weight:bold;line-height:1px;'>i</span> dont like \n",
       "                    <span style='color:red;font-size:24px;font-weight:bold;line-height:1px;'>i</span> dont get along \n",
       "                    <span style='color:red;font-size:24px;font-weight:bold;line-height:1px;'>with</span> \n",
       "                    <span style='color:red;font-size:24px;font-weight:bold;line-height:1px;'>then</span> \n",
       "                    <span style='color:red;font-size:24px;font-weight:bold;line-height:1px;'>it</span> tends \n",
       "                    <span style='color:red;font-size:24px;font-weight:bold;line-height:1px;'>to</span> \n",
       "                    <span style='color:red;font-size:24px;font-weight:bold;line-height:1px;'>be</span> intense \n",
       "                    <span style='color:red;font-size:24px;font-weight:bold;line-height:1px;'>or</span> focus \n",
       "                    <span style='color:red;font-size:24px;font-weight:bold;line-height:1px;'>on</span> \n",
       "                    <span style='color:red;font-size:24px;font-weight:bold;line-height:1px;'>their</span> work \n",
       "                    <span style='color:red;font-size:24px;font-weight:bold;line-height:1px;'>because</span> theyre trying \n",
       "                    <span style='color:red;font-size:24px;font-weight:bold;line-height:1px;'>to</span> \n",
       "                    <span style='color:red;font-size:24px;font-weight:bold;line-height:1px;'>be</span> \n",
       "                    <span style='color:red;font-size:24px;font-weight:bold;line-height:1px;'>the</span> life \n",
       "                    <span style='color:red;font-size:24px;font-weight:bold;line-height:1px;'>of</span> \n",
       "                    <span style='color:red;font-size:24px;font-weight:bold;line-height:1px;'>the</span> party \n",
       "                    <span style='color:red;font-size:24px;font-weight:bold;line-height:1px;'>i</span> think ironically \n",
       "                    <span style='color:red;font-size:24px;font-weight:bold;line-height:1px;'>that</span> person came \n",
       "                    <span style='color:red;font-size:24px;font-weight:bold;line-height:1px;'>when</span> \n",
       "                    <span style='color:red;font-size:24px;font-weight:bold;line-height:1px;'>my</span> closest friends \n",
       "                    <span style='color:red;font-size:24px;font-weight:bold;line-height:1px;'>and</span> theyre still one \n",
       "                    <span style='color:red;font-size:24px;font-weight:bold;line-height:1px;'>my</span> close friends \n",
       "                    <span style='color:red;font-size:24px;font-weight:bold;line-height:1px;'>to</span> \n",
       "                    <span style='color:red;font-size:24px;font-weight:bold;line-height:1px;'>this</span> day \n",
       "                    <span style='color:red;font-size:24px;font-weight:bold;line-height:1px;'>they</span> still \n",
       "                    <span style='color:red;font-size:24px;font-weight:bold;line-height:1px;'>do</span> keep \n",
       "                    <span style='color:red;font-size:24px;font-weight:bold;line-height:1px;'>in</span> touch \n",
       "                    <span style='color:red;font-size:24px;font-weight:bold;line-height:1px;'>with</span> \n",
       "                    <span style='color:red;font-size:24px;font-weight:bold;line-height:1px;'>i</span> think \n",
       "                    <span style='color:red;font-size:24px;font-weight:bold;line-height:1px;'>when</span> \n",
       "                    <span style='color:red;font-size:24px;font-weight:bold;line-height:1px;'>this</span> first happened \n",
       "                    <span style='color:red;font-size:24px;font-weight:bold;line-height:1px;'>when</span> \n",
       "                    <span style='color:red;font-size:24px;font-weight:bold;line-height:1px;'>i</span> first met \n",
       "                    <span style='color:red;font-size:24px;font-weight:bold;line-height:1px;'>them</span> \n",
       "                    <span style='color:red;font-size:24px;font-weight:bold;line-height:1px;'>i</span> think \n",
       "                    <span style='color:red;font-size:24px;font-weight:bold;line-height:1px;'>i</span> may \n",
       "                    <span style='color:red;font-size:24px;font-weight:bold;line-height:1px;'>have</span> \n",
       "                    <span style='color:red;font-size:24px;font-weight:bold;line-height:1px;'>been</span> \n",
       "                    <span style='color:red;font-size:24px;font-weight:bold;line-height:1px;'>a</span> little \n",
       "                    <span style='color:red;font-size:24px;font-weight:bold;line-height:1px;'>more</span> standoffish \n",
       "                    <span style='color:red;font-size:24px;font-weight:bold;line-height:1px;'>more</span> reserved always respectful \n",
       "                    <span style='color:red;font-size:24px;font-weight:bold;line-height:1px;'>but</span> \n",
       "                    <span style='color:red;font-size:24px;font-weight:bold;line-height:1px;'>a</span> little \n",
       "                    <span style='color:red;font-size:24px;font-weight:bold;line-height:1px;'>more</span> reserved \n",
       "                    <span style='color:red;font-size:24px;font-weight:bold;line-height:1px;'>a</span> little \n",
       "                    <span style='color:red;font-size:24px;font-weight:bold;line-height:1px;'>more</span> shy \n",
       "                    <span style='color:red;font-size:24px;font-weight:bold;line-height:1px;'>i</span> mean possibly \n",
       "                    <span style='color:red;font-size:24px;font-weight:bold;line-height:1px;'>but</span> \n",
       "                    <span style='color:red;font-size:24px;font-weight:bold;line-height:1px;'>i</span> think \n",
       "                    <span style='color:red;font-size:24px;font-weight:bold;line-height:1px;'>she</span> \n",
       "                    <span style='color:red;font-size:24px;font-weight:bold;line-height:1px;'>was</span> also \n",
       "                    <span style='color:red;font-size:24px;font-weight:bold;line-height:1px;'>his</span> occupation \n",
       "                    <span style='color:red;font-size:24px;font-weight:bold;line-height:1px;'>of</span> \n",
       "                    <span style='color:red;font-size:24px;font-weight:bold;line-height:1px;'>their</span> business \n",
       "                    <span style='color:red;font-size:24px;font-weight:bold;line-height:1px;'>you</span> \n",
       "                    <span style='color:red;font-size:24px;font-weight:bold;line-height:1px;'>so</span> \n",
       "                    <span style='color:red;font-size:24px;font-weight:bold;line-height:1px;'>we</span> \n",
       "                    <span style='color:red;font-size:24px;font-weight:bold;line-height:1px;'>had</span> \n",
       "                    <span style='color:red;font-size:24px;font-weight:bold;line-height:1px;'>to</span> work together \n",
       "                    <span style='color:red;font-size:24px;font-weight:bold;line-height:1px;'>a</span> lot \n",
       "                    <span style='color:red;font-size:24px;font-weight:bold;line-height:1px;'>and</span> \n",
       "                    <span style='color:red;font-size:24px;font-weight:bold;line-height:1px;'>i</span> think \n",
       "                    <span style='color:red;font-size:24px;font-weight:bold;line-height:1px;'>when</span> \n",
       "                    <span style='color:red;font-size:24px;font-weight:bold;line-height:1px;'>we</span> started working together \n",
       "                    <span style='color:red;font-size:24px;font-weight:bold;line-height:1px;'>i</span> think \n",
       "                    <span style='color:red;font-size:24px;font-weight:bold;line-height:1px;'>i</span> always try whenever ive \n",
       "                    <span style='color:red;font-size:24px;font-weight:bold;line-height:1px;'>been</span> working somewhere \n",
       "                    <span style='color:red;font-size:24px;font-weight:bold;line-height:1px;'>i</span> try \n",
       "                    <span style='color:red;font-size:24px;font-weight:bold;line-height:1px;'>to</span> \n",
       "                    <span style='color:red;font-size:24px;font-weight:bold;line-height:1px;'>be</span> respectful \n",
       "                    <span style='color:red;font-size:24px;font-weight:bold;line-height:1px;'>i</span> try \n",
       "                    <span style='color:red;font-size:24px;font-weight:bold;line-height:1px;'>to</span> \n",
       "                    <span style='color:red;font-size:24px;font-weight:bold;line-height:1px;'>be</span> patient \n",
       "                    <span style='color:red;font-size:24px;font-weight:bold;line-height:1px;'>i</span> try \n",
       "                    <span style='color:red;font-size:24px;font-weight:bold;line-height:1px;'>to</span> \n",
       "                    <span style='color:red;font-size:24px;font-weight:bold;line-height:1px;'>be</span> understanding \n",
       "                    <span style='color:red;font-size:24px;font-weight:bold;line-height:1px;'>and</span> also \n",
       "                    <span style='color:red;font-size:24px;font-weight:bold;line-height:1px;'>only</span> \n",
       "                    <span style='color:red;font-size:24px;font-weight:bold;line-height:1px;'>when</span> \n",
       "                    <span style='color:red;font-size:24px;font-weight:bold;line-height:1px;'>i</span> \n",
       "                    <span style='color:red;font-size:24px;font-weight:bold;line-height:1px;'>when</span> \n",
       "                    <span style='color:red;font-size:24px;font-weight:bold;line-height:1px;'>we</span> start work together \n",
       "                    <span style='color:red;font-size:24px;font-weight:bold;line-height:1px;'>and</span> \n",
       "                    <span style='color:red;font-size:24px;font-weight:bold;line-height:1px;'>i</span> got \n",
       "                    <span style='color:red;font-size:24px;font-weight:bold;line-height:1px;'>to</span> know \n",
       "                    <span style='color:red;font-size:24px;font-weight:bold;line-height:1px;'>that</span> person \n",
       "                    <span style='color:red;font-size:24px;font-weight:bold;line-height:1px;'>i</span> knew \n",
       "                    <span style='color:red;font-size:24px;font-weight:bold;line-height:1px;'>she</span> \n",
       "                    <span style='color:red;font-size:24px;font-weight:bold;line-height:1px;'>is</span> shes \n",
       "                    <span style='color:red;font-size:24px;font-weight:bold;line-height:1px;'>had</span> \n",
       "                    <span style='color:red;font-size:24px;font-weight:bold;line-height:1px;'>a</span> great personality \n",
       "                    <span style='color:red;font-size:24px;font-weight:bold;line-height:1px;'>and</span> thats \n",
       "                    <span style='color:red;font-size:24px;font-weight:bold;line-height:1px;'>what</span> \n",
       "                    <span style='color:red;font-size:24px;font-weight:bold;line-height:1px;'>she</span> \n",
       "                    <span style='color:red;font-size:24px;font-weight:bold;line-height:1px;'>was</span> thats \n",
       "                    <span style='color:red;font-size:24px;font-weight:bold;line-height:1px;'>just</span> \n",
       "                    <span style='color:red;font-size:24px;font-weight:bold;line-height:1px;'>was</span> \n",
       "                    <span style='color:red;font-size:24px;font-weight:bold;line-height:1px;'>her</span> personality \n",
       "                    <span style='color:red;font-size:24px;font-weight:bold;line-height:1px;'>she</span> \n",
       "                    <span style='color:red;font-size:24px;font-weight:bold;line-height:1px;'>was</span> one \n",
       "                    <span style='color:red;font-size:24px;font-weight:bold;line-height:1px;'>the</span> smartest people \n",
       "                    <span style='color:red;font-size:24px;font-weight:bold;line-height:1px;'>i</span> know one \n",
       "                    <span style='color:red;font-size:24px;font-weight:bold;line-height:1px;'>of</span> \n",
       "                    <span style='color:red;font-size:24px;font-weight:bold;line-height:1px;'>most</span> hardworking people \n",
       "                    <span style='color:red;font-size:24px;font-weight:bold;line-height:1px;'>i</span> know \n",
       "                    <span style='color:red;font-size:24px;font-weight:bold;line-height:1px;'>i</span> learned \n",
       "                    <span style='color:red;font-size:24px;font-weight:bold;line-height:1px;'>a</span> lot \n",
       "                    <span style='color:red;font-size:24px;font-weight:bold;line-height:1px;'>from</span> \n",
       "                    <span style='color:red;font-size:24px;font-weight:bold;line-height:1px;'>her</span> \n",
       "                    <span style='color:red;font-size:24px;font-weight:bold;line-height:1px;'>she</span> learned \n",
       "                    <span style='color:red;font-size:24px;font-weight:bold;line-height:1px;'>a</span> lot \n",
       "                    <span style='color:red;font-size:24px;font-weight:bold;line-height:1px;'>of</span> \n",
       "                    <span style='color:red;font-size:24px;font-weight:bold;line-height:1px;'>me</span> \n",
       "                    <span style='color:red;font-size:24px;font-weight:bold;line-height:1px;'>so</span> \n",
       "                    <span style='color:red;font-size:24px;font-weight:bold;line-height:1px;'>i</span> think \n",
       "                    <span style='color:red;font-size:24px;font-weight:bold;line-height:1px;'>i</span> think \n",
       "                    <span style='color:red;font-size:24px;font-weight:bold;line-height:1px;'>i</span> \n",
       "                    <span style='color:red;font-size:24px;font-weight:bold;line-height:1px;'>did</span> learn \n",
       "                    <span style='color:red;font-size:24px;font-weight:bold;line-height:1px;'>a</span> lot \n",
       "                    <span style='color:red;font-size:24px;font-weight:bold;line-height:1px;'>from</span> \n",
       "                    <span style='color:red;font-size:24px;font-weight:bold;line-height:1px;'>that</span> interaction \n",
       "                    <span style='color:red;font-size:24px;font-weight:bold;line-height:1px;'>i</span> think \n",
       "                    <span style='color:red;font-size:24px;font-weight:bold;line-height:1px;'>our</span> \n",
       "                    <span style='color:red;font-size:24px;font-weight:bold;line-height:1px;'>i</span> always try \n",
       "                    <span style='color:red;font-size:24px;font-weight:bold;line-height:1px;'>to</span> make sure \n",
       "                    <span style='color:red;font-size:24px;font-weight:bold;line-height:1px;'>i</span> dont allow \n",
       "                    <span style='color:red;font-size:24px;font-weight:bold;line-height:1px;'>my</span> bicycle \n",
       "                    <span style='color:red;font-size:24px;font-weight:bold;line-height:1px;'>my</span> judgment \n",
       "                    <span style='color:red;font-size:24px;font-weight:bold;line-height:1px;'>to</span> change \n",
       "                    <span style='color:red;font-size:24px;font-weight:bold;line-height:1px;'>our</span> tree people \n",
       "                    <span style='color:red;font-size:24px;font-weight:bold;line-height:1px;'>but</span> \n",
       "                    <span style='color:red;font-size:24px;font-weight:bold;line-height:1px;'>i</span> think \n",
       "                    <span style='color:red;font-size:24px;font-weight:bold;line-height:1px;'>this</span> example \n",
       "                    <span style='color:red;font-size:24px;font-weight:bold;line-height:1px;'>was</span> \n",
       "                    <span style='color:red;font-size:24px;font-weight:bold;line-height:1px;'>a</span> \n",
       "                    <span style='color:red;font-size:24px;font-weight:bold;line-height:1px;'>very</span> good example \n",
       "                    <span style='color:red;font-size:24px;font-weight:bold;line-height:1px;'>where</span> \n",
       "                    <span style='color:red;font-size:24px;font-weight:bold;line-height:1px;'>i</span> kind \n",
       "                    <span style='color:red;font-size:24px;font-weight:bold;line-height:1px;'>of</span> let \n",
       "                    <span style='color:red;font-size:24px;font-weight:bold;line-height:1px;'>it</span> slip away \n",
       "                    <span style='color:red;font-size:24px;font-weight:bold;line-height:1px;'>i</span> didnt know \n",
       "                    <span style='color:red;font-size:24px;font-weight:bold;line-height:1px;'>i</span> \n",
       "                    <span style='color:red;font-size:24px;font-weight:bold;line-height:1px;'>was</span> \n",
       "                    <span style='color:red;font-size:24px;font-weight:bold;line-height:1px;'>very</span> mindful \n",
       "                    <span style='color:red;font-size:24px;font-weight:bold;line-height:1px;'>and</span> \n",
       "                    <span style='color:red;font-size:24px;font-weight:bold;line-height:1px;'>i</span> may \n",
       "                    <span style='color:red;font-size:24px;font-weight:bold;line-height:1px;'>have</span> \n",
       "                    <span style='color:red;font-size:24px;font-weight:bold;line-height:1px;'>been</span> \n",
       "                    <span style='color:red;font-size:24px;font-weight:bold;line-height:1px;'>the</span> \n",
       "                    <span style='color:red;font-size:24px;font-weight:bold;line-height:1px;'>more</span> coal \n",
       "                    <span style='color:red;font-size:24px;font-weight:bold;line-height:1px;'>or</span> shy \n",
       "                    <span style='color:red;font-size:24px;font-weight:bold;line-height:1px;'>and</span> \n",
       "                    <span style='color:red;font-size:24px;font-weight:bold;line-height:1px;'>i</span> normally \n",
       "                    <span style='color:red;font-size:24px;font-weight:bold;line-height:1px;'>am</span> \n",
       "                    <span style='color:red;font-size:24px;font-weight:bold;line-height:1px;'>but</span> \n",
       "                    <span style='color:red;font-size:24px;font-weight:bold;line-height:1px;'>i</span> think \n",
       "                    <span style='color:red;font-size:24px;font-weight:bold;line-height:1px;'>these</span> moments oftentimes \n",
       "                    <span style='color:red;font-size:24px;font-weight:bold;line-height:1px;'>are</span> remind us \n",
       "                    <span style='color:red;font-size:24px;font-weight:bold;line-height:1px;'>that</span> people \n",
       "                    <span style='color:red;font-size:24px;font-weight:bold;line-height:1px;'>are</span> hard dont lot \n",
       "                    <span style='color:red;font-size:24px;font-weight:bold;line-height:1px;'>of</span> verse \n",
       "                    <span style='color:red;font-size:24px;font-weight:bold;line-height:1px;'>here</span> first time enough \n",
       "                    <span style='color:red;font-size:24px;font-weight:bold;line-height:1px;'>to</span> chip cloud \n",
       "                    <span style='color:red;font-size:24px;font-weight:bold;line-height:1px;'>your</span> judgment"
      ],
      "text/plain": [
       "<IPython.core.display.HTML object>"
      ]
     },
     "metadata": {},
     "output_type": "display_data"
    },
    {
     "name": "stdout",
     "output_type": "stream",
     "text": [
      " \n"
     ]
    },
    {
     "data": {
      "text/plain": [
       "''"
      ]
     },
     "execution_count": 15,
     "metadata": {},
     "output_type": "execute_result"
    }
   ],
   "source": [
    "for index, value in enumerate(q.index.tolist()):\n",
    "    display(HTML(f\"<strong>{value.capitalize()}</strong\"))\n",
    "    highlight(q.iloc[index, 0], sw)\n",
    "    print(\" \")\n",
    ";"
   ]
  },
  {
   "cell_type": "code",
   "execution_count": 16,
   "metadata": {},
   "outputs": [],
   "source": [
    "for index, _ in q.iterrows():\n",
    "    q.loc[index] = q.loc[index].apply(lambda x: \" \".join([word for word in x.split() if word not in sw]))"
   ]
  },
  {
   "cell_type": "markdown",
   "metadata": {},
   "source": [
    "### 5. Singularize\n",
    "Remove all plural words in the question text and replace them with singular words (e.g., friends --> friend ,pros --> pro, etc.)"
   ]
  },
  {
   "cell_type": "code",
   "execution_count": 17,
   "metadata": {},
   "outputs": [
    {
     "data": {
      "text/html": [
       "<strong>Question 1</strong"
      ],
      "text/plain": [
       "<IPython.core.display.HTML object>"
      ]
     },
     "metadata": {},
     "output_type": "display_data"
    },
    {
     "data": {
      "text/html": [
       "prior applying medical school working physical therapy percentage care know recently got engaged wife journey applying medical school first started wanted apply medical school discussed wife situation bit hesitant pause life understand discussed discussed family discussed \n",
       "                    <span style='color:red;font-size:24px;font-weight:bold;line-height:1px;text-decoration:line-through;'>friends</span>\n",
       "                    <span style='color:blue;font-size:24px;font-weight:bold;line-height:1px;'>friend</span> \n",
       "                    <span style='color:red;font-size:24px;font-weight:bold;line-height:1px;text-decoration:line-through;'>physicians</span>\n",
       "                    <span style='color:blue;font-size:24px;font-weight:bold;line-height:1px;'>physician</span> ultimately discussed \n",
       "                    <span style='color:red;font-size:24px;font-weight:bold;line-height:1px;text-decoration:line-through;'>pros</span>\n",
       "                    <span style='color:blue;font-size:24px;font-weight:bold;line-height:1px;'>pro</span> \n",
       "                    <span style='color:red;font-size:24px;font-weight:bold;line-height:1px;text-decoration:line-through;'>cons</span>\n",
       "                    <span style='color:blue;font-size:24px;font-weight:bold;line-height:1px;'>con</span> continuing \n",
       "                    <span style='color:red;font-size:24px;font-weight:bold;line-height:1px;text-decoration:line-through;'>occupations</span>\n",
       "                    <span style='color:blue;font-size:24px;font-weight:bold;line-height:1px;'>occupation</span> physical \n",
       "                    <span style='color:red;font-size:24px;font-weight:bold;line-height:1px;text-decoration:line-through;'>therapists</span>\n",
       "                    <span style='color:blue;font-size:24px;font-weight:bold;line-height:1px;'>therapist</span> compared attending go school residency mention becoming tending would \n",
       "                    <span style='color:red;font-size:24px;font-weight:bold;line-height:1px;text-decoration:line-through;'>stress</span>\n",
       "                    <span style='color:blue;font-size:24px;font-weight:bold;line-height:1px;'>stres</span> \n",
       "                    <span style='color:red;font-size:24px;font-weight:bold;line-height:1px;text-decoration:line-through;'>pros</span>\n",
       "                    <span style='color:blue;font-size:24px;font-weight:bold;line-height:1px;'>pro</span> \n",
       "                    <span style='color:red;font-size:24px;font-weight:bold;line-height:1px;text-decoration:line-through;'>cons</span>\n",
       "                    <span style='color:blue;font-size:24px;font-weight:bold;line-height:1px;'>con</span> think also wife came around point view think ultimately approach situation \n",
       "                    <span style='color:red;font-size:24px;font-weight:bold;line-height:1px;text-decoration:line-through;'>theres</span>\n",
       "                    <span style='color:blue;font-size:24px;font-weight:bold;line-height:1px;'>there</span> disagreement try systematic try \n",
       "                    <span style='color:red;font-size:24px;font-weight:bold;line-height:1px;text-decoration:line-through;'>pros</span>\n",
       "                    <span style='color:blue;font-size:24px;font-weight:bold;line-height:1px;'>pro</span> \n",
       "                    <span style='color:red;font-size:24px;font-weight:bold;line-height:1px;text-decoration:line-through;'>cons</span>\n",
       "                    <span style='color:blue;font-size:24px;font-weight:bold;line-height:1px;'>con</span> try welcome \n",
       "                    <span style='color:red;font-size:24px;font-weight:bold;line-height:1px;text-decoration:line-through;'>opinions</span>\n",
       "                    <span style='color:blue;font-size:24px;font-weight:bold;line-height:1px;'>opinion</span> try ask \n",
       "                    <span style='color:red;font-size:24px;font-weight:bold;line-height:1px;text-decoration:line-through;'>people</span>\n",
       "                    <span style='color:blue;font-size:24px;font-weight:bold;line-height:1px;'>person</span> \n",
       "                    <span style='color:red;font-size:24px;font-weight:bold;line-height:1px;text-decoration:line-through;'>opinions</span>\n",
       "                    <span style='color:blue;font-size:24px;font-weight:bold;line-height:1px;'>opinion</span> else mean situation think worked think medical school \n",
       "                    <span style='color:red;font-size:24px;font-weight:bold;line-height:1px;text-decoration:line-through;'>bonds</span>\n",
       "                    <span style='color:blue;font-size:24px;font-weight:bold;line-height:1px;'>bond</span> adar ultimately believe journey taken betterment family line line think \n",
       "                    <span style='color:red;font-size:24px;font-weight:bold;line-height:1px;text-decoration:line-through;'>thats</span>\n",
       "                    <span style='color:blue;font-size:24px;font-weight:bold;line-height:1px;'>that</span> \n",
       "                    <span style='color:red;font-size:24px;font-weight:bold;line-height:1px;text-decoration:line-through;'>thats</span>\n",
       "                    <span style='color:blue;font-size:24px;font-weight:bold;line-height:1px;'>that</span> main point try convey eye wife long term would best option \n",
       "                    <span style='color:red;font-size:24px;font-weight:bold;line-height:1px;text-decoration:line-through;'>us</span>\n",
       "                    <span style='color:blue;font-size:24px;font-weight:bold;line-height:1px;'>u</span> family agreed im mentoring fourth year medical school attempting enter residency merced \n",
       "                    <span style='color:red;font-size:24px;font-weight:bold;line-height:1px;text-decoration:line-through;'>mess</span>\n",
       "                    <span style='color:blue;font-size:24px;font-weight:bold;line-height:1px;'>mes</span> ultimately think worked thank"
      ],
      "text/plain": [
       "<IPython.core.display.HTML object>"
      ]
     },
     "metadata": {},
     "output_type": "display_data"
    },
    {
     "name": "stdout",
     "output_type": "stream",
     "text": [
      " \n"
     ]
    },
    {
     "data": {
      "text/html": [
       "<strong>Question 2</strong"
      ],
      "text/plain": [
       "<IPython.core.display.HTML object>"
      ]
     },
     "metadata": {},
     "output_type": "display_data"
    },
    {
     "data": {
      "text/html": [
       "prior attending medical school physical therapist sort cancer center job mobilize \n",
       "                    <span style='color:red;font-size:24px;font-weight:bold;line-height:1px;text-decoration:line-through;'>patients</span>\n",
       "                    <span style='color:blue;font-size:24px;font-weight:bold;line-height:1px;'>patient</span> right q \n",
       "                    <span style='color:red;font-size:24px;font-weight:bold;line-height:1px;text-decoration:line-through;'>surgeries</span>\n",
       "                    <span style='color:blue;font-size:24px;font-weight:bold;line-height:1px;'>surgery</span> many large \n",
       "                    <span style='color:red;font-size:24px;font-weight:bold;line-height:1px;text-decoration:line-through;'>amounts</span>\n",
       "                    <span style='color:blue;font-size:24px;font-weight:bold;line-height:1px;'>amount</span> pain multiple \n",
       "                    <span style='color:red;font-size:24px;font-weight:bold;line-height:1px;text-decoration:line-through;'>times</span>\n",
       "                    <span style='color:blue;font-size:24px;font-weight:bold;line-height:1px;'>time</span> \n",
       "                    <span style='color:red;font-size:24px;font-weight:bold;line-height:1px;text-decoration:line-through;'>patients</span>\n",
       "                    <span style='color:blue;font-size:24px;font-weight:bold;line-height:1px;'>patient</span> disagree wait get bed might stay bed wanting rest \n",
       "                    <span style='color:red;font-size:24px;font-weight:bold;line-height:1px;text-decoration:line-through;'>surgeries</span>\n",
       "                    <span style='color:blue;font-size:24px;font-weight:bold;line-height:1px;'>surgery</span> \n",
       "                    <span style='color:red;font-size:24px;font-weight:bold;line-height:1px;text-decoration:line-through;'>patients</span>\n",
       "                    <span style='color:blue;font-size:24px;font-weight:bold;line-height:1px;'>patient</span> ultimately came around think patient \n",
       "                    <span style='color:red;font-size:24px;font-weight:bold;line-height:1px;text-decoration:line-through;'>agrees</span>\n",
       "                    <span style='color:blue;font-size:24px;font-weight:bold;line-height:1px;'>agree</span> disagree think best approach try educate try patient ultimately try understand theyre coming approach way think journal good \n",
       "                    <span style='color:red;font-size:24px;font-weight:bold;line-height:1px;text-decoration:line-through;'>outcomes</span>\n",
       "                    <span style='color:blue;font-size:24px;font-weight:bold;line-height:1px;'>outcome</span> \n",
       "                    <span style='color:red;font-size:24px;font-weight:bold;line-height:1px;text-decoration:line-through;'>situations</span>\n",
       "                    <span style='color:blue;font-size:24px;font-weight:bold;line-height:1px;'>situation</span> \n",
       "                    <span style='color:red;font-size:24px;font-weight:bold;line-height:1px;text-decoration:line-through;'>patients</span>\n",
       "                    <span style='color:blue;font-size:24px;font-weight:bold;line-height:1px;'>patient</span> pain one get tried work around \n",
       "                    <span style='color:red;font-size:24px;font-weight:bold;line-height:1px;text-decoration:line-through;'>schedules</span>\n",
       "                    <span style='color:blue;font-size:24px;font-weight:bold;line-height:1px;'>schedule</span> try time pain medication time went around encourage try work around schedule try work around \n",
       "                    <span style='color:red;font-size:24px;font-weight:bold;line-height:1px;text-decoration:line-through;'>whats</span>\n",
       "                    <span style='color:blue;font-size:24px;font-weight:bold;line-height:1px;'>what</span> best educate try give broad picture meaning first step gain home eventually going back normal daily routine think give perspective think educate \n",
       "                    <span style='color:red;font-size:24px;font-weight:bold;line-height:1px;text-decoration:line-through;'>patients</span>\n",
       "                    <span style='color:blue;font-size:24px;font-weight:bold;line-height:1px;'>patient</span> id say ninety nine one hundred percent time eventually come around think \n",
       "                    <span style='color:red;font-size:24px;font-weight:bold;line-height:1px;text-decoration:line-through;'>thats</span>\n",
       "                    <span style='color:blue;font-size:24px;font-weight:bold;line-height:1px;'>that</span> best way approach patient disagreement agreement disagreement general situation spoke \n",
       "                    <span style='color:red;font-size:24px;font-weight:bold;line-height:1px;text-decoration:line-through;'>patients</span>\n",
       "                    <span style='color:blue;font-size:24px;font-weight:bold;line-height:1px;'>patient</span> also discharged thankful didnt let take easy let hook patient also think played role helping get back \n",
       "                    <span style='color:red;font-size:24px;font-weight:bold;line-height:1px;text-decoration:line-through;'>things</span>\n",
       "                    <span style='color:blue;font-size:24px;font-weight:bold;line-height:1px;'>thing</span> need get church safely get rate get charged"
      ],
      "text/plain": [
       "<IPython.core.display.HTML object>"
      ]
     },
     "metadata": {},
     "output_type": "display_data"
    },
    {
     "name": "stdout",
     "output_type": "stream",
     "text": [
      " \n"
     ]
    },
    {
     "data": {
      "text/html": [
       "<strong>Question 3</strong"
      ],
      "text/plain": [
       "<IPython.core.display.HTML object>"
      ]
     },
     "metadata": {},
     "output_type": "display_data"
    },
    {
     "data": {
      "text/html": [
       "tried medical school worked physical therapist intensive care unit asked multiple \n",
       "                    <span style='color:red;font-size:24px;font-weight:bold;line-height:1px;text-decoration:line-through;'>times</span>\n",
       "                    <span style='color:blue;font-size:24px;font-weight:bold;line-height:1px;'>time</span> certain \n",
       "                    <span style='color:red;font-size:24px;font-weight:bold;line-height:1px;text-decoration:line-through;'>projects</span>\n",
       "                    <span style='color:blue;font-size:24px;font-weight:bold;line-height:1px;'>project</span> certain \n",
       "                    <span style='color:red;font-size:24px;font-weight:bold;line-height:1px;text-decoration:line-through;'>presentations</span>\n",
       "                    <span style='color:blue;font-size:24px;font-weight:bold;line-height:1px;'>presentation</span> \n",
       "                    <span style='color:red;font-size:24px;font-weight:bold;line-height:1px;text-decoration:line-through;'>physicians</span>\n",
       "                    <span style='color:blue;font-size:24px;font-weight:bold;line-height:1px;'>physician</span> \n",
       "                    <span style='color:red;font-size:24px;font-weight:bold;line-height:1px;text-decoration:line-through;'>members</span>\n",
       "                    <span style='color:blue;font-size:24px;font-weight:bold;line-height:1px;'>member</span> medical team \n",
       "                    <span style='color:red;font-size:24px;font-weight:bold;line-height:1px;text-decoration:line-through;'>projects</span>\n",
       "                    <span style='color:blue;font-size:24px;font-weight:bold;line-height:1px;'>project</span> \n",
       "                    <span style='color:red;font-size:24px;font-weight:bold;line-height:1px;text-decoration:line-through;'>times</span>\n",
       "                    <span style='color:blue;font-size:24px;font-weight:bold;line-height:1px;'>time</span> think rare project everyone \n",
       "                    <span style='color:red;font-size:24px;font-weight:bold;line-height:1px;text-decoration:line-through;'>agrees</span>\n",
       "                    <span style='color:blue;font-size:24px;font-weight:bold;line-height:1px;'>agree</span> everything think artemy diverse \n",
       "                    <span style='color:red;font-size:24px;font-weight:bold;line-height:1px;text-decoration:line-through;'>opinions</span>\n",
       "                    <span style='color:blue;font-size:24px;font-weight:bold;line-height:1px;'>opinion</span> different different point \n",
       "                    <span style='color:red;font-size:24px;font-weight:bold;line-height:1px;text-decoration:line-through;'>views</span>\n",
       "                    <span style='color:blue;font-size:24px;font-weight:bold;line-height:1px;'>view</span> \n",
       "                    <span style='color:red;font-size:24px;font-weight:bold;line-height:1px;text-decoration:line-through;'>makes</span>\n",
       "                    <span style='color:blue;font-size:24px;font-weight:bold;line-height:1px;'>make</span> project better \n",
       "                    <span style='color:red;font-size:24px;font-weight:bold;line-height:1px;text-decoration:line-through;'>times</span>\n",
       "                    <span style='color:blue;font-size:24px;font-weight:bold;line-height:1px;'>time</span> ive make \n",
       "                    <span style='color:red;font-size:24px;font-weight:bold;line-height:1px;text-decoration:line-through;'>presentations</span>\n",
       "                    <span style='color:blue;font-size:24px;font-weight:bold;line-height:1px;'>presentation</span> \n",
       "                    <span style='color:red;font-size:24px;font-weight:bold;line-height:1px;text-decoration:line-through;'>positions</span>\n",
       "                    <span style='color:blue;font-size:24px;font-weight:bold;line-height:1px;'>position</span> \n",
       "                    <span style='color:red;font-size:24px;font-weight:bold;line-height:1px;text-decoration:line-through;'>nurses</span>\n",
       "                    <span style='color:blue;font-size:24px;font-weight:bold;line-height:1px;'>nurse</span> straight \n",
       "                    <span style='color:red;font-size:24px;font-weight:bold;line-height:1px;text-decoration:line-through;'>appears</span>\n",
       "                    <span style='color:blue;font-size:24px;font-weight:bold;line-height:1px;'>appear</span> would working another physical therapist another member create nice power \n",
       "                    <span style='color:red;font-size:24px;font-weight:bold;line-height:1px;text-decoration:line-through;'>points</span>\n",
       "                    <span style='color:blue;font-size:24px;font-weight:bold;line-height:1px;'>point</span> \n",
       "                    <span style='color:red;font-size:24px;font-weight:bold;line-height:1px;text-decoration:line-through;'>presentations</span>\n",
       "                    <span style='color:blue;font-size:24px;font-weight:bold;line-height:1px;'>presentation</span> would \n",
       "                    <span style='color:red;font-size:24px;font-weight:bold;line-height:1px;text-decoration:line-through;'>disagreements</span>\n",
       "                    <span style='color:blue;font-size:24px;font-weight:bold;line-height:1px;'>disagreement</span> think dont think anything think would \n",
       "                    <span style='color:red;font-size:24px;font-weight:bold;line-height:1px;text-decoration:line-through;'>disagreements</span>\n",
       "                    <span style='color:blue;font-size:24px;font-weight:bold;line-height:1px;'>disagreement</span> want approaching want introduce \n",
       "                    <span style='color:red;font-size:24px;font-weight:bold;line-height:1px;text-decoration:line-through;'>things</span>\n",
       "                    <span style='color:blue;font-size:24px;font-weight:bold;line-height:1px;'>thing</span> think think \n",
       "                    <span style='color:red;font-size:24px;font-weight:bold;line-height:1px;text-decoration:line-through;'>things</span>\n",
       "                    <span style='color:blue;font-size:24px;font-weight:bold;line-height:1px;'>thing</span> happen think best also need first first foremost respectful take \n",
       "                    <span style='color:red;font-size:24px;font-weight:bold;line-height:1px;text-decoration:line-through;'>people</span>\n",
       "                    <span style='color:blue;font-size:24px;font-weight:bold;line-height:1px;'>person</span> say understanding try blow blow \n",
       "                    <span style='color:red;font-size:24px;font-weight:bold;line-height:1px;text-decoration:line-through;'>peoples</span>\n",
       "                    <span style='color:blue;font-size:24px;font-weight:bold;line-height:1px;'>people</span> \n",
       "                    <span style='color:red;font-size:24px;font-weight:bold;line-height:1px;text-decoration:line-through;'>opinions</span>\n",
       "                    <span style='color:blue;font-size:24px;font-weight:bold;line-height:1px;'>opinion</span> think think could done improve relationship think tend think least somewhat successful \n",
       "                    <span style='color:red;font-size:24px;font-weight:bold;line-height:1px;text-decoration:line-through;'>situations</span>\n",
       "                    <span style='color:blue;font-size:24px;font-weight:bold;line-height:1px;'>situation</span> tried give keep trying give point view \n",
       "                    <span style='color:red;font-size:24px;font-weight:bold;line-height:1px;text-decoration:line-through;'>things</span>\n",
       "                    <span style='color:blue;font-size:24px;font-weight:bold;line-height:1px;'>thing</span> done see give point view think think bit give take think acquiesce little bit certain \n",
       "                    <span style='color:red;font-size:24px;font-weight:bold;line-height:1px;text-decoration:line-through;'>things</span>\n",
       "                    <span style='color:blue;font-size:24px;font-weight:bold;line-height:1px;'>thing</span> usually certain \n",
       "                    <span style='color:red;font-size:24px;font-weight:bold;line-height:1px;text-decoration:line-through;'>parts</span>\n",
       "                    <span style='color:blue;font-size:24px;font-weight:bold;line-height:1px;'>part</span> position certain \n",
       "                    <span style='color:red;font-size:24px;font-weight:bold;line-height:1px;text-decoration:line-through;'>parts</span>\n",
       "                    <span style='color:blue;font-size:24px;font-weight:bold;line-height:1px;'>part</span> project think think stand believe ultimately think realistic cant get way every single time really outside work work think think good job attempt prove relationship \n",
       "                    <span style='color:red;font-size:24px;font-weight:bold;line-height:1px;text-decoration:line-through;'>relations</span>\n",
       "                    <span style='color:blue;font-size:24px;font-weight:bold;line-height:1px;'>relation</span> green think maybe done better job think patience respect main important part improve \n",
       "                    <span style='color:red;font-size:24px;font-weight:bold;line-height:1px;text-decoration:line-through;'>relationships</span>\n",
       "                    <span style='color:blue;font-size:24px;font-weight:bold;line-height:1px;'>relationship</span>"
      ],
      "text/plain": [
       "<IPython.core.display.HTML object>"
      ]
     },
     "metadata": {},
     "output_type": "display_data"
    },
    {
     "name": "stdout",
     "output_type": "stream",
     "text": [
      " \n"
     ]
    },
    {
     "data": {
      "text/html": [
       "<strong>Question 4</strong"
      ],
      "text/plain": [
       "<IPython.core.display.HTML object>"
      ]
     },
     "metadata": {},
     "output_type": "display_data"
    },
    {
     "data": {
      "text/html": [
       "following purse year medical school participate summer medical research fellowship mentor intensive care unit work prior medical school physical therapist intensive care unit morsel cancer center first year medical school participate research project examined none light sound \n",
       "                    <span style='color:red;font-size:24px;font-weight:bold;line-height:1px;text-decoration:line-through;'>patients</span>\n",
       "                    <span style='color:blue;font-size:24px;font-weight:bold;line-height:1px;'>patient</span> perceiving nice using researcher knowing x recovery \n",
       "                    <span style='color:red;font-size:24px;font-weight:bold;line-height:1px;text-decoration:line-through;'>backs</span>\n",
       "                    <span style='color:blue;font-size:24px;font-weight:bold;line-height:1px;'>back</span> overall overall plan care tried \n",
       "                    <span style='color:red;font-size:24px;font-weight:bold;line-height:1px;text-decoration:line-through;'>men</span>\n",
       "                    <span style='color:blue;font-size:24px;font-weight:bold;line-height:1px;'>man</span> trying stand grain much sound light different \n",
       "                    <span style='color:red;font-size:24px;font-weight:bold;line-height:1px;text-decoration:line-through;'>variables</span>\n",
       "                    <span style='color:blue;font-size:24px;font-weight:bold;line-height:1px;'>variable</span> experiencing create project scratch mean mentor couple \n",
       "                    <span style='color:red;font-size:24px;font-weight:bold;line-height:1px;text-decoration:line-through;'>positions</span>\n",
       "                    <span style='color:blue;font-size:24px;font-weight:bold;line-height:1px;'>position</span> \n",
       "                    <span style='color:red;font-size:24px;font-weight:bold;line-height:1px;text-decoration:line-through;'>buyouts</span>\n",
       "                    <span style='color:blue;font-size:24px;font-weight:bold;line-height:1px;'>buyout</span> \n",
       "                    <span style='color:red;font-size:24px;font-weight:bold;line-height:1px;text-decoration:line-through;'>citys</span>\n",
       "                    <span style='color:blue;font-size:24px;font-weight:bold;line-height:1px;'>city</span> six \n",
       "                    <span style='color:red;font-size:24px;font-weight:bold;line-height:1px;text-decoration:line-through;'>data</span>\n",
       "                    <span style='color:blue;font-size:24px;font-weight:bold;line-height:1px;'>datum</span> gathering analyzing \n",
       "                    <span style='color:red;font-size:24px;font-weight:bold;line-height:1px;text-decoration:line-through;'>data</span>\n",
       "                    <span style='color:blue;font-size:24px;font-weight:bold;line-height:1px;'>datum</span> mentor work together closely multiple \n",
       "                    <span style='color:red;font-size:24px;font-weight:bold;line-height:1px;text-decoration:line-through;'>reviews</span>\n",
       "                    <span style='color:blue;font-size:24px;font-weight:bold;line-height:1px;'>review</span> talked \n",
       "                    <span style='color:red;font-size:24px;font-weight:bold;line-height:1px;text-decoration:line-through;'>proteins</span>\n",
       "                    <span style='color:blue;font-size:24px;font-weight:bold;line-height:1px;'>protein</span> could possibly change different \n",
       "                    <span style='color:red;font-size:24px;font-weight:bold;line-height:1px;text-decoration:line-through;'>things</span>\n",
       "                    <span style='color:blue;font-size:24px;font-weight:bold;line-height:1px;'>thing</span> think project \n",
       "                    <span style='color:red;font-size:24px;font-weight:bold;line-height:1px;text-decoration:line-through;'>requires</span>\n",
       "                    <span style='color:blue;font-size:24px;font-weight:bold;line-height:1px;'>require</span> lot detail succeed \n",
       "                    <span style='color:red;font-size:24px;font-weight:bold;line-height:1px;text-decoration:line-through;'>theres</span>\n",
       "                    <span style='color:blue;font-size:24px;font-weight:bold;line-height:1px;'>there</span> going \n",
       "                    <span style='color:red;font-size:24px;font-weight:bold;line-height:1px;text-decoration:line-through;'>visions</span>\n",
       "                    <span style='color:blue;font-size:24px;font-weight:bold;line-height:1px;'>vision</span> \n",
       "                    <span style='color:red;font-size:24px;font-weight:bold;line-height:1px;text-decoration:line-through;'>theres</span>\n",
       "                    <span style='color:blue;font-size:24px;font-weight:bold;line-height:1px;'>there</span> lot thought outside thought \n",
       "                    <span style='color:red;font-size:24px;font-weight:bold;line-height:1px;text-decoration:line-through;'>pinions</span>\n",
       "                    <span style='color:blue;font-size:24px;font-weight:bold;line-height:1px;'>pinion</span> going sharing \n",
       "                    <span style='color:red;font-size:24px;font-weight:bold;line-height:1px;text-decoration:line-through;'>opinions</span>\n",
       "                    <span style='color:blue;font-size:24px;font-weight:bold;line-height:1px;'>opinion</span> \n",
       "                    <span style='color:red;font-size:24px;font-weight:bold;line-height:1px;text-decoration:line-through;'>thats</span>\n",
       "                    <span style='color:blue;font-size:24px;font-weight:bold;line-height:1px;'>that</span> revised approach project multiple \n",
       "                    <span style='color:red;font-size:24px;font-weight:bold;line-height:1px;text-decoration:line-through;'>times</span>\n",
       "                    <span style='color:blue;font-size:24px;font-weight:bold;line-height:1px;'>time</span> rupert changed multiple \n",
       "                    <span style='color:red;font-size:24px;font-weight:bold;line-height:1px;text-decoration:line-through;'>times</span>\n",
       "                    <span style='color:blue;font-size:24px;font-weight:bold;line-height:1px;'>time</span> paper post presentation different \n",
       "                    <span style='color:red;font-size:24px;font-weight:bold;line-height:1px;text-decoration:line-through;'>ways</span>\n",
       "                    <span style='color:blue;font-size:24px;font-weight:bold;line-height:1px;'>way</span> gathering \n",
       "                    <span style='color:red;font-size:24px;font-weight:bold;line-height:1px;text-decoration:line-through;'>data</span>\n",
       "                    <span style='color:blue;font-size:24px;font-weight:bold;line-height:1px;'>datum</span> think ultimately freedom thought \n",
       "                    <span style='color:red;font-size:24px;font-weight:bold;line-height:1px;text-decoration:line-through;'>everyones</span>\n",
       "                    <span style='color:blue;font-size:24px;font-weight:bold;line-height:1px;'>everyone</span> comfortable every one office opinion \n",
       "                    <span style='color:red;font-size:24px;font-weight:bold;line-height:1px;text-decoration:line-through;'>things</span>\n",
       "                    <span style='color:blue;font-size:24px;font-weight:bold;line-height:1px;'>thing</span> could possibly done differently \n",
       "                    <span style='color:red;font-size:24px;font-weight:bold;line-height:1px;text-decoration:line-through;'>things</span>\n",
       "                    <span style='color:blue;font-size:24px;font-weight:bold;line-height:1px;'>thing</span> could approached think set \n",
       "                    <span style='color:red;font-size:24px;font-weight:bold;line-height:1px;text-decoration:line-through;'>success</span>\n",
       "                    <span style='color:blue;font-size:24px;font-weight:bold;line-height:1px;'>succes</span> project done first year medical school think successful except journal consumed going couple \n",
       "                    <span style='color:red;font-size:24px;font-weight:bold;line-height:1px;text-decoration:line-through;'>visions</span>\n",
       "                    <span style='color:blue;font-size:24px;font-weight:bold;line-height:1px;'>vision</span> think great experience lot think putting hard work time big step ensuring successful project keep"
      ],
      "text/plain": [
       "<IPython.core.display.HTML object>"
      ]
     },
     "metadata": {},
     "output_type": "display_data"
    },
    {
     "name": "stdout",
     "output_type": "stream",
     "text": [
      " \n"
     ]
    },
    {
     "data": {
      "text/html": [
       "<strong>Question 5</strong"
      ],
      "text/plain": [
       "<IPython.core.display.HTML object>"
      ]
     },
     "metadata": {},
     "output_type": "display_data"
    },
    {
     "data": {
      "text/html": [
       "prior medical school physical therapist sense carrying memorial sloan carey cancer center one top ranked oncology \n",
       "                    <span style='color:red;font-size:24px;font-weight:bold;line-height:1px;text-decoration:line-through;'>hospitals</span>\n",
       "                    <span style='color:blue;font-size:24px;font-weight:bold;line-height:1px;'>hospital</span> intensive working intensive care unit \n",
       "                    <span style='color:red;font-size:24px;font-weight:bold;line-height:1px;text-decoration:line-through;'>patients</span>\n",
       "                    <span style='color:blue;font-size:24px;font-weight:bold;line-height:1px;'>patient</span> sick critically ill truly ill \n",
       "                    <span style='color:red;font-size:24px;font-weight:bold;line-height:1px;text-decoration:line-through;'>slayers</span>\n",
       "                    <span style='color:blue;font-size:24px;font-weight:bold;line-height:1px;'>slayer</span> poor \n",
       "                    <span style='color:red;font-size:24px;font-weight:bold;line-height:1px;text-decoration:line-through;'>prognosis</span>\n",
       "                    <span style='color:blue;font-size:24px;font-weight:bold;line-height:1px;'>prognosi</span> often \n",
       "                    <span style='color:red;font-size:24px;font-weight:bold;line-height:1px;text-decoration:line-through;'>times</span>\n",
       "                    <span style='color:blue;font-size:24px;font-weight:bold;line-height:1px;'>time</span> deal compassion toward \n",
       "                    <span style='color:red;font-size:24px;font-weight:bold;line-height:1px;text-decoration:line-through;'>patients</span>\n",
       "                    <span style='color:blue;font-size:24px;font-weight:bold;line-height:1px;'>patient</span> think e ps also theyre going \n",
       "                    <span style='color:red;font-size:24px;font-weight:bold;line-height:1px;text-decoration:line-through;'>things</span>\n",
       "                    <span style='color:blue;font-size:24px;font-weight:bold;line-height:1px;'>thing</span> ten \n",
       "                    <span style='color:red;font-size:24px;font-weight:bold;line-height:1px;text-decoration:line-through;'>times</span>\n",
       "                    <span style='color:blue;font-size:24px;font-weight:bold;line-height:1px;'>time</span> worse anything \n",
       "                    <span style='color:red;font-size:24px;font-weight:bold;line-height:1px;text-decoration:line-through;'>us</span>\n",
       "                    <span style='color:blue;font-size:24px;font-weight:bold;line-height:1px;'>u</span> imagine chemotherapy \n",
       "                    <span style='color:red;font-size:24px;font-weight:bold;line-height:1px;text-decoration:line-through;'>surgeries</span>\n",
       "                    <span style='color:blue;font-size:24px;font-weight:bold;line-height:1px;'>surgery</span> radiation multiple \n",
       "                    <span style='color:red;font-size:24px;font-weight:bold;line-height:1px;text-decoration:line-through;'>cancers</span>\n",
       "                    <span style='color:blue;font-size:24px;font-weight:bold;line-height:1px;'>cancer</span> \n",
       "                    <span style='color:red;font-size:24px;font-weight:bold;line-height:1px;text-decoration:line-through;'>millings</span>\n",
       "                    <span style='color:blue;font-size:24px;font-weight:bold;line-height:1px;'>milling</span> used comb would \n",
       "                    <span style='color:red;font-size:24px;font-weight:bold;line-height:1px;text-decoration:line-through;'>things</span>\n",
       "                    <span style='color:blue;font-size:24px;font-weight:bold;line-height:1px;'>thing</span> occurring \n",
       "                    <span style='color:red;font-size:24px;font-weight:bold;line-height:1px;text-decoration:line-through;'>treatments</span>\n",
       "                    <span style='color:blue;font-size:24px;font-weight:bold;line-height:1px;'>treatment</span> cancer five \n",
       "                    <span style='color:red;font-size:24px;font-weight:bold;line-height:1px;text-decoration:line-through;'>years</span>\n",
       "                    <span style='color:blue;font-size:24px;font-weight:bold;line-height:1px;'>year</span> bad \n",
       "                    <span style='color:red;font-size:24px;font-weight:bold;line-height:1px;text-decoration:line-through;'>days</span>\n",
       "                    <span style='color:blue;font-size:24px;font-weight:bold;line-height:1px;'>day</span> \n",
       "                    <span style='color:red;font-size:24px;font-weight:bold;line-height:1px;text-decoration:line-through;'>days</span>\n",
       "                    <span style='color:blue;font-size:24px;font-weight:bold;line-height:1px;'>day</span> \n",
       "                    <span style='color:red;font-size:24px;font-weight:bold;line-height:1px;text-decoration:line-through;'>things</span>\n",
       "                    <span style='color:blue;font-size:24px;font-weight:bold;line-height:1px;'>thing</span> happening outside work think physician medical profession youre held higher standard expected kind compartmentalize outside work work cant dont mix go way take something work take home kind think \n",
       "                    <span style='color:red;font-size:24px;font-weight:bold;line-height:1px;text-decoration:line-through;'>oftentimes</span>\n",
       "                    <span style='color:blue;font-size:24px;font-weight:bold;line-height:1px;'>oftentime</span> lead lot burnout working sloan multiple \n",
       "                    <span style='color:red;font-size:24px;font-weight:bold;line-height:1px;text-decoration:line-through;'>times</span>\n",
       "                    <span style='color:blue;font-size:24px;font-weight:bold;line-height:1px;'>time</span> \n",
       "                    <span style='color:red;font-size:24px;font-weight:bold;line-height:1px;text-decoration:line-through;'>situations</span>\n",
       "                    <span style='color:blue;font-size:24px;font-weight:bold;line-height:1px;'>situation</span> day know make sure separate happening outside required take care \n",
       "                    <span style='color:red;font-size:24px;font-weight:bold;line-height:1px;text-decoration:line-through;'>patients</span>\n",
       "                    <span style='color:blue;font-size:24px;font-weight:bold;line-height:1px;'>patient</span> ultimately think \n",
       "                    <span style='color:red;font-size:24px;font-weight:bold;line-height:1px;text-decoration:line-through;'>compositions</span>\n",
       "                    <span style='color:blue;font-size:24px;font-weight:bold;line-height:1px;'>composition</span> become part america feel help \n",
       "                    <span style='color:red;font-size:24px;font-weight:bold;line-height:1px;text-decoration:line-through;'>people</span>\n",
       "                    <span style='color:blue;font-size:24px;font-weight:bold;line-height:1px;'>person</span> youre allowing affected earth \n",
       "                    <span style='color:red;font-size:24px;font-weight:bold;line-height:1px;text-decoration:line-through;'>things</span>\n",
       "                    <span style='color:blue;font-size:24px;font-weight:bold;line-height:1px;'>thing</span> think youre youre preventing one main \n",
       "                    <span style='color:red;font-size:24px;font-weight:bold;line-height:1px;text-decoration:line-through;'>things</span>\n",
       "                    <span style='color:blue;font-size:24px;font-weight:bold;line-height:1px;'>thing</span> \n",
       "                    <span style='color:red;font-size:24px;font-weight:bold;line-height:1px;text-decoration:line-through;'>us</span>\n",
       "                    <span style='color:blue;font-size:24px;font-weight:bold;line-height:1px;'>u</span> come medical internet go theel help \n",
       "                    <span style='color:red;font-size:24px;font-weight:bold;line-height:1px;text-decoration:line-through;'>people</span>\n",
       "                    <span style='color:blue;font-size:24px;font-weight:bold;line-height:1px;'>person</span> best \n",
       "                    <span style='color:red;font-size:24px;font-weight:bold;line-height:1px;text-decoration:line-through;'>capabilities</span>\n",
       "                    <span style='color:blue;font-size:24px;font-weight:bold;line-height:1px;'>capability</span> \n",
       "                    <span style='color:red;font-size:24px;font-weight:bold;line-height:1px;text-decoration:line-through;'>thats</span>\n",
       "                    <span style='color:blue;font-size:24px;font-weight:bold;line-height:1px;'>that</span> manage situation try \n",
       "                    <span style='color:red;font-size:24px;font-weight:bold;line-height:1px;text-decoration:line-through;'>compartments</span>\n",
       "                    <span style='color:blue;font-size:24px;font-weight:bold;line-height:1px;'>compartment</span> \n",
       "                    <span style='color:red;font-size:24px;font-weight:bold;line-height:1px;text-decoration:line-through;'>eyes</span>\n",
       "                    <span style='color:blue;font-size:24px;font-weight:bold;line-height:1px;'>eye</span> everything \n",
       "                    <span style='color:red;font-size:24px;font-weight:bold;line-height:1px;text-decoration:line-through;'>thats</span>\n",
       "                    <span style='color:blue;font-size:24px;font-weight:bold;line-height:1px;'>that</span> happening dont take \n",
       "                    <span style='color:red;font-size:24px;font-weight:bold;line-height:1px;text-decoration:line-through;'>things</span>\n",
       "                    <span style='color:blue;font-size:24px;font-weight:bold;line-height:1px;'>thing</span> work dont take bad day dont bring work well tried rationally try empathetic tried patient \n",
       "                    <span style='color:red;font-size:24px;font-weight:bold;line-height:1px;text-decoration:line-through;'>limitations</span>\n",
       "                    <span style='color:blue;font-size:24px;font-weight:bold;line-height:1px;'>limitation</span> thank"
      ],
      "text/plain": [
       "<IPython.core.display.HTML object>"
      ]
     },
     "metadata": {},
     "output_type": "display_data"
    },
    {
     "name": "stdout",
     "output_type": "stream",
     "text": [
      " \n"
     ]
    },
    {
     "data": {
      "text/html": [
       "<strong>Question 6</strong"
      ],
      "text/plain": [
       "<IPython.core.display.HTML object>"
      ]
     },
     "metadata": {},
     "output_type": "display_data"
    },
    {
     "data": {
      "text/html": [
       "prior medical school physical therapist carry morsel carry cancer center remember first \n",
       "                    <span style='color:red;font-size:24px;font-weight:bold;line-height:1px;text-decoration:line-through;'>weeks</span>\n",
       "                    <span style='color:blue;font-size:24px;font-weight:bold;line-height:1px;'>week</span> \n",
       "                    <span style='color:red;font-size:24px;font-weight:bold;line-height:1px;text-decoration:line-through;'>months</span>\n",
       "                    <span style='color:blue;font-size:24px;font-weight:bold;line-height:1px;'>month</span> worked certain \n",
       "                    <span style='color:red;font-size:24px;font-weight:bold;line-height:1px;text-decoration:line-through;'>colleagues</span>\n",
       "                    <span style='color:blue;font-size:24px;font-weight:bold;line-height:1px;'>colleague</span> loud \n",
       "                    <span style='color:red;font-size:24px;font-weight:bold;line-height:1px;text-decoration:line-through;'>boisterous</span>\n",
       "                    <span style='color:blue;font-size:24px;font-weight:bold;line-height:1px;'>boisterou</span> remember one particular occupational therapist loud \n",
       "                    <span style='color:red;font-size:24px;font-weight:bold;line-height:1px;text-decoration:line-through;'>boisterous</span>\n",
       "                    <span style='color:blue;font-size:24px;font-weight:bold;line-height:1px;'>boisterou</span> think developed \n",
       "                    <span style='color:red;font-size:24px;font-weight:bold;line-height:1px;text-decoration:line-through;'>bias</span>\n",
       "                    <span style='color:blue;font-size:24px;font-weight:bold;line-height:1px;'>bia</span> consciously possibly hes loud \n",
       "                    <span style='color:red;font-size:24px;font-weight:bold;line-height:1px;text-decoration:line-through;'>pushes</span>\n",
       "                    <span style='color:blue;font-size:24px;font-weight:bold;line-height:1px;'>push</span> \n",
       "                    <span style='color:red;font-size:24px;font-weight:bold;line-height:1px;text-decoration:line-through;'>people</span>\n",
       "                    <span style='color:blue;font-size:24px;font-weight:bold;line-height:1px;'>person</span> dont like dont get along \n",
       "                    <span style='color:red;font-size:24px;font-weight:bold;line-height:1px;text-decoration:line-through;'>tends</span>\n",
       "                    <span style='color:blue;font-size:24px;font-weight:bold;line-height:1px;'>tend</span> intense \n",
       "                    <span style='color:red;font-size:24px;font-weight:bold;line-height:1px;text-decoration:line-through;'>focus</span>\n",
       "                    <span style='color:blue;font-size:24px;font-weight:bold;line-height:1px;'>focu</span> work theyre trying life party think ironically person came closest \n",
       "                    <span style='color:red;font-size:24px;font-weight:bold;line-height:1px;text-decoration:line-through;'>friends</span>\n",
       "                    <span style='color:blue;font-size:24px;font-weight:bold;line-height:1px;'>friend</span> theyre still one close \n",
       "                    <span style='color:red;font-size:24px;font-weight:bold;line-height:1px;text-decoration:line-through;'>friends</span>\n",
       "                    <span style='color:blue;font-size:24px;font-weight:bold;line-height:1px;'>friend</span> day still keep touch think first happened first met think may little standoffish reserved \n",
       "                    <span style='color:red;font-size:24px;font-weight:bold;line-height:1px;text-decoration:line-through;'>always</span>\n",
       "                    <span style='color:blue;font-size:24px;font-weight:bold;line-height:1px;'>alway</span> respectful little reserved little shy mean possibly think also occupation \n",
       "                    <span style='color:red;font-size:24px;font-weight:bold;line-height:1px;text-decoration:line-through;'>business</span>\n",
       "                    <span style='color:blue;font-size:24px;font-weight:bold;line-height:1px;'>busines</span> work together lot think started working together think \n",
       "                    <span style='color:red;font-size:24px;font-weight:bold;line-height:1px;text-decoration:line-through;'>always</span>\n",
       "                    <span style='color:blue;font-size:24px;font-weight:bold;line-height:1px;'>alway</span> try whenever ive working somewhere try respectful try patient try understanding also start work together got know person knew \n",
       "                    <span style='color:red;font-size:24px;font-weight:bold;line-height:1px;text-decoration:line-through;'>shes</span>\n",
       "                    <span style='color:blue;font-size:24px;font-weight:bold;line-height:1px;'>sh</span> great personality \n",
       "                    <span style='color:red;font-size:24px;font-weight:bold;line-height:1px;text-decoration:line-through;'>thats</span>\n",
       "                    <span style='color:blue;font-size:24px;font-weight:bold;line-height:1px;'>that</span> \n",
       "                    <span style='color:red;font-size:24px;font-weight:bold;line-height:1px;text-decoration:line-through;'>thats</span>\n",
       "                    <span style='color:blue;font-size:24px;font-weight:bold;line-height:1px;'>that</span> personality one smartest \n",
       "                    <span style='color:red;font-size:24px;font-weight:bold;line-height:1px;text-decoration:line-through;'>people</span>\n",
       "                    <span style='color:blue;font-size:24px;font-weight:bold;line-height:1px;'>person</span> know one hardworking \n",
       "                    <span style='color:red;font-size:24px;font-weight:bold;line-height:1px;text-decoration:line-through;'>people</span>\n",
       "                    <span style='color:blue;font-size:24px;font-weight:bold;line-height:1px;'>person</span> know learned lot learned lot think think learn lot interaction think \n",
       "                    <span style='color:red;font-size:24px;font-weight:bold;line-height:1px;text-decoration:line-through;'>always</span>\n",
       "                    <span style='color:blue;font-size:24px;font-weight:bold;line-height:1px;'>alway</span> try make sure dont allow bicycle judgment change tree \n",
       "                    <span style='color:red;font-size:24px;font-weight:bold;line-height:1px;text-decoration:line-through;'>people</span>\n",
       "                    <span style='color:blue;font-size:24px;font-weight:bold;line-height:1px;'>person</span> think example good example kind let slip away didnt know mindful may coal shy normally think \n",
       "                    <span style='color:red;font-size:24px;font-weight:bold;line-height:1px;text-decoration:line-through;'>moments</span>\n",
       "                    <span style='color:blue;font-size:24px;font-weight:bold;line-height:1px;'>moment</span> \n",
       "                    <span style='color:red;font-size:24px;font-weight:bold;line-height:1px;text-decoration:line-through;'>oftentimes</span>\n",
       "                    <span style='color:blue;font-size:24px;font-weight:bold;line-height:1px;'>oftentime</span> remind \n",
       "                    <span style='color:red;font-size:24px;font-weight:bold;line-height:1px;text-decoration:line-through;'>us</span>\n",
       "                    <span style='color:blue;font-size:24px;font-weight:bold;line-height:1px;'>u</span> \n",
       "                    <span style='color:red;font-size:24px;font-weight:bold;line-height:1px;text-decoration:line-through;'>people</span>\n",
       "                    <span style='color:blue;font-size:24px;font-weight:bold;line-height:1px;'>person</span> hard dont lot verse first time enough chip cloud judgment"
      ],
      "text/plain": [
       "<IPython.core.display.HTML object>"
      ]
     },
     "metadata": {},
     "output_type": "display_data"
    },
    {
     "name": "stdout",
     "output_type": "stream",
     "text": [
      " \n"
     ]
    },
    {
     "data": {
      "text/plain": [
       "''"
      ]
     },
     "execution_count": 17,
     "metadata": {},
     "output_type": "execute_result"
    }
   ],
   "source": [
    "for index, value in enumerate(q.index.tolist()):\n",
    "    display(HTML(f\"<strong>{value.capitalize()}</strong\"))\n",
    "    highlight(q.iloc[index, 0], lambda x: Word(x).singularize())\n",
    "    print(\" \")\n",
    ";"
   ]
  },
  {
   "cell_type": "code",
   "execution_count": 18,
   "metadata": {},
   "outputs": [],
   "source": [
    "for index, _ in q.iterrows():\n",
    "    q.loc[index] = q.loc[index].apply(lambda x: \" \".join([Word(word).singularize() for word in x.split()]))"
   ]
  },
  {
   "cell_type": "markdown",
   "metadata": {},
   "source": [
    "### 6. Stem words\n",
    "Remove all stems from words in the question text (e.g., applying --> appli, mentoring --> mentor, etc.)"
   ]
  },
  {
   "cell_type": "code",
   "execution_count": 19,
   "metadata": {},
   "outputs": [],
   "source": [
    "stemmer = PorterStemmer()"
   ]
  },
  {
   "cell_type": "code",
   "execution_count": 20,
   "metadata": {},
   "outputs": [
    {
     "data": {
      "text/html": [
       "<strong>Question 1</strong"
      ],
      "text/plain": [
       "<IPython.core.display.HTML object>"
      ]
     },
     "metadata": {},
     "output_type": "display_data"
    },
    {
     "data": {
      "text/html": [
       "prior \n",
       "                    <span style='color:red;font-size:24px;font-weight:bold;line-height:1px;text-decoration:line-through;'>applying</span>\n",
       "                    <span style='color:blue;font-size:24px;font-weight:bold;line-height:1px;'>appli</span> \n",
       "                    <span style='color:red;font-size:24px;font-weight:bold;line-height:1px;text-decoration:line-through;'>medical</span>\n",
       "                    <span style='color:blue;font-size:24px;font-weight:bold;line-height:1px;'>medic</span> school \n",
       "                    <span style='color:red;font-size:24px;font-weight:bold;line-height:1px;text-decoration:line-through;'>working</span>\n",
       "                    <span style='color:blue;font-size:24px;font-weight:bold;line-height:1px;'>work</span> \n",
       "                    <span style='color:red;font-size:24px;font-weight:bold;line-height:1px;text-decoration:line-through;'>physical</span>\n",
       "                    <span style='color:blue;font-size:24px;font-weight:bold;line-height:1px;'>physic</span> \n",
       "                    <span style='color:red;font-size:24px;font-weight:bold;line-height:1px;text-decoration:line-through;'>therapy</span>\n",
       "                    <span style='color:blue;font-size:24px;font-weight:bold;line-height:1px;'>therapi</span> \n",
       "                    <span style='color:red;font-size:24px;font-weight:bold;line-height:1px;text-decoration:line-through;'>percentage</span>\n",
       "                    <span style='color:blue;font-size:24px;font-weight:bold;line-height:1px;'>percentag</span> care know \n",
       "                    <span style='color:red;font-size:24px;font-weight:bold;line-height:1px;text-decoration:line-through;'>recently</span>\n",
       "                    <span style='color:blue;font-size:24px;font-weight:bold;line-height:1px;'>recent</span> got \n",
       "                    <span style='color:red;font-size:24px;font-weight:bold;line-height:1px;text-decoration:line-through;'>engaged</span>\n",
       "                    <span style='color:blue;font-size:24px;font-weight:bold;line-height:1px;'>engag</span> wife journey \n",
       "                    <span style='color:red;font-size:24px;font-weight:bold;line-height:1px;text-decoration:line-through;'>applying</span>\n",
       "                    <span style='color:blue;font-size:24px;font-weight:bold;line-height:1px;'>appli</span> \n",
       "                    <span style='color:red;font-size:24px;font-weight:bold;line-height:1px;text-decoration:line-through;'>medical</span>\n",
       "                    <span style='color:blue;font-size:24px;font-weight:bold;line-height:1px;'>medic</span> school first \n",
       "                    <span style='color:red;font-size:24px;font-weight:bold;line-height:1px;text-decoration:line-through;'>started</span>\n",
       "                    <span style='color:blue;font-size:24px;font-weight:bold;line-height:1px;'>start</span> \n",
       "                    <span style='color:red;font-size:24px;font-weight:bold;line-height:1px;text-decoration:line-through;'>wanted</span>\n",
       "                    <span style='color:blue;font-size:24px;font-weight:bold;line-height:1px;'>want</span> \n",
       "                    <span style='color:red;font-size:24px;font-weight:bold;line-height:1px;text-decoration:line-through;'>apply</span>\n",
       "                    <span style='color:blue;font-size:24px;font-weight:bold;line-height:1px;'>appli</span> \n",
       "                    <span style='color:red;font-size:24px;font-weight:bold;line-height:1px;text-decoration:line-through;'>medical</span>\n",
       "                    <span style='color:blue;font-size:24px;font-weight:bold;line-height:1px;'>medic</span> school \n",
       "                    <span style='color:red;font-size:24px;font-weight:bold;line-height:1px;text-decoration:line-through;'>discussed</span>\n",
       "                    <span style='color:blue;font-size:24px;font-weight:bold;line-height:1px;'>discuss</span> wife \n",
       "                    <span style='color:red;font-size:24px;font-weight:bold;line-height:1px;text-decoration:line-through;'>situation</span>\n",
       "                    <span style='color:blue;font-size:24px;font-weight:bold;line-height:1px;'>situat</span> bit \n",
       "                    <span style='color:red;font-size:24px;font-weight:bold;line-height:1px;text-decoration:line-through;'>hesitant</span>\n",
       "                    <span style='color:blue;font-size:24px;font-weight:bold;line-height:1px;'>hesit</span> \n",
       "                    <span style='color:red;font-size:24px;font-weight:bold;line-height:1px;text-decoration:line-through;'>pause</span>\n",
       "                    <span style='color:blue;font-size:24px;font-weight:bold;line-height:1px;'>paus</span> life understand \n",
       "                    <span style='color:red;font-size:24px;font-weight:bold;line-height:1px;text-decoration:line-through;'>discussed</span>\n",
       "                    <span style='color:blue;font-size:24px;font-weight:bold;line-height:1px;'>discuss</span> \n",
       "                    <span style='color:red;font-size:24px;font-weight:bold;line-height:1px;text-decoration:line-through;'>discussed</span>\n",
       "                    <span style='color:blue;font-size:24px;font-weight:bold;line-height:1px;'>discuss</span> \n",
       "                    <span style='color:red;font-size:24px;font-weight:bold;line-height:1px;text-decoration:line-through;'>family</span>\n",
       "                    <span style='color:blue;font-size:24px;font-weight:bold;line-height:1px;'>famili</span> \n",
       "                    <span style='color:red;font-size:24px;font-weight:bold;line-height:1px;text-decoration:line-through;'>discussed</span>\n",
       "                    <span style='color:blue;font-size:24px;font-weight:bold;line-height:1px;'>discuss</span> friend physician \n",
       "                    <span style='color:red;font-size:24px;font-weight:bold;line-height:1px;text-decoration:line-through;'>ultimately</span>\n",
       "                    <span style='color:blue;font-size:24px;font-weight:bold;line-height:1px;'>ultim</span> \n",
       "                    <span style='color:red;font-size:24px;font-weight:bold;line-height:1px;text-decoration:line-through;'>discussed</span>\n",
       "                    <span style='color:blue;font-size:24px;font-weight:bold;line-height:1px;'>discuss</span> pro con \n",
       "                    <span style='color:red;font-size:24px;font-weight:bold;line-height:1px;text-decoration:line-through;'>continuing</span>\n",
       "                    <span style='color:blue;font-size:24px;font-weight:bold;line-height:1px;'>continu</span> \n",
       "                    <span style='color:red;font-size:24px;font-weight:bold;line-height:1px;text-decoration:line-through;'>occupation</span>\n",
       "                    <span style='color:blue;font-size:24px;font-weight:bold;line-height:1px;'>occup</span> \n",
       "                    <span style='color:red;font-size:24px;font-weight:bold;line-height:1px;text-decoration:line-through;'>physical</span>\n",
       "                    <span style='color:blue;font-size:24px;font-weight:bold;line-height:1px;'>physic</span> therapist \n",
       "                    <span style='color:red;font-size:24px;font-weight:bold;line-height:1px;text-decoration:line-through;'>compared</span>\n",
       "                    <span style='color:blue;font-size:24px;font-weight:bold;line-height:1px;'>compar</span> \n",
       "                    <span style='color:red;font-size:24px;font-weight:bold;line-height:1px;text-decoration:line-through;'>attending</span>\n",
       "                    <span style='color:blue;font-size:24px;font-weight:bold;line-height:1px;'>attend</span> go school \n",
       "                    <span style='color:red;font-size:24px;font-weight:bold;line-height:1px;text-decoration:line-through;'>residency</span>\n",
       "                    <span style='color:blue;font-size:24px;font-weight:bold;line-height:1px;'>resid</span> mention \n",
       "                    <span style='color:red;font-size:24px;font-weight:bold;line-height:1px;text-decoration:line-through;'>becoming</span>\n",
       "                    <span style='color:blue;font-size:24px;font-weight:bold;line-height:1px;'>becom</span> \n",
       "                    <span style='color:red;font-size:24px;font-weight:bold;line-height:1px;text-decoration:line-through;'>tending</span>\n",
       "                    <span style='color:blue;font-size:24px;font-weight:bold;line-height:1px;'>tend</span> would \n",
       "                    <span style='color:red;font-size:24px;font-weight:bold;line-height:1px;text-decoration:line-through;'>stres</span>\n",
       "                    <span style='color:blue;font-size:24px;font-weight:bold;line-height:1px;'>stre</span> pro con think also wife came around point view think \n",
       "                    <span style='color:red;font-size:24px;font-weight:bold;line-height:1px;text-decoration:line-through;'>ultimately</span>\n",
       "                    <span style='color:blue;font-size:24px;font-weight:bold;line-height:1px;'>ultim</span> approach \n",
       "                    <span style='color:red;font-size:24px;font-weight:bold;line-height:1px;text-decoration:line-through;'>situation</span>\n",
       "                    <span style='color:blue;font-size:24px;font-weight:bold;line-height:1px;'>situat</span> there \n",
       "                    <span style='color:red;font-size:24px;font-weight:bold;line-height:1px;text-decoration:line-through;'>disagreement</span>\n",
       "                    <span style='color:blue;font-size:24px;font-weight:bold;line-height:1px;'>disagr</span> \n",
       "                    <span style='color:red;font-size:24px;font-weight:bold;line-height:1px;text-decoration:line-through;'>try</span>\n",
       "                    <span style='color:blue;font-size:24px;font-weight:bold;line-height:1px;'>tri</span> \n",
       "                    <span style='color:red;font-size:24px;font-weight:bold;line-height:1px;text-decoration:line-through;'>systematic</span>\n",
       "                    <span style='color:blue;font-size:24px;font-weight:bold;line-height:1px;'>systemat</span> \n",
       "                    <span style='color:red;font-size:24px;font-weight:bold;line-height:1px;text-decoration:line-through;'>try</span>\n",
       "                    <span style='color:blue;font-size:24px;font-weight:bold;line-height:1px;'>tri</span> pro con \n",
       "                    <span style='color:red;font-size:24px;font-weight:bold;line-height:1px;text-decoration:line-through;'>try</span>\n",
       "                    <span style='color:blue;font-size:24px;font-weight:bold;line-height:1px;'>tri</span> \n",
       "                    <span style='color:red;font-size:24px;font-weight:bold;line-height:1px;text-decoration:line-through;'>welcome</span>\n",
       "                    <span style='color:blue;font-size:24px;font-weight:bold;line-height:1px;'>welcom</span> opinion \n",
       "                    <span style='color:red;font-size:24px;font-weight:bold;line-height:1px;text-decoration:line-through;'>try</span>\n",
       "                    <span style='color:blue;font-size:24px;font-weight:bold;line-height:1px;'>tri</span> ask person opinion \n",
       "                    <span style='color:red;font-size:24px;font-weight:bold;line-height:1px;text-decoration:line-through;'>else</span>\n",
       "                    <span style='color:blue;font-size:24px;font-weight:bold;line-height:1px;'>els</span> mean \n",
       "                    <span style='color:red;font-size:24px;font-weight:bold;line-height:1px;text-decoration:line-through;'>situation</span>\n",
       "                    <span style='color:blue;font-size:24px;font-weight:bold;line-height:1px;'>situat</span> think \n",
       "                    <span style='color:red;font-size:24px;font-weight:bold;line-height:1px;text-decoration:line-through;'>worked</span>\n",
       "                    <span style='color:blue;font-size:24px;font-weight:bold;line-height:1px;'>work</span> think \n",
       "                    <span style='color:red;font-size:24px;font-weight:bold;line-height:1px;text-decoration:line-through;'>medical</span>\n",
       "                    <span style='color:blue;font-size:24px;font-weight:bold;line-height:1px;'>medic</span> school bond adar \n",
       "                    <span style='color:red;font-size:24px;font-weight:bold;line-height:1px;text-decoration:line-through;'>ultimately</span>\n",
       "                    <span style='color:blue;font-size:24px;font-weight:bold;line-height:1px;'>ultim</span> \n",
       "                    <span style='color:red;font-size:24px;font-weight:bold;line-height:1px;text-decoration:line-through;'>believe</span>\n",
       "                    <span style='color:blue;font-size:24px;font-weight:bold;line-height:1px;'>believ</span> journey taken \n",
       "                    <span style='color:red;font-size:24px;font-weight:bold;line-height:1px;text-decoration:line-through;'>betterment</span>\n",
       "                    <span style='color:blue;font-size:24px;font-weight:bold;line-height:1px;'>better</span> \n",
       "                    <span style='color:red;font-size:24px;font-weight:bold;line-height:1px;text-decoration:line-through;'>family</span>\n",
       "                    <span style='color:blue;font-size:24px;font-weight:bold;line-height:1px;'>famili</span> line line think that that main point \n",
       "                    <span style='color:red;font-size:24px;font-weight:bold;line-height:1px;text-decoration:line-through;'>try</span>\n",
       "                    <span style='color:blue;font-size:24px;font-weight:bold;line-height:1px;'>tri</span> convey eye wife long term would best option u \n",
       "                    <span style='color:red;font-size:24px;font-weight:bold;line-height:1px;text-decoration:line-through;'>family</span>\n",
       "                    <span style='color:blue;font-size:24px;font-weight:bold;line-height:1px;'>famili</span> \n",
       "                    <span style='color:red;font-size:24px;font-weight:bold;line-height:1px;text-decoration:line-through;'>agreed</span>\n",
       "                    <span style='color:blue;font-size:24px;font-weight:bold;line-height:1px;'>agre</span> im \n",
       "                    <span style='color:red;font-size:24px;font-weight:bold;line-height:1px;text-decoration:line-through;'>mentoring</span>\n",
       "                    <span style='color:blue;font-size:24px;font-weight:bold;line-height:1px;'>mentor</span> fourth year \n",
       "                    <span style='color:red;font-size:24px;font-weight:bold;line-height:1px;text-decoration:line-through;'>medical</span>\n",
       "                    <span style='color:blue;font-size:24px;font-weight:bold;line-height:1px;'>medic</span> school \n",
       "                    <span style='color:red;font-size:24px;font-weight:bold;line-height:1px;text-decoration:line-through;'>attempting</span>\n",
       "                    <span style='color:blue;font-size:24px;font-weight:bold;line-height:1px;'>attempt</span> enter \n",
       "                    <span style='color:red;font-size:24px;font-weight:bold;line-height:1px;text-decoration:line-through;'>residency</span>\n",
       "                    <span style='color:blue;font-size:24px;font-weight:bold;line-height:1px;'>resid</span> \n",
       "                    <span style='color:red;font-size:24px;font-weight:bold;line-height:1px;text-decoration:line-through;'>merced</span>\n",
       "                    <span style='color:blue;font-size:24px;font-weight:bold;line-height:1px;'>merc</span> \n",
       "                    <span style='color:red;font-size:24px;font-weight:bold;line-height:1px;text-decoration:line-through;'>mes</span>\n",
       "                    <span style='color:blue;font-size:24px;font-weight:bold;line-height:1px;'>me</span> \n",
       "                    <span style='color:red;font-size:24px;font-weight:bold;line-height:1px;text-decoration:line-through;'>ultimately</span>\n",
       "                    <span style='color:blue;font-size:24px;font-weight:bold;line-height:1px;'>ultim</span> think \n",
       "                    <span style='color:red;font-size:24px;font-weight:bold;line-height:1px;text-decoration:line-through;'>worked</span>\n",
       "                    <span style='color:blue;font-size:24px;font-weight:bold;line-height:1px;'>work</span> thank"
      ],
      "text/plain": [
       "<IPython.core.display.HTML object>"
      ]
     },
     "metadata": {},
     "output_type": "display_data"
    },
    {
     "name": "stdout",
     "output_type": "stream",
     "text": [
      " \n"
     ]
    },
    {
     "data": {
      "text/html": [
       "<strong>Question 2</strong"
      ],
      "text/plain": [
       "<IPython.core.display.HTML object>"
      ]
     },
     "metadata": {},
     "output_type": "display_data"
    },
    {
     "data": {
      "text/html": [
       "prior \n",
       "                    <span style='color:red;font-size:24px;font-weight:bold;line-height:1px;text-decoration:line-through;'>attending</span>\n",
       "                    <span style='color:blue;font-size:24px;font-weight:bold;line-height:1px;'>attend</span> \n",
       "                    <span style='color:red;font-size:24px;font-weight:bold;line-height:1px;text-decoration:line-through;'>medical</span>\n",
       "                    <span style='color:blue;font-size:24px;font-weight:bold;line-height:1px;'>medic</span> school \n",
       "                    <span style='color:red;font-size:24px;font-weight:bold;line-height:1px;text-decoration:line-through;'>physical</span>\n",
       "                    <span style='color:blue;font-size:24px;font-weight:bold;line-height:1px;'>physic</span> therapist sort cancer center job \n",
       "                    <span style='color:red;font-size:24px;font-weight:bold;line-height:1px;text-decoration:line-through;'>mobilize</span>\n",
       "                    <span style='color:blue;font-size:24px;font-weight:bold;line-height:1px;'>mobil</span> patient right q \n",
       "                    <span style='color:red;font-size:24px;font-weight:bold;line-height:1px;text-decoration:line-through;'>surgery</span>\n",
       "                    <span style='color:blue;font-size:24px;font-weight:bold;line-height:1px;'>surgeri</span> \n",
       "                    <span style='color:red;font-size:24px;font-weight:bold;line-height:1px;text-decoration:line-through;'>many</span>\n",
       "                    <span style='color:blue;font-size:24px;font-weight:bold;line-height:1px;'>mani</span> \n",
       "                    <span style='color:red;font-size:24px;font-weight:bold;line-height:1px;text-decoration:line-through;'>large</span>\n",
       "                    <span style='color:blue;font-size:24px;font-weight:bold;line-height:1px;'>larg</span> amount pain \n",
       "                    <span style='color:red;font-size:24px;font-weight:bold;line-height:1px;text-decoration:line-through;'>multiple</span>\n",
       "                    <span style='color:blue;font-size:24px;font-weight:bold;line-height:1px;'>multipl</span> time patient \n",
       "                    <span style='color:red;font-size:24px;font-weight:bold;line-height:1px;text-decoration:line-through;'>disagree</span>\n",
       "                    <span style='color:blue;font-size:24px;font-weight:bold;line-height:1px;'>disagre</span> wait get bed might stay bed \n",
       "                    <span style='color:red;font-size:24px;font-weight:bold;line-height:1px;text-decoration:line-through;'>wanting</span>\n",
       "                    <span style='color:blue;font-size:24px;font-weight:bold;line-height:1px;'>want</span> rest \n",
       "                    <span style='color:red;font-size:24px;font-weight:bold;line-height:1px;text-decoration:line-through;'>surgery</span>\n",
       "                    <span style='color:blue;font-size:24px;font-weight:bold;line-height:1px;'>surgeri</span> patient \n",
       "                    <span style='color:red;font-size:24px;font-weight:bold;line-height:1px;text-decoration:line-through;'>ultimately</span>\n",
       "                    <span style='color:blue;font-size:24px;font-weight:bold;line-height:1px;'>ultim</span> came around think patient \n",
       "                    <span style='color:red;font-size:24px;font-weight:bold;line-height:1px;text-decoration:line-through;'>agree</span>\n",
       "                    <span style='color:blue;font-size:24px;font-weight:bold;line-height:1px;'>agre</span> \n",
       "                    <span style='color:red;font-size:24px;font-weight:bold;line-height:1px;text-decoration:line-through;'>disagree</span>\n",
       "                    <span style='color:blue;font-size:24px;font-weight:bold;line-height:1px;'>disagre</span> think best approach \n",
       "                    <span style='color:red;font-size:24px;font-weight:bold;line-height:1px;text-decoration:line-through;'>try</span>\n",
       "                    <span style='color:blue;font-size:24px;font-weight:bold;line-height:1px;'>tri</span> \n",
       "                    <span style='color:red;font-size:24px;font-weight:bold;line-height:1px;text-decoration:line-through;'>educate</span>\n",
       "                    <span style='color:blue;font-size:24px;font-weight:bold;line-height:1px;'>educ</span> \n",
       "                    <span style='color:red;font-size:24px;font-weight:bold;line-height:1px;text-decoration:line-through;'>try</span>\n",
       "                    <span style='color:blue;font-size:24px;font-weight:bold;line-height:1px;'>tri</span> patient \n",
       "                    <span style='color:red;font-size:24px;font-weight:bold;line-height:1px;text-decoration:line-through;'>ultimately</span>\n",
       "                    <span style='color:blue;font-size:24px;font-weight:bold;line-height:1px;'>ultim</span> \n",
       "                    <span style='color:red;font-size:24px;font-weight:bold;line-height:1px;text-decoration:line-through;'>try</span>\n",
       "                    <span style='color:blue;font-size:24px;font-weight:bold;line-height:1px;'>tri</span> understand \n",
       "                    <span style='color:red;font-size:24px;font-weight:bold;line-height:1px;text-decoration:line-through;'>theyre</span>\n",
       "                    <span style='color:blue;font-size:24px;font-weight:bold;line-height:1px;'>theyr</span> \n",
       "                    <span style='color:red;font-size:24px;font-weight:bold;line-height:1px;text-decoration:line-through;'>coming</span>\n",
       "                    <span style='color:blue;font-size:24px;font-weight:bold;line-height:1px;'>come</span> approach way think journal good \n",
       "                    <span style='color:red;font-size:24px;font-weight:bold;line-height:1px;text-decoration:line-through;'>outcome</span>\n",
       "                    <span style='color:blue;font-size:24px;font-weight:bold;line-height:1px;'>outcom</span> \n",
       "                    <span style='color:red;font-size:24px;font-weight:bold;line-height:1px;text-decoration:line-through;'>situation</span>\n",
       "                    <span style='color:blue;font-size:24px;font-weight:bold;line-height:1px;'>situat</span> patient pain one get \n",
       "                    <span style='color:red;font-size:24px;font-weight:bold;line-height:1px;text-decoration:line-through;'>tried</span>\n",
       "                    <span style='color:blue;font-size:24px;font-weight:bold;line-height:1px;'>tri</span> work around \n",
       "                    <span style='color:red;font-size:24px;font-weight:bold;line-height:1px;text-decoration:line-through;'>schedule</span>\n",
       "                    <span style='color:blue;font-size:24px;font-weight:bold;line-height:1px;'>schedul</span> \n",
       "                    <span style='color:red;font-size:24px;font-weight:bold;line-height:1px;text-decoration:line-through;'>try</span>\n",
       "                    <span style='color:blue;font-size:24px;font-weight:bold;line-height:1px;'>tri</span> time pain \n",
       "                    <span style='color:red;font-size:24px;font-weight:bold;line-height:1px;text-decoration:line-through;'>medication</span>\n",
       "                    <span style='color:blue;font-size:24px;font-weight:bold;line-height:1px;'>medic</span> time went around \n",
       "                    <span style='color:red;font-size:24px;font-weight:bold;line-height:1px;text-decoration:line-through;'>encourage</span>\n",
       "                    <span style='color:blue;font-size:24px;font-weight:bold;line-height:1px;'>encourag</span> \n",
       "                    <span style='color:red;font-size:24px;font-weight:bold;line-height:1px;text-decoration:line-through;'>try</span>\n",
       "                    <span style='color:blue;font-size:24px;font-weight:bold;line-height:1px;'>tri</span> work around \n",
       "                    <span style='color:red;font-size:24px;font-weight:bold;line-height:1px;text-decoration:line-through;'>schedule</span>\n",
       "                    <span style='color:blue;font-size:24px;font-weight:bold;line-height:1px;'>schedul</span> \n",
       "                    <span style='color:red;font-size:24px;font-weight:bold;line-height:1px;text-decoration:line-through;'>try</span>\n",
       "                    <span style='color:blue;font-size:24px;font-weight:bold;line-height:1px;'>tri</span> work around what best \n",
       "                    <span style='color:red;font-size:24px;font-weight:bold;line-height:1px;text-decoration:line-through;'>educate</span>\n",
       "                    <span style='color:blue;font-size:24px;font-weight:bold;line-height:1px;'>educ</span> \n",
       "                    <span style='color:red;font-size:24px;font-weight:bold;line-height:1px;text-decoration:line-through;'>try</span>\n",
       "                    <span style='color:blue;font-size:24px;font-weight:bold;line-height:1px;'>tri</span> give broad \n",
       "                    <span style='color:red;font-size:24px;font-weight:bold;line-height:1px;text-decoration:line-through;'>picture</span>\n",
       "                    <span style='color:blue;font-size:24px;font-weight:bold;line-height:1px;'>pictur</span> \n",
       "                    <span style='color:red;font-size:24px;font-weight:bold;line-height:1px;text-decoration:line-through;'>meaning</span>\n",
       "                    <span style='color:blue;font-size:24px;font-weight:bold;line-height:1px;'>mean</span> first step gain home \n",
       "                    <span style='color:red;font-size:24px;font-weight:bold;line-height:1px;text-decoration:line-through;'>eventually</span>\n",
       "                    <span style='color:blue;font-size:24px;font-weight:bold;line-height:1px;'>eventu</span> \n",
       "                    <span style='color:red;font-size:24px;font-weight:bold;line-height:1px;text-decoration:line-through;'>going</span>\n",
       "                    <span style='color:blue;font-size:24px;font-weight:bold;line-height:1px;'>go</span> back normal \n",
       "                    <span style='color:red;font-size:24px;font-weight:bold;line-height:1px;text-decoration:line-through;'>daily</span>\n",
       "                    <span style='color:blue;font-size:24px;font-weight:bold;line-height:1px;'>daili</span> \n",
       "                    <span style='color:red;font-size:24px;font-weight:bold;line-height:1px;text-decoration:line-through;'>routine</span>\n",
       "                    <span style='color:blue;font-size:24px;font-weight:bold;line-height:1px;'>routin</span> think give \n",
       "                    <span style='color:red;font-size:24px;font-weight:bold;line-height:1px;text-decoration:line-through;'>perspective</span>\n",
       "                    <span style='color:blue;font-size:24px;font-weight:bold;line-height:1px;'>perspect</span> think \n",
       "                    <span style='color:red;font-size:24px;font-weight:bold;line-height:1px;text-decoration:line-through;'>educate</span>\n",
       "                    <span style='color:blue;font-size:24px;font-weight:bold;line-height:1px;'>educ</span> patient id say \n",
       "                    <span style='color:red;font-size:24px;font-weight:bold;line-height:1px;text-decoration:line-through;'>ninety</span>\n",
       "                    <span style='color:blue;font-size:24px;font-weight:bold;line-height:1px;'>nineti</span> nine one \n",
       "                    <span style='color:red;font-size:24px;font-weight:bold;line-height:1px;text-decoration:line-through;'>hundred</span>\n",
       "                    <span style='color:blue;font-size:24px;font-weight:bold;line-height:1px;'>hundr</span> percent time \n",
       "                    <span style='color:red;font-size:24px;font-weight:bold;line-height:1px;text-decoration:line-through;'>eventually</span>\n",
       "                    <span style='color:blue;font-size:24px;font-weight:bold;line-height:1px;'>eventu</span> come around think that best way approach patient \n",
       "                    <span style='color:red;font-size:24px;font-weight:bold;line-height:1px;text-decoration:line-through;'>disagreement</span>\n",
       "                    <span style='color:blue;font-size:24px;font-weight:bold;line-height:1px;'>disagr</span> agreement \n",
       "                    <span style='color:red;font-size:24px;font-weight:bold;line-height:1px;text-decoration:line-through;'>disagreement</span>\n",
       "                    <span style='color:blue;font-size:24px;font-weight:bold;line-height:1px;'>disagr</span> \n",
       "                    <span style='color:red;font-size:24px;font-weight:bold;line-height:1px;text-decoration:line-through;'>general</span>\n",
       "                    <span style='color:blue;font-size:24px;font-weight:bold;line-height:1px;'>gener</span> \n",
       "                    <span style='color:red;font-size:24px;font-weight:bold;line-height:1px;text-decoration:line-through;'>situation</span>\n",
       "                    <span style='color:blue;font-size:24px;font-weight:bold;line-height:1px;'>situat</span> spoke patient also \n",
       "                    <span style='color:red;font-size:24px;font-weight:bold;line-height:1px;text-decoration:line-through;'>discharged</span>\n",
       "                    <span style='color:blue;font-size:24px;font-weight:bold;line-height:1px;'>discharg</span> \n",
       "                    <span style='color:red;font-size:24px;font-weight:bold;line-height:1px;text-decoration:line-through;'>thankful</span>\n",
       "                    <span style='color:blue;font-size:24px;font-weight:bold;line-height:1px;'>thank</span> didnt let take \n",
       "                    <span style='color:red;font-size:24px;font-weight:bold;line-height:1px;text-decoration:line-through;'>easy</span>\n",
       "                    <span style='color:blue;font-size:24px;font-weight:bold;line-height:1px;'>easi</span> let hook patient also think \n",
       "                    <span style='color:red;font-size:24px;font-weight:bold;line-height:1px;text-decoration:line-through;'>played</span>\n",
       "                    <span style='color:blue;font-size:24px;font-weight:bold;line-height:1px;'>play</span> role \n",
       "                    <span style='color:red;font-size:24px;font-weight:bold;line-height:1px;text-decoration:line-through;'>helping</span>\n",
       "                    <span style='color:blue;font-size:24px;font-weight:bold;line-height:1px;'>help</span> get back thing need get church \n",
       "                    <span style='color:red;font-size:24px;font-weight:bold;line-height:1px;text-decoration:line-through;'>safely</span>\n",
       "                    <span style='color:blue;font-size:24px;font-weight:bold;line-height:1px;'>safe</span> get rate get \n",
       "                    <span style='color:red;font-size:24px;font-weight:bold;line-height:1px;text-decoration:line-through;'>charged</span>\n",
       "                    <span style='color:blue;font-size:24px;font-weight:bold;line-height:1px;'>charg</span>"
      ],
      "text/plain": [
       "<IPython.core.display.HTML object>"
      ]
     },
     "metadata": {},
     "output_type": "display_data"
    },
    {
     "name": "stdout",
     "output_type": "stream",
     "text": [
      " \n"
     ]
    },
    {
     "data": {
      "text/html": [
       "<strong>Question 3</strong"
      ],
      "text/plain": [
       "<IPython.core.display.HTML object>"
      ]
     },
     "metadata": {},
     "output_type": "display_data"
    },
    {
     "data": {
      "text/html": [
       "\n",
       "                    <span style='color:red;font-size:24px;font-weight:bold;line-height:1px;text-decoration:line-through;'>tried</span>\n",
       "                    <span style='color:blue;font-size:24px;font-weight:bold;line-height:1px;'>tri</span> \n",
       "                    <span style='color:red;font-size:24px;font-weight:bold;line-height:1px;text-decoration:line-through;'>medical</span>\n",
       "                    <span style='color:blue;font-size:24px;font-weight:bold;line-height:1px;'>medic</span> school \n",
       "                    <span style='color:red;font-size:24px;font-weight:bold;line-height:1px;text-decoration:line-through;'>worked</span>\n",
       "                    <span style='color:blue;font-size:24px;font-weight:bold;line-height:1px;'>work</span> \n",
       "                    <span style='color:red;font-size:24px;font-weight:bold;line-height:1px;text-decoration:line-through;'>physical</span>\n",
       "                    <span style='color:blue;font-size:24px;font-weight:bold;line-height:1px;'>physic</span> therapist \n",
       "                    <span style='color:red;font-size:24px;font-weight:bold;line-height:1px;text-decoration:line-through;'>intensive</span>\n",
       "                    <span style='color:blue;font-size:24px;font-weight:bold;line-height:1px;'>intens</span> care unit \n",
       "                    <span style='color:red;font-size:24px;font-weight:bold;line-height:1px;text-decoration:line-through;'>asked</span>\n",
       "                    <span style='color:blue;font-size:24px;font-weight:bold;line-height:1px;'>ask</span> \n",
       "                    <span style='color:red;font-size:24px;font-weight:bold;line-height:1px;text-decoration:line-through;'>multiple</span>\n",
       "                    <span style='color:blue;font-size:24px;font-weight:bold;line-height:1px;'>multipl</span> time certain project certain \n",
       "                    <span style='color:red;font-size:24px;font-weight:bold;line-height:1px;text-decoration:line-through;'>presentation</span>\n",
       "                    <span style='color:blue;font-size:24px;font-weight:bold;line-height:1px;'>present</span> physician member \n",
       "                    <span style='color:red;font-size:24px;font-weight:bold;line-height:1px;text-decoration:line-through;'>medical</span>\n",
       "                    <span style='color:blue;font-size:24px;font-weight:bold;line-height:1px;'>medic</span> team project time think rare project \n",
       "                    <span style='color:red;font-size:24px;font-weight:bold;line-height:1px;text-decoration:line-through;'>everyone</span>\n",
       "                    <span style='color:blue;font-size:24px;font-weight:bold;line-height:1px;'>everyon</span> \n",
       "                    <span style='color:red;font-size:24px;font-weight:bold;line-height:1px;text-decoration:line-through;'>agree</span>\n",
       "                    <span style='color:blue;font-size:24px;font-weight:bold;line-height:1px;'>agre</span> \n",
       "                    <span style='color:red;font-size:24px;font-weight:bold;line-height:1px;text-decoration:line-through;'>everything</span>\n",
       "                    <span style='color:blue;font-size:24px;font-weight:bold;line-height:1px;'>everyth</span> think \n",
       "                    <span style='color:red;font-size:24px;font-weight:bold;line-height:1px;text-decoration:line-through;'>artemy</span>\n",
       "                    <span style='color:blue;font-size:24px;font-weight:bold;line-height:1px;'>artemi</span> \n",
       "                    <span style='color:red;font-size:24px;font-weight:bold;line-height:1px;text-decoration:line-through;'>diverse</span>\n",
       "                    <span style='color:blue;font-size:24px;font-weight:bold;line-height:1px;'>divers</span> opinion \n",
       "                    <span style='color:red;font-size:24px;font-weight:bold;line-height:1px;text-decoration:line-through;'>different</span>\n",
       "                    <span style='color:blue;font-size:24px;font-weight:bold;line-height:1px;'>differ</span> \n",
       "                    <span style='color:red;font-size:24px;font-weight:bold;line-height:1px;text-decoration:line-through;'>different</span>\n",
       "                    <span style='color:blue;font-size:24px;font-weight:bold;line-height:1px;'>differ</span> point view make project better time ive make \n",
       "                    <span style='color:red;font-size:24px;font-weight:bold;line-height:1px;text-decoration:line-through;'>presentation</span>\n",
       "                    <span style='color:blue;font-size:24px;font-weight:bold;line-height:1px;'>present</span> \n",
       "                    <span style='color:red;font-size:24px;font-weight:bold;line-height:1px;text-decoration:line-through;'>position</span>\n",
       "                    <span style='color:blue;font-size:24px;font-weight:bold;line-height:1px;'>posit</span> \n",
       "                    <span style='color:red;font-size:24px;font-weight:bold;line-height:1px;text-decoration:line-through;'>nurse</span>\n",
       "                    <span style='color:blue;font-size:24px;font-weight:bold;line-height:1px;'>nurs</span> straight appear would \n",
       "                    <span style='color:red;font-size:24px;font-weight:bold;line-height:1px;text-decoration:line-through;'>working</span>\n",
       "                    <span style='color:blue;font-size:24px;font-weight:bold;line-height:1px;'>work</span> \n",
       "                    <span style='color:red;font-size:24px;font-weight:bold;line-height:1px;text-decoration:line-through;'>another</span>\n",
       "                    <span style='color:blue;font-size:24px;font-weight:bold;line-height:1px;'>anoth</span> \n",
       "                    <span style='color:red;font-size:24px;font-weight:bold;line-height:1px;text-decoration:line-through;'>physical</span>\n",
       "                    <span style='color:blue;font-size:24px;font-weight:bold;line-height:1px;'>physic</span> therapist \n",
       "                    <span style='color:red;font-size:24px;font-weight:bold;line-height:1px;text-decoration:line-through;'>another</span>\n",
       "                    <span style='color:blue;font-size:24px;font-weight:bold;line-height:1px;'>anoth</span> member \n",
       "                    <span style='color:red;font-size:24px;font-weight:bold;line-height:1px;text-decoration:line-through;'>create</span>\n",
       "                    <span style='color:blue;font-size:24px;font-weight:bold;line-height:1px;'>creat</span> nice power point \n",
       "                    <span style='color:red;font-size:24px;font-weight:bold;line-height:1px;text-decoration:line-through;'>presentation</span>\n",
       "                    <span style='color:blue;font-size:24px;font-weight:bold;line-height:1px;'>present</span> would \n",
       "                    <span style='color:red;font-size:24px;font-weight:bold;line-height:1px;text-decoration:line-through;'>disagreement</span>\n",
       "                    <span style='color:blue;font-size:24px;font-weight:bold;line-height:1px;'>disagr</span> think dont think \n",
       "                    <span style='color:red;font-size:24px;font-weight:bold;line-height:1px;text-decoration:line-through;'>anything</span>\n",
       "                    <span style='color:blue;font-size:24px;font-weight:bold;line-height:1px;'>anyth</span> think would \n",
       "                    <span style='color:red;font-size:24px;font-weight:bold;line-height:1px;text-decoration:line-through;'>disagreement</span>\n",
       "                    <span style='color:blue;font-size:24px;font-weight:bold;line-height:1px;'>disagr</span> want \n",
       "                    <span style='color:red;font-size:24px;font-weight:bold;line-height:1px;text-decoration:line-through;'>approaching</span>\n",
       "                    <span style='color:blue;font-size:24px;font-weight:bold;line-height:1px;'>approach</span> want \n",
       "                    <span style='color:red;font-size:24px;font-weight:bold;line-height:1px;text-decoration:line-through;'>introduce</span>\n",
       "                    <span style='color:blue;font-size:24px;font-weight:bold;line-height:1px;'>introduc</span> thing think think thing happen think best also need first first foremost \n",
       "                    <span style='color:red;font-size:24px;font-weight:bold;line-height:1px;text-decoration:line-through;'>respectful</span>\n",
       "                    <span style='color:blue;font-size:24px;font-weight:bold;line-height:1px;'>respect</span> take person say \n",
       "                    <span style='color:red;font-size:24px;font-weight:bold;line-height:1px;text-decoration:line-through;'>understanding</span>\n",
       "                    <span style='color:blue;font-size:24px;font-weight:bold;line-height:1px;'>understand</span> \n",
       "                    <span style='color:red;font-size:24px;font-weight:bold;line-height:1px;text-decoration:line-through;'>try</span>\n",
       "                    <span style='color:blue;font-size:24px;font-weight:bold;line-height:1px;'>tri</span> blow blow \n",
       "                    <span style='color:red;font-size:24px;font-weight:bold;line-height:1px;text-decoration:line-through;'>people</span>\n",
       "                    <span style='color:blue;font-size:24px;font-weight:bold;line-height:1px;'>peopl</span> opinion think think could done \n",
       "                    <span style='color:red;font-size:24px;font-weight:bold;line-height:1px;text-decoration:line-through;'>improve</span>\n",
       "                    <span style='color:blue;font-size:24px;font-weight:bold;line-height:1px;'>improv</span> relationship think tend think least somewhat \n",
       "                    <span style='color:red;font-size:24px;font-weight:bold;line-height:1px;text-decoration:line-through;'>successful</span>\n",
       "                    <span style='color:blue;font-size:24px;font-weight:bold;line-height:1px;'>success</span> \n",
       "                    <span style='color:red;font-size:24px;font-weight:bold;line-height:1px;text-decoration:line-through;'>situation</span>\n",
       "                    <span style='color:blue;font-size:24px;font-weight:bold;line-height:1px;'>situat</span> \n",
       "                    <span style='color:red;font-size:24px;font-weight:bold;line-height:1px;text-decoration:line-through;'>tried</span>\n",
       "                    <span style='color:blue;font-size:24px;font-weight:bold;line-height:1px;'>tri</span> give keep \n",
       "                    <span style='color:red;font-size:24px;font-weight:bold;line-height:1px;text-decoration:line-through;'>trying</span>\n",
       "                    <span style='color:blue;font-size:24px;font-weight:bold;line-height:1px;'>tri</span> give point view thing done see give point view think think bit give take think \n",
       "                    <span style='color:red;font-size:24px;font-weight:bold;line-height:1px;text-decoration:line-through;'>acquiesce</span>\n",
       "                    <span style='color:blue;font-size:24px;font-weight:bold;line-height:1px;'>acquiesc</span> \n",
       "                    <span style='color:red;font-size:24px;font-weight:bold;line-height:1px;text-decoration:line-through;'>little</span>\n",
       "                    <span style='color:blue;font-size:24px;font-weight:bold;line-height:1px;'>littl</span> bit certain thing \n",
       "                    <span style='color:red;font-size:24px;font-weight:bold;line-height:1px;text-decoration:line-through;'>usually</span>\n",
       "                    <span style='color:blue;font-size:24px;font-weight:bold;line-height:1px;'>usual</span> certain part \n",
       "                    <span style='color:red;font-size:24px;font-weight:bold;line-height:1px;text-decoration:line-through;'>position</span>\n",
       "                    <span style='color:blue;font-size:24px;font-weight:bold;line-height:1px;'>posit</span> certain part project think think stand \n",
       "                    <span style='color:red;font-size:24px;font-weight:bold;line-height:1px;text-decoration:line-through;'>believe</span>\n",
       "                    <span style='color:blue;font-size:24px;font-weight:bold;line-height:1px;'>believ</span> \n",
       "                    <span style='color:red;font-size:24px;font-weight:bold;line-height:1px;text-decoration:line-through;'>ultimately</span>\n",
       "                    <span style='color:blue;font-size:24px;font-weight:bold;line-height:1px;'>ultim</span> think \n",
       "                    <span style='color:red;font-size:24px;font-weight:bold;line-height:1px;text-decoration:line-through;'>realistic</span>\n",
       "                    <span style='color:blue;font-size:24px;font-weight:bold;line-height:1px;'>realist</span> cant get way \n",
       "                    <span style='color:red;font-size:24px;font-weight:bold;line-height:1px;text-decoration:line-through;'>every</span>\n",
       "                    <span style='color:blue;font-size:24px;font-weight:bold;line-height:1px;'>everi</span> \n",
       "                    <span style='color:red;font-size:24px;font-weight:bold;line-height:1px;text-decoration:line-through;'>single</span>\n",
       "                    <span style='color:blue;font-size:24px;font-weight:bold;line-height:1px;'>singl</span> time \n",
       "                    <span style='color:red;font-size:24px;font-weight:bold;line-height:1px;text-decoration:line-through;'>really</span>\n",
       "                    <span style='color:blue;font-size:24px;font-weight:bold;line-height:1px;'>realli</span> \n",
       "                    <span style='color:red;font-size:24px;font-weight:bold;line-height:1px;text-decoration:line-through;'>outside</span>\n",
       "                    <span style='color:blue;font-size:24px;font-weight:bold;line-height:1px;'>outsid</span> work work think think good job attempt prove relationship \n",
       "                    <span style='color:red;font-size:24px;font-weight:bold;line-height:1px;text-decoration:line-through;'>relation</span>\n",
       "                    <span style='color:blue;font-size:24px;font-weight:bold;line-height:1px;'>relat</span> green think \n",
       "                    <span style='color:red;font-size:24px;font-weight:bold;line-height:1px;text-decoration:line-through;'>maybe</span>\n",
       "                    <span style='color:blue;font-size:24px;font-weight:bold;line-height:1px;'>mayb</span> done better job think \n",
       "                    <span style='color:red;font-size:24px;font-weight:bold;line-height:1px;text-decoration:line-through;'>patience</span>\n",
       "                    <span style='color:blue;font-size:24px;font-weight:bold;line-height:1px;'>patienc</span> respect main \n",
       "                    <span style='color:red;font-size:24px;font-weight:bold;line-height:1px;text-decoration:line-through;'>important</span>\n",
       "                    <span style='color:blue;font-size:24px;font-weight:bold;line-height:1px;'>import</span> part \n",
       "                    <span style='color:red;font-size:24px;font-weight:bold;line-height:1px;text-decoration:line-through;'>improve</span>\n",
       "                    <span style='color:blue;font-size:24px;font-weight:bold;line-height:1px;'>improv</span> relationship"
      ],
      "text/plain": [
       "<IPython.core.display.HTML object>"
      ]
     },
     "metadata": {},
     "output_type": "display_data"
    },
    {
     "name": "stdout",
     "output_type": "stream",
     "text": [
      " \n"
     ]
    },
    {
     "data": {
      "text/html": [
       "<strong>Question 4</strong"
      ],
      "text/plain": [
       "<IPython.core.display.HTML object>"
      ]
     },
     "metadata": {},
     "output_type": "display_data"
    },
    {
     "data": {
      "text/html": [
       "\n",
       "                    <span style='color:red;font-size:24px;font-weight:bold;line-height:1px;text-decoration:line-through;'>following</span>\n",
       "                    <span style='color:blue;font-size:24px;font-weight:bold;line-height:1px;'>follow</span> \n",
       "                    <span style='color:red;font-size:24px;font-weight:bold;line-height:1px;text-decoration:line-through;'>purse</span>\n",
       "                    <span style='color:blue;font-size:24px;font-weight:bold;line-height:1px;'>purs</span> year \n",
       "                    <span style='color:red;font-size:24px;font-weight:bold;line-height:1px;text-decoration:line-through;'>medical</span>\n",
       "                    <span style='color:blue;font-size:24px;font-weight:bold;line-height:1px;'>medic</span> school \n",
       "                    <span style='color:red;font-size:24px;font-weight:bold;line-height:1px;text-decoration:line-through;'>participate</span>\n",
       "                    <span style='color:blue;font-size:24px;font-weight:bold;line-height:1px;'>particip</span> summer \n",
       "                    <span style='color:red;font-size:24px;font-weight:bold;line-height:1px;text-decoration:line-through;'>medical</span>\n",
       "                    <span style='color:blue;font-size:24px;font-weight:bold;line-height:1px;'>medic</span> research fellowship mentor \n",
       "                    <span style='color:red;font-size:24px;font-weight:bold;line-height:1px;text-decoration:line-through;'>intensive</span>\n",
       "                    <span style='color:blue;font-size:24px;font-weight:bold;line-height:1px;'>intens</span> care unit work prior \n",
       "                    <span style='color:red;font-size:24px;font-weight:bold;line-height:1px;text-decoration:line-through;'>medical</span>\n",
       "                    <span style='color:blue;font-size:24px;font-weight:bold;line-height:1px;'>medic</span> school \n",
       "                    <span style='color:red;font-size:24px;font-weight:bold;line-height:1px;text-decoration:line-through;'>physical</span>\n",
       "                    <span style='color:blue;font-size:24px;font-weight:bold;line-height:1px;'>physic</span> therapist \n",
       "                    <span style='color:red;font-size:24px;font-weight:bold;line-height:1px;text-decoration:line-through;'>intensive</span>\n",
       "                    <span style='color:blue;font-size:24px;font-weight:bold;line-height:1px;'>intens</span> care unit morsel cancer center first year \n",
       "                    <span style='color:red;font-size:24px;font-weight:bold;line-height:1px;text-decoration:line-through;'>medical</span>\n",
       "                    <span style='color:blue;font-size:24px;font-weight:bold;line-height:1px;'>medic</span> school \n",
       "                    <span style='color:red;font-size:24px;font-weight:bold;line-height:1px;text-decoration:line-through;'>participate</span>\n",
       "                    <span style='color:blue;font-size:24px;font-weight:bold;line-height:1px;'>particip</span> research project \n",
       "                    <span style='color:red;font-size:24px;font-weight:bold;line-height:1px;text-decoration:line-through;'>examined</span>\n",
       "                    <span style='color:blue;font-size:24px;font-weight:bold;line-height:1px;'>examin</span> none light sound patient \n",
       "                    <span style='color:red;font-size:24px;font-weight:bold;line-height:1px;text-decoration:line-through;'>perceiving</span>\n",
       "                    <span style='color:blue;font-size:24px;font-weight:bold;line-height:1px;'>perceiv</span> nice \n",
       "                    <span style='color:red;font-size:24px;font-weight:bold;line-height:1px;text-decoration:line-through;'>using</span>\n",
       "                    <span style='color:blue;font-size:24px;font-weight:bold;line-height:1px;'>use</span> \n",
       "                    <span style='color:red;font-size:24px;font-weight:bold;line-height:1px;text-decoration:line-through;'>researcher</span>\n",
       "                    <span style='color:blue;font-size:24px;font-weight:bold;line-height:1px;'>research</span> \n",
       "                    <span style='color:red;font-size:24px;font-weight:bold;line-height:1px;text-decoration:line-through;'>knowing</span>\n",
       "                    <span style='color:blue;font-size:24px;font-weight:bold;line-height:1px;'>know</span> x \n",
       "                    <span style='color:red;font-size:24px;font-weight:bold;line-height:1px;text-decoration:line-through;'>recovery</span>\n",
       "                    <span style='color:blue;font-size:24px;font-weight:bold;line-height:1px;'>recoveri</span> back \n",
       "                    <span style='color:red;font-size:24px;font-weight:bold;line-height:1px;text-decoration:line-through;'>overall</span>\n",
       "                    <span style='color:blue;font-size:24px;font-weight:bold;line-height:1px;'>overal</span> \n",
       "                    <span style='color:red;font-size:24px;font-weight:bold;line-height:1px;text-decoration:line-through;'>overall</span>\n",
       "                    <span style='color:blue;font-size:24px;font-weight:bold;line-height:1px;'>overal</span> plan care \n",
       "                    <span style='color:red;font-size:24px;font-weight:bold;line-height:1px;text-decoration:line-through;'>tried</span>\n",
       "                    <span style='color:blue;font-size:24px;font-weight:bold;line-height:1px;'>tri</span> man \n",
       "                    <span style='color:red;font-size:24px;font-weight:bold;line-height:1px;text-decoration:line-through;'>trying</span>\n",
       "                    <span style='color:blue;font-size:24px;font-weight:bold;line-height:1px;'>tri</span> stand grain much sound light \n",
       "                    <span style='color:red;font-size:24px;font-weight:bold;line-height:1px;text-decoration:line-through;'>different</span>\n",
       "                    <span style='color:blue;font-size:24px;font-weight:bold;line-height:1px;'>differ</span> \n",
       "                    <span style='color:red;font-size:24px;font-weight:bold;line-height:1px;text-decoration:line-through;'>variable</span>\n",
       "                    <span style='color:blue;font-size:24px;font-weight:bold;line-height:1px;'>variabl</span> \n",
       "                    <span style='color:red;font-size:24px;font-weight:bold;line-height:1px;text-decoration:line-through;'>experiencing</span>\n",
       "                    <span style='color:blue;font-size:24px;font-weight:bold;line-height:1px;'>experienc</span> \n",
       "                    <span style='color:red;font-size:24px;font-weight:bold;line-height:1px;text-decoration:line-through;'>create</span>\n",
       "                    <span style='color:blue;font-size:24px;font-weight:bold;line-height:1px;'>creat</span> project scratch mean mentor \n",
       "                    <span style='color:red;font-size:24px;font-weight:bold;line-height:1px;text-decoration:line-through;'>couple</span>\n",
       "                    <span style='color:blue;font-size:24px;font-weight:bold;line-height:1px;'>coupl</span> \n",
       "                    <span style='color:red;font-size:24px;font-weight:bold;line-height:1px;text-decoration:line-through;'>position</span>\n",
       "                    <span style='color:blue;font-size:24px;font-weight:bold;line-height:1px;'>posit</span> buyout \n",
       "                    <span style='color:red;font-size:24px;font-weight:bold;line-height:1px;text-decoration:line-through;'>city</span>\n",
       "                    <span style='color:blue;font-size:24px;font-weight:bold;line-height:1px;'>citi</span> six datum \n",
       "                    <span style='color:red;font-size:24px;font-weight:bold;line-height:1px;text-decoration:line-through;'>gathering</span>\n",
       "                    <span style='color:blue;font-size:24px;font-weight:bold;line-height:1px;'>gather</span> \n",
       "                    <span style='color:red;font-size:24px;font-weight:bold;line-height:1px;text-decoration:line-through;'>analyzing</span>\n",
       "                    <span style='color:blue;font-size:24px;font-weight:bold;line-height:1px;'>analyz</span> datum mentor work \n",
       "                    <span style='color:red;font-size:24px;font-weight:bold;line-height:1px;text-decoration:line-through;'>together</span>\n",
       "                    <span style='color:blue;font-size:24px;font-weight:bold;line-height:1px;'>togeth</span> \n",
       "                    <span style='color:red;font-size:24px;font-weight:bold;line-height:1px;text-decoration:line-through;'>closely</span>\n",
       "                    <span style='color:blue;font-size:24px;font-weight:bold;line-height:1px;'>close</span> \n",
       "                    <span style='color:red;font-size:24px;font-weight:bold;line-height:1px;text-decoration:line-through;'>multiple</span>\n",
       "                    <span style='color:blue;font-size:24px;font-weight:bold;line-height:1px;'>multipl</span> review \n",
       "                    <span style='color:red;font-size:24px;font-weight:bold;line-height:1px;text-decoration:line-through;'>talked</span>\n",
       "                    <span style='color:blue;font-size:24px;font-weight:bold;line-height:1px;'>talk</span> protein could \n",
       "                    <span style='color:red;font-size:24px;font-weight:bold;line-height:1px;text-decoration:line-through;'>possibly</span>\n",
       "                    <span style='color:blue;font-size:24px;font-weight:bold;line-height:1px;'>possibl</span> \n",
       "                    <span style='color:red;font-size:24px;font-weight:bold;line-height:1px;text-decoration:line-through;'>change</span>\n",
       "                    <span style='color:blue;font-size:24px;font-weight:bold;line-height:1px;'>chang</span> \n",
       "                    <span style='color:red;font-size:24px;font-weight:bold;line-height:1px;text-decoration:line-through;'>different</span>\n",
       "                    <span style='color:blue;font-size:24px;font-weight:bold;line-height:1px;'>differ</span> thing think project \n",
       "                    <span style='color:red;font-size:24px;font-weight:bold;line-height:1px;text-decoration:line-through;'>require</span>\n",
       "                    <span style='color:blue;font-size:24px;font-weight:bold;line-height:1px;'>requir</span> lot detail succeed there \n",
       "                    <span style='color:red;font-size:24px;font-weight:bold;line-height:1px;text-decoration:line-through;'>going</span>\n",
       "                    <span style='color:blue;font-size:24px;font-weight:bold;line-height:1px;'>go</span> vision there lot thought \n",
       "                    <span style='color:red;font-size:24px;font-weight:bold;line-height:1px;text-decoration:line-through;'>outside</span>\n",
       "                    <span style='color:blue;font-size:24px;font-weight:bold;line-height:1px;'>outsid</span> thought pinion \n",
       "                    <span style='color:red;font-size:24px;font-weight:bold;line-height:1px;text-decoration:line-through;'>going</span>\n",
       "                    <span style='color:blue;font-size:24px;font-weight:bold;line-height:1px;'>go</span> \n",
       "                    <span style='color:red;font-size:24px;font-weight:bold;line-height:1px;text-decoration:line-through;'>sharing</span>\n",
       "                    <span style='color:blue;font-size:24px;font-weight:bold;line-height:1px;'>share</span> opinion that \n",
       "                    <span style='color:red;font-size:24px;font-weight:bold;line-height:1px;text-decoration:line-through;'>revised</span>\n",
       "                    <span style='color:blue;font-size:24px;font-weight:bold;line-height:1px;'>revis</span> approach project \n",
       "                    <span style='color:red;font-size:24px;font-weight:bold;line-height:1px;text-decoration:line-through;'>multiple</span>\n",
       "                    <span style='color:blue;font-size:24px;font-weight:bold;line-height:1px;'>multipl</span> time rupert \n",
       "                    <span style='color:red;font-size:24px;font-weight:bold;line-height:1px;text-decoration:line-through;'>changed</span>\n",
       "                    <span style='color:blue;font-size:24px;font-weight:bold;line-height:1px;'>chang</span> \n",
       "                    <span style='color:red;font-size:24px;font-weight:bold;line-height:1px;text-decoration:line-through;'>multiple</span>\n",
       "                    <span style='color:blue;font-size:24px;font-weight:bold;line-height:1px;'>multipl</span> time paper post \n",
       "                    <span style='color:red;font-size:24px;font-weight:bold;line-height:1px;text-decoration:line-through;'>presentation</span>\n",
       "                    <span style='color:blue;font-size:24px;font-weight:bold;line-height:1px;'>present</span> \n",
       "                    <span style='color:red;font-size:24px;font-weight:bold;line-height:1px;text-decoration:line-through;'>different</span>\n",
       "                    <span style='color:blue;font-size:24px;font-weight:bold;line-height:1px;'>differ</span> way \n",
       "                    <span style='color:red;font-size:24px;font-weight:bold;line-height:1px;text-decoration:line-through;'>gathering</span>\n",
       "                    <span style='color:blue;font-size:24px;font-weight:bold;line-height:1px;'>gather</span> datum think \n",
       "                    <span style='color:red;font-size:24px;font-weight:bold;line-height:1px;text-decoration:line-through;'>ultimately</span>\n",
       "                    <span style='color:blue;font-size:24px;font-weight:bold;line-height:1px;'>ultim</span> freedom thought \n",
       "                    <span style='color:red;font-size:24px;font-weight:bold;line-height:1px;text-decoration:line-through;'>everyone</span>\n",
       "                    <span style='color:blue;font-size:24px;font-weight:bold;line-height:1px;'>everyon</span> \n",
       "                    <span style='color:red;font-size:24px;font-weight:bold;line-height:1px;text-decoration:line-through;'>comfortable</span>\n",
       "                    <span style='color:blue;font-size:24px;font-weight:bold;line-height:1px;'>comfort</span> \n",
       "                    <span style='color:red;font-size:24px;font-weight:bold;line-height:1px;text-decoration:line-through;'>every</span>\n",
       "                    <span style='color:blue;font-size:24px;font-weight:bold;line-height:1px;'>everi</span> one \n",
       "                    <span style='color:red;font-size:24px;font-weight:bold;line-height:1px;text-decoration:line-through;'>office</span>\n",
       "                    <span style='color:blue;font-size:24px;font-weight:bold;line-height:1px;'>offic</span> opinion thing could \n",
       "                    <span style='color:red;font-size:24px;font-weight:bold;line-height:1px;text-decoration:line-through;'>possibly</span>\n",
       "                    <span style='color:blue;font-size:24px;font-weight:bold;line-height:1px;'>possibl</span> done \n",
       "                    <span style='color:red;font-size:24px;font-weight:bold;line-height:1px;text-decoration:line-through;'>differently</span>\n",
       "                    <span style='color:blue;font-size:24px;font-weight:bold;line-height:1px;'>differ</span> thing could \n",
       "                    <span style='color:red;font-size:24px;font-weight:bold;line-height:1px;text-decoration:line-through;'>approached</span>\n",
       "                    <span style='color:blue;font-size:24px;font-weight:bold;line-height:1px;'>approach</span> think set \n",
       "                    <span style='color:red;font-size:24px;font-weight:bold;line-height:1px;text-decoration:line-through;'>succes</span>\n",
       "                    <span style='color:blue;font-size:24px;font-weight:bold;line-height:1px;'>succ</span> project done first year \n",
       "                    <span style='color:red;font-size:24px;font-weight:bold;line-height:1px;text-decoration:line-through;'>medical</span>\n",
       "                    <span style='color:blue;font-size:24px;font-weight:bold;line-height:1px;'>medic</span> school think \n",
       "                    <span style='color:red;font-size:24px;font-weight:bold;line-height:1px;text-decoration:line-through;'>successful</span>\n",
       "                    <span style='color:blue;font-size:24px;font-weight:bold;line-height:1px;'>success</span> except journal \n",
       "                    <span style='color:red;font-size:24px;font-weight:bold;line-height:1px;text-decoration:line-through;'>consumed</span>\n",
       "                    <span style='color:blue;font-size:24px;font-weight:bold;line-height:1px;'>consum</span> \n",
       "                    <span style='color:red;font-size:24px;font-weight:bold;line-height:1px;text-decoration:line-through;'>going</span>\n",
       "                    <span style='color:blue;font-size:24px;font-weight:bold;line-height:1px;'>go</span> \n",
       "                    <span style='color:red;font-size:24px;font-weight:bold;line-height:1px;text-decoration:line-through;'>couple</span>\n",
       "                    <span style='color:blue;font-size:24px;font-weight:bold;line-height:1px;'>coupl</span> vision think great \n",
       "                    <span style='color:red;font-size:24px;font-weight:bold;line-height:1px;text-decoration:line-through;'>experience</span>\n",
       "                    <span style='color:blue;font-size:24px;font-weight:bold;line-height:1px;'>experi</span> lot think \n",
       "                    <span style='color:red;font-size:24px;font-weight:bold;line-height:1px;text-decoration:line-through;'>putting</span>\n",
       "                    <span style='color:blue;font-size:24px;font-weight:bold;line-height:1px;'>put</span> hard work time big step \n",
       "                    <span style='color:red;font-size:24px;font-weight:bold;line-height:1px;text-decoration:line-through;'>ensuring</span>\n",
       "                    <span style='color:blue;font-size:24px;font-weight:bold;line-height:1px;'>ensur</span> \n",
       "                    <span style='color:red;font-size:24px;font-weight:bold;line-height:1px;text-decoration:line-through;'>successful</span>\n",
       "                    <span style='color:blue;font-size:24px;font-weight:bold;line-height:1px;'>success</span> project keep"
      ],
      "text/plain": [
       "<IPython.core.display.HTML object>"
      ]
     },
     "metadata": {},
     "output_type": "display_data"
    },
    {
     "name": "stdout",
     "output_type": "stream",
     "text": [
      " \n"
     ]
    },
    {
     "data": {
      "text/html": [
       "<strong>Question 5</strong"
      ],
      "text/plain": [
       "<IPython.core.display.HTML object>"
      ]
     },
     "metadata": {},
     "output_type": "display_data"
    },
    {
     "data": {
      "text/html": [
       "prior \n",
       "                    <span style='color:red;font-size:24px;font-weight:bold;line-height:1px;text-decoration:line-through;'>medical</span>\n",
       "                    <span style='color:blue;font-size:24px;font-weight:bold;line-height:1px;'>medic</span> school \n",
       "                    <span style='color:red;font-size:24px;font-weight:bold;line-height:1px;text-decoration:line-through;'>physical</span>\n",
       "                    <span style='color:blue;font-size:24px;font-weight:bold;line-height:1px;'>physic</span> therapist \n",
       "                    <span style='color:red;font-size:24px;font-weight:bold;line-height:1px;text-decoration:line-through;'>sense</span>\n",
       "                    <span style='color:blue;font-size:24px;font-weight:bold;line-height:1px;'>sens</span> \n",
       "                    <span style='color:red;font-size:24px;font-weight:bold;line-height:1px;text-decoration:line-through;'>carrying</span>\n",
       "                    <span style='color:blue;font-size:24px;font-weight:bold;line-height:1px;'>carri</span> \n",
       "                    <span style='color:red;font-size:24px;font-weight:bold;line-height:1px;text-decoration:line-through;'>memorial</span>\n",
       "                    <span style='color:blue;font-size:24px;font-weight:bold;line-height:1px;'>memori</span> sloan carey cancer center one top \n",
       "                    <span style='color:red;font-size:24px;font-weight:bold;line-height:1px;text-decoration:line-through;'>ranked</span>\n",
       "                    <span style='color:blue;font-size:24px;font-weight:bold;line-height:1px;'>rank</span> \n",
       "                    <span style='color:red;font-size:24px;font-weight:bold;line-height:1px;text-decoration:line-through;'>oncology</span>\n",
       "                    <span style='color:blue;font-size:24px;font-weight:bold;line-height:1px;'>oncolog</span> \n",
       "                    <span style='color:red;font-size:24px;font-weight:bold;line-height:1px;text-decoration:line-through;'>hospital</span>\n",
       "                    <span style='color:blue;font-size:24px;font-weight:bold;line-height:1px;'>hospit</span> \n",
       "                    <span style='color:red;font-size:24px;font-weight:bold;line-height:1px;text-decoration:line-through;'>intensive</span>\n",
       "                    <span style='color:blue;font-size:24px;font-weight:bold;line-height:1px;'>intens</span> \n",
       "                    <span style='color:red;font-size:24px;font-weight:bold;line-height:1px;text-decoration:line-through;'>working</span>\n",
       "                    <span style='color:blue;font-size:24px;font-weight:bold;line-height:1px;'>work</span> \n",
       "                    <span style='color:red;font-size:24px;font-weight:bold;line-height:1px;text-decoration:line-through;'>intensive</span>\n",
       "                    <span style='color:blue;font-size:24px;font-weight:bold;line-height:1px;'>intens</span> care unit patient sick \n",
       "                    <span style='color:red;font-size:24px;font-weight:bold;line-height:1px;text-decoration:line-through;'>critically</span>\n",
       "                    <span style='color:blue;font-size:24px;font-weight:bold;line-height:1px;'>critic</span> ill \n",
       "                    <span style='color:red;font-size:24px;font-weight:bold;line-height:1px;text-decoration:line-through;'>truly</span>\n",
       "                    <span style='color:blue;font-size:24px;font-weight:bold;line-height:1px;'>truli</span> ill slayer poor prognosi often time deal \n",
       "                    <span style='color:red;font-size:24px;font-weight:bold;line-height:1px;text-decoration:line-through;'>compassion</span>\n",
       "                    <span style='color:blue;font-size:24px;font-weight:bold;line-height:1px;'>compass</span> toward patient think e ps also \n",
       "                    <span style='color:red;font-size:24px;font-weight:bold;line-height:1px;text-decoration:line-through;'>theyre</span>\n",
       "                    <span style='color:blue;font-size:24px;font-weight:bold;line-height:1px;'>theyr</span> \n",
       "                    <span style='color:red;font-size:24px;font-weight:bold;line-height:1px;text-decoration:line-through;'>going</span>\n",
       "                    <span style='color:blue;font-size:24px;font-weight:bold;line-height:1px;'>go</span> thing ten time \n",
       "                    <span style='color:red;font-size:24px;font-weight:bold;line-height:1px;text-decoration:line-through;'>worse</span>\n",
       "                    <span style='color:blue;font-size:24px;font-weight:bold;line-height:1px;'>wors</span> \n",
       "                    <span style='color:red;font-size:24px;font-weight:bold;line-height:1px;text-decoration:line-through;'>anything</span>\n",
       "                    <span style='color:blue;font-size:24px;font-weight:bold;line-height:1px;'>anyth</span> u \n",
       "                    <span style='color:red;font-size:24px;font-weight:bold;line-height:1px;text-decoration:line-through;'>imagine</span>\n",
       "                    <span style='color:blue;font-size:24px;font-weight:bold;line-height:1px;'>imagin</span> \n",
       "                    <span style='color:red;font-size:24px;font-weight:bold;line-height:1px;text-decoration:line-through;'>chemotherapy</span>\n",
       "                    <span style='color:blue;font-size:24px;font-weight:bold;line-height:1px;'>chemotherapi</span> \n",
       "                    <span style='color:red;font-size:24px;font-weight:bold;line-height:1px;text-decoration:line-through;'>surgery</span>\n",
       "                    <span style='color:blue;font-size:24px;font-weight:bold;line-height:1px;'>surgeri</span> \n",
       "                    <span style='color:red;font-size:24px;font-weight:bold;line-height:1px;text-decoration:line-through;'>radiation</span>\n",
       "                    <span style='color:blue;font-size:24px;font-weight:bold;line-height:1px;'>radiat</span> \n",
       "                    <span style='color:red;font-size:24px;font-weight:bold;line-height:1px;text-decoration:line-through;'>multiple</span>\n",
       "                    <span style='color:blue;font-size:24px;font-weight:bold;line-height:1px;'>multipl</span> cancer \n",
       "                    <span style='color:red;font-size:24px;font-weight:bold;line-height:1px;text-decoration:line-through;'>milling</span>\n",
       "                    <span style='color:blue;font-size:24px;font-weight:bold;line-height:1px;'>mill</span> \n",
       "                    <span style='color:red;font-size:24px;font-weight:bold;line-height:1px;text-decoration:line-through;'>used</span>\n",
       "                    <span style='color:blue;font-size:24px;font-weight:bold;line-height:1px;'>use</span> comb would thing \n",
       "                    <span style='color:red;font-size:24px;font-weight:bold;line-height:1px;text-decoration:line-through;'>occurring</span>\n",
       "                    <span style='color:blue;font-size:24px;font-weight:bold;line-height:1px;'>occur</span> treatment cancer five year bad day day thing \n",
       "                    <span style='color:red;font-size:24px;font-weight:bold;line-height:1px;text-decoration:line-through;'>happening</span>\n",
       "                    <span style='color:blue;font-size:24px;font-weight:bold;line-height:1px;'>happen</span> \n",
       "                    <span style='color:red;font-size:24px;font-weight:bold;line-height:1px;text-decoration:line-through;'>outside</span>\n",
       "                    <span style='color:blue;font-size:24px;font-weight:bold;line-height:1px;'>outsid</span> work think physician \n",
       "                    <span style='color:red;font-size:24px;font-weight:bold;line-height:1px;text-decoration:line-through;'>medical</span>\n",
       "                    <span style='color:blue;font-size:24px;font-weight:bold;line-height:1px;'>medic</span> \n",
       "                    <span style='color:red;font-size:24px;font-weight:bold;line-height:1px;text-decoration:line-through;'>profession</span>\n",
       "                    <span style='color:blue;font-size:24px;font-weight:bold;line-height:1px;'>profess</span> \n",
       "                    <span style='color:red;font-size:24px;font-weight:bold;line-height:1px;text-decoration:line-through;'>youre</span>\n",
       "                    <span style='color:blue;font-size:24px;font-weight:bold;line-height:1px;'>your</span> held higher standard \n",
       "                    <span style='color:red;font-size:24px;font-weight:bold;line-height:1px;text-decoration:line-through;'>expected</span>\n",
       "                    <span style='color:blue;font-size:24px;font-weight:bold;line-height:1px;'>expect</span> kind \n",
       "                    <span style='color:red;font-size:24px;font-weight:bold;line-height:1px;text-decoration:line-through;'>compartmentalize</span>\n",
       "                    <span style='color:blue;font-size:24px;font-weight:bold;line-height:1px;'>compartment</span> \n",
       "                    <span style='color:red;font-size:24px;font-weight:bold;line-height:1px;text-decoration:line-through;'>outside</span>\n",
       "                    <span style='color:blue;font-size:24px;font-weight:bold;line-height:1px;'>outsid</span> work work cant dont mix go way take \n",
       "                    <span style='color:red;font-size:24px;font-weight:bold;line-height:1px;text-decoration:line-through;'>something</span>\n",
       "                    <span style='color:blue;font-size:24px;font-weight:bold;line-height:1px;'>someth</span> work take home kind think \n",
       "                    <span style='color:red;font-size:24px;font-weight:bold;line-height:1px;text-decoration:line-through;'>oftentime</span>\n",
       "                    <span style='color:blue;font-size:24px;font-weight:bold;line-height:1px;'>oftentim</span> lead lot burnout \n",
       "                    <span style='color:red;font-size:24px;font-weight:bold;line-height:1px;text-decoration:line-through;'>working</span>\n",
       "                    <span style='color:blue;font-size:24px;font-weight:bold;line-height:1px;'>work</span> sloan \n",
       "                    <span style='color:red;font-size:24px;font-weight:bold;line-height:1px;text-decoration:line-through;'>multiple</span>\n",
       "                    <span style='color:blue;font-size:24px;font-weight:bold;line-height:1px;'>multipl</span> time \n",
       "                    <span style='color:red;font-size:24px;font-weight:bold;line-height:1px;text-decoration:line-through;'>situation</span>\n",
       "                    <span style='color:blue;font-size:24px;font-weight:bold;line-height:1px;'>situat</span> day know make sure \n",
       "                    <span style='color:red;font-size:24px;font-weight:bold;line-height:1px;text-decoration:line-through;'>separate</span>\n",
       "                    <span style='color:blue;font-size:24px;font-weight:bold;line-height:1px;'>separ</span> \n",
       "                    <span style='color:red;font-size:24px;font-weight:bold;line-height:1px;text-decoration:line-through;'>happening</span>\n",
       "                    <span style='color:blue;font-size:24px;font-weight:bold;line-height:1px;'>happen</span> \n",
       "                    <span style='color:red;font-size:24px;font-weight:bold;line-height:1px;text-decoration:line-through;'>outside</span>\n",
       "                    <span style='color:blue;font-size:24px;font-weight:bold;line-height:1px;'>outsid</span> \n",
       "                    <span style='color:red;font-size:24px;font-weight:bold;line-height:1px;text-decoration:line-through;'>required</span>\n",
       "                    <span style='color:blue;font-size:24px;font-weight:bold;line-height:1px;'>requir</span> take care patient \n",
       "                    <span style='color:red;font-size:24px;font-weight:bold;line-height:1px;text-decoration:line-through;'>ultimately</span>\n",
       "                    <span style='color:blue;font-size:24px;font-weight:bold;line-height:1px;'>ultim</span> think \n",
       "                    <span style='color:red;font-size:24px;font-weight:bold;line-height:1px;text-decoration:line-through;'>composition</span>\n",
       "                    <span style='color:blue;font-size:24px;font-weight:bold;line-height:1px;'>composit</span> \n",
       "                    <span style='color:red;font-size:24px;font-weight:bold;line-height:1px;text-decoration:line-through;'>become</span>\n",
       "                    <span style='color:blue;font-size:24px;font-weight:bold;line-height:1px;'>becom</span> part america feel help person \n",
       "                    <span style='color:red;font-size:24px;font-weight:bold;line-height:1px;text-decoration:line-through;'>youre</span>\n",
       "                    <span style='color:blue;font-size:24px;font-weight:bold;line-height:1px;'>your</span> \n",
       "                    <span style='color:red;font-size:24px;font-weight:bold;line-height:1px;text-decoration:line-through;'>allowing</span>\n",
       "                    <span style='color:blue;font-size:24px;font-weight:bold;line-height:1px;'>allow</span> \n",
       "                    <span style='color:red;font-size:24px;font-weight:bold;line-height:1px;text-decoration:line-through;'>affected</span>\n",
       "                    <span style='color:blue;font-size:24px;font-weight:bold;line-height:1px;'>affect</span> earth thing think \n",
       "                    <span style='color:red;font-size:24px;font-weight:bold;line-height:1px;text-decoration:line-through;'>youre</span>\n",
       "                    <span style='color:blue;font-size:24px;font-weight:bold;line-height:1px;'>your</span> \n",
       "                    <span style='color:red;font-size:24px;font-weight:bold;line-height:1px;text-decoration:line-through;'>youre</span>\n",
       "                    <span style='color:blue;font-size:24px;font-weight:bold;line-height:1px;'>your</span> \n",
       "                    <span style='color:red;font-size:24px;font-weight:bold;line-height:1px;text-decoration:line-through;'>preventing</span>\n",
       "                    <span style='color:blue;font-size:24px;font-weight:bold;line-height:1px;'>prevent</span> one main thing u come \n",
       "                    <span style='color:red;font-size:24px;font-weight:bold;line-height:1px;text-decoration:line-through;'>medical</span>\n",
       "                    <span style='color:blue;font-size:24px;font-weight:bold;line-height:1px;'>medic</span> internet go theel help person best \n",
       "                    <span style='color:red;font-size:24px;font-weight:bold;line-height:1px;text-decoration:line-through;'>capability</span>\n",
       "                    <span style='color:blue;font-size:24px;font-weight:bold;line-height:1px;'>capabl</span> that \n",
       "                    <span style='color:red;font-size:24px;font-weight:bold;line-height:1px;text-decoration:line-through;'>manage</span>\n",
       "                    <span style='color:blue;font-size:24px;font-weight:bold;line-height:1px;'>manag</span> \n",
       "                    <span style='color:red;font-size:24px;font-weight:bold;line-height:1px;text-decoration:line-through;'>situation</span>\n",
       "                    <span style='color:blue;font-size:24px;font-weight:bold;line-height:1px;'>situat</span> \n",
       "                    <span style='color:red;font-size:24px;font-weight:bold;line-height:1px;text-decoration:line-through;'>try</span>\n",
       "                    <span style='color:blue;font-size:24px;font-weight:bold;line-height:1px;'>tri</span> \n",
       "                    <span style='color:red;font-size:24px;font-weight:bold;line-height:1px;text-decoration:line-through;'>compartment</span>\n",
       "                    <span style='color:blue;font-size:24px;font-weight:bold;line-height:1px;'>compart</span> eye \n",
       "                    <span style='color:red;font-size:24px;font-weight:bold;line-height:1px;text-decoration:line-through;'>everything</span>\n",
       "                    <span style='color:blue;font-size:24px;font-weight:bold;line-height:1px;'>everyth</span> that \n",
       "                    <span style='color:red;font-size:24px;font-weight:bold;line-height:1px;text-decoration:line-through;'>happening</span>\n",
       "                    <span style='color:blue;font-size:24px;font-weight:bold;line-height:1px;'>happen</span> dont take thing work dont take bad day dont bring work well \n",
       "                    <span style='color:red;font-size:24px;font-weight:bold;line-height:1px;text-decoration:line-through;'>tried</span>\n",
       "                    <span style='color:blue;font-size:24px;font-weight:bold;line-height:1px;'>tri</span> \n",
       "                    <span style='color:red;font-size:24px;font-weight:bold;line-height:1px;text-decoration:line-through;'>rationally</span>\n",
       "                    <span style='color:blue;font-size:24px;font-weight:bold;line-height:1px;'>ration</span> \n",
       "                    <span style='color:red;font-size:24px;font-weight:bold;line-height:1px;text-decoration:line-through;'>try</span>\n",
       "                    <span style='color:blue;font-size:24px;font-weight:bold;line-height:1px;'>tri</span> \n",
       "                    <span style='color:red;font-size:24px;font-weight:bold;line-height:1px;text-decoration:line-through;'>empathetic</span>\n",
       "                    <span style='color:blue;font-size:24px;font-weight:bold;line-height:1px;'>empathet</span> \n",
       "                    <span style='color:red;font-size:24px;font-weight:bold;line-height:1px;text-decoration:line-through;'>tried</span>\n",
       "                    <span style='color:blue;font-size:24px;font-weight:bold;line-height:1px;'>tri</span> patient \n",
       "                    <span style='color:red;font-size:24px;font-weight:bold;line-height:1px;text-decoration:line-through;'>limitation</span>\n",
       "                    <span style='color:blue;font-size:24px;font-weight:bold;line-height:1px;'>limit</span> thank"
      ],
      "text/plain": [
       "<IPython.core.display.HTML object>"
      ]
     },
     "metadata": {},
     "output_type": "display_data"
    },
    {
     "name": "stdout",
     "output_type": "stream",
     "text": [
      " \n"
     ]
    },
    {
     "data": {
      "text/html": [
       "<strong>Question 6</strong"
      ],
      "text/plain": [
       "<IPython.core.display.HTML object>"
      ]
     },
     "metadata": {},
     "output_type": "display_data"
    },
    {
     "data": {
      "text/html": [
       "prior \n",
       "                    <span style='color:red;font-size:24px;font-weight:bold;line-height:1px;text-decoration:line-through;'>medical</span>\n",
       "                    <span style='color:blue;font-size:24px;font-weight:bold;line-height:1px;'>medic</span> school \n",
       "                    <span style='color:red;font-size:24px;font-weight:bold;line-height:1px;text-decoration:line-through;'>physical</span>\n",
       "                    <span style='color:blue;font-size:24px;font-weight:bold;line-height:1px;'>physic</span> therapist \n",
       "                    <span style='color:red;font-size:24px;font-weight:bold;line-height:1px;text-decoration:line-through;'>carry</span>\n",
       "                    <span style='color:blue;font-size:24px;font-weight:bold;line-height:1px;'>carri</span> morsel \n",
       "                    <span style='color:red;font-size:24px;font-weight:bold;line-height:1px;text-decoration:line-through;'>carry</span>\n",
       "                    <span style='color:blue;font-size:24px;font-weight:bold;line-height:1px;'>carri</span> cancer center \n",
       "                    <span style='color:red;font-size:24px;font-weight:bold;line-height:1px;text-decoration:line-through;'>remember</span>\n",
       "                    <span style='color:blue;font-size:24px;font-weight:bold;line-height:1px;'>rememb</span> first week month \n",
       "                    <span style='color:red;font-size:24px;font-weight:bold;line-height:1px;text-decoration:line-through;'>worked</span>\n",
       "                    <span style='color:blue;font-size:24px;font-weight:bold;line-height:1px;'>work</span> certain \n",
       "                    <span style='color:red;font-size:24px;font-weight:bold;line-height:1px;text-decoration:line-through;'>colleague</span>\n",
       "                    <span style='color:blue;font-size:24px;font-weight:bold;line-height:1px;'>colleagu</span> loud \n",
       "                    <span style='color:red;font-size:24px;font-weight:bold;line-height:1px;text-decoration:line-through;'>boisterou</span>\n",
       "                    <span style='color:blue;font-size:24px;font-weight:bold;line-height:1px;'>boister</span> \n",
       "                    <span style='color:red;font-size:24px;font-weight:bold;line-height:1px;text-decoration:line-through;'>remember</span>\n",
       "                    <span style='color:blue;font-size:24px;font-weight:bold;line-height:1px;'>rememb</span> one particular \n",
       "                    <span style='color:red;font-size:24px;font-weight:bold;line-height:1px;text-decoration:line-through;'>occupational</span>\n",
       "                    <span style='color:blue;font-size:24px;font-weight:bold;line-height:1px;'>occup</span> therapist loud \n",
       "                    <span style='color:red;font-size:24px;font-weight:bold;line-height:1px;text-decoration:line-through;'>boisterou</span>\n",
       "                    <span style='color:blue;font-size:24px;font-weight:bold;line-height:1px;'>boister</span> think \n",
       "                    <span style='color:red;font-size:24px;font-weight:bold;line-height:1px;text-decoration:line-through;'>developed</span>\n",
       "                    <span style='color:blue;font-size:24px;font-weight:bold;line-height:1px;'>develop</span> bia \n",
       "                    <span style='color:red;font-size:24px;font-weight:bold;line-height:1px;text-decoration:line-through;'>consciously</span>\n",
       "                    <span style='color:blue;font-size:24px;font-weight:bold;line-height:1px;'>conscious</span> \n",
       "                    <span style='color:red;font-size:24px;font-weight:bold;line-height:1px;text-decoration:line-through;'>possibly</span>\n",
       "                    <span style='color:blue;font-size:24px;font-weight:bold;line-height:1px;'>possibl</span> \n",
       "                    <span style='color:red;font-size:24px;font-weight:bold;line-height:1px;text-decoration:line-through;'>hes</span>\n",
       "                    <span style='color:blue;font-size:24px;font-weight:bold;line-height:1px;'>he</span> loud push person dont like dont get along tend \n",
       "                    <span style='color:red;font-size:24px;font-weight:bold;line-height:1px;text-decoration:line-through;'>intense</span>\n",
       "                    <span style='color:blue;font-size:24px;font-weight:bold;line-height:1px;'>intens</span> focu work \n",
       "                    <span style='color:red;font-size:24px;font-weight:bold;line-height:1px;text-decoration:line-through;'>theyre</span>\n",
       "                    <span style='color:blue;font-size:24px;font-weight:bold;line-height:1px;'>theyr</span> \n",
       "                    <span style='color:red;font-size:24px;font-weight:bold;line-height:1px;text-decoration:line-through;'>trying</span>\n",
       "                    <span style='color:blue;font-size:24px;font-weight:bold;line-height:1px;'>tri</span> life \n",
       "                    <span style='color:red;font-size:24px;font-weight:bold;line-height:1px;text-decoration:line-through;'>party</span>\n",
       "                    <span style='color:blue;font-size:24px;font-weight:bold;line-height:1px;'>parti</span> think \n",
       "                    <span style='color:red;font-size:24px;font-weight:bold;line-height:1px;text-decoration:line-through;'>ironically</span>\n",
       "                    <span style='color:blue;font-size:24px;font-weight:bold;line-height:1px;'>iron</span> person came closest friend \n",
       "                    <span style='color:red;font-size:24px;font-weight:bold;line-height:1px;text-decoration:line-through;'>theyre</span>\n",
       "                    <span style='color:blue;font-size:24px;font-weight:bold;line-height:1px;'>theyr</span> still one close friend day still keep touch think first \n",
       "                    <span style='color:red;font-size:24px;font-weight:bold;line-height:1px;text-decoration:line-through;'>happened</span>\n",
       "                    <span style='color:blue;font-size:24px;font-weight:bold;line-height:1px;'>happen</span> first met think may \n",
       "                    <span style='color:red;font-size:24px;font-weight:bold;line-height:1px;text-decoration:line-through;'>little</span>\n",
       "                    <span style='color:blue;font-size:24px;font-weight:bold;line-height:1px;'>littl</span> standoffish \n",
       "                    <span style='color:red;font-size:24px;font-weight:bold;line-height:1px;text-decoration:line-through;'>reserved</span>\n",
       "                    <span style='color:blue;font-size:24px;font-weight:bold;line-height:1px;'>reserv</span> alway \n",
       "                    <span style='color:red;font-size:24px;font-weight:bold;line-height:1px;text-decoration:line-through;'>respectful</span>\n",
       "                    <span style='color:blue;font-size:24px;font-weight:bold;line-height:1px;'>respect</span> \n",
       "                    <span style='color:red;font-size:24px;font-weight:bold;line-height:1px;text-decoration:line-through;'>little</span>\n",
       "                    <span style='color:blue;font-size:24px;font-weight:bold;line-height:1px;'>littl</span> \n",
       "                    <span style='color:red;font-size:24px;font-weight:bold;line-height:1px;text-decoration:line-through;'>reserved</span>\n",
       "                    <span style='color:blue;font-size:24px;font-weight:bold;line-height:1px;'>reserv</span> \n",
       "                    <span style='color:red;font-size:24px;font-weight:bold;line-height:1px;text-decoration:line-through;'>little</span>\n",
       "                    <span style='color:blue;font-size:24px;font-weight:bold;line-height:1px;'>littl</span> \n",
       "                    <span style='color:red;font-size:24px;font-weight:bold;line-height:1px;text-decoration:line-through;'>shy</span>\n",
       "                    <span style='color:blue;font-size:24px;font-weight:bold;line-height:1px;'>shi</span> mean \n",
       "                    <span style='color:red;font-size:24px;font-weight:bold;line-height:1px;text-decoration:line-through;'>possibly</span>\n",
       "                    <span style='color:blue;font-size:24px;font-weight:bold;line-height:1px;'>possibl</span> think also \n",
       "                    <span style='color:red;font-size:24px;font-weight:bold;line-height:1px;text-decoration:line-through;'>occupation</span>\n",
       "                    <span style='color:blue;font-size:24px;font-weight:bold;line-height:1px;'>occup</span> \n",
       "                    <span style='color:red;font-size:24px;font-weight:bold;line-height:1px;text-decoration:line-through;'>busines</span>\n",
       "                    <span style='color:blue;font-size:24px;font-weight:bold;line-height:1px;'>busin</span> work \n",
       "                    <span style='color:red;font-size:24px;font-weight:bold;line-height:1px;text-decoration:line-through;'>together</span>\n",
       "                    <span style='color:blue;font-size:24px;font-weight:bold;line-height:1px;'>togeth</span> lot think \n",
       "                    <span style='color:red;font-size:24px;font-weight:bold;line-height:1px;text-decoration:line-through;'>started</span>\n",
       "                    <span style='color:blue;font-size:24px;font-weight:bold;line-height:1px;'>start</span> \n",
       "                    <span style='color:red;font-size:24px;font-weight:bold;line-height:1px;text-decoration:line-through;'>working</span>\n",
       "                    <span style='color:blue;font-size:24px;font-weight:bold;line-height:1px;'>work</span> \n",
       "                    <span style='color:red;font-size:24px;font-weight:bold;line-height:1px;text-decoration:line-through;'>together</span>\n",
       "                    <span style='color:blue;font-size:24px;font-weight:bold;line-height:1px;'>togeth</span> think alway \n",
       "                    <span style='color:red;font-size:24px;font-weight:bold;line-height:1px;text-decoration:line-through;'>try</span>\n",
       "                    <span style='color:blue;font-size:24px;font-weight:bold;line-height:1px;'>tri</span> \n",
       "                    <span style='color:red;font-size:24px;font-weight:bold;line-height:1px;text-decoration:line-through;'>whenever</span>\n",
       "                    <span style='color:blue;font-size:24px;font-weight:bold;line-height:1px;'>whenev</span> ive \n",
       "                    <span style='color:red;font-size:24px;font-weight:bold;line-height:1px;text-decoration:line-through;'>working</span>\n",
       "                    <span style='color:blue;font-size:24px;font-weight:bold;line-height:1px;'>work</span> \n",
       "                    <span style='color:red;font-size:24px;font-weight:bold;line-height:1px;text-decoration:line-through;'>somewhere</span>\n",
       "                    <span style='color:blue;font-size:24px;font-weight:bold;line-height:1px;'>somewher</span> \n",
       "                    <span style='color:red;font-size:24px;font-weight:bold;line-height:1px;text-decoration:line-through;'>try</span>\n",
       "                    <span style='color:blue;font-size:24px;font-weight:bold;line-height:1px;'>tri</span> \n",
       "                    <span style='color:red;font-size:24px;font-weight:bold;line-height:1px;text-decoration:line-through;'>respectful</span>\n",
       "                    <span style='color:blue;font-size:24px;font-weight:bold;line-height:1px;'>respect</span> \n",
       "                    <span style='color:red;font-size:24px;font-weight:bold;line-height:1px;text-decoration:line-through;'>try</span>\n",
       "                    <span style='color:blue;font-size:24px;font-weight:bold;line-height:1px;'>tri</span> patient \n",
       "                    <span style='color:red;font-size:24px;font-weight:bold;line-height:1px;text-decoration:line-through;'>try</span>\n",
       "                    <span style='color:blue;font-size:24px;font-weight:bold;line-height:1px;'>tri</span> \n",
       "                    <span style='color:red;font-size:24px;font-weight:bold;line-height:1px;text-decoration:line-through;'>understanding</span>\n",
       "                    <span style='color:blue;font-size:24px;font-weight:bold;line-height:1px;'>understand</span> also start work \n",
       "                    <span style='color:red;font-size:24px;font-weight:bold;line-height:1px;text-decoration:line-through;'>together</span>\n",
       "                    <span style='color:blue;font-size:24px;font-weight:bold;line-height:1px;'>togeth</span> got know person knew sh great \n",
       "                    <span style='color:red;font-size:24px;font-weight:bold;line-height:1px;text-decoration:line-through;'>personality</span>\n",
       "                    <span style='color:blue;font-size:24px;font-weight:bold;line-height:1px;'>person</span> that that \n",
       "                    <span style='color:red;font-size:24px;font-weight:bold;line-height:1px;text-decoration:line-through;'>personality</span>\n",
       "                    <span style='color:blue;font-size:24px;font-weight:bold;line-height:1px;'>person</span> one smartest person know one \n",
       "                    <span style='color:red;font-size:24px;font-weight:bold;line-height:1px;text-decoration:line-through;'>hardworking</span>\n",
       "                    <span style='color:blue;font-size:24px;font-weight:bold;line-height:1px;'>hardwork</span> person know \n",
       "                    <span style='color:red;font-size:24px;font-weight:bold;line-height:1px;text-decoration:line-through;'>learned</span>\n",
       "                    <span style='color:blue;font-size:24px;font-weight:bold;line-height:1px;'>learn</span> lot \n",
       "                    <span style='color:red;font-size:24px;font-weight:bold;line-height:1px;text-decoration:line-through;'>learned</span>\n",
       "                    <span style='color:blue;font-size:24px;font-weight:bold;line-height:1px;'>learn</span> lot think think learn lot \n",
       "                    <span style='color:red;font-size:24px;font-weight:bold;line-height:1px;text-decoration:line-through;'>interaction</span>\n",
       "                    <span style='color:blue;font-size:24px;font-weight:bold;line-height:1px;'>interact</span> think alway \n",
       "                    <span style='color:red;font-size:24px;font-weight:bold;line-height:1px;text-decoration:line-through;'>try</span>\n",
       "                    <span style='color:blue;font-size:24px;font-weight:bold;line-height:1px;'>tri</span> make sure dont allow \n",
       "                    <span style='color:red;font-size:24px;font-weight:bold;line-height:1px;text-decoration:line-through;'>bicycle</span>\n",
       "                    <span style='color:blue;font-size:24px;font-weight:bold;line-height:1px;'>bicycl</span> judgment \n",
       "                    <span style='color:red;font-size:24px;font-weight:bold;line-height:1px;text-decoration:line-through;'>change</span>\n",
       "                    <span style='color:blue;font-size:24px;font-weight:bold;line-height:1px;'>chang</span> tree person think \n",
       "                    <span style='color:red;font-size:24px;font-weight:bold;line-height:1px;text-decoration:line-through;'>example</span>\n",
       "                    <span style='color:blue;font-size:24px;font-weight:bold;line-height:1px;'>exampl</span> good \n",
       "                    <span style='color:red;font-size:24px;font-weight:bold;line-height:1px;text-decoration:line-through;'>example</span>\n",
       "                    <span style='color:blue;font-size:24px;font-weight:bold;line-height:1px;'>exampl</span> kind let slip away didnt know \n",
       "                    <span style='color:red;font-size:24px;font-weight:bold;line-height:1px;text-decoration:line-through;'>mindful</span>\n",
       "                    <span style='color:blue;font-size:24px;font-weight:bold;line-height:1px;'>mind</span> may coal \n",
       "                    <span style='color:red;font-size:24px;font-weight:bold;line-height:1px;text-decoration:line-through;'>shy</span>\n",
       "                    <span style='color:blue;font-size:24px;font-weight:bold;line-height:1px;'>shi</span> \n",
       "                    <span style='color:red;font-size:24px;font-weight:bold;line-height:1px;text-decoration:line-through;'>normally</span>\n",
       "                    <span style='color:blue;font-size:24px;font-weight:bold;line-height:1px;'>normal</span> think moment \n",
       "                    <span style='color:red;font-size:24px;font-weight:bold;line-height:1px;text-decoration:line-through;'>oftentime</span>\n",
       "                    <span style='color:blue;font-size:24px;font-weight:bold;line-height:1px;'>oftentim</span> remind u person hard dont lot \n",
       "                    <span style='color:red;font-size:24px;font-weight:bold;line-height:1px;text-decoration:line-through;'>verse</span>\n",
       "                    <span style='color:blue;font-size:24px;font-weight:bold;line-height:1px;'>vers</span> first time enough chip cloud judgment"
      ],
      "text/plain": [
       "<IPython.core.display.HTML object>"
      ]
     },
     "metadata": {},
     "output_type": "display_data"
    },
    {
     "name": "stdout",
     "output_type": "stream",
     "text": [
      " \n"
     ]
    },
    {
     "data": {
      "text/plain": [
       "''"
      ]
     },
     "execution_count": 20,
     "metadata": {},
     "output_type": "execute_result"
    }
   ],
   "source": [
    "for index, value in enumerate(q.index.tolist()):\n",
    "    display(HTML(f\"<strong>{value.capitalize()}</strong\"))\n",
    "    highlight(q.iloc[index, 0], stemmer.stem)\n",
    "    print(\" \")\n",
    ";"
   ]
  },
  {
   "cell_type": "code",
   "execution_count": 21,
   "metadata": {},
   "outputs": [],
   "source": [
    "for index, _ in q.iterrows():\n",
    "    q.loc[index] = q.loc[index].apply(lambda x: \" \".join([stemmer.stem(word) for word in x.split()]))"
   ]
  },
  {
   "cell_type": "markdown",
   "metadata": {},
   "source": [
    "## Processed question text\n",
    "This question text is the processed question text after applying each preprocessing step."
   ]
  },
  {
   "cell_type": "code",
   "execution_count": 22,
   "metadata": {},
   "outputs": [
    {
     "data": {
      "text/html": [
       "<strong>Question 1</strong"
      ],
      "text/plain": [
       "<IPython.core.display.HTML object>"
      ]
     },
     "metadata": {},
     "output_type": "display_data"
    },
    {
     "data": {
      "text/html": [
       "prior appli medic school work physic therapi percentag care know recent got engag wife journey appli medic school first start want appli medic school discuss wife situat bit hesit paus life understand discuss discuss famili discuss friend physician ultim discuss pro con continu occup physic therapist compar attend go school resid mention becom tend would stre pro con think also wife came around point view think ultim approach situat there disagr tri systemat tri pro con tri welcom opinion tri ask person opinion els mean situat think work think medic school bond adar ultim believ journey taken better famili line line think that that main point tri convey eye wife long term would best option u famili agre im mentor fourth year medic school attempt enter resid merc me ultim think work thank"
      ],
      "text/plain": [
       "<IPython.core.display.HTML object>"
      ]
     },
     "metadata": {},
     "output_type": "display_data"
    },
    {
     "name": "stdout",
     "output_type": "stream",
     "text": [
      " \n"
     ]
    },
    {
     "data": {
      "text/html": [
       "<strong>Question 2</strong"
      ],
      "text/plain": [
       "<IPython.core.display.HTML object>"
      ]
     },
     "metadata": {},
     "output_type": "display_data"
    },
    {
     "data": {
      "text/html": [
       "prior attend medic school physic therapist sort cancer center job mobil patient right q surgeri mani larg amount pain multipl time patient disagre wait get bed might stay bed want rest surgeri patient ultim came around think patient agre disagre think best approach tri educ tri patient ultim tri understand theyr come approach way think journal good outcom situat patient pain one get tri work around schedul tri time pain medic time went around encourag tri work around schedul tri work around what best educ tri give broad pictur mean first step gain home eventu go back normal daili routin think give perspect think educ patient id say nineti nine one hundr percent time eventu come around think that best way approach patient disagr agreement disagr gener situat spoke patient also discharg thank didnt let take easi let hook patient also think play role help get back thing need get church safe get rate get charg"
      ],
      "text/plain": [
       "<IPython.core.display.HTML object>"
      ]
     },
     "metadata": {},
     "output_type": "display_data"
    },
    {
     "name": "stdout",
     "output_type": "stream",
     "text": [
      " \n"
     ]
    },
    {
     "data": {
      "text/html": [
       "<strong>Question 3</strong"
      ],
      "text/plain": [
       "<IPython.core.display.HTML object>"
      ]
     },
     "metadata": {},
     "output_type": "display_data"
    },
    {
     "data": {
      "text/html": [
       "tri medic school work physic therapist intens care unit ask multipl time certain project certain present physician member medic team project time think rare project everyon agre everyth think artemi divers opinion differ differ point view make project better time ive make present posit nurs straight appear would work anoth physic therapist anoth member creat nice power point present would disagr think dont think anyth think would disagr want approach want introduc thing think think thing happen think best also need first first foremost respect take person say understand tri blow blow peopl opinion think think could done improv relationship think tend think least somewhat success situat tri give keep tri give point view thing done see give point view think think bit give take think acquiesc littl bit certain thing usual certain part posit certain part project think think stand believ ultim think realist cant get way everi singl time realli outsid work work think think good job attempt prove relationship relat green think mayb done better job think patienc respect main import part improv relationship"
      ],
      "text/plain": [
       "<IPython.core.display.HTML object>"
      ]
     },
     "metadata": {},
     "output_type": "display_data"
    },
    {
     "name": "stdout",
     "output_type": "stream",
     "text": [
      " \n"
     ]
    },
    {
     "data": {
      "text/html": [
       "<strong>Question 4</strong"
      ],
      "text/plain": [
       "<IPython.core.display.HTML object>"
      ]
     },
     "metadata": {},
     "output_type": "display_data"
    },
    {
     "data": {
      "text/html": [
       "follow purs year medic school particip summer medic research fellowship mentor intens care unit work prior medic school physic therapist intens care unit morsel cancer center first year medic school particip research project examin none light sound patient perceiv nice use research know x recoveri back overal overal plan care tri man tri stand grain much sound light differ variabl experienc creat project scratch mean mentor coupl posit buyout citi six datum gather analyz datum mentor work togeth close multipl review talk protein could possibl chang differ thing think project requir lot detail succeed there go vision there lot thought outsid thought pinion go share opinion that revis approach project multipl time rupert chang multipl time paper post present differ way gather datum think ultim freedom thought everyon comfort everi one offic opinion thing could possibl done differ thing could approach think set succ project done first year medic school think success except journal consum go coupl vision think great experi lot think put hard work time big step ensur success project keep"
      ],
      "text/plain": [
       "<IPython.core.display.HTML object>"
      ]
     },
     "metadata": {},
     "output_type": "display_data"
    },
    {
     "name": "stdout",
     "output_type": "stream",
     "text": [
      " \n"
     ]
    },
    {
     "data": {
      "text/html": [
       "<strong>Question 5</strong"
      ],
      "text/plain": [
       "<IPython.core.display.HTML object>"
      ]
     },
     "metadata": {},
     "output_type": "display_data"
    },
    {
     "data": {
      "text/html": [
       "prior medic school physic therapist sens carri memori sloan carey cancer center one top rank oncolog hospit intens work intens care unit patient sick critic ill truli ill slayer poor prognosi often time deal compass toward patient think e ps also theyr go thing ten time wors anyth u imagin chemotherapi surgeri radiat multipl cancer mill use comb would thing occur treatment cancer five year bad day day thing happen outsid work think physician medic profess your held higher standard expect kind compartment outsid work work cant dont mix go way take someth work take home kind think oftentim lead lot burnout work sloan multipl time situat day know make sure separ happen outsid requir take care patient ultim think composit becom part america feel help person your allow affect earth thing think your your prevent one main thing u come medic internet go theel help person best capabl that manag situat tri compart eye everyth that happen dont take thing work dont take bad day dont bring work well tri ration tri empathet tri patient limit thank"
      ],
      "text/plain": [
       "<IPython.core.display.HTML object>"
      ]
     },
     "metadata": {},
     "output_type": "display_data"
    },
    {
     "name": "stdout",
     "output_type": "stream",
     "text": [
      " \n"
     ]
    },
    {
     "data": {
      "text/html": [
       "<strong>Question 6</strong"
      ],
      "text/plain": [
       "<IPython.core.display.HTML object>"
      ]
     },
     "metadata": {},
     "output_type": "display_data"
    },
    {
     "data": {
      "text/html": [
       "prior medic school physic therapist carri morsel carri cancer center rememb first week month work certain colleagu loud boister rememb one particular occup therapist loud boister think develop bia conscious possibl he loud push person dont like dont get along tend intens focu work theyr tri life parti think iron person came closest friend theyr still one close friend day still keep touch think first happen first met think may littl standoffish reserv alway respect littl reserv littl shi mean possibl think also occup busin work togeth lot think start work togeth think alway tri whenev ive work somewher tri respect tri patient tri understand also start work togeth got know person knew sh great person that that person one smartest person know one hardwork person know learn lot learn lot think think learn lot interact think alway tri make sure dont allow bicycl judgment chang tree person think exampl good exampl kind let slip away didnt know mind may coal shi normal think moment oftentim remind u person hard dont lot vers first time enough chip cloud judgment"
      ],
      "text/plain": [
       "<IPython.core.display.HTML object>"
      ]
     },
     "metadata": {},
     "output_type": "display_data"
    },
    {
     "name": "stdout",
     "output_type": "stream",
     "text": [
      " \n"
     ]
    },
    {
     "data": {
      "text/plain": [
       "''"
      ]
     },
     "execution_count": 22,
     "metadata": {},
     "output_type": "execute_result"
    }
   ],
   "source": [
    "for index, value in enumerate(q.index.tolist()):\n",
    "    display(HTML(f\"<strong>{value.capitalize()}</strong\"))\n",
    "    highlight(q.iloc[index, 0])\n",
    "    print(\" \")\n",
    ";"
   ]
  }
 ],
 "metadata": {
  "kernelspec": {
   "display_name": "Python 3",
   "language": "python",
   "name": "python3"
  },
  "language_info": {
   "codemirror_mode": {
    "name": "ipython",
    "version": 3
   },
   "file_extension": ".py",
   "mimetype": "text/x-python",
   "name": "python",
   "nbconvert_exporter": "python",
   "pygments_lexer": "ipython3",
   "version": "3.6.6"
  }
 },
 "nbformat": 4,
 "nbformat_minor": 2
}
